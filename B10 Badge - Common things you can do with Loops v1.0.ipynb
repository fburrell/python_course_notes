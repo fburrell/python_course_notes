{
 "cells": [
  {
   "cell_type": "markdown",
   "metadata": {},
   "source": [
    "# B10 Badge - Common things you can do with Loops"
   ]
  },
  {
   "cell_type": "markdown",
   "metadata": {},
   "source": [
    "## Learning objectives: By the end of this lesson you will understand what every piece of the below code does:"
   ]
  },
  {
   "cell_type": "code",
   "execution_count": null,
   "metadata": {},
   "outputs": [],
   "source": [
    "# CHECK\n",
    "def check_if_list_has_item(list, searched_item):\n",
    "    for item in list:\n",
    "        if item == searched_item:\n",
    "            return True\n",
    "    return False\n",
    "\n",
    "check_if_list_has_item([1,2,3,4],3)"
   ]
  },
  {
   "cell_type": "code",
   "execution_count": null,
   "metadata": {},
   "outputs": [],
   "source": [
    "# FIND\n",
    "def find_first_student_with_name(list, searched_name):    \n",
    "    for item in list:\n",
    "        if item.get(\"name\") == searched_name:\n",
    "            return item\n",
    "    return None \n",
    "\n",
    "students = [{\"name\":\"Fiona\", \"surname\":\"McCloud\", \"course\":\"Business\"},\n",
    "           {\"name\":\"Becky\", \"surname\":\"Campbell\", \"course\":\"Economics\"},\n",
    "           {\"name\":\"Pim\", \"surname\":\"Skye\", \"course\":\"Business\"}]\n",
    "\n",
    "find_first_student_with_name(students, \"Pim\")"
   ]
  },
  {
   "cell_type": "code",
   "execution_count": null,
   "metadata": {},
   "outputs": [],
   "source": [
    "# FILTER\n",
    "def students_on_course(list, searched_course):    \n",
    "    result = []\n",
    "    for item in list:\n",
    "        if item.get(\"course\") == searched_course:\n",
    "            result.append(item)\n",
    "    return result \n",
    "\n",
    "students = [{\"name\":\"Fiona\", \"surname\":\"McCloud\", \"course\":\"Business\"},\n",
    "           {\"name\":\"Becky\", \"surname\":\"Campbell\", \"course\":\"Economics\"},\n",
    "           {\"name\":\"Pim\", \"surname\":\"Skye\", \"course\":\"Business\"}]\n",
    "\n",
    "students_on_course(students, \"Business\")"
   ]
  },
  {
   "cell_type": "code",
   "execution_count": null,
   "metadata": {},
   "outputs": [],
   "source": [
    "# MAP\n",
    "def full_names(list):    \n",
    "    result = []\n",
    "    for item in list:\n",
    "        result.append(item.get(\"name\") + \" \" + item.get(\"surname\"))\n",
    "    return result \n",
    "\n",
    "students = [{\"name\":\"Fiona\", \"surname\":\"McCloud\", \"course\":\"Business\"},\n",
    "           {\"name\":\"Becky\", \"surname\":\"Campbell\", \"course\":\"Economics\"},\n",
    "           {\"name\":\"Pim\", \"surname\":\"Skye\", \"course\":\"Business\"}]\n",
    "\n",
    "full_names(students)"
   ]
  },
  {
   "cell_type": "code",
   "execution_count": null,
   "metadata": {},
   "outputs": [],
   "source": [
    "# REDUCE\n",
    "def count_of_students_on_course(list, course):    \n",
    "    result = 0\n",
    "    for item in list:\n",
    "        if item.get(\"course\") == course:\n",
    "            result += 1\n",
    "    return result \n",
    "\n",
    "students = [{\"name\":\"Fiona\", \"surname\":\"McCloud\", \"course\":\"Business\"},\n",
    "           {\"name\":\"Becky\", \"surname\":\"Campbell\", \"course\":\"Economics\"},\n",
    "           {\"name\":\"Pim\", \"surname\":\"Skye\", \"course\":\"Business\"}]\n",
    "\n",
    "count_of_students_on_course(students, \"Business\")"
   ]
  },
  {
   "cell_type": "code",
   "execution_count": null,
   "metadata": {},
   "outputs": [],
   "source": [
    "# RANGE\n",
    "for n in range(10,30,6):\n",
    "    print(n)"
   ]
  },
  {
   "cell_type": "code",
   "execution_count": null,
   "metadata": {},
   "outputs": [],
   "source": [
    "# WHILE LOOP\n",
    "number = 10\n",
    "while number > 0:\n",
    "    print(number)\n",
    "    number -= 1\n",
    "    if number == 5:\n",
    "        break"
   ]
  },
  {
   "cell_type": "code",
   "execution_count": null,
   "metadata": {},
   "outputs": [],
   "source": [
    "# LOOPING through the key-value pairs in a Dictionary\n",
    "student = {\"name\":\"Fiona\", \"surname\":\"McCloud\", \"course\":\"Business\"}\n",
    "report = \"\"\n",
    "\n",
    "for k,v in student.items():\n",
    "    report += k.upper() + \": \" + v + \"\\n\"\n",
    "    \n",
    "print(report)"
   ]
  },
  {
   "cell_type": "code",
   "execution_count": null,
   "metadata": {},
   "outputs": [],
   "source": [
    "# LIST CONPREHENSION\n",
    "words = [\"banana\", \"pear\", \"apple\", \"plum\", \"orange\"]\n",
    "[word.upper() for word in words if len(word) < 5]"
   ]
  },
  {
   "cell_type": "markdown",
   "metadata": {},
   "source": [
    "## > End of learning objectives"
   ]
  },
  {
   "cell_type": "markdown",
   "metadata": {},
   "source": [
    "### Things you have done with loops already:"
   ]
  },
  {
   "cell_type": "markdown",
   "metadata": {},
   "source": [
    "This week we will explore some more things that can be done with Loops, but before that, let's have a look at things we already know and have used:"
   ]
  },
  {
   "cell_type": "markdown",
   "metadata": {},
   "source": [
    "### CHECK - check if something is the list (return: Boolean True/False value)"
   ]
  },
  {
   "cell_type": "code",
   "execution_count": null,
   "metadata": {},
   "outputs": [],
   "source": [
    "def does_list_contain_item_with_name_lamb(list):\n",
    "    ''' return True if list contains item, False otherwise\n",
    "    '''\n",
    "    for item in list:\n",
    "        if item.get(\"name\") == \"lamb\":\n",
    "            return True\n",
    "    return False\n",
    "\n",
    "dishes = [{\"name\":\"fish\", \"vegetarian\":False},\n",
    "         {\"name\":\"lamb\", \"vegetarian\":False},\n",
    "         {\"name\":\"banana\", \"vegetarian\":True}]\n",
    "\n",
    "does_list_contain_item_with_name_lamb(dishes)"
   ]
  },
  {
   "cell_type": "code",
   "execution_count": null,
   "metadata": {},
   "outputs": [],
   "source": [
    "def does_list_contain_item_with_name(list, searched_name):\n",
    "    ''' return True if list contains item, False otherwise\n",
    "    '''\n",
    "    for item in list:\n",
    "        if item.get(\"name\") == searched_name:\n",
    "            return True\n",
    "    return False\n",
    "\n",
    "dishes = [{\"name\":\"fish\", \"vegetarian\":False},\n",
    "         {\"name\":\"lamb\", \"vegetarian\":False},\n",
    "         {\"name\":\"banana\", \"vegetarian\":True}]\n",
    "my_favourite_name = \"banana\"\n",
    "\n",
    "does_list_contain_item_with_name(dishes, my_favourite_name)"
   ]
  },
  {
   "cell_type": "markdown",
   "metadata": {},
   "source": [
    "### FIND - find something in a list (return: one item from original list)"
   ]
  },
  {
   "cell_type": "code",
   "execution_count": null,
   "metadata": {},
   "outputs": [],
   "source": [
    "def find_first_vegetarian_option(list):    \n",
    "    ''' return first vegetarian option, \n",
    "        if none found, return None\n",
    "    '''\n",
    "    for item in list:\n",
    "        if item.get(\"vegetarian\") == True:\n",
    "            return item\n",
    "    return None \n",
    "\n",
    "dishes = [{\"name\":\"fish\", \"vegetarian\":False},\n",
    "         {\"name\":\"lamb\", \"vegetarian\":False},\n",
    "         {\"name\":\"banana\", \"vegetarian\":True}]\n",
    "\n",
    "find_first_vegetarian_option(dishes)"
   ]
  },
  {
   "cell_type": "code",
   "execution_count": null,
   "metadata": {},
   "outputs": [],
   "source": [
    "def find_first_option_fitting_criteria(list, is_vegetarian):    \n",
    "    ''' return first option fitting criteria: \n",
    "        first with \"vegetarian\":False if is_vegetarian is False\n",
    "        first with \"vegetarian\":True if is_vegetarian is True\n",
    "        if none found, return None\n",
    "    '''\n",
    "    for item in list:\n",
    "        if item.get(\"vegetarian\") == is_vegetarian:\n",
    "            return item\n",
    "    return None \n",
    "\n",
    "dishes = [{\"name\":\"fish\", \"vegetarian\":False},\n",
    "         {\"name\":\"lamb\", \"vegetarian\":False},\n",
    "         {\"name\":\"banana\", \"vegetarian\":True}]\n",
    "\n",
    "find_first_option_fitting_criteria(dishes, False)"
   ]
  },
  {
   "cell_type": "markdown",
   "metadata": {},
   "source": [
    "### FILTER - return a subset / keep only some items (return: smaller list with some items from original list)"
   ]
  },
  {
   "cell_type": "code",
   "execution_count": null,
   "metadata": {},
   "outputs": [],
   "source": [
    "def subset_with_vegetarian_options(list):    \n",
    "    ''' return a list containing only vegetarian options\n",
    "        if none found return empty list []\n",
    "    '''\n",
    "    vegetarian_options = []\n",
    "    for item in list:\n",
    "        if item.get(\"vegetarian\") == True:\n",
    "            vegetarian_options.append(item)\n",
    "    return vegetarian_options \n",
    "\n",
    "dishes = [{\"name\":\"fish\", \"vegetarian\":False},\n",
    "         {\"name\":\"lamb\", \"vegetarian\":False},\n",
    "         {\"name\":\"banana\", \"vegetarian\":True}]\n",
    "\n",
    "subset_with_vegetarian_options(dishes)"
   ]
  },
  {
   "cell_type": "code",
   "execution_count": null,
   "metadata": {},
   "outputs": [],
   "source": [
    "def subset_fitting_criteria(list, is_vegetarian):     \n",
    "    ''' return a list woth all items fitting criteria\n",
    "        keep those where \"vegetarian\":False if is_vegetarian is False\n",
    "        keep those where \"vegetarian\":True if is_vegetarian is True\n",
    "        if none found return empty list []\n",
    "    '''\n",
    "    vegetarian_options = []\n",
    "    \n",
    "    for item in list:\n",
    "        if item.get(\"vegetarian\") == is_vegetarian:\n",
    "            vegetarian_options.append(item)\n",
    "    return vegetarian_options \n",
    "\n",
    "dishes = [{\"name\":\"fish\", \"vegetarian\":False},\n",
    "         {\"name\":\"lamb\", \"vegetarian\":False},\n",
    "         {\"name\":\"banana\", \"vegetarian\":True}]\n",
    "\n",
    "subset_fitting_criteria(dishes, False)"
   ]
  },
  {
   "cell_type": "markdown",
   "metadata": {},
   "source": [
    "## Some new applications of For loop"
   ]
  },
  {
   "cell_type": "markdown",
   "metadata": {},
   "source": [
    "### MAP - represent a list as a simpler list, in another format (return: same length, different items)"
   ]
  },
  {
   "cell_type": "markdown",
   "metadata": {},
   "source": [
    "Example application of mapping is where you want to simplify detailed information about many items. For example you have all information about clients, but wish to keep only their client numbers. Or info about all employees and want to only keep their wages information.\n",
    "\n",
    "Just like a map of the city represents the city but in a simplified, flatter way - when you map a List of complicated data you will turn it into a list of simpler data. Just like when a city in reality has 4 parks, on the map it will also have 4 green areas. While the original parks will have a lot of details (trees, squirels, etc.) the map will hold much less information about parks (usually just name and shape).\n",
    "\n",
    "Original list and final list will have the same length, but different content.\n",
    "\n",
    "You already did some examples of mapping when you turned simplified lists to just their lengths.\n",
    "\n",
    "You could represented a List of words ```[\"banana\", \"pear\", \"pineapple\"]``` with a List of their lengths ```[6,4,9]```\n",
    "\n",
    "Or a list of lists ```[ [1,2] , [1,1,1] , [3,4] ]``` with their sums ```[3,3,7]``` or maybe with just their lengths ```[2,3,2]```\n",
    "\n",
    "Or a list of dictionaries with a list of strings based on one value in each dictionary\n",
    "\n",
    "```[{\"name\":\"fish\", \"vegetarian\":False},\n",
    "{\"name\":\"lamb\", \"vegetarian\":False},\n",
    "{\"name\":\"banana\", \"vegetarian\":True}]```\n",
    "\n",
    "with \n",
    "\n",
    "```[\"fish\", \"lamb\", \"banana\"]```\n",
    "\n",
    "Notice - in all of these examples you take a list of comlicated items, and simplify it to a list of simpler items."
   ]
  },
  {
   "cell_type": "code",
   "execution_count": null,
   "metadata": {},
   "outputs": [],
   "source": [
    "def map_to_lengths_only(list):\n",
    "    lengths = []\n",
    "    \n",
    "    for item in list:\n",
    "        lengths.append( len(item) )\n",
    "    return lengths\n",
    "\n",
    "words = [\"banana\", \"pear\", \"pineapple\"]\n",
    "\n",
    "map_to_lengths_only(words)"
   ]
  },
  {
   "cell_type": "code",
   "execution_count": null,
   "metadata": {},
   "outputs": [],
   "source": [
    "def map_to_list_of_sums(list_of_lists):\n",
    "    sums = []\n",
    "    \n",
    "    for a_list in list_of_lists:\n",
    "        sums.append( sum(a_list) )\n",
    "    return sums\n",
    "\n",
    "lists = [ [1,2] , [1,1,1] , [3,4] ]\n",
    "\n",
    "map_to_list_of_sums(lists)"
   ]
  },
  {
   "cell_type": "code",
   "execution_count": null,
   "metadata": {},
   "outputs": [],
   "source": [
    "def map_to_names_only(list_of_dictionaries):\n",
    "    names = []\n",
    "    \n",
    "    for dictionary in list_of_dictionaries:\n",
    "        names.append( dictionary.get(\"name\") )\n",
    "    return names\n",
    "\n",
    "dishes = [{\"name\":\"fish\", \"vegetarian\":False},\n",
    "{\"name\":\"lamb\", \"vegetarian\":False},\n",
    "{\"name\":\"banana\", \"vegetarian\":True}]\n",
    "\n",
    "map_to_names_only(dishes)"
   ]
  },
  {
   "cell_type": "markdown",
   "metadata": {},
   "source": [
    "### REDUCE - reduce a list to one value like total or max (return: a single value, extracted from items)"
   ]
  },
  {
   "cell_type": "markdown",
   "metadata": {},
   "source": [
    "Reducing is a process of taking a complicated reality and boiling it down to one value. You could take a whole list of items and reduce it to one value: \n",
    "\n",
    "You could represented a List of words ```[\"banana\", \"pear\", \"pineapple\"]``` as a total number of all letters ```19```, or even  as its length ```3```\n",
    "\n",
    "Or a list of lists ```[ [1,2] , [1,1,1] , [3,4] ]``` with total number of all odd numbers ```2``` or maybe with a number of occurences of 1 which would be  ```4```\n",
    "\n",
    "Or a list of dictionaries\n",
    "\n",
    "```[{\"name\":\"fish\", \"vegetarian\":False},\n",
    "{\"name\":\"lamb\", \"vegetarian\":False},\n",
    "{\"name\":\"banana\", \"vegetarian\":True}]```\n",
    "\n",
    "with a percent of vegetarian options ```33%``` or  with a String with all names separated by coma ```\"fish,lamb,banana\"```"
   ]
  },
  {
   "cell_type": "code",
   "execution_count": null,
   "metadata": {},
   "outputs": [],
   "source": [
    "def reduce_to_total_length_of_words(list):\n",
    "    total_length_of_words = 0\n",
    "    \n",
    "    for item in list:\n",
    "        total_length_of_words += len(item) \n",
    "    return total_length_of_words\n",
    "\n",
    "words = [\"banana\", \"pear\", \"pineapple\"]\n",
    "\n",
    "reduce_to_total_length_of_words(words)"
   ]
  },
  {
   "cell_type": "code",
   "execution_count": null,
   "metadata": {},
   "outputs": [],
   "source": [
    "def reduce_to_number_of_occurances_of_number(list_of_lists, searched_number):\n",
    "    occurances_of_number = 0\n",
    "    \n",
    "    for a_list in list_of_lists:\n",
    "        occurances_of_number += a_list.count(searched_number)\n",
    "    return occurances_of_number\n",
    "\n",
    "lists = [ [1,2] , [1,1,1] , [3,4] ]\n",
    "\n",
    "reduce_to_number_of_occurances_of_number(lists, 1)"
   ]
  },
  {
   "cell_type": "code",
   "execution_count": null,
   "metadata": {},
   "outputs": [],
   "source": [
    "def reduce_to_ratio_of_vegetarian_options(list_of_dictionaries):\n",
    "    veggie_options_so_far = 0\n",
    "    \n",
    "    for dictionary in list_of_dictionaries:\n",
    "        if dictionary.get(\"vegetarian\") == True:\n",
    "            veggie_options_so_far += 1\n",
    "        \n",
    "    return veggie_options_so_far / len(list_of_dictionaries)\n",
    "\n",
    "dishes = [{\"name\":\"fish\", \"vegetarian\":False},\n",
    "{\"name\":\"lamb\", \"vegetarian\":False},\n",
    "{\"name\":\"banana\", \"vegetarian\":True}]\n",
    "\n",
    "reduce_to_ratio_of_vegetarian_options(dishes)"
   ]
  },
  {
   "cell_type": "markdown",
   "metadata": {},
   "source": [
    "### Does it all have to be so complicated?"
   ]
  },
  {
   "cell_type": "markdown",
   "metadata": {},
   "source": [
    "There are ways to perform some of these operations in a simpler way and you will see some of them. But it is important for you to understand the logic behind these operations, so that when we are dealing with data, you will knwo what's going on and why."
   ]
  },
  {
   "cell_type": "markdown",
   "metadata": {},
   "source": [
    "## Range - a sequence of numbers"
   ]
  },
  {
   "cell_type": "markdown",
   "metadata": {},
   "source": [
    "Often we find ourselves iterating over a set of numbers that are in a row:"
   ]
  },
  {
   "cell_type": "code",
   "execution_count": null,
   "metadata": {},
   "outputs": [],
   "source": [
    "numbers = [0,1,2,3,4,5,6]\n",
    "for number in numbers:\n",
    "    print(number, \"green bottles standing on the wall\")"
   ]
  },
  {
   "cell_type": "markdown",
   "metadata": {},
   "source": [
    "**RANGE** is a Python data structure built to hold series of numbers. (Other data structures you know are String, List or Dictionary). Range cannot be changed once it's created, but is very useful in combination with a for loop.\n",
    "\n",
    "Range can be created in a few ways with the function range() "
   ]
  },
  {
   "cell_type": "markdown",
   "metadata": {},
   "source": [
    "**range( End )** - default start is 0, default step is 1\n",
    "\n",
    "```range(end)``` creates a range of numbers from 0, smaller than END, taking every number\n",
    "\n",
    "e.g. ```range(10)``` will create ```[0,1,2,3,4,5,6,7,8,9]``` a range of numbers from 0 to 9, taking every number"
   ]
  },
  {
   "cell_type": "code",
   "execution_count": null,
   "metadata": {},
   "outputs": [],
   "source": [
    "# range(end)\n",
    "for x in range(6):\n",
    "    print(x)"
   ]
  },
  {
   "cell_type": "markdown",
   "metadata": {},
   "source": [
    "**range( Start, End )** - default step is 1\n",
    "\n",
    "```range(start, end)``` creates a range of numbers from START, smaller than END, taking every number\n",
    "\n",
    "e.g. ```range(0, 10)``` will create ```[0,1,2,3,4,5,6,7,8,9]``` a range of numbers from 0 to 9, taking every number"
   ]
  },
  {
   "cell_type": "code",
   "execution_count": null,
   "metadata": {},
   "outputs": [],
   "source": [
    "# range(start, end)\n",
    "for x in range(3,9):\n",
    "    print(x)"
   ]
  },
  {
   "cell_type": "code",
   "execution_count": null,
   "metadata": {},
   "outputs": [],
   "source": [
    "for x in range(-3,4):\n",
    "    print(x)"
   ]
  },
  {
   "cell_type": "markdown",
   "metadata": {},
   "source": [
    "**range( Start, End, Step )**\n",
    "\n",
    "```range(start, end, step)``` creates a range of numbers from START, smaller than END, jumping STEP numbers every time\n",
    "\n",
    "e.g. ```range(0, 10, 3)``` will create ```[0,3,6,9]``` a range of numbers from 0 to 9, taking every 3rd number"
   ]
  },
  {
   "cell_type": "code",
   "execution_count": null,
   "metadata": {},
   "outputs": [],
   "source": [
    "# range(start, end, step)\n",
    "for x in range(0,9,2):\n",
    "    print(x)"
   ]
  },
  {
   "cell_type": "markdown",
   "metadata": {},
   "source": [
    "Note: Range is not just a different way to write a List - it's a completely new data type designed for iterating over number sets."
   ]
  },
  {
   "cell_type": "code",
   "execution_count": null,
   "metadata": {},
   "outputs": [],
   "source": [
    "# this will NOT print [0,3,6,9,12]\n",
    "print( range(0, 12, 3) ) "
   ]
  },
  {
   "cell_type": "markdown",
   "metadata": {},
   "source": [
    "## Other loop types and modifiers"
   ]
  },
  {
   "cell_type": "markdown",
   "metadata": {},
   "source": [
    "You already know using \"for in\" loop to go through items in an array, like this:"
   ]
  },
  {
   "cell_type": "code",
   "execution_count": null,
   "metadata": {},
   "outputs": [],
   "source": [
    "fruits = [\"banana\", \"pear\", \"apple\"]\n",
    "for fruit in fruits:\n",
    "    print(fruit)"
   ]
  },
  {
   "cell_type": "markdown",
   "metadata": {},
   "source": [
    "But sometimes you want something to keep repeating, but you do not know for how long. In a for loop the maximum number of iterations is decided at the very beginning - it is the number of items in the list you're iterating over.\n",
    "\n",
    "**WHILE LOOP** is a new type of loop which will keep repeating it's action WHILE a condition is True. It's a little bit like a combination of a IF and a LOOP.\n",
    "\n",
    "While loop described in Pseudo-code would look like this ```if some_condition == True, then keep looping this code```\n",
    "\n",
    "Have a look at some examples:"
   ]
  },
  {
   "cell_type": "code",
   "execution_count": null,
   "metadata": {},
   "outputs": [],
   "source": [
    "# while there are still fruit in the list, remove one\n",
    "fruits = [\"banana\", \"pear\", \"apple\"]\n",
    "\n",
    "while len(fruits) > 0:\n",
    "    print(fruits  )\n",
    "    fruits.pop() "
   ]
  },
  {
   "cell_type": "code",
   "execution_count": null,
   "metadata": {},
   "outputs": [],
   "source": [
    "# while number is smaller than 10, increase it by 1\n",
    "number = 0\n",
    "\n",
    "while number < 10:\n",
    "    print( number )\n",
    "    number += 1"
   ]
  },
  {
   "cell_type": "code",
   "execution_count": null,
   "metadata": {},
   "outputs": [],
   "source": [
    "# keep removing words, until there are less than 3 left\n",
    "fruits = [\"banana\", \"pear\", \"apple\", \"plum\", \"orange\"]\n",
    "\n",
    "while len(fruits) > 3:\n",
    "    print( fruits )\n",
    "    fruits.pop()\n",
    "    \n",
    "print( fruits )"
   ]
  },
  {
   "cell_type": "markdown",
   "metadata": {},
   "source": [
    "### While True and escape operators: break, continue"
   ]
  },
  {
   "cell_type": "markdown",
   "metadata": {},
   "source": [
    "Sometimes you want the program to keep going until you specifically tell it to stop. It is sometimes a dangerous thing to do, because if you never tell your program to stop it will be stuck in an **INFINITE LOOP** (dooom doooomm doooooooom).\n",
    "\n",
    "But often there are legitimate reasons to tell your loop to keep going forever. Do do that you would use a while loop, but instead of a logical condition like ```len(fruits) > 3``` you would just say ```True```. This way the loop will keep going forever.\n",
    "\n",
    "note: if your notebook gets stuck in an infinite loop, if will likely **FREEZE** your Kernel (sort of the heart of the server running your code in the background) which will make your noteook non-responsive.\n",
    "\n",
    "**HOW WILL YOU KNOW YOUR NOTEBOOK IS FROZEN?** \n",
    "\n",
    "- when you run code cells, to the left of them you will see ```In [*]``` instead of seeing something like ```In [51]```. You can think of the ```*``` as a frozen snowflake.\n",
    "- the icon on your browser tab will turn from a notebook icon, to an hour-glass icon.\n",
    "\n",
    "**UN-FREEZING YOUR NOTEBOOK** \n",
    "\n",
    "- Sometimes it's enough to stop current operation with Kernel > Interrupt, or with square STOP button\n",
    "- To restart your notebook, you will have to select in menu Kernel > Restart or click the Restart Icon\n",
    "- If that fails, close the notebook tab and open it again from Noteable file list.\n",
    "\n",
    "Note: you can cleanup output space under your cell with Kernel > Restart and Clear Output"
   ]
  },
  {
   "cell_type": "code",
   "execution_count": null,
   "metadata": {},
   "outputs": [],
   "source": [
    "# Run this cell at your own peril\n",
    "\n",
    "# start a number with 0 and keep increasing it into infinity\n",
    "number = 0\n",
    "\n",
    "while True:\n",
    "    number += 1\n",
    "    print(\"yay number increased to\", number)"
   ]
  },
  {
   "cell_type": "markdown",
   "metadata": {},
   "source": [
    "Well, that was not particularly useful was it? luckilly the break and continue will come to our rescue.\n",
    "\n",
    "**BREAK** will TERMINATE THE WHOLE LOOP and exit from it. That means that the loop will stop immediately, not loop again and your code will continue after the loop.\n",
    "\n",
    "**CONTINUE** will STOP THE CURRENT ITERATION of the loop. That means the current iteration will immediately stop, but  the loop itself will continue, but from the next loop."
   ]
  },
  {
   "cell_type": "code",
   "execution_count": null,
   "metadata": {},
   "outputs": [],
   "source": [
    "counter = 10\n",
    "\n",
    "while True:\n",
    "    print(counter, \"minutes left\")\n",
    "    counter -= 1\n",
    "        \n",
    "    if counter <= 0:\n",
    "        print(\"That's it! Step away from the bench\")\n",
    "        break # end this loop\n",
    "        \n",
    "    if counter <= 3:\n",
    "        continue # end this iteration\n",
    "    \n",
    "    print(\"There's a lot of time!\")"
   ]
  },
  {
   "cell_type": "markdown",
   "metadata": {},
   "source": [
    "### BREAK and CONTINUE inside of FOR LOOPS"
   ]
  },
  {
   "cell_type": "markdown",
   "metadata": {},
   "source": [
    "You can use ```break``` and ```continue``` inside of normal For Loops as well - it will have the same effects as in a while loop:\n",
    "\n",
    "**BREAK** will TERMINATE THE WHOLE LOOP and exit from it. That means that the loop will stop immediately, not loop again and your code will continue after the loop.\n",
    "\n",
    "**CONTINUE** will STOP THE CURRENT ITERATION of the loop. That means the current iteration will immediately stop, but  the loop itself will continue, but from the next loop."
   ]
  },
  {
   "cell_type": "code",
   "execution_count": null,
   "metadata": {},
   "outputs": [],
   "source": [
    "for counter in range(10,0,-1): # a range counting down\n",
    "    print(counter, \"minutes left\")\n",
    "    \n",
    "    if counter <= 0:\n",
    "        print(\"That's it! Step away from the bench\")\n",
    "        break # end this loop\n",
    "        \n",
    "    if counter <= 3:\n",
    "        continue # end this iteration\n",
    "    \n",
    "    print(\"There's a lot of time!\")"
   ]
  },
  {
   "cell_type": "markdown",
   "metadata": {},
   "source": [
    "## ⭐️⭐️⭐️💥 What you learned in this session: Three stars and a wish \n",
    "**In yoru own words** write in your Learn diary:\n",
    "\n",
    "- 3 things you yould like to remember from this badge\n",
    "- 1 thing you wish to understand better in the future or a question you'd like to ask"
   ]
  },
  {
   "cell_type": "markdown",
   "metadata": {},
   "source": [
    "# ⛏  Minitask: Countries API: Solve task twice - once with a Loop and once with a list comprehension \n",
    "\n",
    "Below is a function that will give you access to an API with information about countries fo the world. Inspect this data and then write 3-4 functions that extract some information from the set.\n",
    "\n",
    "Solve each task with BOTH for loop and list comrehension\n",
    "\n",
    "Below the function `get_all_countries_info()` there is one example task already solved for you.\n",
    "\n",
    "You can do what you feel like, but here are some suggestions:\n",
    "\n",
    "- calculate a total area of population of countries in a given regon, so you could run eg. `get_population_of_region( all_countries, 'Europe' )` \n",
    "- which country has the most neighbours? Write a function which will find a country that borders with most other countries and return its data. This might be easier with a for loop.  `country_with_most_neighbours(all_countries )` \n",
    "- whatever else sounds fun...\n",
    "\n",
    "remember that some data might be missing, so you might have to check if they are not `None`. See the example below.\n",
    "\n",
    "Remember to every now and then save your progress (File > Save, or a keyboard shortcut) "
   ]
  },
  {
   "cell_type": "code",
   "execution_count": null,
   "metadata": {},
   "outputs": [],
   "source": [
    "import requests\n",
    "import pprint as pp\n",
    "    \n",
    "def get_all_countries_info():\n",
    "    apiurl =  \"https://restcountries.eu/rest/v2/all\"\n",
    "    response = requests.request(\"GET\", apiurl)\n",
    "    countries = response.json()\n",
    "    return countries"
   ]
  },
  {
   "cell_type": "code",
   "execution_count": null,
   "metadata": {},
   "outputs": [],
   "source": [
    "all_countries = get_all_countries_info()\n",
    "pp.pprint(all_countries[0])"
   ]
  },
  {
   "cell_type": "markdown",
   "metadata": {},
   "source": [
    "# SOLVED: Task 1: get names of countries with area larger than a given number\n",
    "\n",
    "Write a function that takes a list of country information and a number, and will return a list with names of countries, where their area is larger than that number.\n",
    "\n",
    "`get_names_of_countries__with_area_larger_than(countries, minimum_area)`\n"
   ]
  },
  {
   "cell_type": "code",
   "execution_count": null,
   "metadata": {},
   "outputs": [],
   "source": [
    "def get_names_of_countries__with_area_larger_than(countries, minimum_area):\n",
    "    return [ country['nativeName']\n",
    "        for country in countries\n",
    "           if country['area'] != None and country['area'] > minimum_area ]\n",
    "\n",
    "pp.pprint(get_names_of_countries__with_area_larger_than(all_countries, 2000000))"
   ]
  },
  {
   "cell_type": "code",
   "execution_count": null,
   "metadata": {},
   "outputs": [],
   "source": [
    "def get_names_of_countries__with_area_larger_than(countries, minimum_area):\n",
    "    names = []\n",
    "    for country in countries:\n",
    "        if country['area'] != None and country['area'] > minimum_area:\n",
    "             names.append( country['nativeName'] )\n",
    "    return names\n",
    "\n",
    "pp.pprint(get_names_of_countries__with_area_larger_than(all_countries, 2000000))"
   ]
  },
  {
   "cell_type": "markdown",
   "metadata": {},
   "source": [
    "# Task 2: Your choice"
   ]
  },
  {
   "cell_type": "markdown",
   "metadata": {},
   "source": [
    "# Task 3: Your choice"
   ]
  },
  {
   "cell_type": "markdown",
   "metadata": {},
   "source": [
    "# Task 4: Your choice"
   ]
  },
  {
   "cell_type": "code",
   "execution_count": null,
   "metadata": {},
   "outputs": [],
   "source": []
  }
 ],
 "metadata": {
  "kernelspec": {
   "display_name": "Python 3",
   "language": "python",
   "name": "python3"
  },
  "language_info": {
   "codemirror_mode": {
    "name": "ipython",
    "version": 3
   },
   "file_extension": ".py",
   "mimetype": "text/x-python",
   "name": "python",
   "nbconvert_exporter": "python",
   "pygments_lexer": "ipython3",
   "version": "3.7.6"
  }
 },
 "nbformat": 4,
 "nbformat_minor": 2
}
