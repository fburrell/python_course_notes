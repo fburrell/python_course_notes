{
 "cells": [
  {
   "cell_type": "markdown",
   "metadata": {},
   "source": [
    "# Lab for Badge 9,10,11 - Loops and Manipulating Strings"
   ]
  },
  {
   "cell_type": "markdown",
   "metadata": {},
   "source": [
    "# Task 1"
   ]
  },
  {
   "cell_type": "code",
   "execution_count": null,
   "metadata": {},
   "outputs": [],
   "source": [
    "def is_number_in_list(numbers, searched_number):\n",
    "    # use for loop to solve this\n",
    "    #     your code here\n",
    "    return \"Something here :)\""
   ]
  },
  {
   "cell_type": "code",
   "execution_count": null,
   "metadata": {},
   "outputs": [],
   "source": [
    "some_numbers  = [3,4,7,0,2,33,5,11,9,3]\n",
    "assert is_number_in_list(some_numbers, 5) == True\n",
    "assert is_number_in_list(some_numbers, 32) == False\n",
    "assert is_number_in_list(some_numbers, 3) == True\n",
    "print(\"all tests passed\")"
   ]
  },
  {
   "cell_type": "markdown",
   "metadata": {},
   "source": [
    "# Task 2"
   ]
  },
  {
   "cell_type": "code",
   "execution_count": null,
   "metadata": {},
   "outputs": [],
   "source": [
    "suits = [\"Diamond\", \"Club\", \"Heart\", \"Spade\"]\n",
    "ranks  = [\"2\",\"3\",\"4\",\"5\",\"6\",\"7\",\"8\",\"9\",\"10\",\"J\",\"Q\",\"K\",\"A\"]\n",
    "    \n",
    "def is_card_in_list(cards, searched_card):\n",
    "        # use for loop to solve this\n",
    "    # YOUR CODE GOES HERE\n",
    "    return \"Something here :)\""
   ]
  },
  {
   "cell_type": "code",
   "execution_count": null,
   "metadata": {},
   "outputs": [],
   "source": [
    "# one test to get you started, write at least 2 more\n",
    "h7 = {\"suit\":\"Heart\", \"rank\":\"7\"}\n",
    "cq = {\"suit\":\"Club\", \"rank\":\"Q\"}\n",
    "ca = {\"suit\":\"Club\", \"rank\":\"A\"}\n",
    "c2 = {\"suit\":\"Club\", \"rank\":\"2\"}\n",
    "d7 = {\"suit\":\"Diamond\", \"rank\":\"7\"}\n",
    "\n",
    "some_cards = [h7,cq,ca,c2,h7]\n",
    "assert  is_card_in_list(some_cards, cq) == True, \"card is there\" \n",
    "assert  is_card_in_list(some_cards, d7) == False, \"card is not there\" \n",
    "assert  is_card_in_list(some_cards, h7) == True, \"card is there\" \n",
    "print(\"all tests passed\")"
   ]
  },
  {
   "cell_type": "markdown",
   "metadata": {},
   "source": [
    "# Task 3"
   ]
  },
  {
   "cell_type": "code",
   "execution_count": null,
   "metadata": {},
   "outputs": [],
   "source": [
    "def does_list_have_that_many_of_this_item(a_list, how_many, what_item):\n",
    "        # use for loop to solve this\n",
    "    # YOUR CODE GOES HERE\n",
    "    return \"Something here :)\""
   ]
  },
  {
   "cell_type": "code",
   "execution_count": null,
   "metadata": {},
   "outputs": [],
   "source": [
    "# one test to get you started, write at least 2 more\n",
    "letters = [ \"d\",\"a\",\"a\",\"b\",\"c\", \"a\",\"a\", \"c\"]\n",
    "\n",
    "assert does_list_have_that_many_of_this_item(letters, 4, \"a\") == True\n",
    "assert does_list_have_that_many_of_this_item(letters, 3, \"a\") == False\n",
    "assert does_list_have_that_many_of_this_item(letters, 5, \"a\") == False\n",
    "assert does_list_have_that_many_of_this_item(letters, 0, \"a\") == False\n",
    "assert does_list_have_that_many_of_this_item(letters, 1, \"b\") == True\n",
    "assert does_list_have_that_many_of_this_item(letters, 1, \"d\") == True\n",
    "assert does_list_have_that_many_of_this_item(letters, 1, \"x\") == False\n",
    "assert does_list_have_that_many_of_this_item(letters, 0, \"x\") == True\n",
    "print(\"all tests passed\")"
   ]
  },
  {
   "cell_type": "markdown",
   "metadata": {},
   "source": [
    "# Task 4 (Difficult - if you're working on this more than 10 minutes, move on)"
   ]
  },
  {
   "cell_type": "code",
   "execution_count": null,
   "metadata": {},
   "outputs": [],
   "source": [
    "def how_many_of_each_item_are_there(list):\n",
    "    # use for loop to solve this\n",
    "    # YOUR CODE GOES HERE\n",
    "    return \"Something here :)\"\n"
   ]
  },
  {
   "cell_type": "code",
   "execution_count": null,
   "metadata": {},
   "outputs": [],
   "source": [
    "fruits1 = [\"apple\",\"plum\", \"apple\", \"pear\", \"plum\",\"plum\"]\n",
    "assert how_many_of_each_item_are_there(fruits1) == {\"apple\": 2, \"pear\": 1, \"plum\": 3}\n",
    "\n",
    "fruits2 = [\"apple\",\"pear\", \"plum\"]\n",
    "assert how_many_of_each_item_are_there(fruits2) == {\"apple\": 1, \"pear\": 1, \"plum\": 1}\n",
    "\n",
    "\n",
    "fruits2 = [\"apple\",\"pear\", \"kiwi\", \"kiwi\", \"kiwi\", \"kiwi\"]\n",
    "assert how_many_of_each_item_are_there(fruits2) == {\"apple\": 1, \"pear\": 1, \"kiwi\": 4 }\n",
    "\n",
    "assert how_many_of_each_item_are_there([]) ==  {}\n",
    "print(\"all tests passed\")\n",
    "\n",
    "# note: remember that order in dicts does not matter, and that's ok\n",
    "# so this will pass: assert {'a':2, 'b': 1} == {'b': 1, 'a':2} "
   ]
  },
  {
   "cell_type": "markdown",
   "metadata": {},
   "source": [
    "# Task 5"
   ]
  },
  {
   "cell_type": "code",
   "execution_count": null,
   "metadata": {},
   "outputs": [],
   "source": [
    "def return_just_city_names(city_list):\n",
    "    # use for loop to solve this\n",
    "    # YOUR CODE GOES HERE\n",
    "    return \"Something here :)\""
   ]
  },
  {
   "cell_type": "code",
   "execution_count": null,
   "metadata": {},
   "outputs": [],
   "source": [
    "cities1 = [  {\"name\":\"Edinburgh\",  \"population\":500000, \"area\":264},\n",
    "                 {\"name\":\"Glasgow\",  \"population\":600000, \"area\":175},\n",
    "                 {\"name\":\"Inverness\", \"population\":50000, \"area\":20}]\n",
    "                 \n",
    "assert return_just_city_names(cities1) == [\"Edinburgh\" ,\"Glasgow\", \"Inverness\"]\n",
    "\n",
    "cities2 = [  {\"name\":\"Edinburgh\",  \"population\":500000, \"area\":264},\n",
    "            {\"name\":\"Edinburgh\",  \"population\":500000, \"area\":264}]    \n",
    "assert return_just_city_names(cities2) ==  [\"Edinburgh\" ,\"Edinburgh\"]\n",
    "\n",
    "assert return_just_city_names([]) = []\n",
    "print(\"all tests passed\")\n"
   ]
  },
  {
   "cell_type": "markdown",
   "metadata": {},
   "source": [
    "# Task 6"
   ]
  },
  {
   "cell_type": "code",
   "execution_count": null,
   "metadata": {},
   "outputs": [],
   "source": [
    "def return_city_names_with_density_lower_than(city_list, max_density):\n",
    "    # use for loop to solve this\n",
    "    # note: density is population divided by area\n",
    "    # spoiler: densities are Edinburgh: 1893', Glasgow: 3428, Inverness 2500\n",
    "\n",
    "    # YOUR CODE GOES HERE\n",
    "     return \"Something here :)\""
   ]
  },
  {
   "cell_type": "code",
   "execution_count": null,
   "metadata": {},
   "outputs": [],
   "source": [
    "cities1 = [  {\"name\":\"Edinburgh\",  \"population\":500000, \"area\":264},\n",
    "                 {\"name\":\"Glasgow\",  \"population\":600000, \"area\":175},\n",
    "                 {\"name\":\"Inverness\", \"population\":50000, \"area\":20}]\n",
    "\n",
    "print(return_city_names_with_density_lower_than(cities1, 3400) )                \n",
    "assert return_city_names_with_density_lower_than(cities1, 3500) == [\"Edinburgh\" ,\"Glasgow\", \"Inverness\"]\n",
    "assert return_city_names_with_density_lower_than(cities1, 3400) ==  [\"Edinburgh\" , \"Inverness\"]\n",
    "assert return_city_names_with_density_lower_than(cities1, 2000) ==  [\"Edinburgh\" ]\n",
    "assert return_city_names_with_density_lower_than(cities1, 1000) ==  [ ]\n",
    "assert return_city_names_with_density_lower_than([], 3500) == []\n",
    "print(\"all tests passed\")"
   ]
  },
  {
   "cell_type": "markdown",
   "metadata": {},
   "source": [
    "# Tasks 7-12\n",
    "\n",
    "Revisit tasks 1-6 and when possible also solve them with list comprehension. Possibly the best way to do that is to create a new cell (with the '+' button on top left) above each tests and add your other solution there, also as a finction definition. "
   ]
  },
  {
   "cell_type": "code",
   "execution_count": null,
   "metadata": {},
   "outputs": [],
   "source": [
    "# (you probably will solve 7-12 above, amongst the other tasks)"
   ]
  },
  {
   "cell_type": "code",
   "execution_count": null,
   "metadata": {},
   "outputs": [],
   "source": []
  },
  {
   "cell_type": "code",
   "execution_count": null,
   "metadata": {},
   "outputs": [],
   "source": []
  },
  {
   "cell_type": "markdown",
   "metadata": {},
   "source": [
    "# Part 2"
   ]
  },
  {
   "cell_type": "markdown",
   "metadata": {},
   "source": [
    "# Task  13 - Opening hours table\n",
    "\n",
    "Turn inromation about opening hours of a shop into a string and print it. See example below, but feel free to change it. Use string manipulation and loops to produce the type of sign you could see on the door of a shop\n",
    "\n"
   ]
  },
  {
   "cell_type": "code",
   "execution_count": null,
   "metadata": {},
   "outputs": [],
   "source": [
    "opening_hours = [{'day':'Monday', 'open': 9, 'close':18},\n",
    "                {'day':'Tuesday', 'open': 12, 'close':18},\n",
    "                {'day':'Wednesday'}\n",
    "                {'day':'Thursday', 'open': 9, 'close':18},\n",
    "                {'day':'Friday', 'open': 9, 'close':21},\n",
    "                {'day':'Saturday', 'open': 12, 'close':18},\n",
    "                {'day':'Sunday', 'open': 12, 'close':18}]"
   ]
  },
  {
   "cell_type": "markdown",
   "metadata": {},
   "source": [
    "# Task 14 - Extra: Flight timetables (rather hard)\n",
    "\n",
    "Use a flights API to produce departures timetable for Edinburgh Airport. \n",
    "\n",
    "This API has a free api KEY for first 500 calls, so create an account there. Because you are limited in terms of calls, fetch your data in a separate cell and put in in a variable. Then just use values in that variable (ot does not count as a new use of API).\n",
    "\n",
    "https://aviationstack.com/documentation"
   ]
  }
 ],
 "metadata": {
  "kernelspec": {
   "display_name": "Python 3",
   "language": "python",
   "name": "python3"
  },
  "language_info": {
   "codemirror_mode": {
    "name": "ipython",
    "version": 3
   },
   "file_extension": ".py",
   "mimetype": "text/x-python",
   "name": "python",
   "nbconvert_exporter": "python",
   "pygments_lexer": "ipython3",
   "version": "3.7.6"
  }
 },
 "nbformat": 4,
 "nbformat_minor": 2
}
