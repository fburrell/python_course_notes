{
 "cells": [
  {
   "cell_type": "markdown",
   "metadata": {},
   "source": [
    "### What is Pair Programming \n",
    "\n",
    "Hello, during the labs I would like you all to work in pair, using the Pair Programming method. It's a collaboration technique very popular in programming and part of Agile Programming manifesto. Basically almost everything good in programming came out of Agile manifesto :)\n",
    "\n",
    "In Pair Programming there are two roles: Driver and Navigator. You and your partner will take turns driving, and will change every 10-15 minutes.\n",
    "\n",
    "- **Driver: 'Person who types on the keayboard and uses the mouse. You read and write in the notebook.'**  You will have the code opened in front of you and will be sharing your screen. Your job is to think out loud as you read the notes and solve the exercises. Your job is to talk the navigator through solving the puzzles. As you describe things, to them you will both find out if you understand it all correctly.\n",
    "- **Navigator: 'Person who asks questions, points out improvements and helps the driver'**. You are viewing the driver's screen and asking questions, making sure that you both understand what the notes are saying. \n",
    "\n",
    "\n",
    "This methid feels a bit weird on the beginning, but you will really get used to it. It has been used in programming, but also editing text, drawing and other types of pair work. The basic principle is: One person 'holds the pen' and the other person 'asks questions', and then you swap.\n",
    "\n",
    "In this notebook I would like you to try the very basic scenario of driving and navigating."
   ]
  },
  {
   "cell_type": "code",
   "execution_count": null,
   "metadata": {},
   "outputs": [],
   "source": [
    "# fill in your names below.\n",
    "\n",
    "# first just to check in, one of you is the driver (you see this on your own screen, and you are screen-sharing)\n",
    "driver_name = \"\"\n",
    "\n",
    "# and one of you is the navigator, you are seeing this, but cannot type. Driver will need to type your name\n",
    "navigator_name = \"\"\n",
    "\n",
    "# now run this cell (Shift + Enter)\n",
    "print(\"Driver is \" + driver_name + \"and Navigator is\" + navigator_name)\n",
    "\n",
    "# when you're done typing Save this notebook with Fine > Save and Checkpoint (Ctro + S or Cmd + S)"
   ]
  },
  {
   "cell_type": "markdown",
   "metadata": {},
   "source": [
    "### Pair Programming Remotely\n",
    "\n",
    "If we were sitting side by side **in a physical computer lab*, you would:\n",
    "\n",
    "- work on one computer, sitting side-by-side, looking at one screen\n",
    "- driver would use the keyboard and mouse\n",
    "- navigator would ask questions, maybe look at notes\n",
    "- pass the keyboard and mose to each other, every 15 minutes\n",
    "\n",
    "But because of this course being primarilly delivered online, (because of reasons), you will use a slightly modified version of above for the **remote programming via video conference**:\n",
    "\n",
    "- use Learn Collaboare virtual breakout room. You will both enable your microphones and video (if possible)\n",
    "- Driver will edit a jupyter notebook on their screen and share their screen. You'd talk and thing out loud.\n",
    "- Navigator will be viewing the driver's shared screen and follow their reasoning, and ask questions.\n",
    "- When it's time to switch, you will swap ownership of the notebook *(described below)*, and navigator will share their screen and become the new driver.\n",
    "\n",
    "Most of the time one of you reads or types much faster than the other one. Or maybe you already grasped a concept that your partner is still digesting. Working together like this is your opportunity to help each other, but also to **understand things better, because you had to explain them to someone**. This is called \"Rubber Ducking\" and we'll talk about it more soon.\n",
    "\n",
    "In this lab we will try to do this at least once, so you know what we are talking about:"
   ]
  },
  {
   "cell_type": "markdown",
   "metadata": {},
   "source": [
    "### In this short lab:\n",
    "\n",
    "1. You already decided who is the first driver, it's the person who'se screen you are viewing right now.\n",
    "2. It probably took you 10 minutes to read the above section, so it is time to switch. (I will describe below exactly how to switch using Noteable notebooks).\n",
    "3. Continue going through this notebook with the other person being the new Driver.\n",
    "\n",
    "* it is customary to have a short debrief as you switch, and ask questions like: \"How was this for you? Am I going too quickly? How do you like it when I ask you questions? How do you feel?\"\n",
    "\n",
    "4. If you completed this notebook and still have time, open one of the other code notebooks for this course, and start going through it with your partner."
   ]
  },
  {
   "cell_type": "markdown",
   "metadata": {},
   "source": [
    "### How to share access to your Noteable with another person:\n",
    "\n",
    "In noteable, where you see a list with all your files, there is a button on top right called **New**\n",
    "\n",
    "- select New > Terminal\n",
    "\n",
    "This will open a Matrix-like black screen called terminal. This is where you can talk to your server directly with code. \n",
    "\n",
    "\n",
    "To share your 'session', in effect allowing them to 'become you' in nteable, run this in the terminal. This is the equivalent of passing over the keyboard. They only have access to your noteable files (and not any other uni system), and only for as long as you let them.\n",
    "\n",
    "Paste this in the terminal, press enter and share the link with them in your breakout room chat. When they click it, they will be logged in as you\n",
    "\n",
    "```\n",
    "echo \"https://noteable.edina.ac.uk/user/$(jupyter notebook list | grep -oP '(?<=user\\/).*(?=\\/\\?)' )/tree?token=$( jupyter notebook list | grep -oP '(?<=token=).*(?= ::)' )\"\n",
    "```\n",
    "\n",
    "The link you need to share will look something like this: https://noteable.edina.ac.uk/user/qwertyui/tree?token=123456789098\n",
    "\n",
    "\n",
    "\n",
    "Later on, to close the session and remove any access to any other people (it will also log you out) use the below command in the terminal. Typically you would do that at the end of the lab session.\n",
    "\n",
    "```\n",
    "jupyter notebook stop\n",
    "```\n",
    "\n",
    "**TOP TIP:** You do not need to copytaste these lines all the time. Once you use them, terminal remembers history of what you typed so just use UP & DOWN ARROW KEYS to scroll through your history of commands and quickly 'share again' or 'logout again'."
   ]
  },
  {
   "cell_type": "markdown",
   "metadata": {},
   "source": [
    "#### What I would like you to do in a minute to finish this lab (first read it).\n",
    "    \n",
    "- Person 1 (first driver): Save your notebook, then use terminal and above commands to get sharing link.\n",
    "- Person 1: Send that link to the navigator in the breakout room chat.\n",
    "- Person 1: Stop sharing your screen. It's best if you close the browser tab where you had that notebook opened.\n",
    "- Person 2 (you were the navigator, but you are now becoming second driver): click that link, open the notebook you were working on and share yoru screen.\n",
    "- Person 2: While sharing your screen, edit your names above to add also your surnames\n",
    "- Person 2: Save the notebook. Stop sharing your screen.\n",
    "- Person 1 (becoming the driver again): Open the notebook again and confirm that it now contains your surnames too.\n",
    "- Person 1: use logout terminal command to invalidate other person's access to your notebooks\n",
    "\n",
    "OK, Now go and do it. Good luck."
   ]
  },
  {
   "cell_type": "markdown",
   "metadata": {},
   "source": [
    "### Extra tip: To download and upload files\n",
    "\n",
    "For mater,  to actually share the file (not just share access to it), Download it File > Download > As Notebook, and Upload it in the Noteable file list (you'll need to click upload, and the clock dark-blue upload button again.)"
   ]
  },
  {
   "cell_type": "code",
   "execution_count": null,
   "metadata": {},
   "outputs": [],
   "source": []
  }
 ],
 "metadata": {
  "kernelspec": {
   "display_name": "Python 3",
   "language": "python",
   "name": "python3"
  },
  "language_info": {
   "codemirror_mode": {
    "name": "ipython",
    "version": 3
   },
   "file_extension": ".py",
   "mimetype": "text/x-python",
   "name": "python",
   "nbconvert_exporter": "python",
   "pygments_lexer": "ipython3",
   "version": "3.7.6"
  }
 },
 "nbformat": 4,
 "nbformat_minor": 4
}
