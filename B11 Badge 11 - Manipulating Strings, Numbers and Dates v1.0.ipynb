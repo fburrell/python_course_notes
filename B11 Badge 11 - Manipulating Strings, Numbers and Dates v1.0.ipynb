{
 "cells": [
  {
   "cell_type": "markdown",
   "metadata": {},
   "source": [
    "# Badge 11 - Methods and Manipulating Strings, Numbers and Dates"
   ]
  },
  {
   "cell_type": "markdown",
   "metadata": {},
   "source": [
    "note: This is a **JUPYTER NOTEBOOK**. It's a type of website where you can edit and run computer programms (code). You interact with it in your web browser and you can find it via your Learn.\n",
    "\n",
    "1. These blocks here are cells\n",
    "2. There are **TEXT CELLS** like this one with explanations of concepts\n",
    "3. and **CODE CELLS** with Python code (see below). Code cells have a ```In []``` written to the left\n",
    "4. You can **RUN CODE CELLS** by clicking on them and pressing **Shirt + Enter**. When you run a cell code in it is run (it \"happens\", computer will do what you asked for it to do). Results of what your code does will appear underneath the cell.\n",
    "5. As we go through these lessons, please READ text cells, and RUN code cells\n",
    "6. Good luck!\n",
    "\n",
    "✅Remmeber to RUN ALL THE CELLS IN ORDER (if you skip some, you might see some unexpected errors)."
   ]
  },
  {
   "cell_type": "markdown",
   "metadata": {},
   "source": [
    "# Learning objectives:\n",
    "\n",
    "At the end of this badge you will know:\n",
    "\n",
    "- how is code executed by Python\n",
    "- what are variables\n",
    "- that variables types (string, int, float, bool) have impact on how code behaves e.g. 20 + 20 is different than \"20\"+\"20\"\n",
    "\n",
    "You will also understand these lines of code:"
   ]
  },
  {
   "cell_type": "code",
   "execution_count": 1,
   "metadata": {},
   "outputs": [],
   "source": [
    "# remember - run all code cells from top to bottom as you go through notebook.\n",
    "# Lines starrting with # are just comment, they do nothing."
   ]
  },
  {
   "cell_type": "code",
   "execution_count": 2,
   "metadata": {},
   "outputs": [],
   "source": [
    "# function definitions\n",
    "def are_these_names_simmilar(name_1, name_2):\n",
    "    result = name_1.lower() == name_2.lower()\n",
    "    return result # this is returned to whoever called this function\n",
    "\n",
    "# note: whenever you run a cell with function definition, you \"load\" that function into memory\n",
    "# there's no need to run it a lot, just once is enough\n",
    "# and if you change the function you will want to run it again to \"re-load\" it into the momory."
   ]
  },
  {
   "cell_type": "code",
   "execution_count": 3,
   "metadata": {},
   "outputs": [
    {
     "data": {
      "text/plain": [
       "False"
      ]
     },
     "execution_count": 3,
     "metadata": {},
     "output_type": "execute_result"
    }
   ],
   "source": [
    "# calling functions - result will be displayed underneath the cell with ```Out[]``` next to it. \n",
    "# you can only return one thing from each cell. It will usually be the result of the last line of code \n",
    "are_these_names_simmilar(\"Billie\", \"fiona\")"
   ]
  },
  {
   "cell_type": "code",
   "execution_count": 4,
   "metadata": {},
   "outputs": [
    {
     "name": "stdout",
     "output_type": "stream",
     "text": [
      "False\n",
      "False\n"
     ]
    }
   ],
   "source": [
    "# printing function results. You can run a function, store what it returns in a variable, and then print that variable\n",
    "are_they_simmilar = are_these_names_simmilar(\"Billie\", \"fiona\")\n",
    "print( are_they_simmilar )\n",
    "\n",
    "# or you can put the function call right in the print, to have a shorter (folded, nested) version.\n",
    "print( are_these_names_simmilar(\"Billie\", \"fiona\") )\n",
    "\n",
    "# both above solutions do the same thing and are just as goood"
   ]
  },
  {
   "cell_type": "code",
   "execution_count": 5,
   "metadata": {},
   "outputs": [
    {
     "ename": "SyntaxError",
     "evalue": "invalid syntax (<ipython-input-5-c9ed7698fbf4>, line 3)",
     "output_type": "error",
     "traceback": [
      "\u001b[0;36m  File \u001b[0;32m\"<ipython-input-5-c9ed7698fbf4>\"\u001b[0;36m, line \u001b[0;32m3\u001b[0m\n\u001b[0;31m    assert name == \"Tracy\",\u001b[0m\n\u001b[0m                            ^\u001b[0m\n\u001b[0;31mSyntaxError\u001b[0m\u001b[0;31m:\u001b[0m invalid syntax\n"
     ]
    }
   ],
   "source": [
    "# testing - if there is no output, it means that all test succeeded. (Computers say nothing when things worked)\n",
    "name = \"Jeane\"\n",
    "assert name == \"Tracy\", \n",
    "\n",
    "assert are_these_names_simmilar(\"Billie\", \"fiona\") == False\n",
    "assert are_these_names_simmilar(\"Billie\", \"billie\") == True"
   ]
  },
  {
   "cell_type": "code",
   "execution_count": null,
   "metadata": {
    "scrolled": true
   },
   "outputs": [],
   "source": [
    "# this test will fail, unless we change our function. \n",
    "assert are_these_names_simmilar(\"Fiona\", \"Fiona!\") == True, \"Punctuation (!?.) at the end should be ignored\""
   ]
  },
  {
   "cell_type": "code",
   "execution_count": null,
   "metadata": {},
   "outputs": [],
   "source": [
    "#also:\n",
    "# errors when something goes wrong\n",
    "print (\"banana\" + 3)"
   ]
  },
  {
   "cell_type": "code",
   "execution_count": null,
   "metadata": {},
   "outputs": [],
   "source": [
    "# errors that you can raise yoruself\n",
    "raise NotImplementedError() # this is how I will tell you that you need to write some code here"
   ]
  },
  {
   "cell_type": "markdown",
   "metadata": {},
   "source": [
    "## > End of learning objectives"
   ]
  },
  {
   "cell_type": "markdown",
   "metadata": {},
   "source": [
    "### Getting user input - how to get some data from the person using your code?"
   ]
  },
  {
   "cell_type": "markdown",
   "metadata": {},
   "source": [
    "**GETTING USER INPUT**: we will not do this a lot yet, but you can ask user for input using ```input(\"your question\")``` - program will freeze and wait for your answer. The best thing to do is to assign the value to a variable\n",
    "\n",
    "**IMPORTANT! FREEZING CODE** - notice that while your program is waiting for the input:\n",
    "\n",
    "- your whole code is frozen and waiting for your response, nothing else will work, until you answer the question\n",
    "- browser tab icon (at the top) turns into an hour glass.\n",
    "- if you get stuck in the 'waiting mode' (and nothing else works) you can choose Kernel > Restart from top menu"
   ]
  },
  {
   "cell_type": "code",
   "execution_count": null,
   "metadata": {},
   "outputs": [],
   "source": [
    "input(\"What's your name?\") # this will ask for your name and  return it"
   ]
  },
  {
   "cell_type": "code",
   "execution_count": null,
   "metadata": {},
   "outputs": [],
   "source": [
    "print( input(\"What's your name?\")) # this will ask for your name and print  it"
   ]
  },
  {
   "cell_type": "code",
   "execution_count": null,
   "metadata": {},
   "outputs": [],
   "source": [
    "your_name = input(\"What's your name?\") # MOST USEFUL: this will ask for your name and store it for later\n",
    "print(\"Hello\", your_name)"
   ]
  },
  {
   "cell_type": "markdown",
   "metadata": {},
   "source": [
    "### Manipulating strings - string functions"
   ]
  },
  {
   "cell_type": "markdown",
   "metadata": {},
   "source": [
    "Note that == is very specific and will only return True if two values are identical! That means that sometimnes you need to clean your data to make sure you're sking the computer to do what you want it to do."
   ]
  },
  {
   "cell_type": "code",
   "execution_count": null,
   "metadata": {},
   "outputs": [],
   "source": [
    "# TRICKY BIT: notice that these are differnt\n",
    "print( \"Christina\" == \"christina\" )"
   ]
  },
  {
   "cell_type": "markdown",
   "metadata": {},
   "source": [
    "We can clean up (modify) values by using operations. Strings have a set of build in functions to do that. Some examples are ```.lower()```, ```.upper()``` and ```.title()```.\n",
    "\n",
    "You can add such funCtion immediately after a variable or a value, and it will transform it.\n",
    "\n",
    "Note that these will be useful when you have to compare large quantities of messy, inconsistent data.\n",
    "\n",
    "FOR THE CURIOUS: There are many more of these and I encourage you to read the pythob documentation https://docs.python.org/3/library/string.html (note that it's quite a heavy read)."
   ]
  },
  {
   "cell_type": "code",
   "execution_count": null,
   "metadata": {},
   "outputs": [],
   "source": [
    "name = \"Christina Estefania Rodriguez\"\n",
    "print(name.lower())\n",
    "print(name.upper())\n",
    "print(name.title())\n",
    "print(name.capitalize())"
   ]
  },
  {
   "cell_type": "code",
   "execution_count": null,
   "metadata": {},
   "outputs": [],
   "source": [
    "# You can type your own name and perform oparations on it\n",
    "name = input(\"What's your full name?\")\n",
    "print(name.lower())\n",
    "print(name.upper())\n",
    "print(name.title())\n",
    "print(name.capitalize())"
   ]
  },
  {
   "cell_type": "code",
   "execution_count": null,
   "metadata": {},
   "outputs": [],
   "source": [
    "# some string functions will let you clean up your strings. \n",
    "# I've put ! on both sides, so we see clearly what is printed\n",
    "text = \"     spaces on both sides     \"\n",
    "\n",
    "# strip() in it's simple form removes spaces from the value it was 'called on' (value to the left) \n",
    "\n",
    "print(\"!\"+ text +\"!\")\n",
    "print(\"!\"+ text.lstrip() +\"!\")\n",
    "print(\"!\"+ text.rstrip() +\"!\")\n",
    "print(\"!\"+ text.strip() +\"!\")\n",
    "\n",
    "# notice that spaces inside of a sentence are not affected, just those on the beginning and end"
   ]
  },
  {
   "cell_type": "code",
   "execution_count": null,
   "metadata": {},
   "outputs": [],
   "source": [
    "# but you can pass in an argument into it and it will clean up any characters\n",
    "text = \"yay banana is a fruit, yay\"\n",
    "\n",
    "print(\"!\"+ text +\"!\")\n",
    "print(\"!\"+ text.lstrip(\"yay\") +\"!\")\n",
    "print(\"!\"+ text.rstrip(\"a fruit, yay\") +\"!\")\n",
    "print(\"!\"+ text.strip(\"y\") + \"!\")"
   ]
  },
  {
   "cell_type": "markdown",
   "metadata": {},
   "source": [
    "TRICKY BIT: You can chain (combain one after another) different string operators. To do that you can put next operation right after another, reparated by dots, like ```my_string.do_this().then_do_this().and_then_do_this()``` "
   ]
  },
  {
   "cell_type": "code",
   "execution_count": null,
   "metadata": {},
   "outputs": [],
   "source": [
    "# to turn \"  Mrs natasha gordon.\" into \"Natasha Gordon\" you could\n",
    "name = \"  Mrs natasha gordon.\"\n",
    "print( name.strip().rstrip(\".\").lower().lstrip('mrs ').title())\n",
    "# first remove spaces on both sodes, then dot on the right, then turn to lower case,\n",
    "# then remove mrs on the left, then turn to title case\n",
    "\n",
    "# note: later in the course we might learn more efficient ways to do this"
   ]
  },
  {
   "cell_type": "markdown",
   "metadata": {},
   "source": [
    "### Manipulating strings - special characters"
   ]
  },
  {
   "cell_type": "markdown",
   "metadata": {},
   "source": [
    "**SPECIAL CHARACTERS**: some characters are not visible, but we want to include them into our prints to make things more readable or conissent. Examples would be New Line (Enter, on your keyboard), Tab (flexible space which alligns with other Tabs), etc.\n",
    "\n",
    "To add these we will use so called special characters - characters that take two symbols to write. For example ```\\t``` is a Tab, and ```\\n``` is a new line. \n",
    "\n",
    "**FOR THE CURIOUS**: The backslash ```\\``` is called the escape character, because it means that you do not mean the letter that follows it to be a letter ```t``` or ```n``` but rather that whatever follows the slash is special. Every special character. For example if you want to have a quote in your string, without actually finishing the string, you'll need to escape that quote too."
   ]
  },
  {
   "cell_type": "code",
   "execution_count": null,
   "metadata": {},
   "outputs": [],
   "source": [
    "print(\"The book was called \"Detective Rebus's adventures\" and was written in Edinburgh\") # this line will fail\n",
    "# can you spot why this syntax is incorrect? try to identify where strings begin and end\n",
    "# run it and read the error carefully, it will help you to find the exact place where things go wrong"
   ]
  },
  {
   "cell_type": "code",
   "execution_count": null,
   "metadata": {},
   "outputs": [],
   "source": [
    "print(\"The book was called \\\"Detective Rebus's adventures\\\" and was written in Edinburgh\") \n",
    "# notice that above \" did not finishe a string, because had to be escaped with \\\""
   ]
  },
  {
   "cell_type": "code",
   "execution_count": null,
   "metadata": {},
   "outputs": [],
   "source": [
    "# another useful special character is TAB (you write it \\t) and it can space things nicely on the screen\n",
    "# without tab things are squashed\n",
    "print(\"123456\")\n",
    "print(\"abcdef\")\n",
    "# with tab they are easier to read\n",
    "print(\"1\\t2\\t3\\t4\\t5\\t6\")\n",
    "print(\"aaa\\tbb\\tcccc\\tdd\\te\\tffff\")\n",
    "#notice that tab is not just many spaces - it aligns with columns"
   ]
  },
  {
   "cell_type": "code",
   "execution_count": null,
   "metadata": {},
   "outputs": [],
   "source": [
    "# use tab to create simple tables\n",
    "print(\"Month\\tDays\\nJan\\t31\\nFeb\\t28 or 29\\nMar\\t31\")"
   ]
  },
  {
   "cell_type": "markdown",
   "metadata": {},
   "source": [
    "### Changing data - manipulating numbers"
   ]
  },
  {
   "cell_type": "markdown",
   "metadata": {},
   "source": [
    "There are also a lot of mathamatical operations you can perform on numbers, that they are in the shape that you need them to be."
   ]
  },
  {
   "cell_type": "code",
   "execution_count": null,
   "metadata": {},
   "outputs": [],
   "source": [
    "number = -3.776523 \n",
    "print(abs(number)) #absulte value\n",
    "print(int(number)) #represented as an int (whole number) - this will remove decimal points, but not round it!\n",
    "print(round(number)) #round to a whole number\n",
    "print(round(number,3)) #round to 3 decimal spaces\n",
    "print(pow(number,3)) #raised to the power of 3\n",
    "print(number**3)  #another way to say raised to the power of 3"
   ]
  },
  {
   "cell_type": "markdown",
   "metadata": {},
   "source": [
    "**USER ENTERED NUMBERS**: when you want the user to enter a number, remember that it is always typed in as a String, so you will need to turn it into a string."
   ]
  },
  {
   "cell_type": "code",
   "execution_count": null,
   "metadata": {},
   "outputs": [],
   "source": [
    "this_will_be_a_string = input(\"Your favourite number\")\n",
    "print(this_will_be_a_string + this_will_be_a_string)"
   ]
  },
  {
   "cell_type": "markdown",
   "metadata": {},
   "source": [
    "# First: some useful bits and pieces:\n",
    "### Python Philosopphy:"
   ]
  },
  {
   "cell_type": "code",
   "execution_count": null,
   "metadata": {},
   "outputs": [],
   "source": [
    "\n",
    "# we will talk about importing modules some time soon,\n",
    "# but here's a fun hidden message from one of the authors of Python:\n",
    "import this"
   ]
  },
  {
   "cell_type": "markdown",
   "metadata": {},
   "source": [
    "### While loop used for user input:"
   ]
  },
  {
   "cell_type": "code",
   "execution_count": null,
   "metadata": {},
   "outputs": [],
   "source": [
    "# we already know this type of while loop\n",
    "counter = 0\n",
    "while counter < 5:\n",
    "    print(counter)\n",
    "    counter = counter + 1"
   ]
  },
  {
   "cell_type": "code",
   "execution_count": null,
   "metadata": {},
   "outputs": [],
   "source": [
    "# but it can be also used for user input\n",
    "secret_fruit = \"Banana\"\n",
    "while input(\"What's my favourite fruit? \") != secret_fruit:\n",
    "    print(\"Incorrect! Try guessing again\")\n",
    "print(\"You guessed!\")"
   ]
  },
  {
   "cell_type": "code",
   "execution_count": null,
   "metadata": {},
   "outputs": [],
   "source": [
    "# but it can be also used for user input\n",
    "def ask_if_deleting_file_is_ok(file_name):\n",
    "    while True:\n",
    "        answer = input(\"Can I delete file \" + file_name + \" Y/N \")\n",
    "        if answer == \"N\":\n",
    "            return False\n",
    "        elif answer == \"Y\":\n",
    "            return True\n",
    "        print(\"You answered \"+answer+\" Only Y and N are accepted\")\n",
    "        print(\"Try again!\")\n",
    "\n",
    "ask_if_deleting_file_is_ok(\"banana.txt\")"
   ]
  },
  {
   "cell_type": "markdown",
   "metadata": {},
   "source": [
    "# String formatting\n",
    "\n",
    "There are at least 3 or 4 ways to format strings in python. We will look at some of them, but at any point just pick one that you like and feel will work for the task at hand.\n",
    "\n",
    "###  String formatting 1: Just add them with a +\n",
    "\n",
    "`\"My name is \"+ \"Dawn\"`\n",
    "\n",
    "We previously combined strings into sentences by just using + operator, but it gets very complicated and unclean really quickly.\n",
    "\n",
    "Advantages:\n",
    "\n",
    "- simple and quick when doing a small simple job\n",
    "\n",
    "Disadvantages:\n",
    "\n",
    "- gets very tricky for larger jobs\n",
    "- easy to make a typo or forget a quote\n",
    "- you need to add spaces manually\n"
   ]
  },
  {
   "cell_type": "code",
   "execution_count": null,
   "metadata": {},
   "outputs": [],
   "source": [
    "name = \"Judy\"\n",
    "time_of_day = \"morning\"\n",
    "sentence = \"Hello, good \"+ time_of_day + \", my name is \" + name + \", how do you do?\"\n",
    "print(sentence)"
   ]
  },
  {
   "cell_type": "markdown",
   "metadata": {},
   "source": [
    "\n",
    "###  String formatting 2: .format( ) syntax - spefify string with place holders, then replace them with variables\n",
    "\n",
    "`\"My name is {}\".format(\"Dawn\")`\n",
    "\n",
    "`\"My name is {name}\".format(name=\"Dawn\")`\n",
    "\n",
    "\n",
    "Strings can be formatted using the ```.format()``` method that is built into each string, just like ```.upper()```. \n",
    "\n",
    "The ```format()``` method is used like this: ```\"My name is {} and I am {} years old\".format(\"Jo\", 23)```\n",
    "\n",
    "- it is called on a string that contains some placeholders ```{}```\n",
    "- it can take any number of argument variables, but rtheir number has to be the same as number of ```{}``` placeholders in the string\n",
    "- it will replace each ```{}``` placeholder with next argument variable\n",
    "\n",
    "As you can see on the example above, `.format()` will find all the empty gaps in the string, which are marked with a `{}` and replace them with arguments given to the format function. Order is meaningful, unless you give your arguments special names (and use there names in the placeholders, like `{name}` or you can use indexes of the aruments like `{0}`)\n",
    "\n",
    "Advantages:\n",
    "- clear and easy to use\n",
    "- very flexible\n",
    "- allows for formating of numbers (e.g. number of decimal places, which you'll see in a minute)\n",
    "- forces you to separate output format from data (always a good idea!) \n",
    "\n",
    "Disadvantages:\n",
    "- takes some planning to use (which is also an advantage!)\n"
   ]
  },
  {
   "cell_type": "markdown",
   "metadata": {},
   "source": []
  },
  {
   "cell_type": "code",
   "execution_count": null,
   "metadata": {},
   "outputs": [],
   "source": [
    "\"My name is {} and I am {} years and {} months old.\".format(\"Jo\", 23, 2)"
   ]
  },
  {
   "cell_type": "code",
   "execution_count": null,
   "metadata": {},
   "outputs": [],
   "source": [
    "\"My name is {0} and I am {1} years and {2} months old\".format(\"Jo\", 23, 2)"
   ]
  },
  {
   "cell_type": "code",
   "execution_count": null,
   "metadata": {},
   "outputs": [],
   "source": [
    "\"My name is {name} and I am {years} years and {months} months old\".format(name=\"Jo\", years=23, months=2)"
   ]
  },
  {
   "cell_type": "markdown",
   "metadata": {},
   "source": [
    "Above format get very handy when you have yoru data in a dictionary, like this:"
   ]
  },
  {
   "cell_type": "code",
   "execution_count": null,
   "metadata": {},
   "outputs": [],
   "source": [
    "person_info = {'name':\"Jo\", 'years':23, 'months':2}\n",
    "\"My name is {info[name]} and I am {info[years]} years and {info[months]} months old\".format(info = person_info)"
   ]
  },
  {
   "cell_type": "markdown",
   "metadata": {},
   "source": [
    "You can also perform calculations right where you pass in function arguments:"
   ]
  },
  {
   "cell_type": "code",
   "execution_count": null,
   "metadata": {},
   "outputs": [],
   "source": [
    "x = 20\n",
    "y = 5\n",
    "\"{} is {} divided by {}\".format(x/y, x, y)"
   ]
  },
  {
   "cell_type": "markdown",
   "metadata": {},
   "source": [
    "###  String formatting 3: oldschool %s syntax - precursor to .format( )  we will not use this\n",
    "\n",
    "We would not use this, but just in case if you see it in someone else's code:\n",
    "\n",
    "`\"My name is {} and I am {} years and {:.1f} months old.\".format(\"Jo\", 23, 2.1)`\n",
    "\n",
    "used to be written as\n",
    "\n",
    "`\"My name is %s and I am %d years and %.1f months old.\" % (\"Jo\", 23, 2.25)`\n",
    "\n",
    "Notice that this old method requires you to specify what type of variable will be places in each spot.\n",
    "\n",
    "%d for integers like 345\n",
    "%f for floats (decimal numbers) like 345.67\n",
    "%s for strings like \"banana\""
   ]
  },
  {
   "cell_type": "code",
   "execution_count": null,
   "metadata": {},
   "outputs": [],
   "source": [
    "# These two lines do the same thing, but .format() is more modern and easier to use\n",
    "print(\"My name is %s and I am %d years and %.1f months old.\" % (\"Jo\", 23, 2.25))\n",
    "print(\"My name is {} and I am {} years and {:.1f} months old.\".format(\"Jo\", 23, 2.25))\n"
   ]
  },
  {
   "cell_type": "markdown",
   "metadata": {},
   "source": [
    "###  String formatting 4: the 'fast format' of 'f strings' - like format, but bundled together\n",
    "\n",
    "Fast strings take the `.format()` and make it even easier to use. But it's up to you which one you prefer.\n",
    "\n",
    "Let's imagine we have three variables:\n",
    "\n",
    "`\n",
    "name = \"Jo\"\n",
    "years = 23\n",
    "months = 2.25\n",
    "`\n",
    "\n",
    "You already know `.format()` syntax:\n",
    "\n",
    "`\"My name is {} and I am {} years and {:.1f} months old.\".format(name, years, months)`\n",
    "\n",
    "and here is the 'fast string' version. You just need to use the letter `f` before yoru string, so that python knows you intend to use the f format:\n",
    "\n",
    "`f\"My name is {name} and I am {years} years and {months:.1f} months old.\"`\n",
    "\n",
    "Notice you can put variables right into the string, surrpounded by `{ }` brackets. And you can also format in the usual way.\n"
   ]
  },
  {
   "cell_type": "code",
   "execution_count": 6,
   "metadata": {},
   "outputs": [
    {
     "name": "stdout",
     "output_type": "stream",
     "text": [
      "My name is Jo and I am 23 years and 2.2 months old.\n",
      "My name is Jo and I am 23 years and 2.2 months old.\n"
     ]
    }
   ],
   "source": [
    "# These two lines do the same thing. above is the format() you already know, below is the \"f string\" format\n",
    "\n",
    "name = \"Jo\"\n",
    "years = 23\n",
    "months = 2.25\n",
    "\n",
    "print(\"My name is {} and I am {} years and {:.1f} months old.\".format(name, years, months))\n",
    "\n",
    "print(f\"My name is {name} and I am {years} years and {months:.1f} months old.\")\n"
   ]
  },
  {
   "cell_type": "markdown",
   "metadata": {},
   "source": [
    "Oh, but what is this `:.1f` in `{months:.1f}` ? Let's look at formatting numbers below:"
   ]
  },
  {
   "cell_type": "markdown",
   "metadata": {},
   "source": [
    "## Formatting numbers when we put them in strings\n",
    "\n",
    "You can also format numbers and strings to display them exactly in a way that you'd like:\n",
    "\n",
    "Inspect carefully below examples. In general the format is as follows:\n",
    "\n",
    "`\"{ variable_name : number_formatting f}` - f stands for `float` which is a word for a decimal number, just like `int` is a word for a while number.\n",
    "\n",
    "- `{number}` - just print the number\n",
    "- `{number:12.2f}` - use 12 places/numbers in total, trim to 2 decimal places\n",
    "- ... etc look at the exmaples below and figure out what code does what"
   ]
  },
  {
   "cell_type": "code",
   "execution_count": 7,
   "metadata": {},
   "outputs": [
    {
     "name": "stdout",
     "output_type": "stream",
     "text": [
      "1234.5678 default \n",
      "1234.57 trimmed to two decimal places\n",
      "     1234.57 trimmed to two decimal places, taking up 12 spaces\n",
      "000001234.57 trimmed to two decimal places, taking up 12 spaces filled with 0\n"
     ]
    }
   ],
   "source": [
    "print( \"{number} default \".format(number = 1234.5678) )\n",
    "print( \"{number:.2f} trimmed to two decimal places\".format(number = 1234.5678) )\n",
    "print( \"{number:12.2f} trimmed to two decimal places, taking up 12 spaces\".format(number = 1234.5678) )\n",
    "print( \"{number:012.2f} trimmed to two decimal places, taking up 12 spaces filled with 0\".format(number = 1234.5678) )"
   ]
  },
  {
   "cell_type": "code",
   "execution_count": 8,
   "metadata": {},
   "outputs": [
    {
     "name": "stdout",
     "output_type": "stream",
     "text": [
      " 1234.567800 leave space for minus sign\n",
      "-1234.567800 leave space for minus sign\n",
      "1234.57      left aligned within allocated space\n",
      "     1234.57 right aligned within allocated space\n",
      "  1234.57    center aligned within allocated space\n",
      "**1234.57*** and a filler character\n"
     ]
    }
   ],
   "source": [
    "print( \"{number: f} leave space for minus sign\".format(number = 1234.5678) )\n",
    "print( \"{number: f} leave space for minus sign\".format(number = -1234.5678) )\n",
    "print( \"{number:<12.2f} left aligned within allocated space\".format(number = 1234.5678) )\n",
    "print( \"{number:>12.2f} right aligned within allocated space\".format(number = 1234.5678) )\n",
    "print( \"{number:^12.2f} center aligned within allocated space\".format(number = 1234.5678) )\n",
    "print( \"{number:*^12.2f} and a filler character\".format(number = 1234.5678) )"
   ]
  },
  {
   "cell_type": "code",
   "execution_count": 9,
   "metadata": {},
   "outputs": [
    {
     "name": "stdout",
     "output_type": "stream",
     "text": [
      "Banana    Yay!\n",
      "Pineapple Yay!\n",
      "  Banana  Yay!\n",
      "**Banana**Yay!\n",
      "Banana-PinYay!\n"
     ]
    }
   ],
   "source": [
    "print( \"{word:10}Yay!\".format(word=\"Banana\") )\n",
    "print( \"{word:10}Yay!\".format(word=\"Pineapple\") )\n",
    "print( \"{word:^10}Yay!\".format(word=\"Banana\") )\n",
    "print( \"{word:*^10}Yay!\".format(word=\"Banana\") )\n",
    "print( \"{word:-^10.10}Yay!\".format(word=\"Banana-Pinapple-Hybrid\") )"
   ]
  },
  {
   "cell_type": "markdown",
   "metadata": {},
   "source": [
    "If you'd like to know more, you can refer to this very thorough tutorial https://www.programiz.com/python-programming/methods/string/format"
   ]
  },
  {
   "cell_type": "markdown",
   "metadata": {},
   "source": [
    "### Actually CHANGING numbers (above was just for formatting numbers as strings)"
   ]
  },
  {
   "cell_type": "code",
   "execution_count": 10,
   "metadata": {},
   "outputs": [
    {
     "name": "stdout",
     "output_type": "stream",
     "text": [
      "1\n",
      "2\n",
      "\n",
      "2\n",
      "1\n",
      "2.0\n",
      "2.302585092994046\n"
     ]
    }
   ],
   "source": [
    "# there are thousands of libraries you can use in mython, math is one of them:\n",
    "import math\n",
    "\n",
    "print(round(1.11))\n",
    "print(round(1.61))\n",
    "print() # this is a hack, if you print nothing, it adds a new empty line. Great for readability\n",
    "\n",
    "print(math.ceil(1.111))\n",
    "print(math.floor(1.611))\n",
    "print(math.sqrt(4))\n",
    "print(math.log(10))"
   ]
  },
  {
   "cell_type": "markdown",
   "metadata": {},
   "source": [
    "Here is an example of combining above techniquea.\n",
    "\n",
    "It is always your decision if you want to change the actual data, or just format them when you change them into a string."
   ]
  },
  {
   "cell_type": "code",
   "execution_count": 11,
   "metadata": {},
   "outputs": [
    {
     "name": "stdout",
     "output_type": "stream",
     "text": [
      "From original amount of 234 we lost 25% so we have 176 left\n"
     ]
    }
   ],
   "source": [
    "losses_percent = 25\n",
    "original_amount = 234\n",
    "new_amount = math.ceil(original_amount * (1- 0.01 * losses_percent) )\n",
    "report_template = \"From original amount of {} we lost {}% so we have {} left\"\n",
    "print( report_template.format( original_amount, losses_percent, new_amount) )"
   ]
  },
  {
   "cell_type": "markdown",
   "metadata": {},
   "source": [
    "You are very likely to use format with list comptehensions:"
   ]
  },
  {
   "cell_type": "code",
   "execution_count": 12,
   "metadata": {},
   "outputs": [
    {
     "name": "stdout",
     "output_type": "stream",
     "text": [
      "['One Latte with Cow milk please!', 'One Lungo with No milk please!', 'One Latte with Oat milk please!']\n"
     ]
    }
   ],
   "source": [
    "coffee_orders = [{'type': 'Latte', 'milk': 'Cow'}, \n",
    "                 {'type': 'Lungo', 'milk': 'No'}, \n",
    "                 {'type': 'Latte', 'milk': 'Oat', 'sugar': 2}]\n",
    "\n",
    "coffee_orders_to_shout = [ \"One {type} with {milk} milk please!\".format(type=coffee['type'], milk =coffee['milk'])\n",
    "    for coffee in coffee_orders\n",
    "]\n",
    "print(coffee_orders_to_shout)"
   ]
  },
  {
   "cell_type": "markdown",
   "metadata": {},
   "source": [
    "For the curious: there is a rather advanced python ability that we will not learn during the course that allows you to EXPLODE a dictionary into a bunch of variables. It uses operator `**` and sort of turns\n",
    "\n",
    "`{'type': 'Latte', 'milk': 'Cow'}` \n",
    "\n",
    "into\n",
    "\n",
    "`\n",
    "type = Latte\n",
    "milk='Cow'\n",
    "`\n",
    "\n",
    "You might see it in someone else's code, or a tutorial, but be careful when using it. Or spend some time understanding what it does. (yes, the name is 'explode', you read this right :P )\n"
   ]
  },
  {
   "cell_type": "code",
   "execution_count": 13,
   "metadata": {},
   "outputs": [
    {
     "name": "stdout",
     "output_type": "stream",
     "text": [
      "['One Latte with Cow milk please!', 'One Lungo with No milk please!', 'One Latte with Oat milk please!']\n"
     ]
    }
   ],
   "source": [
    "coffee_orders = [{'type': 'Latte', 'milk': 'Cow'}, \n",
    "                 {'type': 'Lungo', 'milk': 'No'}, \n",
    "                 {'type': 'Latte', 'milk': 'Oat', 'sugar': 2}]\n",
    "\n",
    "coffee_orders_to_shout = [ \"One {type} with {milk} milk please!\".format(**coffee)\n",
    "    for coffee in coffee_orders\n",
    "]\n",
    "print(coffee_orders_to_shout)"
   ]
  },
  {
   "cell_type": "markdown",
   "metadata": {},
   "source": [
    "\n",
    "# Working with Date and Time\n",
    "\n",
    "When you use data, the date and time can come in all sorts of formats. For exampe half past noon of 30th of March 2021 can be written as\n",
    "\n",
    "`2021-03-30 12:30:00` or \n",
    "\n",
    "`30 Mar 2021 12:30pm GMT` or\n",
    "\n",
    "`Tuesday, 30 March 2021 12:30:00` or even\n",
    "\n",
    "`1617107400` - this is called Epoch time, and is a number of seconds from 1 Jan 1970. 1 Jan 1970 is literally recognised as 'the beginning of time' in computers.\n",
    "\n",
    "Sometimes time is just accurate to the date, sometimes to a second, or milisecond. Sometimes it even includes a timezone.\n",
    "\n",
    "### Reading time from a string:\n",
    "\n",
    "While we can store time as a string like `2021-03-30 12:30:00` it would be rather complicated to calculate the amount of time passed between two dates in that format. \n",
    "\n",
    "Imagine trying to explain to a computer: How many days are between `2020-12-21 18:30:00` and `2021-03-30 12:30:00`.\n",
    "\n",
    "That's why we usually translate the time strings into time 'objects', it's easiest to think of them as Epoch times (seconds from the beginning of time).\n",
    "\n",
    "So to find out: How many days are between `2020-12-21 18:30:00` and `2021-03-30 12:30:00`, I would turn both dates to their amounts of seconds since 1 Jan 1970 (`1608575400` and `1617107400` respectively) , then subtract them. Turns out there is `8532000` seconds between these two moments. Which is equal to `98.75` days.\n",
    "\n",
    "Luckily python will give us nice syntax to do these types of calculations. Instead of turning dates into long numbers we will turn them into date objects, which (like strings of Lists) will have some helpful behaviours built into them.\n",
    "\n",
    "There are a lot of date formats, so often you have to specify which one exactly you expect. See example below"
   ]
  },
  {
   "cell_type": "code",
   "execution_count": 15,
   "metadata": {},
   "outputs": [
    {
     "name": "stdout",
     "output_type": "stream",
     "text": [
      "2019-12-21 18:30:00\n"
     ]
    }
   ],
   "source": [
    "from datetime import datetime\n",
    "\n",
    "# 21 Dec 2019 6pm 0.5 seconds timezone UTC\n",
    "string_with_date = \"18:30 2019-12-21\"\n",
    "\n",
    "date_in_the_past = datetime.strptime(string_with_date, \"%H:%M %Y-%m-%d\")\n",
    "print(date_in_the_past) # here we try to print an object, which ofetn will give us simplified representation of it"
   ]
  },
  {
   "cell_type": "markdown",
   "metadata": {},
   "source": [
    "### Operations on dates:\n",
    "\n",
    "Once we have a date object we can ask for particular details of it, or we can perform calculations on it:"
   ]
  },
  {
   "cell_type": "code",
   "execution_count": null,
   "metadata": {},
   "outputs": [],
   "source": [
    "print(date_in_the_past.year)\n",
    "print(date_in_the_past.minute)\n",
    "\n",
    "# to find out all the options, google it, or type date_in_the_future. and press TAB on your keyboard after the dot\n",
    "\n",
    "# we can subtract dates from each other to distance between them (just like you would do it with numbers)\n",
    "now = datetime.now()\n",
    "time_till_date = now - date_in_the_past \n",
    "print(time_till_date)"
   ]
  },
  {
   "cell_type": "markdown",
   "metadata": {},
   "source": [
    "To add a number of days eg. 10 to a particular date, you can create a date dinterval of 10h and add them together "
   ]
  },
  {
   "cell_type": "code",
   "execution_count": null,
   "metadata": {},
   "outputs": [],
   "source": [
    "from datetime import timedelta, date, timezone\n",
    "\n",
    "date_in_10_days = date.today() + timedelta(days=10)\n",
    "print(date_in_10_days)\n",
    "\n",
    "date_3_weeks_ago = date.today() - timedelta(weeks=3)\n",
    "print(date_3_weeks_ago)"
   ]
  },
  {
   "cell_type": "markdown",
   "metadata": {},
   "source": [
    "### Turning Dates back into Strings"
   ]
  },
  {
   "cell_type": "markdown",
   "metadata": {},
   "source": [
    "Finally when we want to turn the dates back into a string we can use the same formatiing rules, like in the example below:"
   ]
  },
  {
   "cell_type": "code",
   "execution_count": null,
   "metadata": {},
   "outputs": [],
   "source": [
    "date_now = datetime.now()\n",
    "date_now_as_string =  date_now.strftime(\"%M minutes past %-I%p on %A %-d of %B year %Y\")\n",
    "print(date_now_as_string)"
   ]
  },
  {
   "cell_type": "markdown",
   "metadata": {},
   "source": [
    "You have complete freedom on how to shape your dates.\n",
    "\n",
    "Cheat sheet of all date formatting options. No need to know them all, just refer to this table."
   ]
  },
  {
   "cell_type": "markdown",
   "metadata": {},
   "source": [
    "To read more on date formatting try this tutorial https://www.programiz.com/python-programming/datetime/strftime and here is a most useful part of the tutorial pasted:\n",
    "\n",
    "Directive\tMeaning\tExample\n",
    "\n",
    "```\n",
    "%a\tAbbreviated weekday name.\tSun, Mon, ...\n",
    "%A\tFull weekday name.\tSunday, Monday, ...\n",
    "%w\tWeekday as a decimal number.\t0, 1, ..., 6\n",
    "%d\tDay of the month as a zero-padded decimal.\t01, 02, ..., 31\n",
    "%-d\tDay of the month as a decimal number.\t1, 2, ..., 30\n",
    "%b\tAbbreviated month name.\tJan, Feb, ..., Dec\n",
    "%B\tFull month name.\tJanuary, February, ...\n",
    "%m\tMonth as a zero-padded decimal number.\t01, 02, ..., 12\n",
    "%-m\tMonth as a decimal number.\t1, 2, ..., 12\n",
    "%y\tYear without century as a zero-padded decimal number.\t00, 01, ..., 99\n",
    "%-y\tYear without century as a decimal number.\t0, 1, ..., 99\n",
    "%Y\tYear with century as a decimal number.\t2013, 2019 etc.\n",
    "%H\tHour (24-hour clock) as a zero-padded decimal number.\t00, 01, ..., 23\n",
    "%-H\tHour (24-hour clock) as a decimal number.\t0, 1, ..., 23\n",
    "%I\tHour (12-hour clock) as a zero-padded decimal number.\t01, 02, ..., 12\n",
    "%-I\tHour (12-hour clock) as a decimal number.\t1, 2, ... 12\n",
    "%p\tLocale’s AM or PM.\tAM, PM\n",
    "%M\tMinute as a zero-padded decimal number.\t00, 01, ..., 59\n",
    "%-M\tMinute as a decimal number.\t0, 1, ..., 59\n",
    "%S\tSecond as a zero-padded decimal number.\t00, 01, ..., 59\n",
    "%-S\tSecond as a decimal number.\t0, 1, ..., 59\n",
    "%f\tMicrosecond as a decimal number, zero-padded on the left.\t000000 - 999999\n",
    "%z\tUTC offset in the form +HHMM or -HHMM.\t \n",
    "%Z\tTime zone name.\t \n",
    "%j\tDay of the year as a zero-padded decimal number.\t001, 002, ..., 366\n",
    "%-j\tDay of the year as a decimal number.\t1, 2, ..., 366\n",
    "%U\tWeek number of the year (Sunday as the first day of the week). All days in a new year preceding the first Sunday are considered to be in week 0.\t00, 01, ..., 53\n",
    "%W\tWeek number of the year (Monday as the first day of the week). All days in a new year preceding the first Monday are considered to be in week 0.\t00, 01, ..., 53\n",
    "%c\tLocale’s appropriate date and time representation.\tMon Sep 30 07:06:05 2013\n",
    "%x\tLocale’s appropriate date representation.\t09/30/13\n",
    "%X\tLocale’s appropriate time representation.\t07:06:05\n",
    "%%\tA literal '%' character.\t%\n",
    "```"
   ]
  },
  {
   "cell_type": "markdown",
   "metadata": {},
   "source": [
    "## ⭐️⭐️⭐️💥 What you learned in this session: Three stars and a wish \n",
    "**In your own words** write in your Learn diary:\n",
    "\n",
    "- 3 things you yould like to remember from this badge\n",
    "- 1 thing you wish to understand better in the future or a question you'd like to ask"
   ]
  },
  {
   "cell_type": "markdown",
   "metadata": {},
   "source": [
    "# ⛏  Minitask: Edinburgh Lothian Busses Timetable\n",
    "\n",
    "Below is the api of Lothian Busses, Edinburgh's local bus company. Function ou are given below will give you access to a list of dictionaries with all the busses leaving soon from the busstop going to Business School or University of Edinburgh from Leith (northen part of Edinburgh). Use what you learned during this badge to style the bus timetable. Here is a photo of how bus timetable looks like when it is displayed on the digital display at the actual busstop: https://pbs.twimg.com/media/Dape3PaXcAAyYCl.jpg\n",
    "\n",
    "and this is the link to live api data (remember that pprint in your python code, and jsonviewer  extension in your chrome will make it easier to see it in a clear way): https://tfe-opendata.com/api/v1/live_bus_times/36236563\n",
    "\n",
    "Also, here is the official API documentation: https://tfe-opendata.readme.io/docs/live-bus-times\n",
    "\n",
    "## Task 1: Try to recreate SOMETHING LIKE the bus tracker in the above picture.\n",
    "\n",
    "Do not worry about the details, Or making it exactly like this - just make it look like nice.\n",
    "Try to play with it, and try to use as many skills you learned during this badge as you can.\n",
    "\n",
    "## Task 2: Advanced and Optional: Use the Lothian busses data to answer a business question you come up with.\n",
    "\n",
    "There are more api points than just the above. Have a look here https://tfe-opendata.readme.io/docs/ and see what the data is. What are the types of questions you could help them to tackle as a Business Analyst given that data?\n",
    "\n",
    "Ask a question and try to answer it.\n",
    "\n",
    "### Some demo code:"
   ]
  },
  {
   "cell_type": "code",
   "execution_count": null,
   "metadata": {},
   "outputs": [],
   "source": [
    "# this is the method to get the soon busses\n",
    "import requests\n",
    "import pprint as pp\n",
    "from datetime import timedelta, date, datetime\n",
    "import pytz      # timezones\n",
    "\n",
    "\n",
    "def get_buses_coming_soon( stop_id):\n",
    "    apiurl =  f\"https://tfe-opendata.com/api/v1/live_bus_times/{stop_id}\"\n",
    "    response = requests.request(\"GET\", apiurl)\n",
    "    all_busses = response.json()\n",
    "    return all_busses"
   ]
  },
  {
   "cell_type": "code",
   "execution_count": null,
   "metadata": {},
   "outputs": [],
   "source": [
    "# all routes from one bus stop. It's a List of Dictionaries. Where each dictionary is one route (one bus number)\n",
    "elmrow_stop = get_buses_coming_soon(36232574)\n",
    "pp.pprint(elmrow_stop)"
   ]
  },
  {
   "cell_type": "code",
   "execution_count": null,
   "metadata": {},
   "outputs": [],
   "source": [
    "# some examples:\n",
    "\n",
    "# one detail of one bus\n",
    "\n",
    "first_route_name = elmrow_stop[0]['routeName']\n",
    "number_of_soon_busses = len(elmrow_stop[0]['routeName'])\n",
    "print(f\"First Route has number {first_route_name} and has {number_of_soon_busses} busses coming soon\") "
   ]
  },
  {
   "cell_type": "code",
   "execution_count": null,
   "metadata": {},
   "outputs": [],
   "source": [
    "# all departures for this stop (not thet this api uses timezones, so we will have to too)\n",
    "# instead of just datetime.now() we will use datetime.now(pytz.timezone('Europe/London'))\n",
    "\n",
    "print(\"next bus of the first route:\")\n",
    "pp.pprint(elmrow_stop[0]['departures'][0])"
   ]
  },
  {
   "cell_type": "code",
   "execution_count": null,
   "metadata": {},
   "outputs": [],
   "source": [
    "bus_time = datetime.fromisoformat(elmrow_stop[0]['departures'][0]['departureTime'])\n",
    "bus_time_str = bus_time.strftime(\"%H:%M\")\n",
    "time_till = bus_time - datetime.now(pytz.timezone('Europe/London'))\n",
    "\n",
    "print(f\"Will arrive at {bus_time_str:*^13} in {time_till.seconds / 60:.0f} minutes\")"
   ]
  },
  {
   "cell_type": "code",
   "execution_count": null,
   "metadata": {},
   "outputs": [],
   "source": []
  }
 ],
 "metadata": {
  "kernelspec": {
   "display_name": "Python 3",
   "language": "python",
   "name": "python3"
  },
  "language_info": {
   "codemirror_mode": {
    "name": "ipython",
    "version": 3
   },
   "file_extension": ".py",
   "mimetype": "text/x-python",
   "name": "python",
   "nbconvert_exporter": "python",
   "pygments_lexer": "ipython3",
   "version": "3.7.6"
  }
 },
 "nbformat": 4,
 "nbformat_minor": 2
}
