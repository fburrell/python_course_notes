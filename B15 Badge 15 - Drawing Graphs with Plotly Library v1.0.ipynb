{
 "cells": [
  {
   "cell_type": "markdown",
   "metadata": {},
   "source": [
    "# Plotly - interactive graphs library\n",
    "\n",
    "This tutorial is a simplified version of and introduction to  plot.ly/python/\n",
    "\n",
    "\n",
    "**We will cover:**\n",
    "\n",
    "- Creating graphs and combining them into more complex inphographics\n",
    "- Editing/Updating Graphs\n",
    "- Types of Graphs (just briefly, you'll go to documentation by yourself to find out more)\n",
    "\n",
    "\n",
    "### Recap: Important core concepts \n",
    "\n",
    "**DICTIONARIES** hold key-value pairs. I plotly we will use dictionaries interchangably with objects to modify graphs. Often you will assign dictionaries as values in other dictionaries, like in\n",
    "\n",
    "```\n",
    "graph_info = {\n",
    "   \"data\": [{ \"type\": \"bar\",\n",
    "              \"x\": [\"banana\", \"kiwi\", \"plum\"],\n",
    "              \"y\": [2, 5, 4]}],\n",
    "    \"layout\": {\"title\": {\"text\": \"A Bar Chart\"}}\n",
    "}\n",
    "```\n",
    "\n",
    "**CLASSES** are complicated data types (like List, Dict, etc) that you create yourimport from a library. You uually use a class to ...\n",
    "\n",
    "**CREATE AN OBJECT OF A CLASS** by which you create a new item/instance of this class (like you created a new List or Dict with [ ] or { } ). When you have an object you can interacti with it - just like you can change a List object with .pop() or .sort(). You create graph objects by using constructor, like ```fig = Figure( some_ttributes )``` or you can use a factpry method that will create an object and return it to you ```fig = px.scatter( ... )```\n",
    "\n",
    "**OBJECT** is yoru primary item you will work with when creating graphs.\n",
    "\n",
    "Once you have create an object you can change perform methods on it like \n",
    "\n",
    "```\n",
    "fig.show()   \n",
    "fig.add_bar( ... )   \n",
    "fig.update_yaxes( ... )\n",
    "``` \n",
    "\n",
    "You can also change its attributes like \n",
    "\n",
    "```\n",
    "fig.data[1].marker.line.color = \"yellow\"\n",
    "```\n",
    "\n",
    "**IMPORTING LIBRARIES** is a process via which we give our notebook ability to use classes and code written by someone else. We specify library we want and its short name  \n",
    "\n",
    "```\n",
    "import library_you_want as short_name\n",
    "```\n",
    "\n",
    "and the ones we will use the most are \n",
    "\n",
    "```\n",
    "import plotly.graph_objects as go        \n",
    "import plotly.express as px      \n",
    "```\n",
    "\n",
    "**IMPORTING INDIVIDUAL METHODS/CLASSES FROM A LIBRARY** when we want just a small part of a library (optionally we can specify it ad give it a short handy name) \n",
    "\n",
    "```\n",
    "from library_you_want import function_or_class_you_want\n",
    "```\n",
    "\n",
    "which will look like this: \n",
    "\n",
    "```\n",
    "from plotly.subplots import make_subplots\n",
    "```\n",
    "\n",
    "### Installing plotly on your notebook:\n",
    "\n",
    "First let's import plotly from Python Index of Packages. \n",
    "\n",
    "Note: ```pip install some_library``` is a command that will install any pip library you request from the Python Package Index. \n",
    "\n",
    "Python Package Index is like a phone book of all available Python libraries, it contains hundreds of thousands of libraries for anything you can imagine: Data, Graphs, Maps, AI, Internet... You can go and browse them yourself at https://pypi.org/\n",
    "\n",
    "For now we will only grab the Plotly from there with the below line of code. Because every time you start a Noteable notebook/session you are effectively startig a new instance of a server, you will need to run this code every time you ope a new session. "
   ]
  },
  {
   "cell_type": "code",
   "execution_count": null,
   "metadata": {},
   "outputs": [],
   "source": [
    "# You need to do this ONCE EVERY TIME YOU START A NOTEBOOK\n",
    "!pip install plotly --upgrade\n"
   ]
  },
  {
   "cell_type": "code",
   "execution_count": null,
   "metadata": {},
   "outputs": [],
   "source": [
    "# if at some point your graphs stop showing - restart your kernel, through the top menu \n",
    "\n",
    "### Your first plot\n",
    "\n",
    "# simple bar chart. Create an object of class Figure with its constructor\n",
    "# constructor takes a number of possible arguments eg. data, layout_title_text\n",
    "\n",
    "# you can create an object and call on it a methos .show()\n",
    "\n",
    "import plotly.graph_objects as go\n",
    "\n",
    "fig = go.Figure(\n",
    "    data=[go.Bar(y=[2, 5, 4], x=[\"banana\", \"kiwi\", \"plum\"])],\n",
    "    layout=go.Layout(\n",
    "        title=go.layout.Title(text=\"A very simple graph\")\n",
    "    )\n",
    ")\n",
    "fig.show()"
   ]
  },
  {
   "cell_type": "code",
   "execution_count": null,
   "metadata": {},
   "outputs": [],
   "source": [
    "# notice where in code \n",
    "\n",
    "# or you can first create a Dict representation of your graph\n",
    "# and then pass it to imported pio.show( your_dict ) method\n",
    "# Try this: compare two pieces of code (this one and above one)\n",
    "\n",
    "import plotly.io as pio\n",
    "\n",
    "fig = {\n",
    "   \"data\": [{ \"type\": \"bar\",\n",
    "              \"x\": [\"banana\", \"kiwi\", \"plum\"],\n",
    "              \"y\": [2, 5, 4]}],\n",
    "    \"layout\": {\"title\": {\"text\": \"A Bar Chart\"}}\n",
    "}\n",
    "\n",
    "pio.show(fig)"
   ]
  },
  {
   "cell_type": "markdown",
   "metadata": {},
   "source": [
    "### Recap: Creating Dictionaries:\n",
    "\n",
    "There are a few ways to create a dictionary. We most of the time used \n",
    "\n",
    "```{ 'name': 'Scotland', 'population': 5438000 }```\n",
    "\n",
    "but you can also create a dict object, and specify it's attributes, with a **dict()** constructor\n",
    "\n",
    "```dict(name='Scotland', population = 5438000)```\n",
    "\n",
    "notice differences in brackets around keys. \n",
    "\n",
    "- {} syntax uses : to separete keys and values. Keys are in ''\n",
    "- dict() sytax uses = to separete keys and values\n",
    "\n",
    "You will see both syntaxes in this notebook, often without particular reason. They both work interchangably. Try to be cinsistent, but use one which is most conveninent.\n",
    "\n",
    "### Using learning datasets provided by plotly (we'll use Iris flower data)\n",
    "\n",
    "Plotly has included some datasets for you to play with. We will use dataset about flowers called Iris. Here you can find its descrition:\n",
    "\n",
    "https://en.wikipedia.org/wiki/Iris_flower_data_set\n",
    "\n",
    "```\n",
    "The Iris flower data set or Fisher's Iris data set is a multivariate data set introduced by the British statistician and biologist Ronald Fisher in his 1936 paper The use of multiple measurements in taxonomic problems as an example of linear discriminant analysis\n",
    "\n",
    "\n",
    "The data set consists of 50 samples from each of three species of Iris (Iris setosa, Iris virginica and Iris versicolor). Four features were measured from each sample: the length and the width of the sepals and petals, in centimeters. Based on the combination of these four features, Fisher developed a linear discriminant model to distinguish the species from each other.\n",
    "```\n",
    "\n",
    "What's important for us in Iris dataset is:\n",
    "\n",
    "- species holds a umber one of three values which we will use to split data into 3 groups\n",
    "- sepal_length, sepal_width, petal_length, petal_width hold numbers, which we will use to drag diagrams"
   ]
  },
  {
   "cell_type": "code",
   "execution_count": null,
   "metadata": {},
   "outputs": [],
   "source": [
    "import plotly.express as px\n",
    "\n",
    "iris = px.data.iris()\n",
    "\n",
    "iris"
   ]
  },
  {
   "cell_type": "code",
   "execution_count": null,
   "metadata": {},
   "outputs": [],
   "source": [
    "# let's create a scartter graph \n",
    "# plotly.express has a scatter method, which works sort of like Figure above, but creates a scatter plot \n",
    "\n",
    "import plotly.express as px\n",
    "iris = px.data.iris()\n",
    "fig = px.scatter(iris, x=\"sepal_width\", y=\"sepal_length\", color=\"species\")\n",
    "fig.show()\n",
    "\n",
    "# make sure to hover over the points with your mouse!"
   ]
  },
  {
   "cell_type": "code",
   "execution_count": null,
   "metadata": {},
   "outputs": [],
   "source": [
    "# Notice what is in the object that px.scatter creates:\n",
    "# here we print the data behind the fig, instead of 'showing it' as a graph\n",
    "\n",
    "import plotly.express as px\n",
    "iris = px.data.iris()\n",
    "\n",
    "fig = px.scatter(iris, x=\"sepal_width\", y=\"sepal_length\", color=\"species\")\n",
    "print(fig) \n",
    "\n",
    "# have a glance at the data behind a graph that you saw above"
   ]
  },
  {
   "cell_type": "markdown",
   "metadata": {},
   "source": [
    "# Create and Combine Graphs\n",
    "\n",
    "### Overlapping and neighbouring plots: "
   ]
  },
  {
   "cell_type": "code",
   "execution_count": null,
   "metadata": {},
   "outputs": [],
   "source": [
    "from plotly.subplots import make_subplots\n",
    "\n",
    "# make_subplots takes rows and columns for how many subplots you will want to create\n",
    "# eg, to create a 3 by 3 grid of 9 plots, you would say rows=3, cols=3\n",
    "fig = make_subplots(rows=1, cols=2)\n",
    "\n",
    "# and then we add graphs to that figure with add_trace. It takes 3 arguments:\n",
    "# the graph to diplsay and it's position as row and col\n",
    "fig.add_trace(go.Scatter(y=[4, 2, 1], mode=\"lines\"), row=1, col=1)\n",
    "fig.add_trace(go.Bar(y=[2, 1, 3]), row=1, col=2)\n",
    "\n",
    "fig.show()"
   ]
  },
  {
   "cell_type": "markdown",
   "metadata": {},
   "source": [
    "Q: But why would I need to specify position of each 'trace' (graph/chart/drawing) separately?\n",
    "\n",
    "A: Because you can overlay the graphs on top of each other if you use it skillfully:"
   ]
  },
  {
   "cell_type": "code",
   "execution_count": null,
   "metadata": {},
   "outputs": [],
   "source": [
    "### from plotly.subplots import make_subplots\n",
    "\n",
    "# make_subplots takes rows and columns for how many subplots you will want to create\n",
    "# eg, to create a 3 by 3 grid of 9 plots, you would say rows=3, cols=3\n",
    "fig = make_subplots(rows=3, cols=3)\n",
    "\n",
    "# and then we add graphs to that figure with add_trace. It takes 3 arguments:\n",
    "# the graph to diplsay and it's position as row and col\n",
    "fig.add_trace(go.Scatter(y=[4, 2, 1], mode=\"lines\", marker_color=\"blue\"), row=1, col=1)\n",
    "fig.add_trace(go.Scatter(y=[4, 2, 1], mode=\"lines\",  marker_color=\"blue\"), row=1, col=2)\n",
    "fig.add_trace(go.Scatter(y=[4, 2, 1], mode=\"lines\",  marker_color=\"blue\"), row=1, col=3)\n",
    "fig.add_trace(go.Bar(y=[2, 1, 3], marker_color=\"red\"), row=2, col=1)\n",
    "fig.add_trace(go.Bar(y=[2, 1, 3], marker_color=\"black\" ), row=2, col=2)\n",
    "fig.add_trace(go.Bar(y=[2, 1, 3], marker_color=\"yellow\"), row=2, col=3)\n",
    "fig.add_trace(go.Scatter(y=[4, 2, 1], mode=\"lines\",  marker_color=\"blue\"), row=3, col=1)\n",
    "fig.add_trace(go.Scatter(y=[4, 2, 1], mode=\"lines\",  marker_color=\"blue\"), row=3, col=2)\n",
    "fig.add_trace(go.Scatter(y=[4, 2, 1], mode=\"lines\",  marker_color=\"blue\"), row=3, col=3)\n",
    "fig.add_trace(go.Bar(y=[2, 1, 3], marker_color=\"red\"), row=3, col=1)\n",
    "fig.add_trace(go.Bar(y=[2, 1, 3], marker_color=\"black\"), row=3, col=2)\n",
    "fig.add_trace(go.Bar(y=[2, 1, 3], marker_color=\"yellow\"), row=3, col=3)\n",
    "\n",
    "fig.show()"
   ]
  },
  {
   "cell_type": "markdown",
   "metadata": {},
   "source": [
    "### Convenience methods for adding traces quicker: add_TYPE\n",
    "\n",
    "There is a family of methods that you can use instead of a more generic add_trace( SUB_GRAPH )\n",
    "\n",
    "```fig.add_scatter( INFO )``` \n",
    "\n",
    "replaces \n",
    "\n",
    "```fig.add_trace(go.Scatter( INFO ))```\n",
    "\n",
    "while\n",
    "\n",
    "```fig.add_bar( INFO )``` \n",
    "\n",
    "replaces \n",
    "\n",
    "```fig.add_trace(go.Bar( INFO ))```\n",
    "\n",
    "This saves you having to create objects just so that you can pass them to other objects."
   ]
  },
  {
   "cell_type": "code",
   "execution_count": null,
   "metadata": {},
   "outputs": [],
   "source": [
    "# this code does exactly the same things as the above code\n",
    "\n",
    "from plotly.subplots import make_subplots\n",
    "fig = make_subplots(rows=1, cols=2)\n",
    "fig.add_scatter(y=[4, 2, 1], mode=\"lines\", row=1, col=1)\n",
    "fig.add_scatter(y=[1, 0.5, 2], mode=\"lines\", row=1, col=2)\n",
    "fig.add_bar(y=[2, 1, 3], row=1, col=2)\n",
    "fig.show()"
   ]
  },
  {
   "cell_type": "markdown",
   "metadata": {},
   "source": [
    "### Overlapping graphs:\n",
    "\n",
    "Additionally, some graphs will be by default made of other graphs. A good exmaple is scatter graph with a trending line (see below). The line, in some sense, is a graph of its own (has its own data, colour and other qualities). That's why you can assign some graph objects as part of other graph objects.\n",
    "\n",
    "Below scatter plot takes in go.scatter.Line object as a ```line``` attribute. You can specify it's simple qualities like color, but also other more advanced details"
   ]
  },
  {
   "cell_type": "code",
   "execution_count": null,
   "metadata": {},
   "outputs": [],
   "source": [
    "import plotly.express as px\n",
    "iris = px.data.iris()\n",
    "fig = px.scatter(iris, x=\"sepal_width\", y=\"sepal_length\", color=\"species\")\n",
    "fig.add_trace(\n",
    "    go.Scatter(\n",
    "        x=[2, 4],\n",
    "        y=[4, 8],\n",
    "        mode=\"lines\",\n",
    "        line=go.scatter.Line(color=\"gray\"),\n",
    "        showlegend=False)\n",
    ")\n",
    "fig.show()"
   ]
  },
  {
   "cell_type": "markdown",
   "metadata": {},
   "source": [
    "### Split layers of your data with facet columns:\n",
    "\n"
   ]
  },
  {
   "cell_type": "code",
   "execution_count": null,
   "metadata": {},
   "outputs": [],
   "source": [
    "# first, without splitting:\n",
    "\n",
    "import plotly.express as px\n",
    "iris = px.data.iris()\n",
    "fig = px.scatter(iris, x=\"sepal_width\", y=\"sepal_length\", color=\"species\")\n",
    "reference_line = go.Scatter(x=[2, 4],\n",
    "                            y=[4, 8],\n",
    "                            mode=\"lines\",\n",
    "                            line=go.scatter.Line(color=\"gray\"),\n",
    "                            showlegend=False)\n",
    "fig.show()"
   ]
  },
  {
   "cell_type": "code",
   "execution_count": null,
   "metadata": {},
   "outputs": [],
   "source": [
    "# if we specify facet_col, the graphs will get separated by the values in that column!\n",
    "\n",
    "import plotly.express as px\n",
    "iris = px.data.iris()\n",
    "fig = px.scatter(iris, x=\"sepal_width\", y=\"sepal_length\", color=\"species\", facet_col=\"species\")\n",
    "reference_line = go.Scatter(x=[2, 4],\n",
    "                            y=[4, 8],\n",
    "                            mode=\"lines\",\n",
    "                            line=go.scatter.Line(color=\"gray\"),\n",
    "                            showlegend=False)\n",
    "fig.show()"
   ]
  },
  {
   "cell_type": "code",
   "execution_count": null,
   "metadata": {},
   "outputs": [],
   "source": [
    "# notice that you can add more lines to such graphs:\n",
    "\n",
    "import plotly.express as px\n",
    "iris = px.data.iris()\n",
    "fig = px.scatter(iris, x=\"sepal_width\", y=\"sepal_length\", color=\"species\", facet_col=\"species\")\n",
    "reference_line = go.Scatter(x=[2, 4],\n",
    "                            y=[4, 8],\n",
    "                            mode=\"lines\",\n",
    "                            line=go.scatter.Line(color=\"gray\"),\n",
    "                            showlegend=False)\n",
    "fig.add_trace(reference_line, row=1, col=1)\n",
    "fig.add_trace(reference_line, row=1, col=2)\n",
    "fig.add_trace(reference_line, row=1, col=3)\n",
    "fig.show()"
   ]
  },
  {
   "cell_type": "markdown",
   "metadata": {},
   "source": [
    "### Dictionaries with object data as quick replacements of objects"
   ]
  },
  {
   "cell_type": "code",
   "execution_count": null,
   "metadata": {},
   "outputs": [],
   "source": [
    "# and even further, you could replace \n",
    "# line=go.scatter.Line(color=\"gray\") \n",
    "# with \n",
    "# line=dict(color=\"gray\")\n",
    "# or even\n",
    "# line={'color':\"gray\"} \n",
    "\n",
    "import plotly.graph_objects as go\n",
    "fig = go.Figure(\n",
    "    data=[go.Scatter(y=[1, 3, 2], line=dict(color=\"gray\")) ],\n",
    "    layout=dict(title=dict(text=\"My Chart\"))\n",
    ")\n",
    "fig.show()"
   ]
  },
  {
   "cell_type": "code",
   "execution_count": null,
   "metadata": {},
   "outputs": [],
   "source": [
    "import plotly.graph_objects as go\n",
    "fig = go.Figure(\n",
    "    data=[go.Scatter(y=[1, 3, 2], line={'color':'gray'}) ],\n",
    "    layout={'title': {'text':'My Chart'}}\n",
    ")\n",
    "fig.show()"
   ]
  },
  {
   "cell_type": "markdown",
   "metadata": {},
   "source": [
    "### Magic Underscore Notation - for Dicts nested in Dicts\n",
    "\n",
    "If you're creating a dictionary just to have one value in it, you can simplify it in this graph library with this new syntax. Take the names of the keys of all the dictionaries you are setting and combine them into one key, with a underscore.\n",
    "```\n",
    "something = {'key1': \n",
    "    {\"key2\" : \"banana\"}\n",
    "} \n",
    "```\n",
    "can be rewritten as \n",
    "\n",
    "```\n",
    "something_key1_key2 = \"banana\"\n",
    "```\n",
    "\n",
    "so in out above graph, you would replace \n",
    "\n",
    "```\n",
    "line={'color':'gray'}) ],\n",
    "layout={'title': {'text':'My Chart'}}\n",
    "```\n",
    "with:\n",
    "```\n",
    "line_color'gray'\n",
    "layout_title_text=\"My Chart\"\n",
    "```"
   ]
  },
  {
   "cell_type": "markdown",
   "metadata": {},
   "source": [
    "# Updating Graphs\n",
    "\n",
    "### Update methods: when you want to change a Trace (line, graph, element, anything) AFTER YOU CREATED IT\n",
    "\n",
    "# first without updates, let's create two subplots, each consisting of two layers"
   ]
  },
  {
   "cell_type": "code",
   "execution_count": null,
   "metadata": {},
   "outputs": [],
   "source": [
    "# here we create a graph\n",
    "import plotly.graph_objects as go\n",
    "from plotly.subplots import make_subplots\n",
    "\n",
    "# subplots\n",
    "fig = make_subplots(rows=1, cols=2, subplot_titles=[\"Banana\", \"Plum\"])\n",
    "\n",
    "# left\n",
    "fig.add_scatter(y=[4, 2, 3.5], mode=\"markers\",\n",
    "                marker=dict(size=20, color=\"Purple\"),\n",
    "                name=\"a\", row=1, col=1)\n",
    "\n",
    "fig.add_bar(y=[2, 1, 3],\n",
    "            marker=dict(color=\"Yellow\"),\n",
    "            name=\"b\", row=1, col=1)\n",
    "\n",
    "#right\n",
    "fig.add_scatter(y=[2, 3.5, 4], mode=\"markers\",\n",
    "                marker=dict(size=20, color=\"Yellow\"),\n",
    "                name=\"c\", row=1, col=2)\n",
    "\n",
    "fig.add_bar(y=[1, 3, 2],\n",
    "            marker=dict(color=\"Purple\"),\n",
    "            name=\"d\", row=1, col=2)\n",
    "fig.show()"
   ]
  },
  {
   "cell_type": "markdown",
   "metadata": {},
   "source": [
    "### UPDATE METHODS:\n",
    "\n",
    "Update attributes of the layout:\n",
    "\n",
    "Eg. Change title of the figure:\n",
    "\n",
    "``` \n",
    "fig.update_layout( title_text=\"Yay!\"  )\n",
    "``` \n",
    "\n",
    "Update attributes of the traces (graphs, lines, etc):\n",
    "\n",
    "Eg. update all charts to Blue color:\n",
    "\n",
    "``` \n",
    "fig.update_traces( marker_color=\"Blue\" )\n",
    "``` \n",
    "\n",
    "Additionally you can change qualities of ONLY SOME SELECTED traces. For that you need to use a **SELECTOR** - it will specify which traces should be affected.\n",
    "\n",
    "Eg. update only bar charts to Red cpolor:\n",
    "\n",
    "``` \n",
    "fig.update_traces(marker_color=\"Red\",\n",
    "                  selector=dict(type=\"bar\"))\n",
    "```\n",
    "                  "
   ]
  },
  {
   "cell_type": "code",
   "execution_count": null,
   "metadata": {},
   "outputs": [],
   "source": [
    "# now the above code with updates:\n",
    "\n",
    "import plotly.graph_objects as go\n",
    "from plotly.subplots import make_subplots\n",
    "\n",
    "# same as above:\n",
    "fig = make_subplots(rows=1, cols=2, subplot_titles=[\"Banana\", \"Plum\"])\n",
    "fig.add_scatter(y=[4, 2, 3.5], mode=\"markers\",\n",
    "                marker=dict(size=20, color=\"Purple\"),\n",
    "                name=\"a\", row=1, col=1)\n",
    "fig.add_bar(y=[2, 1, 3],\n",
    "            marker=dict(color=\"Yellow\"),\n",
    "            name=\"b\", row=1, col=1)\n",
    "fig.add_scatter(y=[2, 3.5, 4], mode=\"markers\",\n",
    "                marker=dict(size=20, color=\"Yellow\"),\n",
    "                name=\"c\", row=1, col=2)\n",
    "fig.add_bar(y=[1, 3, 2],\n",
    "            marker=dict(color=\"Purple\"),\n",
    "            name=\"d\", row=1, col=2)\n",
    "\n",
    "# editing graphs after creation:\n",
    "\n",
    "# with update layout, you don't need to add layout_ at the behining of your keys\n",
    "fig.update_layout(title_text=\"Big title on top!\",\n",
    "                  title_font_size=30)\n",
    "\n",
    "# make all markers blue\n",
    "fig.update_traces( marker_color=\"Blue\" )\n",
    "\n",
    "# the make all bar markers red\n",
    "fig.update_traces(marker_color=\"Red\",\n",
    "                  selector=dict(type=\"bar\"))\n",
    "\n",
    "# the make all bar markers red\n",
    "fig.update_traces(marker_color=\"Red\",\n",
    "                  selector=dict(type=\"bar\"))\n",
    "\n",
    "# you could also do something like \n",
    "# selector=dict(marker_color=\"Purple\")\n",
    "\n",
    "\n",
    "fig.show()"
   ]
  },
  {
   "cell_type": "markdown",
   "metadata": {},
   "source": [
    "You can also:\n",
    "\n",
    "- use ```col``` and ```row``` to specify rows and columns to do your updates\n",
    "\n",
    "```selector=dict(marker_color=\"Purple\"), col=1```\n",
    "\n",
    "- be quite specific with selectors and specify number of qualities:\n",
    "\n",
    "```selector=dict(marker_color=\"Purple\", type=\"bar\" )```"
   ]
  },
  {
   "cell_type": "code",
   "execution_count": null,
   "metadata": {},
   "outputs": [],
   "source": [
    "# more detailed selectors with updates:\n",
    "\n",
    "import plotly.graph_objects as go\n",
    "from plotly.subplots import make_subplots\n",
    "\n",
    "# same as above:\n",
    "fig = make_subplots(rows=1, cols=2, subplot_titles=[\"Banana\", \"Plum\"])\n",
    "fig.add_scatter(y=[4, 2, 3.5], mode=\"markers\",\n",
    "                marker=dict(size=20, color=\"Purple\"),\n",
    "                name=\"a\", row=1, col=1)\n",
    "fig.add_bar(y=[2, 1, 3],\n",
    "            marker=dict(color=\"Yellow\"),\n",
    "            name=\"b\", row=1, col=1)\n",
    "fig.add_scatter(y=[2, 3.5, 4], mode=\"markers\",\n",
    "                marker=dict(size=20, color=\"Yellow\"),\n",
    "                name=\"c\", row=1, col=2)\n",
    "fig.add_bar(y=[1, 3, 2],\n",
    "            marker=dict(color=\"Purple\"),\n",
    "            name=\"d\", row=1, col=2)\n",
    "\n",
    "# editing graphs after creation:\n",
    "\n",
    "\n",
    "# select  markers in columnn 1 which are Purple ---> and make them Black\n",
    "fig.update_traces( marker_color=\"Black\", selector=dict(marker_color=\"Purple\"), col=1 )\n",
    "\n",
    "# select  markers that are bars and are Purple ---> and make them Black\n",
    "fig.update_traces( marker_color=\"Orange\", selector=dict(marker_color=\"Purple\", type=\"bar\" ) )\n",
    "\n",
    "\n",
    "fig.show()"
   ]
  },
  {
   "cell_type": "code",
   "execution_count": null,
   "metadata": {},
   "outputs": [],
   "source": [
    "### Example of using selector to edit some gualities of a graph\n",
    "\n",
    "import pandas as pd\n",
    "import plotly.express as px\n",
    "iris = px.data.iris()\n",
    "fig = px.scatter(iris, x=\"sepal_width\", y=\"sepal_length\", color=\"species\", facet_col=\"species\", trendline=\"ols\")\n",
    "\n",
    "# in scatter plots update lines to be dotted and size 4\n",
    "\n",
    "fig.update_traces(\n",
    "    line=dict(dash=\"dot\", width=4),\n",
    "    selector=dict(type=\"scatter\", mode=\"lines\"))\n",
    "fig.show()\n",
    "# if you see a warning about '.ptp' below here, just ignore it"
   ]
  },
  {
   "cell_type": "markdown",
   "metadata": {},
   "source": [
    "### Update Axes\n",
    "\n",
    "There are also methods for updating x and y axes\n",
    "\n",
    "- nticks is number of ticks\n",
    "- tick0 is the first tick\n",
    "- tickd is distance between ticks\n",
    "- tickls=\"inside\" places ticks in a position"
   ]
  },
  {
   "cell_type": "code",
   "execution_count": null,
   "metadata": {},
   "outputs": [],
   "source": [
    "import pandas as pd\n",
    "import plotly.express as px\n",
    "iris = px.data.iris()\n",
    "fig = px.scatter(iris, x=\"sepal_width\", y=\"sepal_length\", color=\"species\", facet_col=\"species\")\n",
    "fig.update_xaxes(showgrid=False, nticks=5)\n",
    "fig.update_yaxes(ticks=\"inside\", col=1, tick0=0.25, dtick=0.5)\n",
    "fig.show()\n",
    "\n",
    "### You can also use object dot . notation and assignment to change figures"
   ]
  },
  {
   "cell_type": "code",
   "execution_count": null,
   "metadata": {},
   "outputs": [],
   "source": [
    "import pandas as pd\n",
    "import plotly.express as px\n",
    "iris = px.data.iris()\n",
    "fig = px.scatter(iris, x=\"sepal_width\", y=\"sepal_length\", color=\"species\", facet_col=\"species\")\n",
    "fig.layout.title.text = \"Three charts!\"\n",
    "fig.data[0].marker.line.width = 2\n",
    "fig.data[0].marker.line.color = \"black\"\n",
    "fig.data[1].marker.line.width = 3\n",
    "fig.data[1].marker.line.color = \"yellow\"\n",
    "fig.show()"
   ]
  },
  {
   "cell_type": "markdown",
   "metadata": {},
   "source": [
    "# Examples of different graph types\n",
    "\n",
    "### Advanced features of a scatter plot:"
   ]
  },
  {
   "cell_type": "code",
   "execution_count": null,
   "metadata": {},
   "outputs": [],
   "source": [
    "import plotly.express as px\n",
    "iris = px.data.iris()\n",
    "fig = px.scatter(iris, x=\"sepal_width\", y=\"sepal_length\", color=\"species\", marginal_y=\"violin\",\n",
    "           marginal_x=\"box\", trendline=\"ols\")\n",
    "fig.show()"
   ]
  },
  {
   "cell_type": "code",
   "execution_count": null,
   "metadata": {},
   "outputs": [],
   "source": [
    "import plotly.express as px\n",
    "iris = px.data.iris()\n",
    "iris[\"e\"] = iris[\"sepal_width\"]/100\n",
    "fig = px.scatter(iris, x=\"sepal_width\", y=\"sepal_length\", color=\"species\", error_x=\"e\", error_y=\"e\")\n",
    "fig.show()"
   ]
  },
  {
   "cell_type": "code",
   "execution_count": null,
   "metadata": {},
   "outputs": [],
   "source": [
    "# for easier eyeballing of your data, you can use scatter matrix\n",
    "\n",
    "import plotly.express as px\n",
    "iris = px.data.iris()\n",
    "fig = px.scatter_matrix(iris, dimensions=[\"sepal_width\", \"sepal_length\", \"petal_width\", \"petal_length\"], color=\"species\")\n",
    "fig.show()"
   ]
  },
  {
   "cell_type": "code",
   "execution_count": null,
   "metadata": {},
   "outputs": [],
   "source": [
    "# here we're using a different data set: bills and tips in a restaurant:  px.data.tips()\n",
    "\n",
    "import plotly.express as px\n",
    "tips = px.data.tips()\n",
    "fig = px.scatter(tips, x=\"total_bill\", y=\"tip\", facet_row=\"time\", facet_col=\"day\", color=\"smoker\", trendline=\"ols\",\n",
    "          category_orders={\"day\": [\"Thur\", \"Fri\", \"Sat\", \"Sun\"], \"time\": [\"Lunch\", \"Dinner\"]})\n",
    "fig.show()"
   ]
  },
  {
   "cell_type": "code",
   "execution_count": null,
   "metadata": {},
   "outputs": [],
   "source": [
    "### Parralel coordinates\n",
    "\n",
    "import plotly.express as px\n",
    "iris = px.data.iris()\n",
    "fig = px.parallel_coordinates(iris, color=\"species_id\", labels={\"species_id\": \"Species\",\n",
    "                  \"sepal_width\": \"Sepal Width\", \"sepal_length\": \"Sepal Length\",\n",
    "                  \"petal_width\": \"Petal Width\", \"petal_length\": \"Petal Length\", },\n",
    "                    color_continuous_scale=px.colors.diverging.Tealrose, color_continuous_midpoint=2)\n",
    "fig.show()"
   ]
  },
  {
   "cell_type": "code",
   "execution_count": null,
   "metadata": {},
   "outputs": [],
   "source": [
    "tips = px.data.tips()\n",
    "fig = px.parallel_categories(tips, color=\"size\", color_continuous_scale=px.colors.sequential.Inferno)\n",
    "fig.show()\n",
    "\n",
    "import plotly.express as px\n",
    "tips = px.data.tips()\n",
    "fig = px.scatter(tips, x=\"total_bill\", y=\"tip\", color=\"size\", facet_col=\"sex\",\n",
    "           color_continuous_scale=px.colors.sequential.Viridis, render_mode=\"webgl\")\n",
    "fig.show()"
   ]
  },
  {
   "cell_type": "code",
   "execution_count": null,
   "metadata": {},
   "outputs": [],
   "source": [
    "import plotly.express as px\n",
    "gapminder = px.data.gapminder()\n",
    "fig = px.scatter(gapminder.query(\"year==2007\"), x=\"gdpPercap\", y=\"lifeExp\", size=\"pop\", color=\"continent\",\n",
    "           hover_name=\"country\", log_x=True, size_max=60)\n",
    "fig.show()"
   ]
  },
  {
   "cell_type": "markdown",
   "metadata": {},
   "source": [
    "### Interactive Graphs"
   ]
  },
  {
   "cell_type": "code",
   "execution_count": null,
   "metadata": {},
   "outputs": [],
   "source": [
    "# you can animate it yourself by, or press play\n",
    "\n",
    "import plotly.express as px\n",
    "gapminder = px.data.gapminder()\n",
    "fig = px.scatter(gapminder, x=\"gdpPercap\", y=\"lifeExp\", animation_frame=\"year\", animation_group=\"country\",\n",
    "           size=\"pop\", color=\"continent\", hover_name=\"country\", facet_col=\"continent\",\n",
    "           log_x=True, size_max=45, range_x=[100,100000], range_y=[25,90])\n",
    "fig.show()"
   ]
  },
  {
   "cell_type": "code",
   "execution_count": null,
   "metadata": {},
   "outputs": [],
   "source": [
    "import plotly.express as px\n",
    "gapminder = px.data.gapminder()\n",
    "fig = px.scatter(gapminder, x=\"gdpPercap\", y=\"lifeExp\", animation_frame=\"year\", animation_group=\"country\",\n",
    "           size=\"pop\", color=\"continent\", hover_name=\"country\", facet_col=\"continent\",\n",
    "           log_x=True, size_max=45, range_x=[100,100000], range_y=[25,90])\n",
    "fig.show()"
   ]
  },
  {
   "cell_type": "code",
   "execution_count": null,
   "metadata": {},
   "outputs": [],
   "source": [
    "import plotly.express as px\n",
    "election = px.data.election()\n",
    "fig = px.scatter_3d(election, x=\"Joly\", y=\"Coderre\", z=\"Bergeron\", color=\"winner\", size=\"total\", hover_name=\"district\",\n",
    "                  symbol=\"result\", color_discrete_map = {\"Joly\": \"blue\", \"Bergeron\": \"green\", \"Coderre\":\"red\"})\n",
    "fig.show()\n",
    "\n",
    "# you can interact with it with your mouse!!!"
   ]
  },
  {
   "cell_type": "code",
   "execution_count": null,
   "metadata": {},
   "outputs": [],
   "source": [
    "import plotly.express as px\n",
    "wind = px.data.wind()\n",
    "fig = px.bar_polar(wind, r=\"frequency\", theta=\"direction\", color=\"strength\", template=\"plotly_dark\",\n",
    "            color_discrete_sequence= px.colors.sequential.Plasma[-2::-1])\n",
    "fig.show()"
   ]
  },
  {
   "cell_type": "code",
   "execution_count": null,
   "metadata": {},
   "outputs": [],
   "source": [
    "import plotly.express as px\n",
    "gapminder = px.data.gapminder()\n",
    "fig = px.line_geo(gapminder.query(\"year==2007\"), locations=\"iso_alpha\", color=\"continent\", projection=\"orthographic\")\n",
    "fig.show()"
   ]
  },
  {
   "cell_type": "code",
   "execution_count": null,
   "metadata": {},
   "outputs": [],
   "source": [
    "import plotly.express as px\n",
    "gapminder = px.data.gapminder()\n",
    "fig = px.choropleth(gapminder, locations=\"iso_alpha\", color=\"lifeExp\", hover_name=\"country\", animation_frame=\"year\", range_color=[20,80])\n",
    "fig.show()"
   ]
  },
  {
   "cell_type": "markdown",
   "metadata": {},
   "source": [
    "### For the curious: another plottig library: matplotlib.pyplot\n",
    "\n",
    "### Stacked Bar Graph\n",
    "\n",
    "This is an example of creating a stacked bar plot with error bars\n",
    "using ```~matplotlib.pyplot.bar```.  Note the parameters *yerr* used for\n",
    "error bars, and *bottom* to stack the women's bars on top of the men's\n",
    "bars.\n",
    "\n",
    "To create stacked graphs, we create the bottom graph first, then add other graphs to it with a gap underneath them (see 'bottom' attribute)\n"
   ]
  },
  {
   "cell_type": "code",
   "execution_count": null,
   "metadata": {},
   "outputs": [],
   "source": [
    "\n",
    "import numpy as np\n",
    "import matplotlib.pyplot as plt\n",
    "\n",
    "N = 5\n",
    "menMeans = (20, 35, 30, 35, 27)\n",
    "womenMeans = (25, 32, 34, 20, 25)\n",
    "menStd = (2, 3, 4, 1, 2)\n",
    "womenStd = (3, 5, 2, 3, 3)\n",
    "ind = np.arange(N)    # the x locations for the groups\n",
    "width = 0.35       # the width of the bars: can also be len(x) sequence\n",
    "\n",
    "p1 = plt.bar(ind, menMeans, width, yerr=menStd)\n",
    "p2 = plt.bar(ind, womenMeans, width,\n",
    "             bottom=menMeans, yerr=womenStd)\n",
    "\n",
    "plt.ylabel('Scores')\n",
    "plt.title('Scores by group and gender')\n",
    "plt.xticks(ind, ('G1', 'G2', 'G3', 'G4', 'G5'))\n",
    "plt.yticks(np.arange(0, 81, 10))\n",
    "plt.legend((p1[0], p2[0]), ('Men', 'Women'))\n",
    "\n",
    "plt.show()"
   ]
  },
  {
   "cell_type": "markdown",
   "metadata": {},
   "source": [
    "## ⭐️⭐️⭐️💥 What you learned in this session: Three stars and a wish \n",
    "**In yoru own words** write in your Learn diary:\n",
    "\n",
    "- 3 things you yould like to remember from this badge\n",
    "- 1 thing you wish to understand better in the future or a question you'd like to ask\n"
   ]
  },
  {
   "cell_type": "markdown",
   "metadata": {},
   "source": [
    "# ⛏ Minitask 1: Recreate a graph from a newspaper:\n",
    "\n",
    "Use anything you saw in this badge to recreate a graph you have seen recently in a paper. \n",
    "\n",
    "You can choose something easy by just doing an google image search for words \"graph example\". This will show you a number of simple graphs (which might still be quite challanging to recreate in Plotly!) \n",
    "\n",
    "You can also try to find something harder on one of these outlets:\n",
    "\n",
    "Guardian: https://www.theguardian.com/data\n",
    "Economist: https://www.economist.com/graphic-detail/\n"
   ]
  }
 ],
 "metadata": {
  "kernelspec": {
   "display_name": "Python 3",
   "language": "python",
   "name": "python3"
  },
  "language_info": {
   "codemirror_mode": {
    "name": "ipython",
    "version": 3
   },
   "file_extension": ".py",
   "mimetype": "text/x-python",
   "name": "python",
   "nbconvert_exporter": "python",
   "pygments_lexer": "ipython3",
   "version": "3.7.6"
  }
 },
 "nbformat": 4,
 "nbformat_minor": 4
}
