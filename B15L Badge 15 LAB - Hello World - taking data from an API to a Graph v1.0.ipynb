{
 "cells": [
  {
   "cell_type": "markdown",
   "metadata": {},
   "source": [
    "# Turning API Results into a graph\n",
    "\n",
    "There are 3 steps involved in creating a graph from live data:\n",
    "\n",
    "- get the data\n",
    "- clean up and preapre the data\n",
    "- create graph from the data\n",
    "\n",
    "In this lab we will practice doing that. Below are two examples, one with made up data, and one with live API data.\n",
    "\n",
    "Your job is to \n",
    "\n",
    "- read carefully through the examples and run it.\n",
    "- modify the examnples to do something SLIGHTLY different (even just change a type of graphm or colours)\n",
    "- use the same API (weather) or any other API you used in this course and liked, to make a few simple graphs (imdb, bicycles, stock, weather, etc)"
   ]
  },
  {
   "cell_type": "code",
   "execution_count": null,
   "metadata": {},
   "outputs": [],
   "source": [
    "# installing the plotly if you di not have it yet\n",
    "!pip install plotly --upgrade"
   ]
  },
  {
   "cell_type": "markdown",
   "metadata": {},
   "source": [
    "# Example 1: Made up data"
   ]
  },
  {
   "cell_type": "code",
   "execution_count": null,
   "metadata": {},
   "outputs": [],
   "source": [
    "# here we create a graph\n",
    "import plotly.graph_objects as go\n",
    "from plotly.subplots import make_subplots\n",
    "\n",
    "import requests\n",
    "import pprint as pp\n",
    "import plotly.express as px # we use px for colours \n",
    "\n",
    "def get_data_vitamin_c():\n",
    "    #     vitamin C in mg per 100g\n",
    "    return {'apple': 4.6,\n",
    "            'kiwi': 92.7, \n",
    "            'lemon': 53.0,\n",
    "            'strawberry':58.8, \n",
    "            'banana': 8.7,\n",
    "            'chili pepper': 242.5\n",
    "           }\n",
    "    \n",
    "def prepare_data_vitamin_c(raw_data):\n",
    "    #   here you could rename, or clean up your data. \n",
    "    return {'info': 'vitamine C in fruit (mg / 100g)',\n",
    "            'names': list(raw_data.keys()),\n",
    "            'values': list(raw_data.values()), \n",
    "            'colours': values_to_colors(raw_data.values())\n",
    "           }\n",
    "    \n",
    "def values_to_colors(values_list):\n",
    "    return [ \"Red\" if value>100 else \"Blue\" for value in  values_list ]\n",
    "\n",
    "\n",
    "def prepare_diagram(data):\n",
    "    # using subplots, so it's easier to add more: \n",
    "    fig = make_subplots(rows=1, cols=1, subplot_titles=[ data['info'] ])\n",
    "    \n",
    "    fig.add_bar(y=data['values'],\n",
    "                x=data['names'],\n",
    "                marker = dict( color=data['colours'] ), \n",
    "#                 marker = dict( color=data['values'] ),# try this too\n",
    "                row=1, col=1 )\n",
    "\n",
    "    return fig\n",
    "\n",
    "raw_data = get_data_vitamin_c()\n",
    "clean_data = prepare_data_vitamin_c(raw_data)\n",
    "diagram = prepare_diagram(clean_data)\n",
    "diagram.show()"
   ]
  },
  {
   "cell_type": "markdown",
   "metadata": {},
   "source": [
    "# Example 2: Temperature in Edinburgh over next 3 days: Min, Max and Avg "
   ]
  },
  {
   "cell_type": "code",
   "execution_count": null,
   "metadata": {},
   "outputs": [],
   "source": [
    "# here we create a graph\n",
    "import plotly.graph_objects as go\n",
    "from plotly.subplots import make_subplots\n",
    "\n",
    "import requests\n",
    "import pprint as pp\n",
    "\n",
    "def get_api_results_for_city(city_name):\n",
    "    api_key = \"2aee514fa2e3493e8b5100342202610\" \n",
    "    api_url_current_weather = f\"http://api.weatherapi.com/v1/forecast.json?key={api_key}&q={city_name}&days=3\"\n",
    "    response = requests.request(\"GET\", api_url_current_weather)\n",
    "    return response.json()\n",
    "    \n",
    "def prepare_data_city(raw_data):\n",
    "    tempavg_next_days = [ forecast_item['day']['avgtemp_c'] \n",
    "                      for forecast_item in raw_data['forecast']['forecastday'] ]\n",
    "    tempmin_next_days = [ forecast_item['day']['mintemp_c'] \n",
    "                      for forecast_item in raw_data['forecast']['forecastday'] ]\n",
    "    tempmax_next_days = [ forecast_item['day']['maxtemp_c'] \n",
    "                      for forecast_item in raw_data['forecast']['forecastday'] ]\n",
    "        \n",
    "    return {'city_name': raw_data['location']['name'], \n",
    "              'temperature_avg_next_days': tempavg_next_days,\n",
    "              'temperature_min_next_days': tempmin_next_days,\n",
    "              'temperature_max_next_days': tempmax_next_days\n",
    "            }\n",
    "    \n",
    "\n",
    "    \n",
    "def prepare_diagram(city_data):\n",
    "    # using subplots, so it's easier to add more: \n",
    "    fig = make_subplots(rows=1, cols=1, subplot_titles=[ city_data['city_name'] ])\n",
    "    \n",
    "    fig.add_scatter(y=city_data['temperature_avg_next_days'], mode=\"lines\",\n",
    "                    marker=dict(size=20, color=\"Black\"),\n",
    "                    name=\"avg temperature\", row=1, col=1)\n",
    "    fig.add_scatter(y=city_data['temperature_min_next_days'], mode=\"lines\",\n",
    "                    marker=dict(size=20, color=\"Blue\"),\n",
    "                    name=\"min temperature\", row=1, col=1)\n",
    "    fig.add_scatter(y=city_data['temperature_max_next_days'], mode=\"lines\",\n",
    "                    marker=dict(size=20, color=\"Red\"),\n",
    "                    name=\"max temperature\", row=1, col=1)\n",
    "\n",
    "    \n",
    "    return fig"
   ]
  },
  {
   "cell_type": "code",
   "execution_count": null,
   "metadata": {},
   "outputs": [],
   "source": [
    "    \n",
    "raw_data = get_api_results_for_city(\"Edinburgh\")"
   ]
  },
  {
   "cell_type": "code",
   "execution_count": null,
   "metadata": {},
   "outputs": [],
   "source": [
    "# pp.pprint(weather_city)\n",
    "\n",
    "prepared_data = prepare_data_city(raw_data)\n",
    "diagram = prepare_diagram(prepared_data)\n",
    "diagram.show()"
   ]
  },
  {
   "cell_type": "code",
   "execution_count": null,
   "metadata": {},
   "outputs": [],
   "source": []
  }
 ],
 "metadata": {
  "kernelspec": {
   "display_name": "Python 3",
   "language": "python",
   "name": "python3"
  },
  "language_info": {
   "codemirror_mode": {
    "name": "ipython",
    "version": 3
   },
   "file_extension": ".py",
   "mimetype": "text/x-python",
   "name": "python",
   "nbconvert_exporter": "python",
   "pygments_lexer": "ipython3",
   "version": "3.7.6"
  }
 },
 "nbformat": 4,
 "nbformat_minor": 4
}
