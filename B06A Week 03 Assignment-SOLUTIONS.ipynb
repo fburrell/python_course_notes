{
 "cells": [
  {
   "cell_type": "markdown",
   "metadata": {},
   "source": [
    "# How to complete an assignment:\n",
    "    \n",
    "- in each exercise exchange the ```# YOUR CODE HERE raise NotImplemented Error()``` with your solution\n",
    "- as you create the solution run the tests frequently to see if they pass\n",
    "- remember you can write more tests if you'd like (I recommend it).\n",
    "- your solution MUST BE in the cell you are replacing a placeholder. If you are writing other functions to help yourself they also MUST BE in that cell. Otherwise automatic marking script will not give you points. (you'll notice when you use 'Validate' described below).\n",
    "- when you are done, in your Noteable you can \"Validate\" the assignment (it will basically run all the tests)\n",
    "- then when you are ready to submit, in your Noteable choose \"Submit\". If you by accident submit many times, it's fine. The last submition before the deadline will count.\n",
    "\n",
    "### Each of the 10 tasks below is worth 10 points. Total is 100 points.\n",
    "\n",
    "(i.e. each set of tests will give you 5 points if they pass). "
   ]
  },
  {
   "cell_type": "markdown",
   "metadata": {},
   "source": [
    "### Solved example"
   ]
  },
  {
   "cell_type": "code",
   "execution_count": null,
   "metadata": {
    "nbgrader": {
     "grade": false,
     "grade_id": "cell-df0e92ef19aab615",
     "locked": false,
     "schema_version": 3,
     "solution": true,
     "task": false
    }
   },
   "outputs": [],
   "source": [
    "# to see it working, replace the body of the function with code: return number * 2 \n",
    "\n",
    "def double_the_number(number):\n",
    "    \"\"\"\n",
    "    function will return double of the number given as an argument\n",
    "    \"\"\"\n",
    "    ### BEGIN SOLUTION\n",
    "    return 2 * number\n",
    "    ### END SOLUTION"
   ]
  },
  {
   "cell_type": "code",
   "execution_count": null,
   "metadata": {
    "nbgrader": {
     "grade": true,
     "grade_id": "cell-6f00d799be290e2e",
     "locked": true,
     "points": 0,
     "schema_version": 3,
     "solution": false,
     "task": false
    }
   },
   "outputs": [],
   "source": [
    "assert double_the_number(4) == 8\n",
    "assert double_the_number(-2) == -4\n",
    "assert double_the_number(0) == 0\n",
    "print(\"all tests passed\")"
   ]
  },
  {
   "cell_type": "markdown",
   "metadata": {},
   "source": [
    "### Task 1\n",
    "\n",
    "hint: you can use if elif < <= > >= and or"
   ]
  },
  {
   "cell_type": "code",
   "execution_count": null,
   "metadata": {
    "nbgrader": {
     "grade": false,
     "grade_id": "cell-8cb073f43a2e5d7b",
     "locked": false,
     "schema_version": 3,
     "solution": true
    }
   },
   "outputs": [],
   "source": [
    "def find_smallest_number(n1,n2,n3,n4):\n",
    "    \"\"\"\n",
    "    here in your own words describe what this function will do and how\n",
    "    \"\"\"\n",
    "    ### BEGIN SOLUTION\n",
    "    if n1 <= n2 and n1 <= n3 and n1 <= n4:\n",
    "        return n1\n",
    "    elif n2 <= n1 and n2 <= n3 and n2 <= n4:\n",
    "        return n2\n",
    "    elif n3 <= n1 and n3 <= n2 and n3 <= n4:\n",
    "        return n3\n",
    "    else:\n",
    "        return n4\n",
    "\n",
    "    ### END SOLUTION"
   ]
  },
  {
   "cell_type": "code",
   "execution_count": null,
   "metadata": {},
   "outputs": [],
   "source": [
    "# remember: you can always just run the function to see its outcome, like this:\n",
    "find_smallest_number(8,4,5,6)"
   ]
  },
  {
   "cell_type": "code",
   "execution_count": null,
   "metadata": {
    "nbgrader": {
     "grade": true,
     "grade_id": "cell-450086c09907e437",
     "locked": true,
     "points": 5,
     "schema_version": 3,
     "solution": false
    }
   },
   "outputs": [],
   "source": [
    "assert find_smallest_number(2,1,3,4) == 1\n",
    "assert find_smallest_number(-1,0,1,3) == -1\n",
    "### BEGIN HIDDEN TESTS\n",
    "assert find_smallest_number(2,6,1,4) == 1\n",
    "assert find_smallest_number(2,1,6,-4) == -4\n",
    "### END HIDDEN TESTS"
   ]
  },
  {
   "cell_type": "code",
   "execution_count": null,
   "metadata": {
    "nbgrader": {
     "grade": true,
     "grade_id": "cell-762fa40f992456ae",
     "locked": true,
     "points": 5,
     "schema_version": 3,
     "solution": false,
     "task": false
    }
   },
   "outputs": [],
   "source": [
    "assert find_smallest_number(1,2,1,4) == 1\n",
    "assert find_smallest_number(-1,-1,-1,-1) == -1\n",
    "### BEGIN HIDDEN TESTS\n",
    "assert find_smallest_number(1,-2,-2,-2) == -2\n",
    "assert find_smallest_number(0,0,0,0) == 0\n",
    "### END HIDDEN TESTS"
   ]
  },
  {
   "cell_type": "markdown",
   "metadata": {},
   "source": [
    "### Task 2"
   ]
  },
  {
   "cell_type": "code",
   "execution_count": null,
   "metadata": {
    "nbgrader": {
     "grade": false,
     "grade_id": "cell-c89a06f8ec1bb5c1",
     "locked": false,
     "schema_version": 3,
     "solution": true
    }
   },
   "outputs": [],
   "source": [
    "def are_all_numbers_not_zero(n1,n2,n3,n4):\n",
    "    \"\"\"\n",
    "    here in your own words describe what this function will do and how\n",
    "    \"\"\"\n",
    "    ### BEGIN SOLUTION\n",
    "    return n1 != 0 and n2 != 0 and n3 != 0 and n4 != 0 \n",
    "    ### END SOLUTION"
   ]
  },
  {
   "cell_type": "code",
   "execution_count": null,
   "metadata": {},
   "outputs": [],
   "source": [
    "are_all_numbers_not_zero(1,2,3,4)"
   ]
  },
  {
   "cell_type": "code",
   "execution_count": null,
   "metadata": {
    "nbgrader": {
     "grade": true,
     "grade_id": "cell-5e8bccf5527edda8",
     "locked": true,
     "points": 5,
     "schema_version": 3,
     "solution": false
    }
   },
   "outputs": [],
   "source": [
    "assert are_all_numbers_not_zero(1,2,3,0) == False\n",
    "assert are_all_numbers_not_zero(1,2,3,4) == True\n",
    "### BEGIN HIDDEN TESTS\n",
    "assert are_all_numbers_not_zero(1,0,1,1) == False\n",
    "assert are_all_numbers_not_zero(1,1,-1,1) == True\n",
    "\n",
    "### END HIDDEN TESTS"
   ]
  },
  {
   "cell_type": "code",
   "execution_count": null,
   "metadata": {
    "nbgrader": {
     "grade": true,
     "grade_id": "cell-8ed3430f91888b65",
     "locked": true,
     "points": 5,
     "schema_version": 3,
     "solution": false,
     "task": false
    }
   },
   "outputs": [],
   "source": [
    "assert are_all_numbers_not_zero(1,2,0,0) == False\n",
    "assert are_all_numbers_not_zero(0,0,0,0) == False\n",
    "### BEGIN HIDDEN TESTS\n",
    "assert are_all_numbers_not_zero(1,0,1,0) == False\n",
    "assert are_all_numbers_not_zero(0,1,0,1) == False\n",
    "### END HIDDEN TESTS"
   ]
  },
  {
   "cell_type": "markdown",
   "metadata": {},
   "source": [
    "### Task 3\n",
    "\n",
    "New element: to get a length of a word we use the len function: `len( the_word )` or `len( \"banana\" )` "
   ]
  },
  {
   "cell_type": "code",
   "execution_count": null,
   "metadata": {},
   "outputs": [],
   "source": [
    "# here are some examples:\n",
    "print( len(\"banana\") )\n",
    "print( len(\"banana\") * 3)\n",
    "\n",
    "length_of_plum = len(\"plum\")\n",
    "print(length_of_plum)"
   ]
  },
  {
   "cell_type": "code",
   "execution_count": null,
   "metadata": {
    "nbgrader": {
     "grade": false,
     "grade_id": "cell-5394a718088c0279",
     "locked": false,
     "schema_version": 3,
     "solution": true
    }
   },
   "outputs": [],
   "source": [
    "def is_word_shorter_than_10_characters(word):\n",
    "    \"\"\"\n",
    "    here in your own words describe what this function will do and how\n",
    "    \"\"\"\n",
    "    ### BEGIN SOLUTION\n",
    "    return len(word) < 10\n",
    "    ### END SOLUTION"
   ]
  },
  {
   "cell_type": "code",
   "execution_count": null,
   "metadata": {
    "nbgrader": {
     "grade": true,
     "grade_id": "cell-30208478d64d8ef2",
     "locked": true,
     "points": 5,
     "schema_version": 3,
     "solution": false
    }
   },
   "outputs": [],
   "source": [
    "assert is_word_shorter_than_10_characters(\"\") == True\n",
    "assert is_word_shorter_than_10_characters(\"banana\") == True\n",
    "assert is_word_shorter_than_10_characters(\"all the bananas\") == False\n",
    "### BEGIN HIDDEN TESTS\n",
    "assert is_word_shorter_than_10_characters(\"banana\") == True\n",
    "assert is_word_shorter_than_10_characters(\"a massive fruit bowl\") == False\n",
    "### END HIDDEN TESTS"
   ]
  },
  {
   "cell_type": "code",
   "execution_count": null,
   "metadata": {
    "nbgrader": {
     "grade": true,
     "grade_id": "cell-6a61cd3ffbef2bb5",
     "locked": true,
     "points": 5,
     "schema_version": 3,
     "solution": false,
     "task": false
    }
   },
   "outputs": [],
   "source": [
    "assert is_word_shorter_than_10_characters(\"ripe plum\") == True\n",
    "assert is_word_shorter_than_10_characters(\"ripe plums\") == False\n",
    "assert is_word_shorter_than_10_characters(\"a ripe plum\") == False\n",
    "\n",
    "### BEGIN HIDDEN TESTS\n",
    "assert is_word_shorter_than_10_characters(\"grapefrui\") == True\n",
    "assert is_word_shorter_than_10_characters(\"grapefruit\") == False\n",
    "assert is_word_shorter_than_10_characters(\"grapefruits\") == False\n",
    "### END HIDDEN TESTS"
   ]
  },
  {
   "cell_type": "markdown",
   "metadata": {},
   "source": [
    "### Task 4\n"
   ]
  },
  {
   "cell_type": "code",
   "execution_count": null,
   "metadata": {
    "nbgrader": {
     "grade": false,
     "grade_id": "cell-3074008799e7785c",
     "locked": false,
     "schema_version": 3,
     "solution": true
    }
   },
   "outputs": [],
   "source": [
    "def the_longer_word(w1,w2):\n",
    "    \"\"\"\n",
    "    here in your own words describe what this function will do and how\n",
    "    \"\"\"\n",
    "    ### BEGIN SOLUTION\n",
    "    if len(w1) >= len(w2):\n",
    "        return w1\n",
    "    else:\n",
    "        return w2\n",
    "    ### END SOLUTION"
   ]
  },
  {
   "cell_type": "code",
   "execution_count": null,
   "metadata": {},
   "outputs": [],
   "source": [
    "the_longer_word(\"pineapple\", \"apple\")"
   ]
  },
  {
   "cell_type": "code",
   "execution_count": null,
   "metadata": {
    "nbgrader": {
     "grade": true,
     "grade_id": "cell-de4ccacb1d9dbcc0",
     "locked": true,
     "points": 5,
     "schema_version": 3,
     "solution": false
    }
   },
   "outputs": [],
   "source": [
    "assert the_longer_word(\"cats\", \"cat\") == \"cats\"\n",
    "assert the_longer_word(\"dog\", \"dogs\") == \"dogs\"\n",
    "### BEGIN HIDDEN TESTS\n",
    "assert the_longer_word(\"a\", \"\") == \"a\"\n",
    "assert the_longer_word(\"a\", \"bb\") == \"bb\"\n",
    "### END HIDDEN TESTS"
   ]
  },
  {
   "cell_type": "code",
   "execution_count": null,
   "metadata": {
    "nbgrader": {
     "grade": true,
     "grade_id": "cell-35b509a1a0759c40",
     "locked": true,
     "points": 5,
     "schema_version": 3,
     "solution": false,
     "task": false
    }
   },
   "outputs": [],
   "source": [
    "assert the_longer_word(\"cat\", \"cat\") == \"cat\"\n",
    "assert the_longer_word(\"\", \"\") == \"\"\n",
    "### BEGIN HIDDEN TESTS\n",
    "assert the_longer_word(\"a\", \"a\") == \"a\"\n",
    "assert the_longer_word(\"123456789\", \"123456789\") == \"123456789\"\n",
    "\n",
    "### END HIDDEN TESTS"
   ]
  },
  {
   "cell_type": "markdown",
   "metadata": {},
   "source": [
    "### Task 5\n"
   ]
  },
  {
   "cell_type": "code",
   "execution_count": null,
   "metadata": {
    "nbgrader": {
     "grade": false,
     "grade_id": "cell-006c4e5b8c8e8da7",
     "locked": false,
     "schema_version": 3,
     "solution": true
    }
   },
   "outputs": [],
   "source": [
    "def the_longest_word(w1,w2,w3,w4):\n",
    "    \"\"\"\n",
    "    here in your own words describe what this function will do and how\n",
    "    \"\"\"\n",
    "    ### BEGIN SOLUTION\n",
    "    longest = w1\n",
    "    if len(w2) >= len(longest):\n",
    "        longest = w2\n",
    "    if len(w3) >= len(longest):\n",
    "        longest = w3\n",
    "    if len(w4) >= len(longest):\n",
    "        longest = w4\n",
    "        \n",
    "    return longest\n",
    "    ### END SOLUTION"
   ]
  },
  {
   "cell_type": "code",
   "execution_count": null,
   "metadata": {},
   "outputs": [],
   "source": [
    "the_longest_word(\"a\",\"aa\",\"aaaa\",\"aaa\")"
   ]
  },
  {
   "cell_type": "code",
   "execution_count": null,
   "metadata": {
    "nbgrader": {
     "grade": true,
     "grade_id": "cell-ecc1e610f22d42a3",
     "locked": true,
     "points": 5,
     "schema_version": 3,
     "solution": false
    }
   },
   "outputs": [],
   "source": [
    "assert the_longest_word(\"a\",\"aa\",\"aaaa\",\"aaa\") == \"aaaa\"\n",
    "assert the_longest_word(\"aaaaa\",\"\",\"aaa\",\"aaa\") == \"aaaaa\"\n",
    "### BEGIN HIDDEN TESTS\n",
    "assert the_longest_word(\"a\",\"a\",\"a\",\"aaa\") == \"aaa\"\n",
    "assert the_longest_word(\"a\",\"aaa\",\"a\",\"a\") == \"aaa\"\n",
    "### END HIDDEN TESTS"
   ]
  },
  {
   "cell_type": "code",
   "execution_count": null,
   "metadata": {
    "nbgrader": {
     "grade": true,
     "grade_id": "cell-18d69f26554e8143",
     "locked": true,
     "points": 5,
     "schema_version": 3,
     "solution": false,
     "task": false
    }
   },
   "outputs": [],
   "source": [
    "assert the_longest_word(\"aaaaa\",\"aa\",\"aaaaa\",\"aaa\") == \"aaaaa\"\n",
    "assert the_longest_word(\"a\",\"a\",\"a\",\"a\") == \"a\"\n",
    "### BEGIN HIDDEN TESTS\n",
    "assert the_longest_word(\"aaa\",\"aaa\",\"aaa\",\"aaa\") == \"aaa\"\n",
    "assert the_longest_word(\"\",\"\",\"\",\"\") == \"\"\n",
    "### END HIDDEN TESTS"
   ]
  },
  {
   "cell_type": "markdown",
   "metadata": {},
   "source": [
    "### Task 6"
   ]
  },
  {
   "cell_type": "code",
   "execution_count": null,
   "metadata": {
    "nbgrader": {
     "grade": false,
     "grade_id": "cell-34a9f3680a585373",
     "locked": false,
     "schema_version": 3,
     "solution": true
    }
   },
   "outputs": [],
   "source": [
    "def total_length_of_words(w1,w2,w3,w4):\n",
    "    \"\"\"\n",
    "    here in your own words describe what this function will do and how\n",
    "    \"\"\"\n",
    "    ### BEGIN SOLUTION\n",
    "    return len(w1) + len(w2) + len(w3) + len(w4)\n",
    "    ### END SOLUTION"
   ]
  },
  {
   "cell_type": "code",
   "execution_count": null,
   "metadata": {},
   "outputs": [],
   "source": [
    "total_length_of_words(\"aa\",\"aaa\",\"aaaa\",\"\")"
   ]
  },
  {
   "cell_type": "code",
   "execution_count": null,
   "metadata": {
    "nbgrader": {
     "grade": true,
     "grade_id": "cell-2fbaebbe56677b0b",
     "locked": true,
     "points": 5,
     "schema_version": 3,
     "solution": false
    }
   },
   "outputs": [],
   "source": [
    "assert total_length_of_words(\"a\",\"aa\",\"aaaa\",\"aaa\") == 10\n",
    "assert total_length_of_words(\"aaaaaa\",\"aa\",\"aa\",\"a\") == 11\n",
    "### BEGIN HIDDEN TESTS\n",
    "assert total_length_of_words(\"a\",\"a\",\"a\",\"aaa\") == 6\n",
    "assert total_length_of_words(\"a\",\"a\",\"a\",\"a\") == 4\n",
    "assert total_length_of_words(\"bananabananabanana\",\"bananabananabanana\",\"bananabananabanana\",\"bananabananabanana\") == 72\n",
    "### END HIDDEN TESTS"
   ]
  },
  {
   "cell_type": "code",
   "execution_count": null,
   "metadata": {
    "nbgrader": {
     "grade": true,
     "grade_id": "cell-891f9fa9ddfdfe50",
     "locked": true,
     "points": 5,
     "schema_version": 3,
     "solution": false,
     "task": false
    }
   },
   "outputs": [],
   "source": [
    "assert total_length_of_words(\"a\",\"\",\"aaaa\",\"aaa\") == 8\n",
    "assert total_length_of_words(\"\",\"\",\"\",\"a\") == 1\n",
    "### BEGIN HIDDEN TESTS\n",
    "assert total_length_of_words(\"a\",\"\",\"\",\"a\") == 2\n",
    "assert total_length_of_words(\"\",\"\",\"\",\"\") == 0\n",
    "assert total_length_of_words(\"\",\"aa\",\"\",\"aa\") == 4\n",
    "### END HIDDEN TESTS"
   ]
  },
  {
   "cell_type": "markdown",
   "metadata": {},
   "source": [
    "### Task 7"
   ]
  },
  {
   "cell_type": "code",
   "execution_count": null,
   "metadata": {
    "nbgrader": {
     "grade": false,
     "grade_id": "cell-ba76ea05b733027a",
     "locked": false,
     "schema_version": 3,
     "solution": true,
     "task": false
    }
   },
   "outputs": [],
   "source": [
    "def is_word_longer_than(word, some_length):\n",
    "    \"\"\"\n",
    "    here in your own words describe what this function will do and how\n",
    "    \"\"\"\n",
    "    ### BEGIN SOLUTION\n",
    "    return len(word) > some_length\n",
    "    ### END SOLUTION"
   ]
  },
  {
   "cell_type": "code",
   "execution_count": null,
   "metadata": {
    "nbgrader": {
     "grade": true,
     "grade_id": "cell-72d4f5e339baadda",
     "locked": true,
     "points": 5,
     "schema_version": 3,
     "solution": false,
     "task": false
    }
   },
   "outputs": [],
   "source": [
    "assert is_word_longer_than(\"banana\", 5) == True\n",
    "assert is_word_longer_than(\"banana\", 7) == False\n",
    "### BEGIN HIDDEN TESTS\n",
    "assert is_word_longer_than(\"plums\", 4) == True\n",
    "assert is_word_longer_than(\"plums\", 6) == False\n",
    "### END HIDDEN TESTS"
   ]
  },
  {
   "cell_type": "code",
   "execution_count": null,
   "metadata": {
    "nbgrader": {
     "grade": true,
     "grade_id": "cell-b5aebb5a20db19b0",
     "locked": true,
     "points": 5,
     "schema_version": 3,
     "solution": false,
     "task": false
    }
   },
   "outputs": [],
   "source": [
    "assert is_word_longer_than(\"banana\", 6) == False\n",
    "### BEGIN HIDDEN TESTS\n",
    "assert is_word_longer_than(\"plums\", 5) == False\n",
    "### END HIDDEN TESTS"
   ]
  },
  {
   "cell_type": "markdown",
   "metadata": {},
   "source": [
    "### Task 8"
   ]
  },
  {
   "cell_type": "code",
   "execution_count": null,
   "metadata": {
    "nbgrader": {
     "grade": false,
     "grade_id": "cell-dd61a0e5ef03253d",
     "locked": false,
     "schema_version": 3,
     "solution": true,
     "task": false
    }
   },
   "outputs": [],
   "source": [
    "def is_word_lengths_between_lengths(word, mininum_length, maximum_length):\n",
    "    \"\"\"\n",
    "    here in your own words describe what this function will do and how\n",
    "    \"\"\"\n",
    "    ### BEGIN SOLUTION\n",
    "    return len(word) >= mininum_length and len(word) <= maximum_length \n",
    "    ### END SOLUTION"
   ]
  },
  {
   "cell_type": "code",
   "execution_count": null,
   "metadata": {
    "nbgrader": {
     "grade": true,
     "grade_id": "cell-4793e277c3cd3bc6",
     "locked": true,
     "points": 5,
     "schema_version": 3,
     "solution": false,
     "task": false
    }
   },
   "outputs": [],
   "source": [
    "assert is_word_lengths_between_lengths(\"banana\", 3,7) == True\n",
    "assert is_word_lengths_between_lengths(\"plum\", 8,12) == False\n",
    "### BEGIN HIDDEN TESTS\n",
    "assert is_word_lengths_between_lengths(\"banana\", 9,12) == False\n",
    "assert is_word_lengths_between_lengths(\"plum\", 2,8) == True\n",
    "### END HIDDEN TESTS"
   ]
  },
  {
   "cell_type": "code",
   "execution_count": null,
   "metadata": {
    "nbgrader": {
     "grade": true,
     "grade_id": "cell-4bd5d6e74f428965",
     "locked": true,
     "points": 5,
     "schema_version": 3,
     "solution": false,
     "task": false
    }
   },
   "outputs": [],
   "source": [
    "assert is_word_lengths_between_lengths(\"banana\", 3,6) == True\n",
    "assert is_word_lengths_between_lengths(\"banana\", 6,9) == True\n",
    "assert is_word_lengths_between_lengths(\"banana\", 7,9) == False\n",
    "assert is_word_lengths_between_lengths(\"banana\", 4,5) == False\n",
    "### BEGIN HIDDEN TESTS\n",
    "assert is_word_lengths_between_lengths(\"plum\", 2,4) == True\n",
    "assert is_word_lengths_between_lengths(\"plum\", 4,8) == True\n",
    "assert is_word_lengths_between_lengths(\"plum\", 2,3) == False\n",
    "assert is_word_lengths_between_lengths(\"plum\", 5,8) == False\n",
    "### END HIDDEN TESTS"
   ]
  },
  {
   "cell_type": "markdown",
   "metadata": {},
   "source": [
    "### Task 9 & 10 - Challenge\n",
    "\n",
    "You can solve this by writing a few functions, one calling another, but remember to write them all inside of the same cell with the solution.\n",
    "\n",
    "#### Adding Strings:\n",
    "\n",
    "In this exercise we will edit strings. We'll learn how to do it properly in the incomming weeks, but for now, just add them like\n",
    "\n",
    "```\n",
    "name = \"Pim\"\n",
    "greeting = \"Hello \" + name + \", how are you?\"\n",
    "```\n",
    "\n",
    "to achieve ```\"Hello Pim, how are you?\"```. Notice that spaces need to be included inside of the brackets if you'd like to keep them (eg. that space right after `Hello` but still inside of the bracket).\n",
    "\n",
    "#### Adding Strings and Integers\n",
    "\n",
    "Also: remember that when you add a string to a number, you need to makr sure that Python will know if you mean a number or a string. This is called Casring.\n",
    "\n",
    "```\n",
    "age = 12\n",
    "greeting = \"I am \" + str(age) + \" years old\"\n",
    "```\n",
    "\n",
    "\n",
    "**Important Note: Keep below functions in one cell, this will enable you to use some functions in other functions without confusing the grade marking engine.**"
   ]
  },
  {
   "cell_type": "code",
   "execution_count": null,
   "metadata": {
    "nbgrader": {
     "grade": false,
     "grade_id": "cell-756eeff6e85a660c",
     "locked": false,
     "schema_version": 3,
     "solution": true,
     "task": false
    }
   },
   "outputs": [],
   "source": [
    "def report_about_the_day(week_day_as_word):\n",
    "    \"\"\"\n",
    "    here in your own words describe what this function will do and how\n",
    "    \"\"\"\n",
    "    ### BEGIN SOLUTION\n",
    "    day_number  = which_day_of_the_week(week_day_as_word)\n",
    "    return \"It is \"+which_day_with_ending(day_number)+\" day of the week. \"+day_number_into_weekend_status(day_number)\n",
    "    ### END SOLUTION\n",
    "    \n",
    "def which_day_of_the_week(week_day):\n",
    "    \"\"\"\n",
    "    here in your own words describe what this function will do and how\n",
    "    \"\"\"\n",
    "    ### BEGIN SOLUTION\n",
    "    if week_day == \"Monday\":\n",
    "        return 1\n",
    "    elif week_day == \"Tuesday\":\n",
    "        return 2\n",
    "    elif week_day == \"Wednesday\":\n",
    "        return 3\n",
    "    elif week_day == \"Thursday\":\n",
    "        return 4\n",
    "    elif week_day == \"Friday\":\n",
    "        return 5\n",
    "    elif week_day == \"Saturday\":\n",
    "        return 6\n",
    "    elif week_day == \"Sunday\":\n",
    "        return 7\n",
    "    ### END SOLUTION\n",
    "    \n",
    "def which_day_with_ending(day_number):\n",
    "        ### BEGIN SOLUTION\n",
    "    if day_number == 1:\n",
    "        return \"1st\"\n",
    "    elif day_number == 2:\n",
    "        return \"2nd\"\n",
    "    elif day_number == 3:\n",
    "        return \"3rd\"\n",
    "    else:\n",
    "        return str(day_number)+ \"th\"\n",
    "        ### END SOLUTION\n",
    "    \n",
    "def day_number_into_weekend_status(day_number):\n",
    "    \"\"\"\n",
    "    here in your own words describe what this function will do and how\n",
    "    \"\"\"\n",
    "    ### BEGIN SOLUTION\n",
    "    days_till_weekend = 6 - day_number\n",
    "    if days_till_weekend <= 0:\n",
    "        return \"Weekend is now\"\n",
    "    elif days_till_weekend == 1:\n",
    "        return \"Weekend is tomorrow\"\n",
    "    else:\n",
    "        return str(days_till_weekend) + \" days till weekend\"\n",
    "\n",
    "    ### END SOLUTION\n",
    "\n",
    "    "
   ]
  },
  {
   "cell_type": "code",
   "execution_count": null,
   "metadata": {
    "nbgrader": {
     "grade": true,
     "grade_id": "cell-261ab844ca1e5728",
     "locked": true,
     "points": 5,
     "schema_version": 3,
     "solution": false,
     "task": false
    }
   },
   "outputs": [],
   "source": [
    "assert which_day_of_the_week(\"Monday\") == 1\n",
    "assert which_day_of_the_week(\"Friday\") == 5\n",
    "\n",
    "### BEGIN HIDDEN TESTS\n",
    "assert which_day_of_the_week(\"Thursday\") == 4\n",
    "assert which_day_of_the_week(\"Sunday\") == 7\n",
    "### END HIDDEN TESTS"
   ]
  },
  {
   "cell_type": "code",
   "execution_count": null,
   "metadata": {
    "nbgrader": {
     "grade": true,
     "grade_id": "cell-559f23b6b3418a9a",
     "locked": true,
     "points": 5,
     "schema_version": 3,
     "solution": false,
     "task": false
    }
   },
   "outputs": [],
   "source": [
    "assert which_day_with_ending(1) == \"1st\"\n",
    "assert which_day_with_ending(2) == \"2nd\"\n",
    "assert which_day_with_ending(3) == \"3rd\"\n",
    "assert which_day_with_ending(4) == \"4th\"\n",
    "\n",
    "### BEGIN HIDDEN TESTS\n",
    "assert which_day_with_ending(5) == \"5th\"\n",
    "assert which_day_with_ending(6) == \"6th\"\n",
    "\n",
    "### END HIDDEN TESTS"
   ]
  },
  {
   "cell_type": "code",
   "execution_count": null,
   "metadata": {
    "nbgrader": {
     "grade": true,
     "grade_id": "cell-045e2488d28c9d2b",
     "locked": true,
     "points": 5,
     "schema_version": 3,
     "solution": false,
     "task": false
    }
   },
   "outputs": [],
   "source": [
    "assert day_number_into_weekend_status(1) == \"5 days till weekend\"\n",
    "assert day_number_into_weekend_status(5) == \"Weekend is tomorrow\"\n",
    "assert day_number_into_weekend_status(6) == \"Weekend is now\"\n",
    "\n",
    "### BEGIN HIDDEN TESTS\n",
    "assert day_number_into_weekend_status(3) == \"3 days till weekend\"\n",
    "assert day_number_into_weekend_status(7) == \"Weekend is now\"\n",
    "### END HIDDEN TESTS"
   ]
  },
  {
   "cell_type": "code",
   "execution_count": null,
   "metadata": {
    "nbgrader": {
     "grade": true,
     "grade_id": "cell-46264c68f67c56cc",
     "locked": true,
     "points": 5,
     "schema_version": 3,
     "solution": false,
     "task": false
    }
   },
   "outputs": [],
   "source": [
    "assert report_about_the_day(\"Monday\") == \"It is 1st day of the week. 5 days till weekend\"\n",
    "assert report_about_the_day(\"Tuesday\") == \"It is 2nd day of the week. 4 days till weekend\"\n",
    "assert report_about_the_day(\"Wednesday\") == \"It is 3rd day of the week. 3 days till weekend\"\n",
    "assert report_about_the_day(\"Friday\") == \"It is 5th day of the week. Weekend is tomorrow\"\n",
    "assert report_about_the_day(\"Saturday\") == \"It is 6th day of the week. Weekend is now\"\n",
    "assert report_about_the_day(\"Sunday\") == \"It is 7th day of the week. Weekend is now\"\n",
    "### BEGIN HIDDEN TESTS\n",
    "assert report_about_the_day(\"Thursday\") == \"It is 4th day of the week. 2 days till weekend\"\n",
    "### END HIDDEN TESTS"
   ]
  },
  {
   "cell_type": "code",
   "execution_count": null,
   "metadata": {},
   "outputs": [],
   "source": []
  }
 ],
 "metadata": {
  "celltoolbar": "Create Assignment",
  "kernelspec": {
   "display_name": "Python 3",
   "language": "python",
   "name": "python3"
  },
  "language_info": {
   "codemirror_mode": {
    "name": "ipython",
    "version": 3
   },
   "file_extension": ".py",
   "mimetype": "text/x-python",
   "name": "python",
   "nbconvert_exporter": "python",
   "pygments_lexer": "ipython3",
   "version": "3.7.6"
  }
 },
 "nbformat": 4,
 "nbformat_minor": 2
}
