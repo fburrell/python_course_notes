{
 "cells": [
  {
   "cell_type": "markdown",
   "metadata": {},
   "source": [
    "# How to think about APIs ?"
   ]
  },
  {
   "cell_type": "markdown",
   "metadata": {},
   "source": [
    "this is a pseudo-code example:\n",
    "\n",
    "APIs are sort of like like functions living online, eg.\n",
    "\n",
    "`\n",
    "url = f\"http://www.omdbapi.com/?query=StarWars&year=1993\"\n",
    "`\n",
    "\n",
    "is like calling an online function\n",
    "\n",
    "`\n",
    "def search_movies(query, year):\n",
    "    # some code\n",
    "`\n",
    "\n",
    "like this:\n",
    "\n",
    "`\n",
    "search_movies(\"StarWars\", 1993)\n",
    "`\n",
    "\n",
    "so you can create urls, as if you were passing variables into an online function\n",
    "\n",
    "`\n",
    "query = \"Star Wars\"\n",
    "page = 2\n",
    "url = f\"http://www.omdbapi.com/?s={query}&page={page}\"\n",
    "`\n",
    "\n",
    "then when you 'request' the data, your online function is asked for its results\n",
    "\n",
    "`\n",
    "response_dictionary = requests.request(\"GET\", url).json()\n",
    "`"
   ]
  },
  {
   "cell_type": "markdown",
   "metadata": {},
   "source": [
    "# How to split code into functions (and test it)\n",
    "\n",
    "this example is from the solution to lab 11, task 13:"
   ]
  },
  {
   "cell_type": "code",
   "execution_count": 3,
   "metadata": {},
   "outputs": [],
   "source": [
    "opening_hours = [{'day':'Monday', 'open': 9, 'close':18},\n",
    "                {'day':'Tuesday', 'open': 12, 'close':18},\n",
    "                {'day':'Wednesday'},\n",
    "                {'day':'Thursday', 'open': 9, 'close':18},\n",
    "                {'day':'Friday', 'open': 9, 'close':21},\n",
    "                {'day':'Saturday', 'open': 12, 'close':18},\n",
    "                {'day':'Sunday', 'open': 12, 'close':18}]"
   ]
  },
  {
   "cell_type": "code",
   "execution_count": 4,
   "metadata": {},
   "outputs": [],
   "source": [
    "def top_part():\n",
    "    result_so_far = \"\"\n",
    "    welcome_message = 'WELCOME'\n",
    "    result_so_far += f\"{welcome_message:*^30}\\n\"\n",
    "    # welcome surrounded by 30 *\n",
    "    return result_so_far"
   ]
  },
  {
   "cell_type": "code",
   "execution_count": 5,
   "metadata": {},
   "outputs": [],
   "source": [
    "assert top_part() == \"***********WELCOME************\\n\""
   ]
  },
  {
   "cell_type": "code",
   "execution_count": 6,
   "metadata": {},
   "outputs": [],
   "source": [
    "def bottom_part():\n",
    "    result_so_far = \"\"\n",
    "    result_so_far += f\"{'':*^30}\\n\" \n",
    "    # empty string surrounded by 30 *\n",
    "    return result_so_far"
   ]
  },
  {
   "cell_type": "code",
   "execution_count": 7,
   "metadata": {},
   "outputs": [],
   "source": [
    "assert bottom_part() == \"******************************\\n\""
   ]
  },
  {
   "cell_type": "code",
   "execution_count": 8,
   "metadata": {},
   "outputs": [],
   "source": [
    "def day_part(day_info):\n",
    "    opening_hours_text = \"\"\n",
    "    if day_info.get('open') == None or day_info.get('close') == None:\n",
    "        opening_hours_text = 'Closed'\n",
    "    else:\n",
    "        opening_hours_text += f\"{day_info.get('open'):2} till {day_info.get('close'):2}\"\n",
    "    return f\"* {day_info['day']:.<10}{opening_hours_text:.^16} *\\n\""
   ]
  },
  {
   "cell_type": "code",
   "execution_count": 9,
   "metadata": {},
   "outputs": [],
   "source": [
    "assert day_part(opening_hours[0]) == \"* Monday....... 9 till 18... *\\n\"\n",
    "assert day_part(opening_hours[2]) == \"* Wednesday......Closed..... *\\n\""
   ]
  },
  {
   "cell_type": "code",
   "execution_count": 10,
   "metadata": {},
   "outputs": [],
   "source": [
    "def create_sign(week_data):\n",
    "    final_sign_so_far = \"\"\n",
    "    final_sign_so_far += top_part()\n",
    "    for day_data in week_data:\n",
    "        final_sign_so_far += day_part(day_data)\n",
    "    final_sign_so_far += bottom_part()\n",
    "    return final_sign_so_far"
   ]
  },
  {
   "cell_type": "code",
   "execution_count": 11,
   "metadata": {},
   "outputs": [
    {
     "name": "stdout",
     "output_type": "stream",
     "text": [
      "***********WELCOME************\n",
      "* Monday....... 9 till 18... *\n",
      "* Tuesday......12 till 18... *\n",
      "* Wednesday......Closed..... *\n",
      "* Thursday..... 9 till 18... *\n",
      "* Friday....... 9 till 21... *\n",
      "* Saturday.....12 till 18... *\n",
      "* Sunday.......12 till 18... *\n",
      "******************************\n",
      "\n"
     ]
    }
   ],
   "source": [
    "print(create_sign(opening_hours))"
   ]
  },
  {
   "cell_type": "markdown",
   "metadata": {},
   "source": [
    "# complicated example of splitting code"
   ]
  },
  {
   "cell_type": "markdown",
   "metadata": {},
   "source": [
    "you could put all the code into one cell, but that will get quickly messy, for example"
   ]
  },
  {
   "cell_type": "code",
   "execution_count": 12,
   "metadata": {},
   "outputs": [
    {
     "name": "stdout",
     "output_type": "stream",
     "text": [
      "First actor in Star Wars: Episode IV - A New Hope is Mark Hamill\n",
      "First actor in Star Wars: Episode V - The Empire Strikes Back is Mark Hamill\n",
      "First actor in Star Wars: Episode VI - Return of the Jedi is Mark Hamill\n",
      "First actor in Star Wars: Episode VII - The Force Awakens is Harrison Ford\n",
      "First actor in Star Wars: Episode I - The Phantom Menace is Liam Neeson\n",
      "First actor in Star Wars: Episode III - Revenge of the Sith is Ewan McGregor\n",
      "First actor in Star Wars: Episode II - Attack of the Clones is Ewan McGregor\n",
      "First actor in Star Wars: Episode VIII - The Last Jedi is Mark Hamill\n",
      "First actor in Rogue One: A Star Wars Story is Felicity Jones\n",
      "First actor in Star Wars: Episode IX - The Rise of Skywalker is Carrie Fisher\n"
     ]
    }
   ],
   "source": [
    "# don't just say\n",
    "\n",
    "import requests\n",
    "import pprint as pp\n",
    "\n",
    "your_api_key = \"dd14dc5f\" #use mine, or get your own from the above website\n",
    "page = 1 # each page has 10 results, so page 1 has results 1-10, page 2 has results 11-20, etc\n",
    "# how many results are there in total? look at the 'totalResults' attribute in response dictionary\n",
    "query = \"star wars\"\n",
    "result_type=\"movie\" # read the omdb website to see what other options there are\n",
    "year = \"\" #leave empty to get all results all years\n",
    "\n",
    "\n",
    "# get all moviue info\n",
    "url = f\"http://www.omdbapi.com/?s={query}&page={page}&apikey={your_api_key}&type={result_type}&y={year}\"\n",
    "response = requests.request(\"GET\", url)\n",
    "star_wars_movies = response.json()['Search']\n",
    "\n",
    "# just keep ids\n",
    "star_wars_movies_ids = [movie['imdbID']\n",
    "                        for movie in star_wars_movies]\n",
    "\n",
    "# get details and print them\n",
    "for movie_id in star_wars_movies_ids:\n",
    "    url = f\"http://www.omdbapi.com/?i={movie_id}&apikey={your_api_key}\"\n",
    "    response_one_movie = requests.request(\"GET\", url).json()\n",
    "    actors_string = response_one_movie[\"Actors\"]\n",
    "    actors_list = actors_string.split(\", \") \n",
    "    print(f\"First actor in {response_one_movie['Title']} is {actors_list[0]}\")\n"
   ]
  },
  {
   "cell_type": "markdown",
   "metadata": {},
   "source": [
    "but you could also split your code into functions, like this"
   ]
  },
  {
   "cell_type": "code",
   "execution_count": 13,
   "metadata": {},
   "outputs": [
    {
     "name": "stdout",
     "output_type": "stream",
     "text": [
      "First actor in Star Wars: Episode IV - A New Hope is Mark Hamill\n",
      "First actor in Star Wars: Episode V - The Empire Strikes Back is Mark Hamill\n",
      "First actor in Star Wars: Episode VI - Return of the Jedi is Mark Hamill\n",
      "First actor in Star Wars: Episode VII - The Force Awakens is Harrison Ford\n",
      "First actor in Star Wars: Episode I - The Phantom Menace is Liam Neeson\n",
      "First actor in Star Wars: Episode III - Revenge of the Sith is Ewan McGregor\n",
      "First actor in Star Wars: Episode II - Attack of the Clones is Ewan McGregor\n",
      "First actor in Star Wars: Episode VIII - The Last Jedi is Mark Hamill\n",
      "First actor in Rogue One: A Star Wars Story is Felicity Jones\n",
      "First actor in Star Wars: Episode IX - The Rise of Skywalker is Carrie Fisher\n"
     ]
    }
   ],
   "source": [
    "\n",
    "import requests\n",
    "import pprint as pp\n",
    "\n",
    "\n",
    "def get_ids_of_movies_named(movie_name):\n",
    "    result_type=\"movie\"\n",
    "    your_api_key = \"dd14dc5f\" \n",
    "\n",
    "    url = f\"http://www.omdbapi.com/?s={movie_name}&page={page}&apikey={your_api_key}&type={result_type}\"\n",
    "    response = requests.request(\"GET\", url)\n",
    "    movies = response.json()['Search']\n",
    "    movies_ids = [movie['imdbID']\n",
    "                        for movie in movies]\n",
    "    return movies_ids\n",
    "\n",
    "def get_all_details_of_movies_with_ids(movie_ids):\n",
    "    your_api_key = \"dd14dc5f\" \n",
    "    movie_detail_strings = []\n",
    "    for movie_id in movie_ids:\n",
    "        url = f\"http://www.omdbapi.com/?i={movie_id}&apikey={your_api_key}\"\n",
    "        response_one_movie = requests.request(\"GET\", url).json()\n",
    "        info_string = info_string_from_movie_details(response_one_movie) \n",
    "        movie_detail_strings.append(  info_string )\n",
    "    return movie_detail_strings\n",
    "\n",
    "def info_string_from_movie_details(movie_details):\n",
    "    actors_list = movie_details[\"Actors\"].split(\", \") \n",
    "    return f\"First actor in {movie_details['Title']} is {actors_list[0]}\"\n",
    "\n",
    "def print_starwars_details():\n",
    "    movie_ids = get_ids_of_movies_named(\"star wars\")\n",
    "    movies_details_list = get_all_details_of_movies_with_ids(movie_ids)\n",
    "    for movie_details_string in movies_details_list:\n",
    "        print(movie_details_string)\n",
    "        \n",
    "print_starwars_details()"
   ]
  },
  {
   "cell_type": "code",
   "execution_count": null,
   "metadata": {},
   "outputs": [],
   "source": []
  },
  {
   "cell_type": "code",
   "execution_count": null,
   "metadata": {},
   "outputs": [],
   "source": []
  }
 ],
 "metadata": {
  "kernelspec": {
   "display_name": "Python 3",
   "language": "python",
   "name": "python3"
  },
  "language_info": {
   "codemirror_mode": {
    "name": "ipython",
    "version": 3
   },
   "file_extension": ".py",
   "mimetype": "text/x-python",
   "name": "python",
   "nbconvert_exporter": "python",
   "pygments_lexer": "ipython3",
   "version": "3.7.6"
  }
 },
 "nbformat": 4,
 "nbformat_minor": 4
}
