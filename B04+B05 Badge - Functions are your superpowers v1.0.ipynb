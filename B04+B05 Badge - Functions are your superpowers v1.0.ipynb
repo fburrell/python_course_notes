{
 "cells": [
  {
   "cell_type": "markdown",
   "metadata": {},
   "source": [
    "# Badge 04 & Badge 05 - Functions are your superpowers"
   ]
  },
  {
   "cell_type": "markdown",
   "metadata": {},
   "source": [
    "note: This is a **JUPYTER NOTEBOOK**. It's a type of website where you can edit and run computer programms (code). You interact with it in your web browser and you can find it via your Learn.\n",
    "\n",
    "1. These blocks here are cells\n",
    "2. There are **TEXT CELLS** like this one with explanations of concepts\n",
    "3. and **CODE CELLS** with Python code (see below). Code cells have a ```In []``` written to the left\n",
    "4. You can **RUN CODE CELLS** by clicking on them and pressing **Shirt + Enter**. When you run a cell code in it is run (it \"happens\", computer will do what you asked for it to do). Results of what your code does will appear underneath the cell.\n",
    "5. As we go through these lessons, please READ text cells, and RUN code cells\n",
    "6. Good luck!\n",
    "\n",
    "✅Remmeber to RUN ALL THE CELLS IN ORDER (if you skip some, you might see some unexpected errors)."
   ]
  },
  {
   "cell_type": "markdown",
   "metadata": {},
   "source": [
    "# Learning objectives:\n",
    "\n",
    "At the end of this badge you will know:\n",
    "\n",
    "- how to imagine order of executing code\n",
    "- functions are shortcuts to repeat parts of your code easilly\n",
    "- functions can also accept variables, so you can repeat code that is slightly different each time\n",
    "- functions can also return what they calculated, so that you can 'outsource' some operations to a function \n",
    "\n",
    "You will also understand these lines of code:"
   ]
  },
  {
   "cell_type": "code",
   "execution_count": null,
   "metadata": {},
   "outputs": [],
   "source": [
    "# function definitions\n",
    "def are_any_of_these_names_the_same(name_1, name_2, name_3):\n",
    "    result = name_1 == name_2 or name_2 == name_3 or name_3 == name_1\n",
    "    return result # this is returned to whoever called this function\n",
    "\n",
    "\n",
    "# note: whenever you run a cell with function definition, you \"load\" that function into memory\n",
    "# there's no need to run it a lot, just once is enough\n",
    "# and if you change the function you will want to run it again to \"re-load\" it into the momory."
   ]
  },
  {
   "cell_type": "code",
   "execution_count": null,
   "metadata": {},
   "outputs": [],
   "source": [
    "# calling functions - result will be displayed underneath the cell with ```Out[]``` next to it. \n",
    "# you can only return one thing from each cell. It will usually be the result of the last line of code \n",
    "are_any_of_these_names_the_same(\"Billie\", \"fiona\", \"fiona\")"
   ]
  },
  {
   "cell_type": "code",
   "execution_count": null,
   "metadata": {},
   "outputs": [],
   "source": [
    "are_any_of_these_names_the_same(\"Billie\", \"fiona\", \"Jin\")"
   ]
  },
  {
   "cell_type": "code",
   "execution_count": null,
   "metadata": {
    "scrolled": true
   },
   "outputs": [],
   "source": [
    "# printing function results. You can run a function, store what it returns in a variable, and then print that variable\n",
    "are_they_simmilar = are_any_of_these_names_the_same(\"Billie\", \"fiona\", \"Jin\")\n",
    "print( are_they_simmilar )\n",
    "\n",
    "# or you can put the function call right in the print, to have a shorter (folded, nested) version.\n",
    "print( are_any_of_these_names_the_same(\"Billie\", \"fiona\", \"Jin\") )\n",
    "\n",
    "# both above solutions do the same thing and are just as goood"
   ]
  },
  {
   "cell_type": "markdown",
   "metadata": {},
   "source": [
    "## > End of learning objectives"
   ]
  },
  {
   "cell_type": "markdown",
   "metadata": {},
   "source": [
    "# Let's try imagining the ORDER in which code is executed, in cycles or steps.\n"
   ]
  },
  {
   "cell_type": "code",
   "execution_count": null,
   "metadata": {},
   "outputs": [],
   "source": [
    "# think about the order in which computer needs to find answers to some questions,\n",
    "# so that it can seek ansers to other questions\n",
    "\n",
    "# e.g. you need to know what int(\"20\") is before you can add it to 20.\n",
    "# And only once you add them you can print the result\n",
    "print( int(\"20\") + 20)\n",
    "\n",
    "# same here. As a human, which parts would you have to solve first?\n",
    "print( (20 + 50) / 7 == (1+4) * (9-7))"
   ]
  },
  {
   "cell_type": "markdown",
   "metadata": {},
   "source": [
    "# Imagine that in each cycle one operation is REPLACED with the result of that operation\n",
    "\n",
    "### Code is always run from the MOST INSIDE operation: think \"Russian Doll\" or Avocado"
   ]
  },
  {
   "cell_type": "code",
   "execution_count": null,
   "metadata": {},
   "outputs": [],
   "source": [
    "# you will learn about functions soon, but notice that what this code does.\n",
    "# you always evaluate the code from the current MOST INSIDE operation,\n",
    "# evaluated code is sort-of replaces with its result\n",
    "\n",
    "print(\"year\", str( int(\"19\"+\"99\") + 1) )"
   ]
  },
  {
   "cell_type": "code",
   "execution_count": null,
   "metadata": {},
   "outputs": [],
   "source": [
    "# in short, the code is run from the inside to the outside, \n",
    "# and commands are sort of REPLACED with their result\n",
    "# Below is an attempt on symulating one step at a time how the computer thinks:\n",
    "\n",
    "print(\"year\",  str( int(\"19\"+\"99\") + 1) )\n",
    "print(\"year\",  str( int(\"1999\"   ) + 1) )\n",
    "print(\"year\",  str( 1999           + 1) )\n",
    "print(\"year\",  str( 2000              ) )\n",
    "print(\"year\",  \"2000\"                   )\n",
    "\"year 2000\""
   ]
  },
  {
   "cell_type": "markdown",
   "metadata": {},
   "source": [
    "# Functions - the most important tool of programming"
   ]
  },
  {
   "cell_type": "markdown",
   "metadata": {},
   "source": [
    "**FUNCTION** is a piece of code that we want to reuse later. We give each function a short name, so that we can easilly run them (make them happen). There is a difference between DEFINING a function (specifying which lines of code we want to reuse) and CALLING a function (making these lines of code happen).\n",
    "\n",
    "At a simplest level, a function is a shortcut to some code we wrote before, that we want to use later on.\n",
    "\n",
    "**DEFINING A FUNCTION**: to define (create, specify) a function we mark some lines of code and give it a name. Note that this will not run the lines of code, because when we define a function, we specify that we would like to execute it later."
   ]
  },
  {
   "cell_type": "code",
   "execution_count": null,
   "metadata": {},
   "outputs": [],
   "source": [
    "# define a function\n",
    "def my_function_name():\n",
    "    print(\"Function is running!\")\n",
    "    print(\"Things are happening!\")\n",
    "    # some code we will reuse later \n",
    "    # note: this code is not executed yet"
   ]
  },
  {
   "cell_type": "markdown",
   "metadata": {},
   "source": [
    "**RUNNING (or CALLING) A FUNCTION** once a function is defined, we can call (run, evaluate) that function by writing its name followed by a (). That will cause all the lines of code inside of a function to be executed."
   ]
  },
  {
   "cell_type": "code",
   "execution_count": null,
   "metadata": {},
   "outputs": [],
   "source": [
    "# call a function\n",
    "my_function_name() # only now code inside of the function will be executed"
   ]
  },
  {
   "cell_type": "markdown",
   "metadata": {},
   "source": [
    "Here is another example:"
   ]
  },
  {
   "cell_type": "code",
   "execution_count": null,
   "metadata": {},
   "outputs": [],
   "source": [
    "# define a function\n",
    "def make_some_tea(): \n",
    "    print(\"Boil Water\")\n",
    "    print(\"Put a teabag in a mug\")\n",
    "    print(\"Put water in a mug\")\n",
    "    print(\"...wait\")\n",
    "    print()\n",
    "    \n",
    "# call a function (we can do it multiple times, if we want to)\n",
    "make_some_tea()\n",
    "make_some_tea()\n",
    "make_some_tea()"
   ]
  },
  {
   "cell_type": "markdown",
   "metadata": {},
   "source": [
    "Once a function is defined it can be run many times.\n",
    "\n",
    "One way to understand the difference between defining a function and calling it is:\n",
    "\n",
    "- Defining a function is a like writing a recipe for a cake: You specify all the ingredients, steps, tools you will need. But you do not actually bake the cake yet. (the lines of code are not actually executed/run).\n",
    "\n",
    "- Running a function is like using the recipe to bake a cake. You can bake a cake from the same recipe many times. You can even pass in some attributes to a cake (like the type of topping)."
   ]
  },
  {
   "cell_type": "code",
   "execution_count": null,
   "metadata": {},
   "outputs": [],
   "source": [
    "def start_a_conversation():\n",
    "    print(\"Hello!\")\n",
    "    print(\"How are you doing?\")\n",
    "    print(\"Have you seen my keys?\")\n",
    "    print()\n",
    "\n",
    "# notice that when you run this code, nothing happens.\n",
    "# you defined a function, but you did not call it yet"
   ]
  },
  {
   "cell_type": "code",
   "execution_count": null,
   "metadata": {},
   "outputs": [],
   "source": [
    "def start_a_conversation():\n",
    "    print(\"Hello!\")\n",
    "    print(\"How are you doing?\")\n",
    "    print(\"Have you seen my keys?\")\n",
    "    print()\n",
    "\n",
    "# you can call the function many times, so you reuse the code, and can type less\n",
    "start_a_conversation()\n",
    "start_a_conversation()\n",
    "start_a_conversation()"
   ]
  },
  {
   "cell_type": "markdown",
   "metadata": {},
   "source": [
    "## Refactoring Code 2: DRY code - Don't Repeat Yourself"
   ]
  },
  {
   "cell_type": "markdown",
   "metadata": {},
   "source": [
    "When you write code your ambition is to type as little as possible. That means that when you see some code repeated more thanb 2-3 times, you should try to OPTIMISE it (writing in a shorter, simpler form).\n",
    "\n",
    "From now on you will notice that some code you write is just a repetition. And sometimes (within reason!) you might want to shorten in. See example below"
   ]
  },
  {
   "cell_type": "code",
   "execution_count": null,
   "metadata": {},
   "outputs": [],
   "source": [
    "# basic functions are easy to use when you would like to repeat something many times,\n",
    "# for example this to repeat a greeting 4 times \n",
    "\n",
    "# NOT DRY\n",
    "print(\"Friend! How are you? It is great to see you again!\")\n",
    "print(\"Friend! How are you? It is great to see you again!\")\n",
    "print(\"Friend! How are you? It is great to see you again!\")\n",
    "print(\"Friend! How are you? It is great to see you again!\")"
   ]
  },
  {
   "cell_type": "code",
   "execution_count": null,
   "metadata": {},
   "outputs": [],
   "source": [
    "# you could simplify it like this:\n",
    "\n",
    "# DRY\n",
    "def greet():\n",
    "    print(\"Friend! How are you? It is great to see you again!\")\n",
    "    \n",
    "greet()\n",
    "greet()\n",
    "greet()\n",
    "greet()\n",
    "\n",
    "# your code is cleaner, but the greatest strength shows us when you need to change something in your code..."
   ]
  },
  {
   "cell_type": "markdown",
   "metadata": {},
   "source": [
    "**DRY CODE IS EASIER TO MAINTAIN (to edit later)** - the more dry your code is, the less work it is to change it later.\n",
    "\n",
    "Imagine that in the above example you want to change a single word in your greeting to ``` It is FANTASTIC to see you again!```. In the not dry example you would need to change it in 4 places, in the dry example above you need to change iy in just one place. This already saves you some time, right? Now imagine the first example had 100 repeated lines, or 1000 repeated lines."
   ]
  },
  {
   "cell_type": "code",
   "execution_count": null,
   "metadata": {},
   "outputs": [],
   "source": [
    "def greet():\n",
    "    print(\"PAL! How are you? It is FANTASTIC to see you again!\") # we only had to change this one line of code, not 4\n",
    "    \n",
    "greet()\n",
    "greet()\n",
    "greet()\n",
    "greet()"
   ]
  },
  {
   "cell_type": "markdown",
   "metadata": {},
   "source": [
    "### Passing arguments (variables) into functions"
   ]
  },
  {
   "cell_type": "markdown",
   "metadata": {},
   "source": [
    "But functions can do so much more than that! Imagine that you wanted to do something more complicated.\n",
    "\n",
    "Let's imagine that we want to meke below code DRY. In the below example the lines of code are very simmilar but are NOT IDENTICAL. That means that we cannot just extract them into a function like we did above."
   ]
  },
  {
   "cell_type": "code",
   "execution_count": null,
   "metadata": {
    "scrolled": true
   },
   "outputs": [],
   "source": [
    "print(\"Ingrid! How are you? It is great to see you again!\")\n",
    "print(\"Shri! How are you? It is great to see you again!\")\n",
    "print(\"Ainsley! How are you? It is great to see you again!\")\n",
    "print(\"Eli! How are you? It is great to see you again!\")"
   ]
  },
  {
   "cell_type": "markdown",
   "metadata": {},
   "source": [
    "**REUSING CODE** - to reuse or repeat some functionality we need to identify what parts of it change, and what parts of it do not change. Most of the time when creating a function the challange is to identify which parts of your code are REUSED (they do not change) and which are VARIABLE (they change).\n",
    "\n",
    "You probably see that most of the code above is repeated, but there is a small element that is different.\n",
    "\n",
    "In the above example this part IS NOT CHANGING: ```print(\"###! How are you? It is great to see you again!\")``` while the name of our friend IS CHANGING: ```Ingrid Shri Ainsley Eli```.\n",
    "\n",
    "Imagine rewriting above code with friend names as variables:"
   ]
  },
  {
   "cell_type": "code",
   "execution_count": null,
   "metadata": {},
   "outputs": [],
   "source": [
    "#this produces the same outcome as above code\n",
    "name = \"Ingrid\"\n",
    "print(name + \"! How are you? It is great to see you again!\") # this is repeated\n",
    "name = \"Shri\"\n",
    "print(name + \"! How are you? It is great to see you again!\") # this is repeated\n",
    "name = \"Ainsley\"\n",
    "print(name + \"! How are you? It is great to see you again!\") # this is repeated\n",
    "name = \"Eli\"\n",
    "print(name + \"! How are you? It is great to see you again!\") # this is repeated"
   ]
  },
  {
   "cell_type": "markdown",
   "metadata": {},
   "source": [
    "Do you see how much of the code can now be reused? Now every second line is identical.\n",
    "\n",
    "**Functions become an increadibly powerful concept when we tell them to not only repeat some code, but to repeat it with small differences.**\n",
    "\n",
    "For example we can create a function that helps us to reuse some parts of the above code, and we will need a way to pass in a variable (in our example a name of a friend) into the function, so that it can be different every time we call a function."
   ]
  },
  {
   "cell_type": "code",
   "execution_count": null,
   "metadata": {},
   "outputs": [],
   "source": [
    "def greet(name_of_a_friend): # name_of_a_friend - this is the changing part from above\n",
    "    print(name_of_a_friend + \"! How are you? It is great to see you again!\") # this is the repeated part from above\n",
    "\n",
    "greet(\"Ingrid\")\n",
    "greet(\"Shri\")\n",
    "greet(\"Ainsley\")\n",
    "greet(\"Eli\")\n",
    "\n",
    "# when we call a function that takes some variables, we can reuse the code we specified in the function above\n",
    "# but we can also do it in a given context - with some elements changing."
   ]
  },
  {
   "cell_type": "code",
   "execution_count": null,
   "metadata": {},
   "outputs": [],
   "source": [
    "# another simple example\n",
    "def say_it_twice(something):\n",
    "    print(something + something)\n",
    "    print(\"yay!\")\n",
    "\n",
    "say_it_twice(\"Banana\")\n",
    "say_it_twice(\"Apples\")\n",
    "say_it_twice(\"Pears\")"
   ]
  },
  {
   "cell_type": "markdown",
   "metadata": {},
   "source": [
    "**FUNCTION PARAMETERS**: Variables (things that change) that we pass into a function are called function parameters (things that you adjust). Parameters are somthing we do all the time in our daily life, whenever we repeat a familiar activity with some small element of it changing."
   ]
  },
  {
   "cell_type": "code",
   "execution_count": null,
   "metadata": {},
   "outputs": [],
   "source": [
    "def read_time(time):\n",
    "    print(\"time is \"+ time)\n",
    "\n",
    "read_time(\"14:30\")\n",
    "read_time(\"20:05\")\n",
    "read_time(\"23:33\")"
   ]
  },
  {
   "cell_type": "markdown",
   "metadata": {},
   "source": [
    "Sometimes **Parameters** are also called **Attributes**.\n",
    "\n",
    "Sometimes **Functions** are also called **Methods**."
   ]
  },
  {
   "cell_type": "code",
   "execution_count": null,
   "metadata": {},
   "outputs": [],
   "source": [
    "# functions can have more than one parameter\n",
    "\n",
    "def greet(name_of_a_friend, time_of_day):\n",
    "    print(name_of_a_friend + \"! Good \" + time_of_day + \"!\")\n",
    "\n",
    "greet(\"Ingrid\", \"morning\")\n",
    "greet(\"Shri\", \"evening\")\n",
    "greet(\"Ainsley\", \"morning\")\n",
    "greet(\"Eli\", \"afternoon\")"
   ]
  },
  {
   "cell_type": "code",
   "execution_count": null,
   "metadata": {},
   "outputs": [],
   "source": [
    "# passing arguments into a function is something we do a lot in our daily life\n",
    "# arguments can be of different types, but remember to chnge them into string before printing\n",
    "\n",
    "def order_coffee(size, number_of_sugars, type_of_milk):\n",
    "    print(\"Here's a \"+size+\" coffee with \"+str(number_of_sugars)+\" sugars and \"+type_of_milk+\" milk\")\n",
    "\n",
    "order_coffee(\"large\", 3, \"oat\")\n",
    "order_coffee(\"small\", \"no\", \"no\") # notice that this sting will also be put through str(), which is fine\n",
    "order_coffee(\"filter\", \"2 brown\", \"skimmed\")"
   ]
  },
  {
   "cell_type": "markdown",
   "metadata": {},
   "source": [
    "WATCH OUT: You can pass any number of attributes into a function but it's important to not confuse the order, or you will end up with unexpected results"
   ]
  },
  {
   "cell_type": "code",
   "execution_count": null,
   "metadata": {},
   "outputs": [],
   "source": [
    "def order_coffee(size, number_of_sugars, type_of_milk):\n",
    "    print(\"Here's a \"+size+\" coffee with \"+str(number_of_sugars)+\" sugars and \"+type_of_milk+\" milk\")\n",
    "\n",
    "order_coffee(\"oat\", \"large\", \"2 brown\") # parameters are passed in in a wrong order. It works, but makes no sense."
   ]
  },
  {
   "cell_type": "markdown",
   "metadata": {},
   "source": [
    "### Function Scope (area, extent, reach) - context in which we do things and use variables"
   ]
  },
  {
   "cell_type": "markdown",
   "metadata": {},
   "source": [
    "Every time we will run a function we create a new \"scope\". You can think of as scope as a new completely separate computer program, or a bubble, or a small world inside of each things will happen and variables will change.\n",
    "\n",
    "We often have a scope inside of a scope. For example one scope (outside) would be the main program we are running (this is called a GLOBAL SCOPE). Inside of that main program we can be running a function, so inside that function we have another scope (LOCAL SCOPE or FUNCTION SCOPE). This is like a circle inside of a circle.\n",
    "\n",
    "here are some scope rules:"
   ]
  },
  {
   "cell_type": "code",
   "execution_count": null,
   "metadata": {},
   "outputs": [],
   "source": [
    "# global (outside, generic) scope variables\n",
    "name = \"Wendy\"\n",
    "age = 32\n",
    "\n",
    "def my_function():\n",
    "    # function (local, specific) scope variables\n",
    "    day = \"Thursday\"\n",
    "    count = 7"
   ]
  },
  {
   "cell_type": "markdown",
   "metadata": {},
   "source": [
    "**SCOPE RULE 1. YOU CANNOT PEEK INSIDE OTHER (MORE SPECIFIC) SCOPES, like other functions** Things from inside (in a specific scope, like in a function), are NOT available outside (in a more generic scope)"
   ]
  },
  {
   "cell_type": "code",
   "execution_count": null,
   "metadata": {},
   "outputs": [],
   "source": [
    "def print_number():\n",
    "    secret_number = 13 # we cerate a local variable inside of the scope of this function \n",
    "    print(secret_number) # this will work\n",
    "    \n",
    "print_number()\n",
    "print(secret_number) # this will error, because secret_number is hidden in another scope (a more specific one)"
   ]
  },
  {
   "cell_type": "code",
   "execution_count": null,
   "metadata": {},
   "outputs": [],
   "source": [
    "def print_number():\n",
    "    secret_number = 13 # we cerate a local variable inside of the scope of THIS function \n",
    "    print(secret_number) # this will work\n",
    "    \n",
    "def print_that_other_number():\n",
    "    print(secret_number) # this will NOT work, because secret_number is unknown in this scope\n",
    "\n",
    "print_number()\n",
    "print_that_other_number()"
   ]
  },
  {
   "cell_type": "markdown",
   "metadata": {},
   "source": [
    "**SCOPE RULE 2. YOU CAN LOOK OUTSIDE (TO MORE GLOBAL SCOPES) but it can be TROUBLE** (especially if you try to change them)"
   ]
  },
  {
   "cell_type": "code",
   "execution_count": null,
   "metadata": {},
   "outputs": [],
   "source": [
    "# this will work - function scope is accessing outside variable. But as you will see below it can be tricky.\n",
    "def print_number():\n",
    "    print(outside_number) \n",
    "\n",
    "outside_number = 7\n",
    "print_number()"
   ]
  },
  {
   "cell_type": "markdown",
   "metadata": {},
   "source": [
    "**THE TRICKY BIT**: Below is an example of why it is often not a good idea to use variable from the outside, especially if you're planning to change them. Below functions might work or not, but it's quite an advanced topic to understand why:"
   ]
  },
  {
   "cell_type": "code",
   "execution_count": null,
   "metadata": {},
   "outputs": [],
   "source": [
    "# this will work - function scope is accessing outside variable\n",
    "def print_number():\n",
    "    print(outside_number) \n",
    "\n",
    "outside_number = 7\n",
    "print_number()"
   ]
  },
  {
   "cell_type": "code",
   "execution_count": null,
   "metadata": {},
   "outputs": [],
   "source": [
    "# this will NOT work - function scope is accessing outside variable\n",
    "def print_number():\n",
    "    number = 10 \n",
    "    print(number)\n",
    "\n",
    "    # what we are doing here we CREATE ANOTHER VARIABLE in the function scope ALSO CALLED number\n",
    "    # and then we change that local number to 10 and we print it.\n",
    "    # note: the global number is still 7\n",
    "\n",
    "number = 7\n",
    "print(number)\n",
    "print_number()\n",
    "print(number) # when we make it here, the global number is still 7"
   ]
  },
  {
   "cell_type": "markdown",
   "metadata": {},
   "source": [
    "**THE TRICKY BIT**: Different scopes can have variables called with the same names. These simmilarly-named variables have nothing to do with each other. Just like the global and local outside_number"
   ]
  },
  {
   "cell_type": "code",
   "execution_count": null,
   "metadata": {},
   "outputs": [],
   "source": [
    "# COMPLICATED EXMAPLE OF SOMETHING GOING WRONG, feel free to skip this\n",
    "\n",
    "# this example is really tricky. At this point just remember that trying to change outside variables can be a trap.\n",
    "\n",
    "# this will NOT work AND WILL ERROR - function scope will create it's own variable, but it first tries to use it\n",
    "def print_number():\n",
    "    print(number)\n",
    "    number = 10 \n",
    "\n",
    "number = 7\n",
    "print(number) # this will already crash the program\n",
    "print_number()\n",
    "print(number)"
   ]
  },
  {
   "cell_type": "markdown",
   "metadata": {},
   "source": [
    "**TO AVOID TROUBLE: Pass all required variables into functions as arguments!** - each function should recieve everything it needs in arguments"
   ]
  },
  {
   "cell_type": "code",
   "execution_count": null,
   "metadata": {},
   "outputs": [],
   "source": [
    "# this is a much better practice to pass things into functions\n",
    "def print_number_twice(number_to_print):\n",
    "    # notice that here we are not using outside_number, but the number_to_print that was passed in\n",
    "    print(number_to_print, number_to_print) \n",
    "\n",
    "outside_number = 7 # this will not be used in the function scope. Instead, we'll pass it in as an argument\n",
    "print_number_twice(outside_number) # here we pass the number directly to the function\n",
    "# this is safer, because there is no possibility that someone changes  "
   ]
  },
  {
   "cell_type": "markdown",
   "metadata": {},
   "source": [
    "\n",
    "Some more examples:"
   ]
  },
  {
   "cell_type": "code",
   "execution_count": null,
   "metadata": {},
   "outputs": [],
   "source": [
    "# try to guess what will be printed before you run this cell\n",
    "def change_name():\n",
    "    name = \"Maggy\" # we create another unrelated variable name in this scope, and we set it to \"Maggy\"\n",
    "    print(name) # inside of this scope name is \"Maggy\"\n",
    "\n",
    "name = \"Margaret\"\n",
    "print(name) # name is \"Margaret\"\n",
    "change_name()\n",
    "print(name) # name is still \"Margaret\""
   ]
  },
  {
   "cell_type": "code",
   "execution_count": null,
   "metadata": {},
   "outputs": [],
   "source": [
    "def sum(a,b,c):\n",
    "    result = a+b+c # variable result only exists in this function's local scope\n",
    "\n",
    "sum(1,2,4)\n",
    "print(result) # this will error, because there is no variable result in the global scope"
   ]
  },
  {
   "cell_type": "markdown",
   "metadata": {},
   "source": [
    "# The final piece of the puzzle: Functions returning values - this is tricky at first, but increadibly useful!"
   ]
  },
  {
   "cell_type": "markdown",
   "metadata": {},
   "source": [
    "We know that functions are blocks of code with some functionality that we want to reuse."
   ]
  },
  {
   "cell_type": "code",
   "execution_count": null,
   "metadata": {},
   "outputs": [],
   "source": [
    "def say_hello_twice():\n",
    "    print(\"hello\" + \"hello\") # this is not a very useful function. It can only print \"hellohello\".\n",
    "\n",
    "say_hello_twice()"
   ]
  },
  {
   "cell_type": "markdown",
   "metadata": {},
   "source": [
    "We know that we can pass in parameters to functions, so that the functionality in them can be applied in different cotext."
   ]
  },
  {
   "cell_type": "code",
   "execution_count": null,
   "metadata": {},
   "outputs": [],
   "source": [
    "def say_a_word_twice(word):\n",
    "        print(word + word) # this is more universal and reusable, you can apply it to any word\n",
    "\n",
    "say_a_word_twice(\"Banana\")"
   ]
  },
  {
   "cell_type": "markdown",
   "metadata": {},
   "source": [
    "**RETURNING VALUES**: After function is done with its work, it can return the value to whoever called it. "
   ]
  },
  {
   "cell_type": "code",
   "execution_count": null,
   "metadata": {},
   "outputs": [],
   "source": [
    "# we have already seen this before with input(\"\") where after running input we capured (stored) value into a variable\n",
    "my_name = input(\"who are you?\")\n",
    "print(my_name)"
   ]
  },
  {
   "cell_type": "code",
   "execution_count": null,
   "metadata": {},
   "outputs": [],
   "source": [
    "# we can make our functions RETURN a value, which means that after they are run, it can be stored in a variable\n",
    "def combine_a_word_twice(word):\n",
    "    return word + word \n",
    "\n",
    "word_twice = combine_a_word_twice(\"Banana\")\n",
    "print(word_twice)\n",
    "# this is even more universal, because we can do things with the result of the function"
   ]
  },
  {
   "cell_type": "code",
   "execution_count": null,
   "metadata": {},
   "outputs": [],
   "source": [
    "# What happens with the returned value from a function? \n",
    "# It basically appears in the place where you called the function.\n",
    "\n",
    "# so when you run below code, function combine_a_word_twice(\"hi\") will be executed, and SWAPPED for \"hihi\"\n",
    "words = combine_a_word_twice(\"hi\")\n",
    "print(words)"
   ]
  },
  {
   "cell_type": "code",
   "execution_count": null,
   "metadata": {},
   "outputs": [],
   "source": [
    "# above code is EXACTLY like saying\n",
    "words = \"hihi\"\n",
    "print(words)"
   ]
  },
  {
   "cell_type": "markdown",
   "metadata": {},
   "source": [
    "**When the program is run, it will put the function's RESULT in the place where you CALLED THE FUNCTION.**\n",
    "\n",
    "Note: when a function reaches a ```return``` it will 'terminate' which means it will not look at any code after ```return```"
   ]
  },
  {
   "cell_type": "code",
   "execution_count": null,
   "metadata": {},
   "outputs": [],
   "source": [
    "def get_hello_twice(): # this function will return \"hello hello\"\n",
    "    return \"hello hello\"\n",
    "\n",
    "print( get_hello_twice() ) # so this is like calling print( \"hello hello\" )"
   ]
  },
  {
   "cell_type": "code",
   "execution_count": null,
   "metadata": {},
   "outputs": [],
   "source": [
    "def get_a_lucky_number(): # this function will return 7\n",
    "    return 7\n",
    "\n",
    "print( get_a_lucky_number() ) # so this is like calling print( 7 )"
   ]
  },
  {
   "cell_type": "code",
   "execution_count": null,
   "metadata": {},
   "outputs": [],
   "source": [
    "def sum(a,b,c):\n",
    "    return a+b+c # we return the outcome of a+b+c to whoever called this function\n",
    "\n",
    "print(sum(1,2,4)) # is like calling print(7) because sum(1,2,4) returns 7\n",
    "print(sum(10,10,10)) # is like calling print(30) because sum(10,10,10) returns 30\n",
    "print(sum(1,1,1)) # is like calling print(3) because sum(1,1,1) returns 3"
   ]
  },
  {
   "cell_type": "markdown",
   "metadata": {},
   "source": [
    "Often you will want to capture an outcome of a variable (what it returned) in a variable so that you can use it later. For example:"
   ]
  },
  {
   "cell_type": "code",
   "execution_count": null,
   "metadata": {},
   "outputs": [],
   "source": [
    "def sum(a,b,c):\n",
    "    return a+b+c # we return the outcome of a+b+c to whoever called this function\n",
    "\n",
    "total = sum(1,2,4) # is like calling total = 7 because sum(1,2,4) returns 7\n",
    "print(total) \n",
    "print(total * total) \n",
    "print(total + total)\n",
    "\n",
    "# do you see how this is more dry than calling:\n",
    "# print(sum(1,2,4)) \n",
    "# print(sum(1,2,4) * sum(1,2,4)) \n",
    "# print(sum(1,2,4) + sum(1,2,4))"
   ]
  },
  {
   "cell_type": "markdown",
   "metadata": {},
   "source": [
    "### Recap: Anatomy of a function"
   ]
  },
  {
   "cell_type": "markdown",
   "metadata": {},
   "source": [
    "In the below example:\n",
    "\n",
    "This is the definition of the function:\n",
    "    \n",
    "    def add_three_numbers(num_1, num_2, num_3):\n",
    "        sum = num_1 + num_2 + num_3\n",
    "        return sum\n",
    "        \n",
    "function name  ```add_three_numbers```\n",
    "\n",
    "function arguments  ```num_1, num_2, num_3```\n",
    "\n",
    "function body  \n",
    "\n",
    "    sum = num_1 + num_2 + num_3\n",
    "    return sum\n",
    "        \n",
    "function returns value here ```return sum```\n",
    "    \n",
    "Calling a function:\n",
    "\n",
    "    add_three_numbers(1,3,6) # we can pass any 3 arguments into this function\n",
    "\n"
   ]
  },
  {
   "cell_type": "markdown",
   "metadata": {},
   "source": [
    "### Combining all our previous knowledge with functions - Examples"
   ]
  },
  {
   "cell_type": "markdown",
   "metadata": {},
   "source": [
    "Functions can include any type of code that we discussed before: variables, conditionals and calls to other functions. Basically any time you would like to reuse, or even clean up some of your code, you can use functions as a way to reuse some of your work later on.\n",
    "\n",
    "During the course we will build a lot of our own functions and use other people's functions.\n",
    "\n",
    "Below are some examples of how functions can be used:"
   ]
  },
  {
   "cell_type": "code",
   "execution_count": null,
   "metadata": {},
   "outputs": [],
   "source": [
    "def combine_words(word_1, word_2, word_3):\n",
    "    return word_1 + word_2 + word_3\n",
    "\n",
    "print(combine_words(\"How \", \"are \", \"You?\") )\n",
    "print(combine_words(\"Ba\",\"na\",\"na\"))\n",
    "print(combine_words(\"1\",\"2\",\"3\") ) \n",
    "print(combine_words(1,2,3) ) # notice that this will work but does not make much sense "
   ]
  },
  {
   "cell_type": "code",
   "execution_count": null,
   "metadata": {},
   "outputs": [],
   "source": [
    "def are_words_identical_case_insensitive(word_1, word_2):\n",
    "    return word_1.lower() == word_2.lower()\n",
    "\n",
    "print(are_words_identical_case_insensitive(\"banana\", \"Banana\"))\n",
    "print(are_words_identical_case_insensitive(\"meh\", \"yup\"))\n",
    "print(are_words_identical_case_insensitive(\"onion\", \"onion\"))"
   ]
  },
  {
   "cell_type": "code",
   "execution_count": null,
   "metadata": {},
   "outputs": [],
   "source": [
    "def is_larger_than_10(number):\n",
    "    if number > 10:\n",
    "        return True\n",
    "    else:\n",
    "        return False\n",
    "\n",
    "print(is_larger_than_10(3) )\n",
    "print(is_larger_than_10(10) )\n",
    "print(is_larger_than_10(11) )\n",
    "print(is_larger_than_10(100) )"
   ]
  },
  {
   "cell_type": "code",
   "execution_count": null,
   "metadata": {
    "scrolled": true
   },
   "outputs": [],
   "source": [
    "# it is important to pay attention to indentation!\n",
    "def greet_based_on_time(feeling_good, hour, name):    \n",
    "        # first decide what is your mood\n",
    "    if feeling_good == True:\n",
    "        mood_greeting =  \"Good\"\n",
    "    else:\n",
    "        mood_greeting =  \"Terrible\"\n",
    "    \n",
    "    # then decide what is the time of the day\n",
    "    if hour < 12:\n",
    "        time_of_the_day =  \"morning\"\n",
    "    elif hour < 17:\n",
    "        time_of_the_day =  \"afternoon\"\n",
    "    else:\n",
    "        time_of_the_day =  \"evening\"\n",
    "    \n",
    "    full_greeting = mood_greeting + \" \" + time_of_the_day + \", \" + name\n",
    "    return full_greeting\n",
    "    \n",
    "print( greet_based_on_time(False, 5, \"Mia\") )\n",
    "print( greet_based_on_time(True, 11, \"Cera\"))\n",
    "print( greet_based_on_time(False, 12, \"Sara\"))\n",
    "print( greet_based_on_time(True, 21, \"Minie\"))"
   ]
  },
  {
   "cell_type": "markdown",
   "metadata": {},
   "source": [
    "# OPTIONAL BUT VERY USEFUL FEATURES: Named arguments and Default Values\n",
    "\n",
    "(optional notes) Default values - simplify code, but have to be at the end\n",
    "Sometimes we would like to privide default values for some arguments. Mainly to make it easier to use our functions. In the coffee example above sometimes we would like to just say \"Coffee, Please\" and the barrista will know that we want normal sized, no sugar, no milk coffee."
   ]
  },
  {
   "cell_type": "markdown",
   "metadata": {},
   "source": [
    "For that to work (without writing another, simpler function) we could specify some DEFAULT ARGUMENTS. Basically, we can give some arguments a value that should be assumed, if we did not specify otherwise.\n",
    "\n",
    "A great thing about default arguments is that we can still use the function as we did above (specifying everything), but we can also use the simplified version of them."
   ]
  },
  {
   "cell_type": "code",
   "execution_count": null,
   "metadata": {},
   "outputs": [],
   "source": [
    "def order_coffee(size = \"normal\", number_of_sugars = 0, type_of_milk = \"no\"): \n",
    "    print(\"Here's a \"+size+\" coffee with \"+str(number_of_sugars)+\" sugars and \"+type_of_milk+\" milk\")\n",
    "\n",
    "# when no value is specified, python will assume default values (\"normal\", 0, \"no\")\n",
    "\n",
    "order_coffee()                        #  is like calling order_coffee(\"normal\", 0, \"no\")\n",
    "order_coffee(\"filter\")                #  is like calling order_coffee(\"filter\", 0, \"no\")\n",
    "order_coffee(\"filter\", 2)             #  is like calling order_coffee(\"filter\", 2, \"no\")\n",
    "order_coffee(\"filter\", 2, \"skimmed\")  #  is like calling order_coffee(\"filter\", 2, \"skimmed\")"
   ]
  },
  {
   "cell_type": "markdown",
   "metadata": {},
   "source": [
    "TRICKY BIT: Dafault values have to be at the end. Note that some, or all attributes can have default values, as long as the default arguments are all at the end, so we could write:\n",
    "\n",
    "```\n",
    "def order_coffee( size,            number_of_sugars,     type_of_milk       ): \n",
    "def order_coffee( size,            number_of_sugars,     type_of_milk = \"no\"): \n",
    "def order_coffee( size,            number_of_sugars = 0, type_of_milk = \"no\"): \n",
    "def order_coffee( size = \"normal\", number_of_sugars = 0, type_of_milk = \"no\"): \n",
    "```\n",
    "\n",
    "and as shown above, when can call a function we can skip some values, but we need to make sure that python will know what we're talking about and which argument is which.\n",
    "\n",
    "```\n",
    "order_coffee()\n",
    "order_coffee(\"filter\")\n",
    "order_coffee(\"filter\", 2)\n",
    "order_coffee(\"filter\", 2, \"skimmed\")\n",
    "```\n",
    "\n",
    "Why do they need to be at the end? Becuase if the attribute with a default value was in the middle, like in the below example:"
   ]
  },
  {
   "cell_type": "code",
   "execution_count": null,
   "metadata": {},
   "outputs": [],
   "source": [
    "# this will return an error - read the error carefully\n",
    "def order_coffee( size = \"normal\", number_of_sugars = 0, type_of_milk): # notice last argument has no default\n",
    "    print(\"Here's a \"+size+\" coffee with \"+str(number_of_sugars)+\" sugars and \"+type_of_milk+\" milk\")\n",
    "  "
   ]
  },
  {
   "cell_type": "code",
   "execution_count": null,
   "metadata": {},
   "outputs": [],
   "source": [
    "# here I tried to use default for number_of_sugars but specify type_of_milk. That is not possible.\n",
    "\n",
    "def order_coffee(size = \"normal\", number_of_sugars = 0, type_of_milk = \"no\"): \n",
    "    print(\"Here's a \"+size+\" coffee with \"+str(number_of_sugars)+\" sugars and \"+type_of_milk+\" milk\")\n",
    "    \n",
    "order_coffee(\"filter\", \"skimmed\") # here I hoped to use default number_of_sugars\n",
    "# run this code, read the result, and notice what is wrong"
   ]
  },
  {
   "cell_type": "markdown",
   "metadata": {},
   "source": [
    "### Optional Named Arguments - naming all arguments so that the order does not matter\n",
    "\n",
    "Alternatively, there is an option to specify the name of each argument when you call a function. This could be useful in a few advanced scenarios, which are outside of the scope of this course. But here is an example of it, so that if you ever encounter it, it is familiar."
   ]
  },
  {
   "cell_type": "code",
   "execution_count": null,
   "metadata": {},
   "outputs": [],
   "source": [
    "# our order_coffee funtion from before can be called in new ways:\n",
    "\n",
    "def order_coffee(size = \"normal\", number_of_sugars = 0, type_of_milk = \"no\"): \n",
    "    return \"Here's a \"+size+\" coffee with \"+str(number_of_sugars)+\" sugars and \"+type_of_milk+\" milk\"\n",
    "\n",
    "# as before you could call the function with all arguments\n",
    "print( order_coffee(size = \"large\", number_of_sugars = 2, type_of_milk = \"soy\") )"
   ]
  },
  {
   "cell_type": "code",
   "execution_count": null,
   "metadata": {},
   "outputs": [],
   "source": [
    "# or you could specify just some arguments, other ones will use default value (this is new)\n",
    "#  below is calling order_coffee(\"normal\", 0, \"soy\") because size  and number_of_sugars will take default value\n",
    "print(order_coffee(type_of_milk = \"soy\"))"
   ]
  },
  {
   "cell_type": "code",
   "execution_count": null,
   "metadata": {},
   "outputs": [],
   "source": [
    "#  below is calling order_coffee(\"normal\", 4, \"cow\") because size will take default value\n",
    "print(order_coffee(number_of_sugars = 4, type_of_milk = \"cow\"))"
   ]
  },
  {
   "cell_type": "code",
   "execution_count": null,
   "metadata": {},
   "outputs": [],
   "source": [
    "#  below is calling order_coffee(\"normal\", 0, \"no\") because size will take default value\n",
    "print(order_coffee())"
   ]
  },
  {
   "cell_type": "markdown",
   "metadata": {},
   "source": [
    "## ⭐️⭐️⭐️💥 What you learned in this session: Three stars and a wish \n",
    "**In yoru own words** write in your Learn diary:\n",
    "\n",
    "- 3 things you yould like to remember from this badge\n",
    "- 1 thing you wish to understand better in the future or a question you'd like to ask"
   ]
  },
  {
   "cell_type": "markdown",
   "metadata": {},
   "source": [
    "# ⛏ Bonus Minitask: Separating functions\n",
    "\n",
    "- Take the function below (taken from earlier on in this badge) and refactor it to use the mower of functions more\n",
    "- break it down into more impler function, you may allow them to have default and named arguments\n",
    "- add any more features or element that you'd like\n",
    "\n",
    "Remember to every now and then save your progress (File > Save, or a keyboard shortcut) "
   ]
  },
  {
   "cell_type": "code",
   "execution_count": null,
   "metadata": {},
   "outputs": [],
   "source": [
    "def greet_based_on_time(feeling_good, hour, name):    \n",
    "    if feeling_good == True:\n",
    "        mood_greeting =  \"Good\"\n",
    "    else:\n",
    "        mood_greeting =  \"Terrible\"\n",
    "    \n",
    "    if hour < 12:\n",
    "        time_of_the_day =  \"morning\"\n",
    "    elif hour < 17:\n",
    "        time_of_the_day =  \"afternoon\"\n",
    "    else:\n",
    "        time_of_the_day =  \"evening\"\n",
    "    \n",
    "    full_greeting = mood_greeting + \" \" + time_of_the_day + \", \" + name\n",
    "    return full_greeting\n",
    "    \n",
    "print( greet_based_on_time(False, 5, \"Mia\") )\n",
    "print( greet_based_on_time(True, 11, \"Cera\"))\n",
    "print( greet_based_on_time(False, 12, \"Sara\"))\n",
    "print( greet_based_on_time(True, 21, \"Minie\"))"
   ]
  },
  {
   "cell_type": "markdown",
   "metadata": {},
   "source": [
    "\n",
    "\n",
    "\n",
    "\n",
    "\n",
    "\n",
    "\n",
    "\n",
    "\n",
    "\n",
    "\n",
    "\n",
    "\n",
    "\n",
    "\n",
    "\n",
    "\n",
    "\n",
    "\n",
    "\n",
    "\n",
    "\n"
   ]
  }
 ],
 "metadata": {
  "kernelspec": {
   "display_name": "Python 3",
   "language": "python",
   "name": "python3"
  },
  "language_info": {
   "codemirror_mode": {
    "name": "ipython",
    "version": 3
   },
   "file_extension": ".py",
   "mimetype": "text/x-python",
   "name": "python",
   "nbconvert_exporter": "python",
   "pygments_lexer": "ipython3",
   "version": "3.7.6"
  }
 },
 "nbformat": 4,
 "nbformat_minor": 2
}
