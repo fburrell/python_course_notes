{
 "cells": [
  {
   "cell_type": "markdown",
   "metadata": {},
   "source": [
    "### This lab has two parts:"
   ]
  },
  {
   "cell_type": "markdown",
   "metadata": {},
   "source": [
    "**PART 1: Bicycle Hire data: Read two solutions and write a third:**\n",
    "\n",
    "- There are two solved examples (Tasks 1 and 2) that use Cycle Hire API and then a list of questions you can try answering by looking at the data.\n",
    "- if you run out of tasks feel free to come up with your own.\n",
    "\n",
    "**PART 2:**\n",
    "\n",
    "Pick one of the listed APIs and:\n",
    "\n",
    "1. Get data from it\n",
    "2. Represent that data as dictionaries or objects\n",
    "3. Invent 1-2 business questions and answer them using your code"
   ]
  },
  {
   "cell_type": "markdown",
   "metadata": {},
   "source": [
    "Notes:\n",
    "response.json() ---> Will return you data as json (basically a dictionary)\n",
    "response.text ---> Useful only for printing all data, Will return data as formatted string, but you can't treat it as a dictionary \n",
    "\n",
    "Notes: \n",
    "Use Chrome web browser and install this JSON Viewer extension to preview JSON in a more readable format: https://chrome.google.com/webstore/detail/json-viewer/gbmdgpbipfallnflgajpaliibnhdgobh"
   ]
  },
  {
   "cell_type": "markdown",
   "metadata": {},
   "source": [
    "# Part 1"
   ]
  },
  {
   "cell_type": "markdown",
   "metadata": {},
   "source": [
    "### Bicycle Scheme API Reference:"
   ]
  },
  {
   "cell_type": "markdown",
   "metadata": {},
   "source": [
    "We'll use two API calls: \n",
    "\n",
    "**PERMANENT STATION INFORMATION**: detailed not-changing info about stations (eg. their intended size, location). Use it to get info about all stations in format:\n",
    "\n",
    "```\n",
    "{\n",
    "        \"station_id\": \"1727\",\n",
    "        \"name\": \"Causewayside\",\n",
    "        \"address\": \"Causewayside, Edinburgh, EH9 1PR\",\n",
    "        \"lat\": 55.93650603148236,\n",
    "        \"lon\": -3.1801663476151134,\n",
    "        \"capacity\": 15\n",
    "      }\n",
    "```\n",
    "      \n",
    "**LIVE-UPDATED STATION STATUS**: time relevant (refreshed every 10s) info about current status of the bicycle docking stations right now. Use it to get info about all stations in format:\n",
    "\n",
    "```\n",
    "{\n",
    "        \"station_id\": \"1727\",\n",
    "        \"is_installed\": 1,\n",
    "        \"is_renting\": 1,\n",
    "        \"is_returning\": 1,\n",
    "        \"last_reported\": 1571174615,\n",
    "        \"num_bikes_available\": 3,\n",
    "        \"num_docks_available\": 12\n",
    "      }\n",
    "      \n",
    "```\n",
    "\n",
    "**Documentation:**\n",
    " \n",
    "https://edinburghcyclehire.com/open-data/realtime \n",
    "\n",
    "**Full responses of the calls:**\n",
    "\n",
    "https://gbfs.urbansharing.com/edinburghcyclehire.com/station_information.json\n",
    "\n",
    "```\n",
    "{\n",
    "  \"last_updated\": 1571174713,\n",
    "  \"ttl\": 10,\n",
    "  \"data\": {\n",
    "    \"stations\": [\n",
    "      {\n",
    "        \"station_id\": \"1727\",\n",
    "        \"name\": \"Causewayside\",\n",
    "        \"address\": \"Causewayside, Edinburgh, EH9 1PR\",\n",
    "        \"lat\": 55.93650603148236,\n",
    "        \"lon\": -3.1801663476151134,\n",
    "        \"capacity\": 15\n",
    "      },\n",
    "      {\n",
    "        \"station_id\": \"1726\",\n",
    "        \"name\": \"Simon Square\",\n",
    "        \"address\": \"Simon Square, Edinburgh, EH8 9HP\",\n",
    "        \"lat\": 55.94485886752089,\n",
    "        \"lon\": -3.182589723460069,\n",
    "        \"capacity\": 13\n",
    "      },\n",
    "```\n",
    "\n",
    "https://gbfs.urbansharing.com/edinburghcyclehire.com/station_status.json   \n",
    "\n",
    "\n",
    "```\n",
    "  {\n",
    "  \"last_updated\": 1571174615,\n",
    "  \"ttl\": 10,\n",
    "  \"data\": {\n",
    "    \"stations\": [\n",
    "      {\n",
    "        \"station_id\": \"1727\",\n",
    "        \"is_installed\": 1,\n",
    "        \"is_renting\": 1,\n",
    "        \"is_returning\": 1,\n",
    "        \"last_reported\": 1571174615,\n",
    "        \"num_bikes_available\": 3,\n",
    "        \"num_docks_available\": 12\n",
    "      },\n",
    "      {\n",
    "        \"station_id\": \"1726\",\n",
    "        \"is_installed\": 1,\n",
    "        \"is_renting\": 1,\n",
    "        \"is_returning\": 1,\n",
    "        \"last_reported\": 1571174615,\n",
    "        \"num_bikes_available\": 5,\n",
    "        \"num_docks_available\": 8\n",
    "      },\n",
    "```\n",
    "\n"
   ]
  },
  {
   "cell_type": "markdown",
   "metadata": {},
   "source": [
    "## Some starting code: Here are two functions for you to get the data. \n",
    "\n",
    "No need to edit those, or to even understand them. Just run these cells, so that you can use `get_all_stations_info()` and `get_all_stations_status()` to get the lists of dictionaries, with data about bicycle docking stations."
   ]
  },
  {
   "cell_type": "code",
   "execution_count": null,
   "metadata": {},
   "outputs": [],
   "source": [
    "import requests\n",
    "import pprint as pp\n",
    "    \n",
    "\n",
    "# here are two functions that you do not need to undertsand just now (but do try later!)\n",
    "# just have a look at their outputs below:L\n",
    "\n",
    "def get_all_stations_info():\n",
    "    # you can see it in yoru briwser by going to: \n",
    "#   # https://gbfs.urbansharing.com/edinburghcyclehire.com/station_information.json\n",
    "\n",
    "    response_station_information = requests.request(\"GET\", \"https://gbfs.urbansharing.com/edinburghcyclehire.com/station_information.json\")\n",
    "    stations_info = response_station_information.json()['data']['stations']\n",
    "    return stations_info\n",
    "\n",
    "def get_all_stations_status():\n",
    "    # you can see it in yoru briwser by going to: \n",
    "    # https://gbfs.urbansharing.com/edinburghcyclehire.com/station_status.json\n",
    "    \n",
    "    response_station_status = requests.request(\"GET\", \"https://gbfs.urbansharing.com/edinburghcyclehire.com/station_status.json\")\n",
    "    stations_status = response_station_status.json()['data']['stations']\n",
    "    return stations_status\n"
   ]
  },
  {
   "cell_type": "markdown",
   "metadata": {},
   "source": [
    "Let's call these functions, so that you see what they return:"
   ]
  },
  {
   "cell_type": "code",
   "execution_count": null,
   "metadata": {},
   "outputs": [],
   "source": [
    "infos = get_all_stations_info()\n",
    "pp.pprint(infos)"
   ]
  },
  {
   "cell_type": "code",
   "execution_count": null,
   "metadata": {},
   "outputs": [],
   "source": [
    "statuses = get_all_stations_status()\n",
    "pp.pprint(statuses)"
   ]
  },
  {
   "cell_type": "markdown",
   "metadata": {},
   "source": [
    "### SOLVED Task 1 - What is the total capacity of all docking stations in Edinburgh?  (use station info to find out)"
   ]
  },
  {
   "cell_type": "code",
   "execution_count": null,
   "metadata": {},
   "outputs": [],
   "source": [
    "def get_total_capacity():\n",
    "    all_stations_infos = get_all_stations_info()\n",
    "    capacities = [ station_info['capacity']\n",
    "                    for station_info in all_stations_infos\n",
    "                 ]\n",
    "    return sum(capacities)\n",
    "\n",
    "print( \"Total Capacity: \", get_total_capacity() )"
   ]
  },
  {
   "cell_type": "markdown",
   "metadata": {},
   "source": [
    "### SOLVED Task 2 - How many bicycles are available right now (use station status to find out)"
   ]
  },
  {
   "cell_type": "code",
   "execution_count": null,
   "metadata": {},
   "outputs": [],
   "source": [
    "def get_total_bikes_parked_now():\n",
    "    all_stations_statuses = get_all_stations_status()\n",
    "\n",
    "\n",
    "    bikes_parked = [ station_status['num_bikes_available']\n",
    "                    for station_status in all_stations_statuses\n",
    "                 ]        \n",
    "    return sum(bikes_parked)\n",
    "\n",
    "print( \"Bikes Parked now: \", get_total_bikes_parked_now() )"
   ]
  },
  {
   "cell_type": "markdown",
   "metadata": {},
   "source": [
    "### SOLVED Task 3 -  Business wants to place adverts of the largest stations (the ones larger than average). How many stations are we talking about? \n",
    "\n",
    "Find the number of stations that are above average capacity. Calculate total capacity (you did it already), then find out the average capacity. Finally filter only stations larger than that and count them. \n",
    "\n",
    "note: Prints are there to show you the process in a clearer way. But it's the return value that counts!"
   ]
  },
  {
   "cell_type": "code",
   "execution_count": null,
   "metadata": {},
   "outputs": [],
   "source": [
    "def get_stations_in_top_10_percent_largest():\n",
    "    all_stations_infos = get_all_stations_info()\n",
    "\n",
    "    total_capacity = get_total_capacity()\n",
    "    print(\"total_capacity\",total_capacity)\n",
    "\n",
    "    number_of_stations = len(all_stations_infos)\n",
    "    print(\"number_of_stations\",number_of_stations)\n",
    "    \n",
    "    average_capacity = total_capacity / number_of_stations\n",
    "    print(\"average capacity is\",average_capacity)\n",
    "    \n",
    "    stations_in_top_10_percent_largest = [ station_info['capacity']\n",
    "                    for station_info in all_stations_infos\n",
    "                    if station_info['capacity'] > average_capacity\n",
    "                 ]        \n",
    "    \n",
    "    return len(stations_in_top_10_percent_largest)\n",
    "\n",
    "print( \"Number of stations larger than average: \", get_stations_in_top_10_percent_largest() )"
   ]
  },
  {
   "cell_type": "markdown",
   "metadata": {},
   "source": [
    "Optional addition to task 3: once you understand avbove code, can you Change it so it shows the list of all capacities above average? It will look a bit like this: `[29, 24, 31, 26, 23, 36]` ?"
   ]
  },
  {
   "cell_type": "markdown",
   "metadata": {},
   "source": [
    "### Task 4 - What is the number of docking stations with unknown state? (not having a bike in them, and not waiting for a bike)\n",
    "\n",
    "\n",
    "In the station status we know two things about each docking station: number of usable bikes available there now `num_bikes_available`  and number of empty parking spots available now `num_docks_available`. But we also know the `capacity` that the station was designed for. \n",
    "\n",
    "When you look at the data carefully, you will see that often the designed `capacity` does not add up to `num_bikes_available` plus `num_docks_available`. That's becuse if a docking pointis broken, or broken bicycle is in it.\n",
    "\n",
    "Find out how many of these 'zombie' spaces are there in the whole city. How would you do that?"
   ]
  },
  {
   "cell_type": "code",
   "execution_count": null,
   "metadata": {},
   "outputs": [],
   "source": [
    "def get_number_of_docks_not_waiting_and_not_with_a_bike():\n",
    "\n",
    "    # your code here\n",
    "    \n",
    "    return #something\n",
    "\n",
    "print( \"Zombie docks:\", get_number_of_docks_not_waiting_and_not_with_a_bike() )"
   ]
  },
  {
   "cell_type": "markdown",
   "metadata": {},
   "source": [
    "### Task 5 - What is average number of bikes available per station\n"
   ]
  },
  {
   "cell_type": "code",
   "execution_count": null,
   "metadata": {},
   "outputs": [],
   "source": []
  },
  {
   "cell_type": "markdown",
   "metadata": {},
   "source": [
    "### Task 6 - What percentage of stations is more than half-empty right now? (how would you calculate that? try to only use get_all_stations_status( ) )"
   ]
  },
  {
   "cell_type": "code",
   "execution_count": null,
   "metadata": {},
   "outputs": [],
   "source": []
  },
  {
   "cell_type": "markdown",
   "metadata": {},
   "source": [
    "### Task 7 - Given station id (e.g. 248 is the one next to Business School) print information about it FROM BOTH APIS"
   ]
  },
  {
   "cell_type": "code",
   "execution_count": null,
   "metadata": {},
   "outputs": [],
   "source": []
  },
  {
   "cell_type": "markdown",
   "metadata": {},
   "source": [
    "### Task 8 - Look at the available data about bicycle parking stations info and status and form a business problem that could be solved with this data. Then solve that problem with code"
   ]
  },
  {
   "cell_type": "code",
   "execution_count": null,
   "metadata": {},
   "outputs": [],
   "source": []
  },
  {
   "cell_type": "markdown",
   "metadata": {},
   "source": [
    "# Part 2: If you still have time: Pick one of the below APIs: Stocks or IMDB"
   ]
  },
  {
   "cell_type": "markdown",
   "metadata": {},
   "source": [
    "\n",
    "Pick one of the listed APIs and:\n",
    "\n",
    "1. Get data from it\n",
    "2. Represent that data as dictionaries or objects\n",
    "3. Invent 1-3 business questions and answer them using your code\n",
    "\n",
    "Agree on your goals first, so that you are on the same page."
   ]
  },
  {
   "cell_type": "markdown",
   "metadata": {},
   "source": [
    "### Stock Information:"
   ]
  },
  {
   "cell_type": "markdown",
   "metadata": {},
   "source": [
    "- this api will require you to create an account (you'll need to gove them youe email)\n",
    "- you will be limited to 5 calls a minute and 500 calls a day\n",
    "\n",
    "Get API key here:  https://www.alphavantage.co/support/#api-key\n",
    "\n",
    "Docs: https://www.alphavantage.co/documentation/ \n",
    "\n",
    "Look carefully at the URLs, they contain all the details about your question you're asking of API.\n",
    "\n",
    "for example https://www.alphavantage.co/query?function=FX_DAILY&from_symbol=EUR&to_symbol=GBP&apikey=123654\n",
    "\n",
    "contains these information:\n",
    "\n",
    "- type of info: FX_DAILY\n",
    "- from_symbol: EUR\n",
    "- to_symbol: GBP\n",
    "- apikey: 123654\n",
    "\n",
    "Some ideas:\n",
    "\n",
    "- What was the opening price of Tesla TSLA yesterday?\n",
    "- What percent of days was the open price higher than close price?\n",
    "- How often is the up/down trend from yesterday a good predictor of today?\n",
    "- Are some months worse than others every year?"
   ]
  },
  {
   "cell_type": "code",
   "execution_count": null,
   "metadata": {},
   "outputs": [],
   "source": [
    "# Example: currency exchange rates between EUR and GBP in last 4 months\n",
    "    \n",
    "# {\n",
    "#     \"Time Series FX (Daily)\": {\n",
    "#         \"2019-10-16\": {\n",
    "#             \"1. open\": \"0.8665\",\n",
    "#             \"2. high\": \"0.8674\",\n",
    "#             \"3. low\": \"0.8623\",\n",
    "#             \"4. close\": \"0.8644\"\n",
    "#         },\n",
    "    \n",
    "import requests\n",
    "your_api_key = \"abcde\" #get it from the above website\n",
    "\n",
    "\n",
    "url = \"https://www.alphavantage.co/query?function=FX_DAILY&from_symbol=EUR&to_symbol=GBP&apikey=\"+your_api_key\n",
    "response_currency = requests.request(\"GET\", url)\n",
    "stock_dictionary = response_currency.json()[\"Time Series FX (Daily)\"]\n",
    "pp.pprint(stock_dictionary)"
   ]
  },
  {
   "cell_type": "code",
   "execution_count": null,
   "metadata": {},
   "outputs": [],
   "source": [
    "# Example: daily stock value of GOOG since 2004-08-19\"\n",
    "\n",
    "# {\n",
    "#     \"Time Series (Daily)\": {\n",
    "#         \"2019-10-15\": {\n",
    "#             \"1. open\": \"1220.4000\",\n",
    "#             \"2. high\": \"1235.9200\",\n",
    "#             \"3. low\": \"1220.4000\",\n",
    "#             \"4. close\": \"1235.5700\",\n",
    "#             \"5. volume\": \"495397\"\n",
    "#         },\n",
    "\n",
    "\n",
    "import requests\n",
    "import pprint as pp\n",
    "your_api_key = \"abcde\" #get it from the above website\n",
    "\n",
    "url = \"https://www.alphavantage.co/query?function=TIME_SERIES_DAILY&outputsize=full&symbol=GOOG&apikey=\"+your_api_key\n",
    "response = requests.request(\"GET\", url)\n",
    "stock_dictionary = response.json()['Time Series (Daily)']\n",
    "pp.pprint(stock_dictionary)\n"
   ]
  },
  {
   "cell_type": "code",
   "execution_count": null,
   "metadata": {},
   "outputs": [],
   "source": [
    "# this is some advanced stuff. Look at the above data and try to figure out what's the data structure this api uses.\n",
    "\n",
    "#to get just dates, or just values\n",
    "all_dates = list(stock_dictionary.keys())\n",
    "all_values = list(stock_dictionary.values())\n",
    "\n",
    "# to drill into a particular date\n",
    "print(\"Google opening for 2014-04-01:\", stock_dictionary['2020-10-14']['1. open'])"
   ]
  },
  {
   "cell_type": "code",
   "execution_count": null,
   "metadata": {},
   "outputs": [],
   "source": [
    "# advanced: list comprehention to cycle through a dictionary\n",
    "[\"date:\" + key + \" opened on \" + value['1. open']\n",
    "for (key, value) in stock_dictionary.items()]"
   ]
  },
  {
   "cell_type": "code",
   "execution_count": null,
   "metadata": {},
   "outputs": [],
   "source": [
    "# super extra even more advanced! double list comprehention! + conditions!\n",
    "\n",
    "# get only open and close values, only for dates in October 2020\n",
    "\n",
    "[ date + \" had \"+ key + \" at \" + value\n",
    "for (date, values) in stock_dictionary.items()\n",
    "for (key, value ) in values.items()\n",
    "if date[0:7] == '2020-10' and  (key == '1. open' or key == '4. close' )\n",
    "]"
   ]
  },
  {
   "cell_type": "markdown",
   "metadata": {},
   "source": [
    "### IMDB Movie database"
   ]
  },
  {
   "cell_type": "markdown",
   "metadata": {},
   "source": [
    "website: http://www.omdbapi.com/\n",
    "get api key, 1000 calls limit: http://www.omdbapi.com/apikey.aspx (you'll need to click a link in email)\n",
    "\n",
    "\n",
    "**SEARCH BY TITLE** - http://www.omdbapi.com/?s=Batman - will return basic information about many movies. Each result will contain 10 results in a list. To see next page (11-20) add ```&page=2``` and to see 21-30 add &page=3 etc.\n",
    "\n",
    "**GET DETAILED INFO BY ID** - http://www.omdbapi.com/?i=tt0372784 - will return detailed information about one movie with the id you pass in the URL, in this example ```tt0372784```\n",
    "\n",
    "IDEA 1:\n",
    "Ask user for a movie title, search for that title in API and print all titles informat \"Godzilla (1993)\"\n",
    "\n",
    "IDEA 2:\n",
    "Display all movies in detailed format: \"Godzilla (1993) - 112 minutes - earned $10.300.000 - Rating: 8.2\"\n",
    "\n",
    "You will need to make two types of calls: \n",
    "\n",
    "- first get all movies with a particular title (eg \"Pokemon\" or \"Star Wars\")\n",
    "- in results for that call identify movie id's ```imdbID```\n",
    "- FOR EACH imdbID request detailed movie data and display it in a nice format\n",
    "\n",
    "Some further ideas:\n",
    "\n",
    "- are there more star wars or star trek movies?\n",
    "- Do star wars movies get longer more recently?"
   ]
  },
  {
   "cell_type": "code",
   "execution_count": null,
   "metadata": {},
   "outputs": [],
   "source": [
    "import requests\n",
    "your_api_key = \"abcde\" #get it from the above website\n",
    "\n",
    "url = \"http://www.omdbapi.com/?s=Batman&page=1&apikey=\" + your_api_key\n",
    "response = requests.request(\"GET\", url)\n",
    "\n",
    "# trying to print whole response. If you API key is not correct, this migh have unexpected value\n",
    "print(response.json()) \n",
    "\n",
    "\n",
    "# will give you a list of all Batman movies... all of them? No just first 10.\n",
    "# there are  'totalResults': '393'! (including cartoons)\n",
    "# notice in above URL we there is an argument page=1, if you change it to page=2... you get another 10\n",
    "\n",
    "\n",
    "# {\n",
    "#   \"Search\": [\n",
    "#     {\n",
    "#       \"Title\": \"Batman Begins\",\n",
    "#       \"Year\": \"2005\",\n",
    "#       \"imdbID\": \"tt0372784\",\n",
    "#       \"Type\": \"movie\",\n",
    "#       \"Poster\": \"https://m.media-amazon.com/images/M/MV5BZmUwNGU2ZmItMmRiNC00MjhlLTg5YWUtODMyNzkxODYzMmZlXkEyXkFqcGdeQXVyNTIzOTk5ODM@._V1_SX300.jpg\"\n",
    "#     },\n",
    "#     {\n",
    "#       \"Title\": \"Batman v Superman: Dawn of Justice\",\n",
    "#       \"Year\": \"2016\",\n",
    "#       \"imdbID\": \"tt2975590\",\n",
    "#       \"Type\": \"movie\",\n",
    "#       \"Poster\": \"https://m.media-amazon.com/images/M/MV5BYThjYzcyYzItNTVjNy00NDk0LTgwMWQtYjMwNmNlNWJhMzMyXkEyXkFqcGdeQXVyMTQxNzMzNDI@._V1_SX300.jpg\"\n",
    "#     },"
   ]
  },
  {
   "cell_type": "code",
   "execution_count": null,
   "metadata": {},
   "outputs": [],
   "source": [
    "# grab just the movies and print just the value of the first one\n",
    "movies = response.json()[\"Search\"] \n",
    "print(movies[0][\"Title\"])"
   ]
  },
  {
   "cell_type": "code",
   "execution_count": null,
   "metadata": {},
   "outputs": [],
   "source": [
    "import requests\n",
    "# your_api_key = \"abcde\" #get it from the above website\n",
    "\n",
    "url = \"http://www.omdbapi.com/?i=tt0372784&apikey={}\".format(your_api_key)\n",
    "response = requests.request(\"GET\", url)\n",
    "print(response.json()[\"Actors\"])\n",
    "\n",
    "# will give you a details of a movie with imdb id tt0372784, which is Batman Begins\n",
    "\n",
    "# {\n",
    "#   \"Title\": \"Batman Begins\",\n",
    "#   \"Year\": \"2005\",\n",
    "#   \"Rated\": \"PG-13\",\n",
    "#   \"Released\": \"15 Jun 2005\",\n",
    "#   \"Runtime\": \"140 min\",\n",
    "#   \"Genre\": \"Action, Adventure\",\n",
    "#   \"Director\": \"Christopher Nolan\",\n",
    "#   \"Writer\": \"Bob Kane (characters), David S. Goyer (story), Christopher Nolan (screenplay), David S. Goyer (screenplay)\",\n",
    "#   \"Actors\": \"Christian Bale, Michael Caine, Liam Neeson, Katie Holmes\",\n",
    "#   \"Plot\": \"After training with his mentor, Batman begins his fight to free crime-ridden Gotham City from corruption.\",\n",
    "#   \"Language\": \"English, Urdu, Mandarin\",\n",
    "#   \"Country\": \"USA, UK\",\n",
    "#   \"Awards\": \"Nominated for 1 Oscar. Another 14 wins & 72 nominations.\",\n",
    "#   \"Poster\": \"https://m.media-amazon.com/images/M/MV5BZmUwNGU2ZmItMmRiNC00MjhlLTg5YWUtODMyNzkxODYzMmZlXkEyXkFqcGdeQXVyNTIzOTk5ODM@._V1_SX300.jpg\",\n",
    "#   \"Ratings\": [\n",
    "#     {\n",
    "#       \"Source\": \"Internet Movie Database\",\n",
    "#       \"Value\": \"8.2/10\"\n",
    "#     },\n",
    "#     {\n",
    "#       \"Source\": \"Rotten Tomatoes\",\n",
    "#       \"Value\": \"84%\"\n",
    "#     },\n",
    "#     {\n",
    "#       \"Source\": \"Metacritic\",\n",
    "#       \"Value\": \"70/100\"\n",
    "#     }\n",
    "#   ],\n",
    "#   \"Metascore\": \"70\",\n",
    "#   \"imdbRating\": \"8.2\",\n",
    "#   \"imdbVotes\": \"1,212,892\",\n",
    "#   \"imdbID\": \"tt0372784\",\n",
    "#   \"Type\": \"movie\",\n",
    "#   \"DVD\": \"18 Oct 2005\",\n",
    "#   \"BoxOffice\": \"$204,100,000\",\n",
    "#   \"Production\": \"Warner Bros. Pictures\",\n",
    "#   \"Website\": \"N/A\",\n",
    "#   \"Response\": \"True\"\n",
    "# }"
   ]
  },
  {
   "cell_type": "code",
   "execution_count": null,
   "metadata": {},
   "outputs": [],
   "source": []
  },
  {
   "cell_type": "code",
   "execution_count": null,
   "metadata": {},
   "outputs": [],
   "source": []
  }
 ],
 "metadata": {
  "kernelspec": {
   "display_name": "Python 3",
   "language": "python",
   "name": "python3"
  },
  "language_info": {
   "codemirror_mode": {
    "name": "ipython",
    "version": 3
   },
   "file_extension": ".py",
   "mimetype": "text/x-python",
   "name": "python",
   "nbconvert_exporter": "python",
   "pygments_lexer": "ipython3",
   "version": "3.7.6"
  }
 },
 "nbformat": 4,
 "nbformat_minor": 2
}
