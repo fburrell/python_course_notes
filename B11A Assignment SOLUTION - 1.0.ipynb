{
 "cells": [
  {
   "cell_type": "markdown",
   "metadata": {},
   "source": [
    "# Task 1: "
   ]
  },
  {
   "cell_type": "code",
   "execution_count": 128,
   "metadata": {
    "nbgrader": {
     "grade": true,
     "grade_id": "cell-745e80fe5f61dda5",
     "locked": false,
     "points": 100,
     "schema_version": 3,
     "solution": true,
     "task": false
    }
   },
   "outputs": [],
   "source": [
    "import requests\n",
    "import math\n",
    "import pprint as pp\n",
    "\n",
    "\n",
    "def get_basic_list_of_movies_for_title(movie_title, number_of_pages = 1): #if pages is not specified, assume 1\n",
    "    '''get basic info of movies'''\n",
    "    \n",
    "    api_key = \"dd14dc5f\" \n",
    "    query = movie_title\n",
    "    result_type=\"movie\"\n",
    "    results_per_page = 10\n",
    "    year = \"\" \n",
    "    \n",
    "    movies_basic_info = []\n",
    "    for page in range(1, number_of_pages + 1):\n",
    "        url = f\"http://www.omdbapi.com/?s={query}&page={page}&apikey={api_key}&type={result_type}&y={year}\"\n",
    "        result_dict = requests.request(\"GET\", url).json()\n",
    "        movies_basic_info.extend( result_dict['Search'] ) \n",
    "        totalResults = int(result_dict['totalResults']) \n",
    "        number_of_pages = math.ceil(totalResults / results_per_page) # ceil means round UP\n",
    "        if  number_of_pages <= page:\n",
    "            break # if reached last page, stop looping\n",
    "\n",
    "    return movies_basic_info"
   ]
  },
  {
   "cell_type": "code",
   "execution_count": 129,
   "metadata": {
    "nbgrader": {
     "grade": true,
     "grade_id": "cell-745e80fe5f61dda5",
     "locked": false,
     "points": 100,
     "schema_version": 3,
     "solution": true,
     "task": false
    }
   },
   "outputs": [
    {
     "name": "stdout",
     "output_type": "stream",
     "text": [
      "tests passed\n"
     ]
    }
   ],
   "source": [
    "assert len(get_basic_list_of_movies_for_title(\"star wars\")) == 10\n",
    "assert len(get_basic_list_of_movies_for_title(\"star wars\", 2)) > 10\n",
    "assert \"Star Wars\" in get_basic_list_of_movies_for_title(\"star wars\")[0]['Title'] \n",
    "print(\"tests passed\")"
   ]
  },
  {
   "cell_type": "code",
   "execution_count": 130,
   "metadata": {},
   "outputs": [],
   "source": [
    "def get_details_of_movie_with_id(movie_id): # if movie does not exist, return None\n",
    "    api_key = \"dd14dc5f\" \n",
    "    url = f\"http://www.omdbapi.com/?i={movie_id}&apikey={api_key}\"\n",
    "    result_dict = requests.request(\"GET\", url).json()\n",
    "    return result_dict if result_dict['Response'] == \"True\" else None \n",
    "    # above is a ternary (simplified if) value_if_true if condition else value_if_false"
   ]
  },
  {
   "cell_type": "code",
   "execution_count": 131,
   "metadata": {},
   "outputs": [
    {
     "name": "stdout",
     "output_type": "stream",
     "text": [
      "tests passed\n"
     ]
    }
   ],
   "source": [
    "assert get_details_of_movie_with_id(\"tt0076759\")['Response'] == \"True\"\n",
    "assert get_details_of_movie_with_id(\"tt0076759\")['Title'] == \"Star Wars: Episode IV - A New Hope\"\n",
    "assert get_details_of_movie_with_id(\"bananas\") == None\n",
    "print(\"tests passed\")"
   ]
  },
  {
   "cell_type": "code",
   "execution_count": 132,
   "metadata": {},
   "outputs": [
    {
     "name": "stdout",
     "output_type": "stream",
     "text": [
      "tests passed\n"
     ]
    }
   ],
   "source": [
    "def get_detailed_info_of_movies_for_title(movie_title, number_of_pages = 1): #if pages is not specified, assume 1\n",
    "    basic_movie_infos = get_basic_list_of_movies_for_title(movie_title, number_of_pages)\n",
    "    detailed_movie_infos = []\n",
    "    for movie in basic_movie_infos:\n",
    "        movie_details = get_details_of_movie_with_id(movie['imdbID'])\n",
    "        if movie_details != None:\n",
    "             detailed_movie_infos.append(movie_details) \n",
    "    return detailed_movie_infos\n",
    "\n",
    "assert len(get_detailed_info_of_movies_for_title(\"star wars\")) == 10\n",
    "assert len(get_detailed_info_of_movies_for_title(\"star wars\", 2)) > 10\n",
    "assert \"Star Wars\" in get_detailed_info_of_movies_for_title(\"star wars\")[0]['Title'] \n",
    "assert get_detailed_info_of_movies_for_title(\"star wars\")[0]['Director'] != None\n",
    "print(\"tests passed\")"
   ]
  },
  {
   "cell_type": "code",
   "execution_count": 133,
   "metadata": {},
   "outputs": [],
   "source": [
    "def movie_detail_as_string(movie):\n",
    "    basic_info = f\"{movie['Title']} ({movie['Year']}, {movie['Rated']}, {movie['Country']})\"\n",
    "    details = f\"Director: {movie['Director']}, Actors: {movie['Actors']})\"\n",
    "    plot = f\"Plot: {movie['Plot']}\"\n",
    "    return f\"{basic_info:*^90}\\n* {details[0:86]:*^86} *\\n* {plot[0:86]:*^86} *\\n{'':*^90}\\n\\n\"\n",
    "    # details[0:86] is trimming details to just first 86 characters\n"
   ]
  },
  {
   "cell_type": "code",
   "execution_count": 134,
   "metadata": {},
   "outputs": [
    {
     "name": "stdout",
     "output_type": "stream",
     "text": [
      "tests passed\n"
     ]
    }
   ],
   "source": [
    "expected_output = \"********************Star Wars: Episode IV - A New Hope (1977, PG, USA)********************\\n* Director: George Lucas, Actors: Mark Hamill, Harrison Ford, Carrie Fisher, Peter Cushi *\\n* Plot: Luke Skywalker joins forces with a Jedi Knight, a cocky pilot, a Wookiee and two *\\n******************************************************************************************\\n\\n\"\n",
    "example_movie = {'Title': 'Star Wars: Episode IV - A New Hope',\n",
    " 'Year': '1977',\n",
    " 'Rated': 'PG',\n",
    " 'Director': 'George Lucas',\n",
    " 'Actors': 'Mark Hamill, Harrison Ford, Carrie Fisher, Peter Cushing',\n",
    " 'Plot': \"Luke Skywalker joins forces with a Jedi Knight, a cocky pilot, a Wookiee and two droids to save the galaxy from the Empire's world-destroying battle station, while also attempting to rescue Princess Leia from the mysterious Darth Vader.\",\n",
    " 'Country': 'USA'}\n",
    "assert movie_detail_as_string(example_movie) == expected_output\n",
    "print(\"tests passed\")"
   ]
  },
  {
   "cell_type": "code",
   "execution_count": 135,
   "metadata": {},
   "outputs": [],
   "source": [
    "def translate_rating_into_subgroup(rating_string):\n",
    "    rating_as_number = float(rating_string)\n",
    "    if rating_as_number < 7.0:\n",
    "        return \"Mediocre\"\n",
    "    elif rating_as_number < 8.0:\n",
    "        return \"Good\"\n",
    "    else:\n",
    "        return \"Amazing\"\n",
    "\n",
    "assert translate_rating_into_subgroup(\"3.3\") == \"Mediocre\"\n",
    "assert translate_rating_into_subgroup(\"7.0\") == \"Good\"\n",
    "assert translate_rating_into_subgroup(\"7.6\") == \"Good\"\n",
    "assert translate_rating_into_subgroup(\"8.0\") == \"Amazing\""
   ]
  },
  {
   "cell_type": "code",
   "execution_count": 136,
   "metadata": {},
   "outputs": [
    {
     "name": "stdout",
     "output_type": "stream",
     "text": [
      "tests passed\n"
     ]
    }
   ],
   "source": [
    "def add_rating_group_to_details(all_movies):\n",
    "    for movie in all_movies:\n",
    "        movie[\"Subgroup\"] = translate_rating_into_subgroup(movie['imdbRating'])\n",
    "    return all_movies\n",
    "\n",
    "\n",
    "test_movies = [{\"Title\":\"Bananas\", \"imdbRating\": \"3.3\"}, \n",
    "              {\"Title\":\"Bananas2\", \"imdbRating\":\"7.3\"}, \n",
    "              {\"Title\":\"Bananas3\", \"imdbRating\":\"8.3\"}]\n",
    "test_movies_expected = [{\"Title\":\"Bananas\", \"imdbRating\": \"3.3\", \"Subgroup\": \"Mediocre\"}, \n",
    "                        {\"Title\":\"Bananas2\", \"imdbRating\": \"7.3\", \"Subgroup\": \"Good\"}, \n",
    "                        {\"Title\":\"Bananas3\", \"imdbRating\": \"8.3\", \"Subgroup\": \"Amazing\"}]\n",
    "\n",
    "add_rating_group_to_details(test_movies)\n",
    "assert test_movies == test_movies_expected\n",
    "print(\"tests passed\")"
   ]
  },
  {
   "cell_type": "code",
   "execution_count": 137,
   "metadata": {},
   "outputs": [
    {
     "name": "stdout",
     "output_type": "stream",
     "text": [
      "tests passed\n"
     ]
    }
   ],
   "source": [
    "def movies_in_a_sub_group(all_movies, subgroup):\n",
    "    return [movie\n",
    "            for movie in all_movies\n",
    "            if movie['Subgroup'] == subgroup]\n",
    "\n",
    "test_movies = [{\"Title\":\"Bananas\", \"Subgroup\": \"Mediocre\"}, \n",
    "                        {\"Title\":\"Bananas2\", \"Subgroup\": \"Amazing\"}, \n",
    "                        {\"Title\":\"Bananas3\", \"Subgroup\": \"Amazing\"}]\n",
    "assert movies_in_a_sub_group(test_movies, \"Mediocre\") == [{\"Title\":\"Bananas\", \"Subgroup\": \"Mediocre\"}]\n",
    "print(\"tests passed\")"
   ]
  },
  {
   "cell_type": "code",
   "execution_count": 138,
   "metadata": {},
   "outputs": [
    {
     "name": "stdout",
     "output_type": "stream",
     "text": [
      "tests passed\n"
     ]
    }
   ],
   "source": [
    "def string_length_to_number_of_minutes(string_length):\n",
    "    return int(string_length.rstrip(' min')) if \" min\" in string_length else 0\n",
    "\n",
    "assert string_length_to_number_of_minutes(\"123 min\") == 123\n",
    "assert string_length_to_number_of_minutes(\"53 min\") == 53\n",
    "assert string_length_to_number_of_minutes(\"bananas\") == 0\n",
    "print(\"tests passed\")"
   ]
  },
  {
   "cell_type": "code",
   "execution_count": 139,
   "metadata": {},
   "outputs": [
    {
     "name": "stdout",
     "output_type": "stream",
     "text": [
      "tests passed\n"
     ]
    }
   ],
   "source": [
    "def average_length_of_a_movies(some_movies):\n",
    "    lengths = [string_length_to_number_of_minutes(movie['Runtime'])\n",
    "            for movie in some_movies]\n",
    "    return int( sum(lengths) / len(lengths) ) if len(lengths) > 0 else 0\n",
    "    \n",
    "test_movies = [{\"Title\":\"Bananas\", \"Runtime\": \"105 min\"}, \n",
    "                        {\"Title\":\"Bananas2\", \"Runtime\": \"100 min\"}, \n",
    "                        {\"Title\":\"Bananas3\", \"Runtime\": \"95 min\"}]\n",
    "\n",
    "assert average_length_of_a_movies(test_movies) == 100\n",
    "\n",
    "test_movies_empty = []\n",
    "assert average_length_of_a_movies(test_movies_empty) == 0\n",
    "print(\"tests passed\")"
   ]
  },
  {
   "cell_type": "code",
   "execution_count": 140,
   "metadata": {},
   "outputs": [],
   "source": [
    "def prepare_report_for_movies_with_title(movie_title):\n",
    "    all_movies = get_detailed_info_of_movies_for_title(movie_title)\n",
    "    add_rating_group_to_details(all_movies)\n",
    "    report = f\"Top 10 movies titled {movie_title}\\n\\n\"\n",
    "    \n",
    "    for subcategory in [\"Mediocre\",  \"Good\", \"Amazing\"]:\n",
    "        movies_in_subcategory = movies_in_a_sub_group(all_movies, subcategory)\n",
    "        average_length = average_length_of_a_movies(movies_in_subcategory)\n",
    "        report += f\"Movies which are {subcategory} (average length {average_length} min)\\n\\n\"\n",
    "        for movie in movies_in_subcategory:\n",
    "            report += movie_detail_as_string(movie)\n",
    "        report += \"\\n\\n\"\n",
    "    return report"
   ]
  },
  {
   "cell_type": "code",
   "execution_count": 141,
   "metadata": {},
   "outputs": [
    {
     "name": "stdout",
     "output_type": "stream",
     "text": [
      "Top 10 movies titled batman\n",
      "\n",
      "Movies which are Mediocre (average length 118 min)\n",
      "\n",
      "******************Batman v Superman: Dawn of Justice (2016, PG-13, USA)*******************\n",
      "* Director: Zack Snyder, Actors: Ben Affleck, Henry Cavill, Amy Adams, Jesse Eisenberg)* *\n",
      "* Plot: Fearing that the actions of Superman are left unchecked, Batman takes on the Man *\n",
      "******************************************************************************************\n",
      "\n",
      "**************************Batman Forever (1995, PG-13, USA, UK)***************************\n",
      "* Director: Joel Schumacher, Actors: Val Kilmer, Tommy Lee Jones, Jim Carrey, Nicole Kid *\n",
      "* Plot: Batman must battle former district attorney Harvey Dent, who is now Two-Face and *\n",
      "******************************************************************************************\n",
      "\n",
      "**************************Batman & Robin (1997, PG-13, USA, UK)***************************\n",
      "* Director: Joel Schumacher, Actors: Arnold Schwarzenegger, George Clooney, Chris O'Donn *\n",
      "* Plot: Batman and Robin try to keep their relationship together even as they must stop  *\n",
      "******************************************************************************************\n",
      "\n",
      "*************************Batman: The Killing Joke (2016, R, USA)**************************\n",
      "* *****Director: Sam Liu, Actors: Kevin Conroy, Mark Hamill, Tara Strong, Ray Wise)***** *\n",
      "* Plot: As Batman hunts for the escaped Joker, the Clown Prince of Crime attacks the Gor *\n",
      "******************************************************************************************\n",
      "\n",
      "\n",
      "\n",
      "Movies which are Good (average length 118 min)\n",
      "\n",
      "******************************Batman (1989, PG-13, USA, UK)*******************************\n",
      "* Director: Tim Burton, Actors: Michael Keaton, Jack Nicholson, Kim Basinger, Robert Wuh *\n",
      "* Plot: The Dark Knight of Gotham City begins his war on crime with his first major enem *\n",
      "******************************************************************************************\n",
      "\n",
      "**************************Batman Returns (1992, PG-13, USA, UK)***************************\n",
      "* Director: Tim Burton, Actors: Michael Keaton, Danny DeVito, Michelle Pfeiffer, Christo *\n",
      "* Plot: While Batman deals with a deformed man calling himself the Penguin wreaking havo *\n",
      "******************************************************************************************\n",
      "\n",
      "****************The Lego Batman Movie (2017, PG, USA, Denmark, Australia)*****************\n",
      "* Director: Chris McKay, Actors: Will Arnett, Michael Cera, Rosario Dawson, Ralph Fienne *\n",
      "* Plot: A cooler-than-ever Bruce Wayne must deal with the usual suspects as they plan to *\n",
      "******************************************************************************************\n",
      "\n",
      "\n",
      "\n",
      "Movies which are Amazing (average length 97 min)\n",
      "\n",
      "***************************Batman Begins (2005, PG-13, USA, UK)***************************\n",
      "* Director: Christopher Nolan, Actors: Christian Bale, Michael Caine, Liam Neeson, Katie *\n",
      "* Plot: After training with his mentor, Batman begins his fight to free crime-ridden Got *\n",
      "******************************************************************************************\n",
      "\n",
      "**********************Batman: Under the Red Hood (2010, PG-13, USA)***********************\n",
      "* Director: Brandon Vietti, Actors: Bruce Greenwood, Jensen Ackles, John DiMaggio, Neil  *\n",
      "* Plot: There's a mystery afoot in Gotham City, and Batman must go toe-to-toe with a mys *\n",
      "******************************************************************************************\n",
      "\n",
      "****************Batman: The Dark Knight Returns, Part 1 (2012, PG-13, USA)****************\n",
      "* *Director: Jay Oliva, Actors: Peter Weller, Ariel Winter, David Selby, Wade Williams)* *\n",
      "* Plot: Batman has not been seen for ten years. A new breed of criminal ravages Gotham C *\n",
      "******************************************************************************************\n",
      "\n",
      "\n",
      "\n",
      "\n"
     ]
    }
   ],
   "source": [
    "report = prepare_report_for_movies_with_title(\"batman\")\n",
    "print(report)"
   ]
  },
  {
   "cell_type": "code",
   "execution_count": 142,
   "metadata": {},
   "outputs": [],
   "source": [
    "def are_shorter_movies_better_simple_version(movie_title):\n",
    "    all_movies = get_detailed_info_of_movies_for_title(movie_title)\n",
    "    add_rating_group_to_details(all_movies)    \n",
    "    avg_lengths = {}\n",
    "    for subcategory in [\"Mediocre\",  \"Good\", \"Amazing\"]:\n",
    "        avg_lengths[subcategory] = average_length_of_a_movies(movies_in_a_sub_group(all_movies, subcategory))\n",
    "        \n",
    "    return avg_lengths[\"Mediocre\"] >= avg_lengths[\"Good\"] and avg_lengths[\"Good\"] >= avg_lengths[\"Amazing\"]\n",
    "\n",
    "assert are_shorter_movies_better_simple_version(\"star wars\") == False\n",
    "assert are_shorter_movies_better_simple_version(\"batman\") == True"
   ]
  },
  {
   "cell_type": "code",
   "execution_count": 143,
   "metadata": {},
   "outputs": [
    {
     "name": "stdout",
     "output_type": "stream",
     "text": [
      "It is False that shorter star wars movies are always better\n"
     ]
    }
   ],
   "source": [
    "title = 'star wars'\n",
    "print(f\"It is {are_shorter_movies_better_simple_version(title)} that shorter {title} movies are always better\")"
   ]
  },
  {
   "cell_type": "markdown",
   "metadata": {},
   "source": [
    "# Report 1\n",
    "\n",
    "### Problem: What problem you are solving and how you will solve it with data.\n",
    "\n",
    "We have access to the api with movie information, and would like to show details of movies. Details should appear in a clear and easy to read way. The movies should be grouped by their rating, assuming 3 basic groups (mediocre, good and amazing). We'd also like to show the average lengths of movies in these groups, and state if longer movies have better ratings.\n",
    "\n",
    "###  Analysis & Results: What analysis you prefromed in your python code and what were the results\n",
    "\n",
    "We wrote a number of functions and their tests that aquire, and prepare the data. We also wrote functions that prepare the report and present it. Groups are based on imdb rating. We separated tasks of sub-grouping movies and calculating average lengths of a sub group to make out code more robust and testable. We also attempted to write tests that did not depend on API results, but rather mock data\n",
    "\n",
    "### Solution: What is the solution to the problem, and how your analysis helped you to solve it\n",
    "Movie details of 10 Star wars movies were printed on the screen. Actors and plots were trimmed for uniformity, but this could be further expanded. it turned out that there is no simpel connection between rating categories and length for stawars movies (but curiously, shorter Batman movies were better!). In some places we tried to check for incorrect data, so that our code can handle wrong runtime formatting and ignores moview with no detailed info."
   ]
  },
  {
   "cell_type": "markdown",
   "metadata": {},
   "source": [
    "# Dataset 2 ( Task 2 ): Weather forecast\n",
    "\n",
    "website: https://www.weatherapi.com/\n",
    "\n",
    "Use the Weather forecast API described below to look at current and predicted weather. Note that it includes information about the location, weather now, and forecast for the next few days. Look at what data are available about each movie and find a business problem you can solve with it.\n",
    "\n",
    "Tasks: in Task 2 solve ONE of the suggested problems.\n",
    "\n",
    "Each task should be have its own mini-report, and its own code, but it is allowed to share some code between tasks, if needed.\n",
    "\n",
    "Below you have some examples of using the api\n",
    "\n",
    "I am giving you a temporary api key \"2aee514fa2e3493e8b5100342202610\" - you can use it a bit, but please go to the above website and create your own. If for some reason you can't get yoru own, just keep using this temporary one.            "
   ]
  },
  {
   "cell_type": "markdown",
   "metadata": {},
   "source": [
    "# Task 2: Pick one of the suggested problems and solve it:\n",
    "\n",
    "\n",
    "- Problem 1: A convention of Scottish Star Wars movie fans is preparing for a bit outdoors cosplay meeting and are considering three locations: Glasgow, Edinburgh and Falkirk. They would like to know what is the weather like right now in these locations. Print on the screen the weather information about these locations right now in a way that makes it easy to compare and make a decision where the costume party should happen. Can your code suggest the location (eg. one which is warmest). Extra: If the event cannot happen now, which location has the best weather tomorrow or on another day?\n",
    "\n",
    "- Problem 2: Actors' associations is preparing for their annual haloween photo shoot in Edinburgh Castle, and it has to happen within next 10 days. It will have to happen at night and outside, so they need you to identify the day when it's least likely to rain in Edinburgh and the moon is brightest. Look at the forecast data and extract 'daily_chance_of_rain' and 'moon_illumination' values. Then present the information about next 10 days. Suggest the day when it's least likely to rain and one when the moon is brightest. Extra: Because of security reasons the castle needs to close at midnight - assuming the photoshoot needs to happen at least an hour after sunset, and once the moon has risen, how much time would they have each night to perform the photoshoot? (you can look at 'moonrise' and 'sunset' values).\n"
   ]
  },
  {
   "cell_type": "code",
   "execution_count": 146,
   "metadata": {
    "nbgrader": {
     "grade": true,
     "grade_id": "cell-e8f3e8d57a02f51e",
     "locked": false,
     "points": 100,
     "schema_version": 3,
     "solution": true,
     "task": false
    }
   },
   "outputs": [],
   "source": [
    "import requests\n",
    "import pprint as pp\n",
    "\n",
    "def get_weather_for_city(city):\n",
    "    api_key = \"2aee514fa2e3493e8b5100342202610\" \n",
    "    days = 3\n",
    "    api_url_current_weather = f\"http://api.weatherapi.com/v1/forecast.json?key={api_key}&q={city}&days={days}\"\n",
    "    \n",
    "    response = requests.request(\"GET\", api_url_current_weather)\n",
    "    return response.json()\n",
    "\n",
    "assert get_weather_for_city(\"Edinburgh\")['location']['name'] == \"Edinburgh\"\n",
    "assert  len(get_weather_for_city(\"Edinburgh\")['forecast']['forecastday']) == 3"
   ]
  },
  {
   "cell_type": "code",
   "execution_count": null,
   "metadata": {
    "nbgrader": {
     "grade": true,
     "grade_id": "cell-e8f3e8d57a02f51e",
     "locked": false,
     "points": 100,
     "schema_version": 3,
     "solution": true,
     "task": false
    }
   },
   "outputs": [],
   "source": [
    "print(f\"it's {weather_edinburgh['current']['temp_c']}'C in {weather_edinburgh['location']['name']}\")\n",
    "print(f\"tomorrow it will be {weather_edinburgh['forecast']['forecastday'][0]['day']['avgtemp_c']}'C\")"
   ]
  },
  {
   "cell_type": "code",
   "execution_count": 189,
   "metadata": {},
   "outputs": [],
   "source": [
    "def weather_in_this_many_days(all_forecast, days_from_now = 0):\n",
    "    return all_forecast['forecast']['forecastday'][days_from_now]"
   ]
  },
  {
   "cell_type": "code",
   "execution_count": 190,
   "metadata": {},
   "outputs": [
    {
     "name": "stdout",
     "output_type": "stream",
     "text": [
      "tests passed\n"
     ]
    }
   ],
   "source": [
    "import datetime\n",
    "today = date.today()\n",
    "tomorrow = date.today() + datetime.timedelta(days=1)\n",
    "all_forecast = get_weather_for_city(\"Edinburgh\")\n",
    "\n",
    "assert weather_in_this_many_days(all_forecast, 0)['date'] == today.strftime(\"%Y-%m-%d\")\n",
    "assert weather_in_this_many_days(all_forecast, 1)['date'] == tomorrow.strftime(\"%Y-%m-%d\")\n",
    "print(\"tests passed\")"
   ]
  },
  {
   "cell_type": "code",
   "execution_count": 206,
   "metadata": {},
   "outputs": [],
   "source": [
    "def day_weather_as_string(city_name, day_weather, warmest_temperature = None, lowest_rain_chance = None):\n",
    "    temperature = day_weather['day']['avgtemp_c']\n",
    "    chance_of_rain = day_weather['day']['daily_chance_of_rain']\n",
    "    wind = day_weather['day']['maxwind_kph']\n",
    "    \n",
    "    is_warmest = warmest_temperature!= None and temperature == warmest_temperature\n",
    "    is_lowest_rain = lowest_rain_chance!= None and chance_of_rain == lowest_rain_chance\n",
    "    is_best = is_warmest and is_lowest_rain\n",
    "    \n",
    "    #     notice that emojis are just like any other characters\n",
    "    warmness_icon = \"🔥\" if is_warmest else \"\"\n",
    "    raininess_icon = \"🌤\" if is_lowest_rain  else \"\"\n",
    "    is_best_icon = \"❤️\" if is_best else \"\"\n",
    "    \n",
    "    day_report = f\"{city_name:<10} {temperature:>10}'C Temperature{chance_of_rain:>10}% chance of rain{wind:>10} Wind speed\"\n",
    "    day_report += f\" {warmness_icon:1}{raininess_icon:1}{is_best_icon:1}\\n\"\n",
    "    return day_report"
   ]
  },
  {
   "cell_type": "code",
   "execution_count": 211,
   "metadata": {},
   "outputs": [
    {
     "name": "stdout",
     "output_type": "stream",
     "text": [
      "tests passed\n"
     ]
    },
    {
     "data": {
      "text/plain": [
       "\"Edinburgh         6.8'C Temperature        88% chance of rain      18.4 Wind speed 🔥🌤❤️\\n\""
      ]
     },
     "execution_count": 211,
     "metadata": {},
     "output_type": "execute_result"
    }
   ],
   "source": [
    "expected_simple = \"Edinburgh         6.8'C Temperature        88% chance of rain      18.4 Wind speed    \\n\"\n",
    "expected_warm =   \"Edinburgh         6.8'C Temperature        88% chance of rain      18.4 Wind speed 🔥  \\n\"\n",
    "expected_best =   \"Edinburgh         6.8'C Temperature        88% chance of rain      18.4 Wind speed 🔥🌤❤️\\n\"\n",
    "\n",
    "example_weather = {'day': { 'avgtemp_c': 6.8, 'maxwind_kph': 18.4, 'daily_chance_of_rain': 88} }\n",
    "\n",
    "assert day_weather_as_string(\"Edinburgh\", example_weather) == expected_simple\n",
    "assert day_weather_as_string(\"Edinburgh\", example_weather, 6.8, 98 ) == expected_warm\n",
    "assert day_weather_as_string(\"Edinburgh\", example_weather, 6.8, 88 ) == expected_best\n",
    "\n",
    "print(\"tests passed\")"
   ]
  },
  {
   "cell_type": "code",
   "execution_count": 215,
   "metadata": {},
   "outputs": [],
   "source": [
    "def max_temperature(forecasts, days_from_now):\n",
    "    return max( [ weather_in_this_many_days(city_weather, days_from_now)['day']['avgtemp_c']\n",
    "                        for city_weather in forecasts\n",
    "                      ])\n",
    "\n",
    "def lowest_rain_chance(forecasts, days_from_now):\n",
    "    return min( [ weather_in_this_many_days(city_weather, days_from_now)['day']['daily_chance_of_rain']\n",
    "                        for city_weather in forecasts\n",
    "                      ])"
   ]
  },
  {
   "cell_type": "code",
   "execution_count": 216,
   "metadata": {},
   "outputs": [
    {
     "name": "stdout",
     "output_type": "stream",
     "text": [
      "Weather for Today\n",
      "Edinburgh         8.1'C Temperature        91% chance of rain      20.2 Wind speed 🔥🌤❤️\n",
      "Glasgow           7.0'C Temperature        99% chance of rain      17.3 Wind speed    \n",
      "Falkirk           7.1'C Temperature        94% chance of rain      18.0 Wind speed    \n",
      "\n",
      "\n",
      "Weather for Tomorrow\n",
      "Edinburgh         8.4'C Temperature        84% chance of rain      21.2 Wind speed 🔥🌤❤️\n",
      "Glasgow           7.6'C Temperature        94% chance of rain      28.4 Wind speed    \n",
      "Falkirk           7.5'C Temperature        91% chance of rain      26.3 Wind speed    \n",
      "\n",
      "\n",
      "Weather for Day after tomorrow\n",
      "Edinburgh         7.9'C Temperature        73% chance of rain      37.8 Wind speed 🔥🌤❤️\n",
      "Glasgow           6.8'C Temperature        86% chance of rain      29.2 Wind speed    \n",
      "Falkirk           6.9'C Temperature        86% chance of rain      28.8 Wind speed    \n",
      "\n",
      "\n",
      "\n"
     ]
    }
   ],
   "source": [
    "def weather_report_for_cities(cities):\n",
    "    forecasts = {}\n",
    "    report = \"\"\n",
    "    \n",
    "#     gather data from api\n",
    "    for city in cities:\n",
    "        forecasts[city] = get_weather_for_city(city)\n",
    "    \n",
    "    days = {\"Today\": 0, \"Tomorrow\":1, \"Day after tomorrow\": 2}\n",
    "    for day_name, days_from_now in days.items():\n",
    "        report += f\"Weather for {day_name}\\n\"\n",
    "        \n",
    "        #     calculate extremes\n",
    "        temp_max = max_temperature( forecasts.values(), days_from_now )\n",
    "        rain_lowest = lowest_rain_chance( forecasts.values(), days_from_now )\n",
    "        \n",
    "        #     produce report\n",
    "        for city, forecast in forecasts.items():\n",
    "            just_today = weather_in_this_many_days(forecast, days_from_now)\n",
    "            day_info = f\"{day_weather_as_string(city, just_today, temp_max, rain_lowest)}\"\n",
    "            report += day_info\n",
    "\n",
    "        report += f\"\\n\\n\"\n",
    "    return report\n",
    "    \n",
    "        \n",
    "print(weather_report_for_cities([\"Edinburgh\", \"Glasgow\", \"Falkirk\"]))"
   ]
  },
  {
   "cell_type": "markdown",
   "metadata": {},
   "source": [
    "# Report 2\n",
    "\n",
    "### Problem: What problem you are solving and how you will solve it with data.\n",
    "\n",
    "We have access to the api with weather information for cities which produces forecast for next 3 days. We will print information for 3 Scottish cities. Such report will be created for each of the next 3 days. Report will indicate which city is warmest and which least rainy, for each of days. We will indicate preferences with emoji symbols to enable user to make decisions.\n",
    "\n",
    "###  Analysis & Results: What analysis you prefromed in your python code and what were the results\n",
    "\n",
    "We wrote a number of functions and their tests that aquire, and prepare the data. We also wrote functions that prepare the report and present it. We used a separate function to aquire API data and to filter it to a particular day, which enabled us to just ask API a small number of times at the beginning, and then just use data. Additionally, only once all data is aquired we can find out which city is warmest, that's why separating getting data and reporting on them was a good call.\n",
    "\n",
    "### Solution: \n",
    "On the day of writing Edinburgh was the warmest and least rainy city of Edinburgh, Glasgow and Falkirk. Emojis make it easier to see which city is most suitable, and additionally, if one city is both warmest and most dry, it is indicated with a heart. The code can handle a situation where two cities are equally warm (both will get an icon)."
   ]
  },
  {
   "cell_type": "code",
   "execution_count": null,
   "metadata": {},
   "outputs": [],
   "source": []
  }
 ],
 "metadata": {
  "celltoolbar": "Create Assignment",
  "kernelspec": {
   "display_name": "Python 3",
   "language": "python",
   "name": "python3"
  },
  "language_info": {
   "codemirror_mode": {
    "name": "ipython",
    "version": 3
   },
   "file_extension": ".py",
   "mimetype": "text/x-python",
   "name": "python",
   "nbconvert_exporter": "python",
   "pygments_lexer": "ipython3",
   "version": "3.7.6"
  }
 },
 "nbformat": 4,
 "nbformat_minor": 2
}
