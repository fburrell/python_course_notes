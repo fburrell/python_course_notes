{
 "cells": [
  {
   "cell_type": "markdown",
   "metadata": {},
   "source": [
    "# B08 Badge - List Comprehentions: Filter and Map (represent) Lists"
   ]
  },
  {
   "cell_type": "markdown",
   "metadata": {},
   "source": [
    "note: This is a **JUPYTER NOTEBOOK**. It's a type of website where you can edit and run computer programms (code). You interact with it in your web browser and you can find it via your Learn.\n",
    "\n",
    "1. These blocks here are cells\n",
    "2. There are **TEXT CELLS** like this one with explanations of concepts\n",
    "3. and **CODE CELLS** with Python code (see below). Code cells have a ```In []``` written to the left\n",
    "4. You can **RUN CODE CELLS** by clicking on them and pressing **Shirt + Enter**. When you run a cell code in it is run (it \"happens\", computer will do what you asked for it to do). Results of what your code does will appear underneath the cell.\n",
    "5. As we go through these lessons, please READ text cells, and RUN code cells\n",
    "6. Good luck!"
   ]
  },
  {
   "cell_type": "markdown",
   "metadata": {},
   "source": [
    "### List Comprehensions - a special Python syntax to represent ('comprehend') collections\n",
    "\n",
    "LIST COMPREHENSION is a special, very useful syntax that makes it faster and cleaner to change and filter collections.\n",
    "Very frequently you have a collection of some objects: strings, numbers, or even of dictionaries and you want to:\n",
    "\n",
    "- **FILTER DATA**: only keep some values in the collection (just like you would filter coffee grains out from your coffee, using a paper filter that allows small particles through, and stops larger particles)\n",
    "- **MAP DATA**: reduce complex data to simpler data or a different data format (just like geographical map represents terrain in a simplified flat paper format) "
   ]
  },
  {
   "cell_type": "markdown",
   "metadata": {},
   "source": [
    "Think aboutit like a conveyor belt: things go in on one side, and slightly changed things come out on the other side.\n",
    "\n",
    "One way to read list comprehention is:\n",
    "\n",
    "\n",
    "`\n",
    "[ \n",
    "OUTPUT\n",
    "INPUT\n",
    "]\n",
    "`\n",
    "\n",
    "or in a longer format:\n",
    "\n",
    "`\n",
    "[ \n",
    "format for the OUTPUT which is using the ITEM somehow \n",
    "definition of the INPUT, specifying that this we will use each ITEM in all ITEMS\n",
    "]\n",
    "`\n",
    "\n",
    "The syntax for this is:\n",
    "\n",
    "`result = [ my_output for one_item in all_items]`\n",
    "\n",
    "for readability it's best to add an extra new line (Python basically ignores new lines) and write it like this:\n",
    "\n",
    "`result = [  my_output\n",
    "            for one_item in all_items]`\n",
    "\n",
    "\n",
    "## Example Case studies:\n",
    "\n",
    "### Lowercase words\n",
    "\n",
    "To compare a number of tweets, you migth want to simplify all words to be lower case, so that words `WOW`, `wow` amd `Wow` are considered the same word. To do that, for each word in your List of words, you would want to represent it as a lowercase version of itself. This way `['WOW','wow', 'Wow']` would become `['wow','wow', 'wow']` hence making it easier to count, analyse etc.\n",
    "\n",
    "Btw. to represent a word as its lowercase version, you can use `some_word.lower()`, eg change `Just` into `just`, `think` into `think` etc.\n",
    "\n",
    "e.g. `\"BAnanA\".lower()` will return `\"banana\"`\n"
   ]
  },
  {
   "cell_type": "code",
   "execution_count": null,
   "metadata": {},
   "outputs": [],
   "source": [
    "# note: some_word.lower() turns that word into a lowercase\n",
    "\n",
    "words = ['THIS','is', 'The','MOST','FUNNY','thing','I','have','ever','heard','I','Love','it','LOL']\n",
    "\n",
    "lower_case_words = [ word.lower() \n",
    "                      for word in words ]\n",
    "\n",
    "print(lower_case_words)"
   ]
  },
  {
   "cell_type": "markdown",
   "metadata": {},
   "source": [
    "### Represent words as only their lengths\n",
    "\n",
    "Example: for each word in words, represent it with that word's length (eg. change 'THIS' into 4, 'it' into 2 etc)"
   ]
  },
  {
   "cell_type": "code",
   "execution_count": null,
   "metadata": {},
   "outputs": [],
   "source": [
    "words = ['THIS','is', 'The','MOST','FUNNY','thing','I','have','ever','heard','I','Love','it','LOL']\n",
    "\n",
    "lengths_of_words = [ len(word) \n",
    "                      for word in words ]\n",
    "\n",
    "print(lengths_of_words)"
   ]
  },
  {
   "cell_type": "markdown",
   "metadata": {},
   "source": [
    "Notice: we are taking not filtering any data out and we keep everything. If innput is a list ten of somethings, then we are returning a list of ten something-else's. **We are Mapping the data, leaving the amount of it unchanged**. This detail will be important in a minute."
   ]
  },
  {
   "cell_type": "markdown",
   "metadata": {},
   "source": [
    "### Simplify a list of dictionaries, to a list of just one of its values \n",
    "\n",
    "Example: take a collection of coffee orders and represent it as just the amount of sugars. For example to check if we still have enough sugar"
   ]
  },
  {
   "cell_type": "code",
   "execution_count": null,
   "metadata": {},
   "outputs": [],
   "source": [
    "coffee_orders = [{'type': 'Latte', 'milk': 'Cow', 'sugar': 4}, \n",
    "                 {'type': 'Lungo', 'milk': 'None', 'sugar': 1}, \n",
    "                 {'type': 'Latte', 'milk': 'Oat', 'sugar': 2}]\n",
    "\n",
    "number_of_sugars = [ order['sugar'] \n",
    "                      for order in coffee_orders ]\n",
    "\n",
    "print(number_of_sugars)"
   ]
  },
  {
   "cell_type": "markdown",
   "metadata": {},
   "source": [
    "### Represent a list of dictionaries as something else (e.g. a string)\n",
    "\n",
    "Example: take a collection of coffee orders and represent them as a sentence, like \"Latte coffee, with Cow milk and 1 sugars\"\n",
    "\n",
    "We will learn how to do this in a much cleaner way in one of the next badges about working with strings."
   ]
  },
  {
   "cell_type": "code",
   "execution_count": null,
   "metadata": {},
   "outputs": [],
   "source": [
    "coffee_orders = [{'type': 'Latte', 'milk': 'Cow', 'sugar': 4}, \n",
    "                 {'type': 'Lungo', 'milk': 'None', 'sugar': 1}, \n",
    "                 {'type': 'Latte', 'milk': 'Oat', 'sugar': 2}]\n",
    "\n",
    "orders_as_sentences = [ order['type'] + \" coffee, with \"+ order['milk']+\" milk and \"+ str(order['sugar'])+\" sugars\"\n",
    "                      for order in coffee_orders ]\n",
    "\n",
    "print(orders_as_sentences)"
   ]
  },
  {
   "cell_type": "markdown",
   "metadata": {},
   "source": [
    "### In a List represent each word as... itself. This does not make much sense, but why not\n",
    "\n",
    "Example: take a list of words and represent each word as itself. It will make sense in a minute why you would do that.\n",
    "\n",
    "Notice that in the place where output format is specified, we just leave the `word` with no changes. Not `len(word)` or `word.lower()` - just a simple, unchanged `word`"
   ]
  },
  {
   "cell_type": "code",
   "execution_count": null,
   "metadata": {},
   "outputs": [],
   "source": [
    "words = ['THIS','is', 'The','MOST','FUNNY','thing','I','have','ever','heard','I','Love','it','LOL']\n",
    "\n",
    "lengths_of_words = [ word\n",
    "                      for word in words ]\n",
    "\n",
    "print(lengths_of_words)"
   ]
  },
  {
   "cell_type": "markdown",
   "metadata": {},
   "source": [
    "# and finally: We can also FILTER the input list, and only keep some of its elements:\n",
    "\n",
    "Optionally you can add a third line with a condition, that needs to be true for the item to be kept in the final result.\n",
    "\n",
    "\n",
    "`\n",
    "result = [  output\n",
    "            input\n",
    "            condition ]\n",
    "`\n",
    "\n",
    "The syntax becomes: \n",
    "\n",
    "`\n",
    "result = [  output\n",
    "            for one_item in all_items\n",
    "            if condition]\n",
    "`\n",
    "\n",
    "Note: This will FIRST execute the condition, and THEN produce output from all elements that returned True.\n",
    "\n",
    "(Rather than changing things that meet the condition, and leaving everything else unchanged)"
   ]
  },
  {
   "cell_type": "markdown",
   "metadata": {},
   "source": [
    "## Example Case studies:\n",
    "\n",
    "### Lowercase words, and only keep those longer than 3 characters\n",
    "\n",
    "Let's say that we discovered that most of short words are not very meaningful, so we would like to unify the set by removing short words and lowercasing everything else."
   ]
  },
  {
   "cell_type": "code",
   "execution_count": null,
   "metadata": {},
   "outputs": [],
   "source": [
    "words = ['THIS','is', 'The','MOST','FUNNY','thing','I','have','ever','heard','I','Love','it','LOL']\n",
    "\n",
    "lowercased_long_words = [ word.lower() # turn a word into its lowercase version\n",
    "                    for word in words # for each word in words list\n",
    "                    if len(word) > 3 ] # but only keep those where word's length was over 3\n",
    "\n",
    "print(lowercased_long_words)"
   ]
  },
  {
   "cell_type": "markdown",
   "metadata": {},
   "source": [
    "### Represent all words starting with letter 't' as their lengths\n",
    "\n",
    "Let's say that we have a theory that words starting with 't' are all very long. To test it, we first will try to just represent them as their lengths  \n",
    "\n",
    "NOTE: Strings in python are basically Lists of characters. So `\"this\"` is identical to `['t','h','i','s']`. We will talk more about it in one of future badges. Than means that to get the first character of a word, we just request the item at index 0. e.g. `my_word[0]` or even `\"Banana\"[0]`"
   ]
  },
  {
   "cell_type": "code",
   "execution_count": null,
   "metadata": {},
   "outputs": [],
   "source": [
    "words = ['THIS','is', 'The','MOST','FUNNY','thing','I','have','ever','heard','I','Love','it','LOL']\n",
    "\n",
    "lengths_of_t_words = [ len(word) # turn a word into its length\n",
    "                          for word in words # for each word in tokens list\n",
    "                          if  word[0] == 't' ] # but only keep those where word's first letter is 't'\n",
    "\n",
    "print(lengths_of_t_words)"
   ]
  },
  {
   "cell_type": "markdown",
   "metadata": {},
   "source": [
    "**Wait, what?** something is not right here! how about \"THIS\" and \"The\"? Well... technically they do not start with a 't', but rather they start with a 'T'. Python is case sensitive, which means that 'T' and 't' have nothing in common. \n",
    "\n",
    "You would need to lowercase first to confirm it starts with a 't' or 'T'.\n",
    "\n",
    "\n",
    "You could write\n",
    "\n",
    "`\n",
    "if  word[0] == 't' or word[0] == 'T' ]\n",
    "`\n",
    "\n",
    "Try to read each block of code connected with `.` from left hand side. For example `word[0].lower()` means:  take word -> then just take the first character -> then lowercase it\n",
    "\n",
    "You could lowercase the first letter before the comparison \n",
    "\n",
    "`\n",
    "if  word[0].lower() == 't' ]  # take word -> then just take the first character -> then lowercase it\n",
    "`\n",
    "\n",
    "or even lowercase the whole word, and then get the first letter... \n",
    "\n",
    "\n",
    "`\n",
    "if  word.lower()[0] == 't' ]\n",
    "`\n",
    "\n",
    "we will talk abotu all these scenarios and this type of daisy-chaining soon."
   ]
  },
  {
   "cell_type": "code",
   "execution_count": null,
   "metadata": {},
   "outputs": [],
   "source": [
    "words = ['THIS','is', 'The','MOST','FUNNY','thing','I','have','ever','heard','I','Love','it','LOL']\n",
    "\n",
    "lengths_of_t_words = [ len(word)\n",
    "                          for word in words\n",
    "                          if  word[0].lower() == 't' ]\n",
    "\n",
    "print(lengths_of_t_words)"
   ]
  },
  {
   "cell_type": "markdown",
   "metadata": {},
   "source": [
    "Ok, this makes more sense!"
   ]
  },
  {
   "cell_type": "markdown",
   "metadata": {},
   "source": [
    "### Simplify the data and only keep some of them\n",
    "\n",
    "For example, if we only wanted to get the sugar content of vegan beverages (where milk has a value different than 'Cow')"
   ]
  },
  {
   "cell_type": "code",
   "execution_count": null,
   "metadata": {},
   "outputs": [],
   "source": [
    "coffee_orders = [{'type': 'Latte', 'milk': 'Cow', 'sugar': 4}, \n",
    "                 {'type': 'Lungo', 'milk': 'None', 'sugar': 1}, \n",
    "                 {'type': 'Latte', 'milk': 'Oat', 'sugar': 2}]\n",
    "\n",
    "orders_as_sentences = [ order['sugar']\n",
    "                      for order in coffee_orders \n",
    "                      if order['milk'] != 'Cow']\n",
    "\n",
    "print(orders_as_sentences)"
   ]
  },
  {
   "cell_type": "markdown",
   "metadata": {},
   "source": [
    "### A very common and useful scenario: Keep only some elements, but do not change them\n",
    "\n",
    "We can even use the words as they came, for output, and not change them at all (just use the filtering part). For exmaple let's just keep the words starting with a 't' but not change them in any way"
   ]
  },
  {
   "cell_type": "code",
   "execution_count": null,
   "metadata": {},
   "outputs": [],
   "source": [
    "words = ['THIS','is', 'The','MOST','FUNNY','thing','I','have','ever','heard','I','Love','it','LOL']\n",
    "\n",
    "t_words = [ word # if you just want to filter words, but output should be the same as input\n",
    "                for word in words\n",
    "                if  word[0].lower() == 't' ]\n",
    "\n",
    "print(t_words)"
   ]
  },
  {
   "cell_type": "markdown",
   "metadata": {},
   "source": [
    "## Extra scenarios\n",
    "\n",
    "### Compare two groups - what percent of coffees are 'Latte'\n",
    "\n",
    "You can use methematical operators max( ), len( ), sum( ) on your lists to achieve some very useful results"
   ]
  },
  {
   "cell_type": "code",
   "execution_count": null,
   "metadata": {},
   "outputs": [],
   "source": [
    "coffee_orders = [{'type': 'Latte', 'milk': 'Cow', 'sugar': 4}, \n",
    "                 {'type': 'Lungo', 'milk': 'None', 'sugar': 1}, \n",
    "                 {'type': 'Latte', 'milk': 'Oat', 'sugar': 2}]\n",
    "\n",
    "all_lattes = [ order\n",
    "                      for order in coffee_orders \n",
    "                      if order['type'] == 'Latte']\n",
    "\n",
    "number_of_lattes = len( all_lattes )\n",
    "\n",
    "print(\"number of lattes\", number_of_lattes)\n",
    "print(\"percent of lattes\", number_of_lattes / len(coffee_orders) )"
   ]
  },
  {
   "cell_type": "markdown",
   "metadata": {},
   "source": [
    "### Compare two groups - who drinks more sugar: vegans or people who cow-milk drink Latte?\n",
    "\n"
   ]
  },
  {
   "cell_type": "code",
   "execution_count": null,
   "metadata": {},
   "outputs": [],
   "source": [
    "coffee_orders = [{'type': 'Latte', 'milk': 'Cow', 'sugar': 2}, \n",
    "                 {'type': 'Lungo', 'milk': 'None', 'sugar': 1}, \n",
    "                 {'type': 'Latte', 'milk': 'Oat', 'sugar': 2}]\n",
    "\n",
    "sugars_in_vegan_coffees = [ order['sugar']\n",
    "                      for order in coffee_orders \n",
    "                      if order['milk'] != 'Cow']\n",
    "\n",
    "sugars_in_all_lattes = [ order['sugar']\n",
    "                      for order in coffee_orders \n",
    "                      if order['type'] == 'Latte' and order['milk'] == 'Cow']\n",
    "\n",
    "if sum(sugars_in_vegan_coffees) > sum(sugars_in_all_lattes):\n",
    "    print(\"there's more total sugar used in vegan coffees, than in all cow-milk lattes\")\n",
    "else:\n",
    "    print(\"there's no more total sugar used in vegan coffees, than in all cow-milk lattes\")\n"
   ]
  },
  {
   "cell_type": "markdown",
   "metadata": {},
   "source": [
    "# ⛏ Minitask 1: filter and modify/map some simple lists \n",
    "\n",
    "Remember to every now and then save your progress (File > Save, or a keyboard shortcut) \n",
    "\n",
    "Given below Lists write list comprehentions that will change them into different formats. Write 3-4 list comprehentions for each, and try to keep them not identical to examples from this notebook\n",
    "\n",
    "your data sets are: \n",
    "\n",
    "- part of Romeo and Juliet by Shakespeare from http://www.gutenberg.org/files/1513/1513-0.txt (I already pasted it for you below, so don;t worry about getting the text by yourself)\n",
    "- random sample of currency exchange values from pound to euro\n",
    "\n",
    "some inspiration, but feel free to coma up with your own:\n",
    "\n",
    "- is name of Romeo or Juliet mentioned more? (remember that you can filter a list and then ask for `len( )` of the result)\n",
    "- what are the words longer than 5 characters starting with a letter 'M'?\n",
    "- how many days has seen the pound being worth more than 1.1 euro?\n",
    "- how much euro could one buy for 100 pounds on the days when pound was being worth more than 1.1 euro?"
   ]
  },
  {
   "cell_type": "code",
   "execution_count": null,
   "metadata": {},
   "outputs": [],
   "source": [
    "shakespeare = ['JULIET', '.', '’', 'Tis', 'but', 'thy', 'name', 'that', 'is', 'my', 'enemy', ';',\n",
    "              'Thou', 'art', 'thyself', ',', 'though', 'not', 'a', 'Montague', '.', 'What', '’', 's',\n",
    "              'Montague', '?', 'It', 'is', 'nor', 'hand', 'nor', 'foot', ',', 'Nor', 'arm', ',', 'nor', \n",
    "              'face', ',', 'nor', 'any', 'other', 'part', 'Belonging', 'to', 'a', 'man', '.',\n",
    "              'O', 'be', 'some', 'other', 'name', '.', 'What', '’', 's', 'in', 'a', 'name', '?',\n",
    "              'That', 'which', 'we', 'call', 'a', 'rose', 'By', 'any', 'other', 'name', 'would', 'smell', \n",
    "              'as', 'sweet', ';', 'So', 'Romeo', 'would', ',', 'were', 'he', 'not', 'Romeo', 'call', '’',\n",
    "              'd', ',', 'Retain', 'that', 'dear', 'perfection', 'which', 'he', 'owes', 'Without', 'that', \n",
    "              'title', '.', 'Romeo', ',', 'doff', 'thy', 'name', ',', 'And', 'for', 'thy', 'name', ',',\n",
    "              'which', 'is', 'no', 'part', 'of', 'thee', ',', 'Take', 'all', 'myself', '.']\n",
    "\n",
    "pound_to_euro = [1.079974, 1.084409, 1.087774, 1.096891, 1.094839, 1.091664, 1.090948,\n",
    "                 1.090948, 1.089578, 1.086815, 1.092255, 1.093133, 1.0926, 1.095731, \n",
    "                 1.095731, 1.102182, 1.095389, 1.101342, 1.098181, 1.103804, 1.103819,\n",
    "                 1.103819, 1.101216, 1.099458, 1.097423, 1.10108, 1.101352, 1.102922, 1.102922, 1.106241]"
   ]
  },
  {
   "cell_type": "markdown",
   "metadata": {},
   "source": [
    " \n",
    "# ⛏ Minitask 2: Extract and filter some information from JSON information abotu cash machines\n",
    "\n",
    "You know this dataset from another badge. Ask 2-3 business questions and answer them using a list comprehention.\n",
    "\n",
    "some inspiration, but feel free to coma up with your own:\n",
    "\n",
    "- what are the city names where all these ATMs are based in?\n",
    "- what is the typical number of currencies supported by an ATM?\n",
    "- what are names of cities of ATMs that dispense 5 pound notes? (MinimumPossibleAmount is 5)"
   ]
  },
  {
   "cell_type": "code",
   "execution_count": null,
   "metadata": {},
   "outputs": [],
   "source": [
    "import pprint as pp\n",
    "\n",
    "bank_of_scotland_atms = [{'Identification': 'BFF7BC11',\n",
    "  'SupportedLanguages': ['eng', 'spa', 'ger', 'fre'],\n",
    "  'ATMServices': ['PINUnblock',\n",
    "   'Balance',\n",
    "   'BillPayments',\n",
    "   'CashWithdrawal',\n",
    "   'FastCash',\n",
    "   'MobilePhoneTopUp',\n",
    "   'PINChange',\n",
    "   'MiniStatement'],\n",
    "  'Accessibility': ['WheelchairAccess'],\n",
    "  'SupportedCurrencies': ['GBP'],\n",
    "  'MinimumPossibleAmount': '5',\n",
    "  'Branch': {'Identification': '80453100'},\n",
    "  'Location': {'LocationCategory': ['BranchExternal'],\n",
    "   'Site': {'Identification': '80453100'},\n",
    "   'PostalAddress': {'AddressLine': ['136 BUCHANAN STREET; BALFRON'],\n",
    "    'BuildingNumber': 'BOS BRANCH',\n",
    "    'StreetName': '136 BUCHANAN STREET',\n",
    "    'TownName': 'GLASGOW',\n",
    "    'CountrySubDivision': ['GLASGOW'],\n",
    "    'Country': 'GB',\n",
    "    'PostCode': 'G63 0TG',\n",
    "    'GeoLocation': {'GeographicCoordinates': {'Latitude': '56.071629',\n",
    "      'Longitude': '-4.336911'}}}}},\n",
    " {'Identification': 'BFA6HC11',\n",
    "  'SupportedLanguages': ['eng', 'spa', 'ger', 'fre'],\n",
    "  'ATMServices': ['PINUnblock',\n",
    "   'Balance',\n",
    "   'BillPayments',\n",
    "   'CashWithdrawal',\n",
    "   'FastCash',\n",
    "   'MobilePhoneTopUp',\n",
    "   'PINChange',\n",
    "   'MiniStatement'],\n",
    "  'Accessibility': ['AudioCashMachine', 'WheelchairAccess'],\n",
    "  'SupportedCurrencies': ['GBP'],\n",
    "  'MinimumPossibleAmount': '10',\n",
    "  'Branch': {'Identification': '80496000'},\n",
    "  'Location': {'LocationCategory': ['BranchInternal'],\n",
    "   'Site': {'Identification': '80496000'},\n",
    "   'PostalAddress': {'AddressLine': ['BRISTOL ROOM COPLEY DATA CENTRE; WAKEFIELD ROAD'],\n",
    "    'BuildingNumber': 'BOS BRANCH',\n",
    "    'StreetName': 'BRISTOL ROOM COPLEY DATA CENTRE',\n",
    "    'TownName': 'HALIFAX',\n",
    "    'CountrySubDivision': ['WEST YORKSHIRE'],\n",
    "    'Country': 'GB',\n",
    "    'PostCode': 'HX3 0TD',\n",
    "    'GeoLocation': {'GeographicCoordinates': {'Latitude': '51.454900',\n",
    "      'Longitude': '2.592000'}}}}},\n",
    " {'Identification': 'BF88GC11',\n",
    "  'SupportedLanguages': ['eng', 'spa', 'ger', 'fre'],\n",
    "  'ATMServices': ['PINUnblock',\n",
    "   'Balance',\n",
    "   'BillPayments',\n",
    "   'CashWithdrawal',\n",
    "   'FastCash',\n",
    "   'MobilePhoneTopUp',\n",
    "   'PINChange',\n",
    "   'MiniStatement'],\n",
    "  'Accessibility': ['AudioCashMachine', 'WheelchairAccess'],\n",
    "  'SupportedCurrencies': ['GBP'],\n",
    "  'MinimumPossibleAmount': '5',\n",
    "  'Branch': {'Identification': '80452300'},\n",
    "  'Location': {'LocationCategory': ['BranchInternal'],\n",
    "   'Site': {'Identification': '80452300'},\n",
    "   'PostalAddress': {'AddressLine': ['111 HIGH STREET;'],\n",
    "    'BuildingNumber': 'BOS BRANCH',\n",
    "    'StreetName': '111 HIGH STREET',\n",
    "    'TownName': 'ANNAN',\n",
    "    'CountrySubDivision': ['DUMFRIES AND GALLOWAY'],\n",
    "    'Country': 'GB',\n",
    "    'PostCode': 'DG12 6AB',\n",
    "    'GeoLocation': {'GeographicCoordinates': {'Latitude': '54.987176',\n",
    "      'Longitude': '-3.260075'}}}}}]\n",
    "\n",
    "pp.pprint(bank_of_scotland_atms)"
   ]
  },
  {
   "cell_type": "markdown",
   "metadata": {},
   "source": [
    "## ⭐️⭐️⭐️💥 What you learned in this session: Three stars and a wish \n",
    "**In yoru own words** write in your Learn diary:\n",
    "\n",
    "- 3 things you yould like to remember from this badge\n",
    "- 1 thing you wish to understand better in the future or a question you'd like to ask\n"
   ]
  },
  {
   "cell_type": "code",
   "execution_count": null,
   "metadata": {},
   "outputs": [],
   "source": []
  }
 ],
 "metadata": {
  "kernelspec": {
   "display_name": "Python 3",
   "language": "python",
   "name": "python3"
  },
  "language_info": {
   "codemirror_mode": {
    "name": "ipython",
    "version": 3
   },
   "file_extension": ".py",
   "mimetype": "text/x-python",
   "name": "python",
   "nbconvert_exporter": "python",
   "pygments_lexer": "ipython3",
   "version": "3.7.6"
  }
 },
 "nbformat": 4,
 "nbformat_minor": 2
}
