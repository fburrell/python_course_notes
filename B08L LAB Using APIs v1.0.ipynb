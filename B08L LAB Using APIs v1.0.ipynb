{
 "cells": [
  {
   "cell_type": "markdown",
   "metadata": {},
   "source": [
    "### This lab has two parts:"
   ]
  },
  {
   "cell_type": "markdown",
   "metadata": {},
   "source": [
    "**PART 1: Bicycle Hire data: Read two solutions and write a third:**\n",
    "\n",
    "- There are two solved examples (Tasks 1 and 2) that use Cycle Hire API and then a list of questions you can try answering by looking at the data.\n",
    "- if you run out of tasks feel free to come up with your own.\n",
    "\n",
    "**PART 2:**\n",
    "\n",
    "Pick one of the listed APIs and:\n",
    "\n",
    "1. Get data from it\n",
    "2. Represent that data as dictionaries or objects\n",
    "3. Invent 1-2 business questions and answer them using your code"
   ]
  },
  {
   "cell_type": "markdown",
   "metadata": {},
   "source": [
    "Notes:\n",
    "response.json() ---> Will return you data as json (basically a dictionary)\n",
    "response.text ---> Useful only for printing all data, Will return data as formatted string, but you can't treat it as a dictionary \n",
    "\n",
    "Notes: \n",
    "Use Chrome web browser and install this JSON Viewer extension to preview JSON in a more readable format: https://chrome.google.com/webstore/detail/json-viewer/gbmdgpbipfallnflgajpaliibnhdgobh"
   ]
  },
  {
   "cell_type": "markdown",
   "metadata": {},
   "source": [
    "# Part 1"
   ]
  },
  {
   "cell_type": "markdown",
   "metadata": {},
   "source": [
    "### Bicycle Scheme API Reference:"
   ]
  },
  {
   "cell_type": "markdown",
   "metadata": {},
   "source": [
    "We'll use two API calls: \n",
    "\n",
    "**STATION INFORMATION**: detailed not-changing info about stations (eg. their intended size, location). Use it to get info about all stations in format:\n",
    "\n",
    "```\n",
    "{\n",
    "        \"station_id\": \"1727\",\n",
    "        \"name\": \"Causewayside\",\n",
    "        \"address\": \"Causewayside, Edinburgh, EH9 1PR\",\n",
    "        \"lat\": 55.93650603148236,\n",
    "        \"lon\": -3.1801663476151134,\n",
    "        \"capacity\": 15\n",
    "      }\n",
    "```\n",
    "      \n",
    "**STATION STATUS**: time relevant (refreshed every 10s) info about current status of the bicycle docking stations right now. Use it to get info about all stations in format:\n",
    "\n",
    "```\n",
    "{\n",
    "        \"station_id\": \"1727\",\n",
    "        \"is_installed\": 1,\n",
    "        \"is_renting\": 1,\n",
    "        \"is_returning\": 1,\n",
    "        \"last_reported\": 1571174615,\n",
    "        \"num_bikes_available\": 3,\n",
    "        \"num_docks_available\": 12\n",
    "      }\n",
    "      \n",
    "```\n",
    "\n",
    "**Documentation:**\n",
    " \n",
    "https://edinburghcyclehire.com/open-data/realtime \n",
    "\n",
    "**Full responses of the calls:**\n",
    "\n",
    "https://gbfs.urbansharing.com/edinburghcyclehire.com/station_information.json\n",
    "\n",
    "```\n",
    "{\n",
    "  \"last_updated\": 1571174713,\n",
    "  \"ttl\": 10,\n",
    "  \"data\": {\n",
    "    \"stations\": [\n",
    "      {\n",
    "        \"station_id\": \"1727\",\n",
    "        \"name\": \"Causewayside\",\n",
    "        \"address\": \"Causewayside, Edinburgh, EH9 1PR\",\n",
    "        \"lat\": 55.93650603148236,\n",
    "        \"lon\": -3.1801663476151134,\n",
    "        \"capacity\": 15\n",
    "      },\n",
    "      {\n",
    "        \"station_id\": \"1726\",\n",
    "        \"name\": \"Simon Square\",\n",
    "        \"address\": \"Simon Square, Edinburgh, EH8 9HP\",\n",
    "        \"lat\": 55.94485886752089,\n",
    "        \"lon\": -3.182589723460069,\n",
    "        \"capacity\": 13\n",
    "      },\n",
    "```\n",
    "\n",
    "https://gbfs.urbansharing.com/edinburghcyclehire.com/station_status.json   \n",
    "\n",
    "\n",
    "```\n",
    "  {\n",
    "  \"last_updated\": 1571174615,\n",
    "  \"ttl\": 10,\n",
    "  \"data\": {\n",
    "    \"stations\": [\n",
    "      {\n",
    "        \"station_id\": \"1727\",\n",
    "        \"is_installed\": 1,\n",
    "        \"is_renting\": 1,\n",
    "        \"is_returning\": 1,\n",
    "        \"last_reported\": 1571174615,\n",
    "        \"num_bikes_available\": 3,\n",
    "        \"num_docks_available\": 12\n",
    "      },\n",
    "      {\n",
    "        \"station_id\": \"1726\",\n",
    "        \"is_installed\": 1,\n",
    "        \"is_renting\": 1,\n",
    "        \"is_returning\": 1,\n",
    "        \"last_reported\": 1571174615,\n",
    "        \"num_bikes_available\": 5,\n",
    "        \"num_docks_available\": 8\n",
    "      },\n",
    "```\n",
    "\n"
   ]
  },
  {
   "cell_type": "markdown",
   "metadata": {},
   "source": [
    "## Some starting code: Here are two functions for you to get "
   ]
  },
  {
   "cell_type": "code",
   "execution_count": null,
   "metadata": {},
   "outputs": [],
   "source": [
    "import requests\n",
    "import pprint as pp\n",
    "    \n",
    "# here are two functions that you do not need to undertsand just now (but do try later!)\n",
    "# just have a look at their outputs below:L\n",
    "\n",
    "def get_all_stations_info():\n",
    "    # https://gbfs.urbansharing.com/edinburghcyclehire.com/station_information.json\n",
    "    response_station_information = requests.request(\"GET\", \"https://gbfs.urbansharing.com/edinburghcyclehire.com/station_information.json\")\n",
    "    stations_info = response_station_information.json()['data']['stations']\n",
    "    return stations_info\n",
    "\n",
    "def get_all_stations_status():\n",
    "    # https://gbfs.urbansharing.com/edinburghcyclehire.com/station_status.json\n",
    "    response_station_status = requests.request(\"GET\", \"https://gbfs.urbansharing.com/edinburghcyclehire.com/station_status.json\")\n",
    "    stations_status = response_station_status.json()['data']['stations']\n",
    "    return stations_status\n"
   ]
  },
  {
   "cell_type": "code",
   "execution_count": null,
   "metadata": {},
   "outputs": [],
   "source": [
    "infos = get_all_stations_info()\n",
    "pp.pprint(infos)"
   ]
  },
  {
   "cell_type": "code",
   "execution_count": null,
   "metadata": {},
   "outputs": [],
   "source": [
    "statuses = get_all_stations_status()\n",
    "pp.pprint(statuses)"
   ]
  },
  {
   "cell_type": "markdown",
   "metadata": {},
   "source": [
    "### Warm-up Task 1 - How many bicycles can be parked in total (use station info to find out)"
   ]
  },
  {
   "cell_type": "code",
   "execution_count": null,
   "metadata": {},
   "outputs": [],
   "source": [
    "def get_total_capacity():\n",
    "    stations_info = get_all_stations_info()\n",
    "    capacities = [ station['capacity']\n",
    "                    for station in stations\n",
    "                 ]\n",
    "    return sum(capacities)\n",
    "\n",
    "print( \"Total Capacity: \", get_total_capacity() )"
   ]
  },
  {
   "cell_type": "markdown",
   "metadata": {},
   "source": [
    "### Warm-up Task 2 - How many bicycles are parked now (use station status to find out)"
   ]
  },
  {
   "cell_type": "code",
   "execution_count": null,
   "metadata": {},
   "outputs": [],
   "source": [
    "def get_total_bikes_parked_now():\n",
    "    stations_status = get_all_stations_status()\n",
    "\n",
    "\n",
    "    bikes_parked = [ station_json['num_bikes_available']\n",
    "                    for station_json in stations_status\n",
    "                 ]        \n",
    "    return sum(bikes_parked)\n",
    "\n",
    "print( \"Bikes Parked now: \", get_total_bikes_parked_now() )"
   ]
  },
  {
   "cell_type": "markdown",
   "metadata": {},
   "source": [
    "### Task 3 - What percantage of all available parking spaces are free right now?"
   ]
  },
  {
   "cell_type": "code",
   "execution_count": null,
   "metadata": {},
   "outputs": [],
   "source": [
    "# Re-use above functions to produce an answer:\n",
    "\n"
   ]
  },
  {
   "cell_type": "markdown",
   "metadata": {},
   "source": [
    "### Task 4 - What is total number of potential bikes?\n",
    "\n",
    "In the station status we know two things about each docking station: number of usable bikes available there now `num_bikes_available`  and number of empty parking spots available now `num_docks_available`.\n",
    "\n",
    "If you add these two numbers you will get a number of all potential bikes (parked right now, or thoise that could be parked). What is that number?"
   ]
  },
  {
   "cell_type": "code",
   "execution_count": null,
   "metadata": {},
   "outputs": [],
   "source": []
  },
  {
   "cell_type": "markdown",
   "metadata": {},
   "source": [
    "### Task 5 - Use above calculation to find out what is average number of bikes per station\n"
   ]
  },
  {
   "cell_type": "code",
   "execution_count": null,
   "metadata": {},
   "outputs": [],
   "source": []
  },
  {
   "cell_type": "markdown",
   "metadata": {},
   "source": [
    "### Task 6 - What percentage of stations is more than half-empty? (you should be able to reuse one of yoru previous solutions)"
   ]
  },
  {
   "cell_type": "code",
   "execution_count": null,
   "metadata": {},
   "outputs": [],
   "source": []
  },
  {
   "cell_type": "markdown",
   "metadata": {},
   "source": [
    "### Task 8 - Given station id (e.g. 248 is the one next to Business School) print information about it FROM BOTH APIS"
   ]
  },
  {
   "cell_type": "code",
   "execution_count": null,
   "metadata": {},
   "outputs": [],
   "source": []
  },
  {
   "cell_type": "markdown",
   "metadata": {},
   "source": [
    "### Task 7 - Look at the available data about bicycle parking stations info and status and form a business problem that could be solved with this data. Then solve that problem with code"
   ]
  },
  {
   "cell_type": "code",
   "execution_count": null,
   "metadata": {},
   "outputs": [],
   "source": []
  },
  {
   "cell_type": "markdown",
   "metadata": {},
   "source": [
    "# Part 2: If you still have time: Pick one of the below APIs: Stocks or IMDB"
   ]
  },
  {
   "cell_type": "markdown",
   "metadata": {},
   "source": [
    "\n",
    "Pick one of the listed APIs and:\n",
    "\n",
    "1. Get data from it\n",
    "2. Represent that data as dictionaries or objects\n",
    "3. Invent 1-3 business questions and answer them using your code\n",
    "\n",
    "Agree on your goals first, so that you are on the same page."
   ]
  },
  {
   "cell_type": "markdown",
   "metadata": {},
   "source": [
    "### Stock Information:"
   ]
  },
  {
   "cell_type": "markdown",
   "metadata": {},
   "source": [
    "- this api will require you to create an account (you'll need to gove them youe email)\n",
    "- you will be limited to 5 calls a minute and 500 calls a day\n",
    "\n",
    "Get API key here:  https://www.alphavantage.co/support/#api-key\n",
    "\n",
    "Docs: https://www.alphavantage.co/documentation/ \n",
    "\n",
    "Look carefully at the URLs, they contain all the details about your question you're asking of API.\n",
    "\n",
    "for example https://www.alphavantage.co/query?function=FX_DAILY&from_symbol=EUR&to_symbol=GBP&apikey=123654\n",
    "\n",
    "contains these information:\n",
    "\n",
    "- type of info: FX_DAILY\n",
    "- from_symbol: EUR\n",
    "- to_symbol: GBP\n",
    "- apikey: 123654\n",
    "\n",
    "Some ideas:\n",
    "\n",
    "- What was the opening price of Tesla TSLA yesterday?\n",
    "- What percent of days was the open price higher than close price?\n",
    "- How often is the up/down trend from yesterday a good predictor of today?\n",
    "- Are some months worse than others every year?"
   ]
  },
  {
   "cell_type": "code",
   "execution_count": null,
   "metadata": {},
   "outputs": [],
   "source": [
    "# Example: currency exchange rates between EUR and GBP in last 4 months\n",
    "    \n",
    "# {\n",
    "#     \"Time Series FX (Daily)\": {\n",
    "#         \"2019-10-16\": {\n",
    "#             \"1. open\": \"0.8665\",\n",
    "#             \"2. high\": \"0.8674\",\n",
    "#             \"3. low\": \"0.8623\",\n",
    "#             \"4. close\": \"0.8644\"\n",
    "#         },\n",
    "    \n",
    "import requests\n",
    "your_api_key = \"abcde\" #get it from the above website\n",
    "\n",
    "url = \"https://www.alphavantage.co/query?function=FX_DAILY&from_symbol=EUR&to_symbol=GBP&apikey={}\".format(your_api_key)\n",
    "response_currency = requests.request(\"GET\", url)\n",
    "print(response.text)"
   ]
  },
  {
   "cell_type": "code",
   "execution_count": null,
   "metadata": {},
   "outputs": [],
   "source": [
    "# Example: daily stock value of GOOG since 2004-08-19\"\n",
    "\n",
    "# {\n",
    "#     \"Time Series (Daily)\": {\n",
    "#         \"2019-10-15\": {\n",
    "#             \"1. open\": \"1220.4000\",\n",
    "#             \"2. high\": \"1235.9200\",\n",
    "#             \"3. low\": \"1220.4000\",\n",
    "#             \"4. close\": \"1235.5700\",\n",
    "#             \"5. volume\": \"495397\"\n",
    "#         },\n",
    "\n",
    "\n",
    "import requests\n",
    "your_api_key = \"abcde\" #get it from the above website\n",
    "\n",
    "url = \"https://www.alphavantage.co/query?function=TIME_SERIES_DAILY&outputsize=full&symbol=GOOG&apikey={}\".format(your_api_key)\n",
    "response = requests.request(\"GET\", url)\n",
    "print(response.text)"
   ]
  },
  {
   "cell_type": "markdown",
   "metadata": {},
   "source": [
    "### IMDB Movie database"
   ]
  },
  {
   "cell_type": "markdown",
   "metadata": {},
   "source": [
    "website: http://www.omdbapi.com/\n",
    "get api key, 1000 calls limit: http://www.omdbapi.com/apikey.aspx (you'll need to click a link in email)\n",
    "\n",
    "\n",
    "**SEARCH BY TITLE** - http://www.omdbapi.com/?s=Batman - will return basic information about many movies. Each result will contain 10 results in a list. To see next page (11-20) add ```&page=2``` and to see 21-30 add &page=3 etc.\n",
    "\n",
    "**GET DETAILED INFO BY ID** - http://www.omdbapi.com/?i=tt0372784 - will return detailed information about one movie with the id you pass in the URL, in this example ```tt0372784```\n",
    "\n",
    "IDEA 1:\n",
    "Ask user for a movie title, search for that title in API and print all titles informat \"Godzilla (1993)\"\n",
    "\n",
    "IDEA 2:\n",
    "Display all movies in detailed format: \"Godzilla (1993) - 112 minutes - earned $10.300.000 - Rating: 8.2\"\n",
    "\n",
    "You will need to make two types of calls: \n",
    "\n",
    "- first get all movies with a particular title (eg \"Pokemon\" or \"Star Wars\")\n",
    "- in results for that call identify movie id's ```imdbID```\n",
    "- FOR EACH imdbID request detailed movie data and display it in a nice format\n",
    "\n",
    "Some further ideas:\n",
    "\n",
    "- are there more star wars or star trek movies?\n",
    "- Do star wars movies get longer more recently?"
   ]
  },
  {
   "cell_type": "code",
   "execution_count": null,
   "metadata": {},
   "outputs": [],
   "source": [
    "import requests\n",
    "your_api_key = \"abcde\" #get it from the above website\n",
    "\n",
    "url = \"http://www.omdbapi.com/?s=Batman&page=1&apikey={}\".format(your_api_key)\n",
    "response = requests.request(\"GET\", url)\n",
    "print(response.json()[\"Search\"][0][\"Title\"])\n",
    "print(response.text)\n",
    "\n",
    "# will give you a list of all Batman movies\n",
    "\n",
    "# {\n",
    "#   \"Search\": [\n",
    "#     {\n",
    "#       \"Title\": \"Batman Begins\",\n",
    "#       \"Year\": \"2005\",\n",
    "#       \"imdbID\": \"tt0372784\",\n",
    "#       \"Type\": \"movie\",\n",
    "#       \"Poster\": \"https://m.media-amazon.com/images/M/MV5BZmUwNGU2ZmItMmRiNC00MjhlLTg5YWUtODMyNzkxODYzMmZlXkEyXkFqcGdeQXVyNTIzOTk5ODM@._V1_SX300.jpg\"\n",
    "#     },\n",
    "#     {\n",
    "#       \"Title\": \"Batman v Superman: Dawn of Justice\",\n",
    "#       \"Year\": \"2016\",\n",
    "#       \"imdbID\": \"tt2975590\",\n",
    "#       \"Type\": \"movie\",\n",
    "#       \"Poster\": \"https://m.media-amazon.com/images/M/MV5BYThjYzcyYzItNTVjNy00NDk0LTgwMWQtYjMwNmNlNWJhMzMyXkEyXkFqcGdeQXVyMTQxNzMzNDI@._V1_SX300.jpg\"\n",
    "#     },"
   ]
  },
  {
   "cell_type": "code",
   "execution_count": null,
   "metadata": {},
   "outputs": [],
   "source": [
    "import requests\n",
    "your_api_key = \"abcde\" #get it from the above website\n",
    "\n",
    "url = \"http://www.omdbapi.com/?i=tt0372784&apikey={}\".format(your_api_key)\n",
    "response = requests.request(\"GET\", url)\n",
    "print(response.json()[\"Search\"][0][\"Actors\"])\n",
    "print(response.text)\n",
    "# will give you a details of a movie with imdb id tt0372784, which is Batman Begins\n",
    "\n",
    "# {\n",
    "#   \"Title\": \"Batman Begins\",\n",
    "#   \"Year\": \"2005\",\n",
    "#   \"Rated\": \"PG-13\",\n",
    "#   \"Released\": \"15 Jun 2005\",\n",
    "#   \"Runtime\": \"140 min\",\n",
    "#   \"Genre\": \"Action, Adventure\",\n",
    "#   \"Director\": \"Christopher Nolan\",\n",
    "#   \"Writer\": \"Bob Kane (characters), David S. Goyer (story), Christopher Nolan (screenplay), David S. Goyer (screenplay)\",\n",
    "#   \"Actors\": \"Christian Bale, Michael Caine, Liam Neeson, Katie Holmes\",\n",
    "#   \"Plot\": \"After training with his mentor, Batman begins his fight to free crime-ridden Gotham City from corruption.\",\n",
    "#   \"Language\": \"English, Urdu, Mandarin\",\n",
    "#   \"Country\": \"USA, UK\",\n",
    "#   \"Awards\": \"Nominated for 1 Oscar. Another 14 wins & 72 nominations.\",\n",
    "#   \"Poster\": \"https://m.media-amazon.com/images/M/MV5BZmUwNGU2ZmItMmRiNC00MjhlLTg5YWUtODMyNzkxODYzMmZlXkEyXkFqcGdeQXVyNTIzOTk5ODM@._V1_SX300.jpg\",\n",
    "#   \"Ratings\": [\n",
    "#     {\n",
    "#       \"Source\": \"Internet Movie Database\",\n",
    "#       \"Value\": \"8.2/10\"\n",
    "#     },\n",
    "#     {\n",
    "#       \"Source\": \"Rotten Tomatoes\",\n",
    "#       \"Value\": \"84%\"\n",
    "#     },\n",
    "#     {\n",
    "#       \"Source\": \"Metacritic\",\n",
    "#       \"Value\": \"70/100\"\n",
    "#     }\n",
    "#   ],\n",
    "#   \"Metascore\": \"70\",\n",
    "#   \"imdbRating\": \"8.2\",\n",
    "#   \"imdbVotes\": \"1,212,892\",\n",
    "#   \"imdbID\": \"tt0372784\",\n",
    "#   \"Type\": \"movie\",\n",
    "#   \"DVD\": \"18 Oct 2005\",\n",
    "#   \"BoxOffice\": \"$204,100,000\",\n",
    "#   \"Production\": \"Warner Bros. Pictures\",\n",
    "#   \"Website\": \"N/A\",\n",
    "#   \"Response\": \"True\"\n",
    "# }"
   ]
  }
 ],
 "metadata": {
  "kernelspec": {
   "display_name": "Python 3",
   "language": "python",
   "name": "python3"
  },
  "language_info": {
   "codemirror_mode": {
    "name": "ipython",
    "version": 3
   },
   "file_extension": ".py",
   "mimetype": "text/x-python",
   "name": "python",
   "nbconvert_exporter": "python",
   "pygments_lexer": "ipython3",
   "version": "3.7.6"
  }
 },
 "nbformat": 4,
 "nbformat_minor": 2
}
