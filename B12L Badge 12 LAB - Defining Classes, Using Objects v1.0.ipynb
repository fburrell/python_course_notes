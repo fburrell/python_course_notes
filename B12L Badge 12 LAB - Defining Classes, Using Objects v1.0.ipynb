{
 "cells": [
  {
   "cell_type": "markdown",
   "metadata": {},
   "source": [
    "Please do not complete this lab by yourself before your timetabled lab time. These notebooks are designed for pairs and if you complete it alone, you loose away peer-learning opportunity from you and your partner. Thanks!\n",
    "\n",
    "# Parts of this lab:\n",
    "\n",
    "1. Examples of Class Diagrams and how to write code from diagrams - read these with your partner. Take turns being the main reader.\n",
    "2. Drawing Task - use whiteboard with your partner\n",
    "3. Coding Tasks: you are given diagrams and tests - just write the solution code (take turns, pair-program)\n"
   ]
  },
  {
   "cell_type": "markdown",
   "metadata": {},
   "source": [
    "# UML Class Diagrams\n",
    "\n",
    "We will focus on planning simple business solutions using the code you already know. You will draw your solutions on paper first and then for some of them you will write some code.\n",
    "**CLASS DIAGRAMS in UML (Universal Modeling Language)**"
   ]
  },
  {
   "cell_type": "markdown",
   "metadata": {},
   "source": [
    "Below you will be creating a set of class diagrams. Like you've seen during the lecture, a class diagram consists of three boxes on top of each other\n",
    "\n",
    "- top box is the class name\n",
    "- second box is class variables: their names and type of values they hold\n",
    "- third box is class functions: their name, arguments they take (name and type), and return value\n",
    "\n",
    "| **Class_name** |\n",
    "|:--------|\n",
    "|variable_name: Variable_type   |\n",
    "|-------------------------------------------|\n",
    "|method ( argument_1, argument_2, ... ) ---> return_type  |"
   ]
  },
  {
   "cell_type": "markdown",
   "metadata": {},
   "source": [
    "These are a tool for you to communicate with other programmers, so feel free to add anything else that is relevant for you."
   ]
  },
  {
   "cell_type": "markdown",
   "metadata": {},
   "source": [
    "# Three Examples of diagrams and code that was build based on them:\n",
    "\n",
    "As you look at these examples think if you could have written the code, if you were given the diagrams (and maybe some tests)\n",
    "\n",
    "| **Book** |\n",
    "|:---|\n",
    "|title: String |\n",
    "|author: String |\n",
    "|unique_book_number: Integer |\n",
    "|-------------------------------------------|\n",
    "|text_on_the_cover( ) ---> String  |"
   ]
  },
  {
   "cell_type": "code",
   "execution_count": null,
   "metadata": {},
   "outputs": [],
   "source": [
    "class Book:\n",
    "    def __init__(self, title, author, number):\n",
    "        self.title = title\n",
    "        self.author = author\n",
    "        self.unique_book_number = number\n",
    "        \n",
    "    def text_on_the_cover( self ):\n",
    "        return \"{} by {}\".format(self.title, self.author)\n",
    "    \n",
    "a_book = Book(\"About Bananas\", \"Dr Fruit\", 123456)\n",
    "print(a_book.text_on_the_cover()) \n",
    "\n",
    "assert a_book.text_on_the_cover() == \"About Bananas by Dr Fruit\""
   ]
  },
  {
   "cell_type": "markdown",
   "metadata": {},
   "source": [
    "| **Student** |\n",
    "|:---|\n",
    "|name: String |\n",
    "|student_number: Integer |\n",
    "|loaned_books: [Book] |\n",
    "|-------------------------------------------|\n",
    "|number_of_loaned_books( ) ---> int  |\n",
    "|loan_a_new_book( Book ) |\n",
    "|return_all_books( ) ---> [Book]  |"
   ]
  },
  {
   "cell_type": "code",
   "execution_count": null,
   "metadata": {},
   "outputs": [],
   "source": [
    "class Student:\n",
    "    def __init__(self, name, student_number):\n",
    "        self.name = name\n",
    "        self.student_number = student_number\n",
    "        self.loaned_books = []\n",
    "      \n",
    "    def number_of_loaned_books(self):\n",
    "        return len(self.loaned_books)\n",
    "        \n",
    "    def loan_a_new_book(self, new_book ):\n",
    "        self.loaned_books.append(new_book)\n",
    "    \n",
    "    def return_all_books(self ):\n",
    "        self.loaned_books.clear()\n",
    "\n",
    "a_student = Student(\"Mia Banks\", 103333 )\n",
    "book1 = Book(\"About Bananas\", \"Dr Fruit\", 123456)\n",
    "book2 = Book(\"About Pinapples\", \"Dr Fruit\", 123457)\n",
    "print( a_student.number_of_loaned_books() )\n",
    "\n",
    "a_student.loan_a_new_book(book1)\n",
    "a_student.loan_a_new_book(book2)\n",
    "print( a_student.number_of_loaned_books() )\n",
    "\n",
    "a_student.return_all_books()\n",
    "print( a_student.number_of_loaned_books() )"
   ]
  },
  {
   "cell_type": "markdown",
   "metadata": {},
   "source": [
    "| **Library** |\n",
    "|:---|\n",
    "|books: [Book] |\n",
    "|-------------------------------------------|\n",
    "|add_new_book( Book )  |\n",
    "|add_new_books( [Book] )  |\n",
    "|number_of_books( ) ---> Integer  |\n",
    "|get_book_with_number( Integer ) ---> Book  |\n",
    "|get_books_of_author( String ) ---> [Book]  |\n",
    "|loan_book_with_number_to_student( Integet, Student ) |\n",
    "|student_returns_all_books( Student ) |"
   ]
  },
  {
   "cell_type": "code",
   "execution_count": null,
   "metadata": {},
   "outputs": [],
   "source": [
    "class Library:\n",
    "    def __init__(self):\n",
    "        self.books = []\n",
    "    \n",
    "    def add_new_book(self, new_book ):\n",
    "        self.books.append(new_book)\n",
    "    \n",
    "    def add_new_books(self, new_books ):\n",
    "        self.books.extend(new_books)\n",
    "\n",
    "    def number_of_books(self ):\n",
    "        return len(self.books)\n",
    "    \n",
    "    def get_book_with_number(self, searched_book_number ):\n",
    "        for book in self.books:\n",
    "            if book.unique_book_number == searched_book_number:\n",
    "                removed_book = self.books.remove(book)   \n",
    "                return removed_book\n",
    "    \n",
    "    def get_books_of_author(self, searched_author ):\n",
    "        searched_books = []\n",
    "        for book in self.books:\n",
    "            if book.author == searched_author:\n",
    "                searched_books.append(book)\n",
    "        return searched_books\n",
    "\n",
    "      "
   ]
  },
  {
   "cell_type": "code",
   "execution_count": null,
   "metadata": {},
   "outputs": [],
   "source": [
    "a_library = Library()\n",
    "print(a_library.number_of_books())\n",
    "\n",
    "book1 = Book(\"About Bananas\", \"Dr Fruit\", 123456)\n",
    "book2 = Book(\"About Pinapples\", \"Dr Fruit\", 123457)\n",
    "a_library.add_new_book(book1)\n",
    "a_library.add_new_book(book2)\n",
    "print(a_library.number_of_books())\n",
    "\n",
    "book_number_123456 = a_library.get_book_with_number(123456)\n",
    "print(a_library.number_of_books())\n",
    "\n",
    "a_student = Student(\"Mia Banks\", 103333 )\n",
    "a_student.loan_a_new_book(book_number_123456)\n",
    "print( a_student.number_of_loaned_books() )"
   ]
  },
  {
   "cell_type": "markdown",
   "metadata": {},
   "source": [
    "# Drawing Task  (no code yet) \n",
    "\n",
    "**DIAGRAM TWO REAL WORLD SCENARIOS**. \n",
    "\n",
    "- Pick TWO scenarios of real-world objects interacting (see examples below for inspiration)\n",
    "- Draw UML diagrams for each scenario. It should not be more complex than 2-3 classes per scenario\n",
    "- In each class. do not exceed 3-4 variables and 3-4 methods\n",
    "\n",
    "- **Look at the clock - do not spend more than 5 minutes on diagramming each scenario**\n",
    "\n",
    "note: It's better to do simple class diagrams but many times, rather than complex ones but just once.\n",
    "\n",
    "Some inspiration, but feel free to come up with your own examples. Just remember: no more than 5 mins per diagram.\n",
    "\n",
    "- Food truck next to the Business School: possible classes Drink, Meals, Client, Truck, Ingredient...\n",
    "- Netflix: possible classes Movie, Actor, User, Playlist\n",
    "- JustEat food delivery: possible classes Restaurant, Client, Delivery, Meal, DeliveryDriver\n",
    "- Your own examples..."
   ]
  },
  {
   "cell_type": "code",
   "execution_count": null,
   "metadata": {},
   "outputs": [],
   "source": [
    "# do not write any code for this (yet), just do it on the whiteboard. Remember to take a screemshot when you are done"
   ]
  },
  {
   "cell_type": "markdown",
   "metadata": {},
   "source": [
    "# Coding Tasks:\n",
    "\n",
    "You are given diagrams and tests - just write the solution code (take turns, pair-program)"
   ]
  },
  {
   "cell_type": "markdown",
   "metadata": {},
   "source": [
    "Note: When numbers have decimal places, the trailing zeros (zeros at the end) will be trimmed (not displayed). That means that when you print 1.20000 you will see only 1.2 - it does not mean that your result is inacurate, but only that meaningless zeros at the end are not displayed.\n",
    "\n",
    "So ```1.2 == 1.2000000``` is True, and tests like ```assert 1.2 == 1.20``` will pass. Meaningless zeros will be removed, but that does not mean the number is rounded or somehow changed."
   ]
  },
  {
   "cell_type": "markdown",
   "metadata": {},
   "source": [
    "### TASK 1"
   ]
  },
  {
   "cell_type": "markdown",
   "metadata": {},
   "source": [
    "Here's a Class Diagram for a fizzy drink Can, write a class based on it. You will be given some tests\n",
    "\n",
    "| **Can** |\n",
    "|:---|\n",
    "|volume: Float |\n",
    "|brand: String |\n",
    "|flavour: String |\n",
    "|-------------------------------------------|\n",
    "|init( Float, String, String) # (volume, brand, flavour) |\n",
    "|will_it_fit_in_glass_sized(Float) ---> Boolean # return true volume is smaller than given glass size|"
   ]
  },
  {
   "cell_type": "code",
   "execution_count": null,
   "metadata": {
    "nbgrader": {
     "grade": false,
     "grade_id": "cell-c8c89af04ac473f8",
     "locked": false,
     "schema_version": 1,
     "solution": true
    }
   },
   "outputs": [],
   "source": [
    "# here write your Can class\n",
    "\n",
    "class Can:\n",
    "    # your code here"
   ]
  },
  {
   "cell_type": "code",
   "execution_count": null,
   "metadata": {
    "nbgrader": {
     "grade": true,
     "grade_id": "cell-d198d883bc9c5c5b",
     "locked": true,
     "points": 1,
     "schema_version": 1,
     "solution": false
    }
   },
   "outputs": [],
   "source": [
    "coke = Can(0.33, \"Coke\", \"Diet\")\n",
    "assert coke.volume == 0.33\n",
    "assert coke.brand == \"Coke\"\n",
    "assert coke.flavour == \"Diet\"\n",
    "# hidden tests are here\n",
    "### BEGIN HIDDEN TESTS\n",
    "fanta = Can(0.5, \"Fanta\", \"Grape\")\n",
    "assert fanta.volume == 0.5\n",
    "assert fanta.brand == \"Fanta\"\n",
    "assert fanta.flavour == \"Grape\"\n",
    "### END HIDDEN TESTS"
   ]
  },
  {
   "cell_type": "code",
   "execution_count": null,
   "metadata": {
    "nbgrader": {
     "grade": true,
     "grade_id": "cell-b0893a9dd46e7506",
     "locked": true,
     "points": 1,
     "schema_version": 1,
     "solution": false
    }
   },
   "outputs": [],
   "source": [
    "coke = Can(0.33, \"Coke\", \"Diet\")\n",
    "assert coke.will_it_fit_in_glass_sized(0.10) == False\n",
    "assert coke.will_it_fit_in_glass_sized(0.33) == True\n",
    "assert coke.will_it_fit_in_glass_sized(0.60) == True\n",
    "# hidden tests are here\n",
    "### BEGIN HIDDEN TESTS\n",
    "fanta = Can(0.5, \"Fanta\", \"Grape\")\n",
    "assert fanta.will_it_fit_in_glass_sized(0.10) == False\n",
    "assert fanta.will_it_fit_in_glass_sized(0.50) == True\n",
    "assert fanta.will_it_fit_in_glass_sized(0.60) == True\n",
    "### END HIDDEN TESTS"
   ]
  },
  {
   "cell_type": "markdown",
   "metadata": {},
   "source": [
    "### TASK 2"
   ]
  },
  {
   "cell_type": "markdown",
   "metadata": {},
   "source": [
    "Here's a Class Diagram for a cinema ticket, write a class based on it. You will be given some tests\n",
    "\n",
    "| **Ticket** |\n",
    "|:---|\n",
    "|movie_title: String |\n",
    "|seat: String |\n",
    "|screen_number: Number |\n",
    "|price: Float |\n",
    "|time: String # for now let's just use String for time, like \"16:10\" |\n",
    "|-------------------------------------------|\n",
    "|init( String, String, Integer, Float, String, String)   |\n",
    "|is_it_for_this_seat_and_screen( String, Integer ) ---> Boolean  # ( seat, screen ) eg. returns True/False whether seat and screen are correct  |\n",
    "|as_string_simple( ) ---> Float  # eg.  \"Screen 4 Seat F7\" *** |\n",
    "|as_string_all_info( ) ---> Float  # eg.  \"Titanic - 16:10 - Screen 4 Seat F7 - £6.20\"  *** |\n",
    "|can_i_afford_it_for( Float ) ---> Boolean  # eg. returns True/False describing if price is lower or equal to the Float argument |\n",
    "\n",
    "Note: parts marked with *** are harder and for full points"
   ]
  },
  {
   "cell_type": "code",
   "execution_count": null,
   "metadata": {
    "nbgrader": {
     "grade": false,
     "grade_id": "cell-97f95d2452bd5623",
     "locked": false,
     "schema_version": 1,
     "solution": true
    }
   },
   "outputs": [],
   "source": [
    "# here write your Ticket class\n",
    "\n",
    "class Ticket:\n",
    "    # your code here"
   ]
  },
  {
   "cell_type": "code",
   "execution_count": null,
   "metadata": {
    "nbgrader": {
     "grade": true,
     "grade_id": "cell-eccdd4d002ec01a7",
     "locked": true,
     "points": 1,
     "schema_version": 1,
     "solution": false
    }
   },
   "outputs": [],
   "source": [
    "ticket1 = Ticket(movie_title=\"Titanic\", seat=\"B7\", screen_number=3, price=6.20, time=\"17:00\") \n",
    "assert ticket1.movie_title == \"Titanic\"\n",
    "assert ticket1.seat == \"B7\"\n",
    "assert ticket1.screen_number == 3\n",
    "assert ticket1.price == 6.20\n",
    "assert ticket1.time == \"17:00\"\n",
    "# hidden tests are here\n",
    "### BEGIN HIDDEN TESTS\n",
    "ticket2 = Ticket(movie_title=\"Titanic 2\", seat=\"B8\", screen_number=4, price=7.20, time=\"18:00\") \n",
    "assert ticket2.movie_title == \"Titanic 2\"\n",
    "assert ticket2.seat == \"B8\"\n",
    "assert ticket2.screen_number == 4\n",
    "assert ticket2.price == 7.20\n",
    "assert ticket2.time == \"18:00\"\n",
    "### END HIDDEN TESTS"
   ]
  },
  {
   "cell_type": "code",
   "execution_count": null,
   "metadata": {
    "nbgrader": {
     "grade": true,
     "grade_id": "cell-8f8020e349759c88",
     "locked": true,
     "points": 1,
     "schema_version": 1,
     "solution": false
    }
   },
   "outputs": [],
   "source": [
    "ticket1 = Ticket(movie_title=\"Titanic\", seat=\"B7\", screen_number=3, price=6.20, time=\"17:00\")\n",
    "\n",
    "assert ticket1.is_it_for_this_seat_and_screen(\"B7\", 3) == True\n",
    "assert ticket1.is_it_for_this_seat_and_screen(\"G2\", 3) == False\n",
    "assert ticket1.is_it_for_this_seat_and_screen(\"B7\", 6) == False\n",
    "assert ticket1.is_it_for_this_seat_and_screen(\"G2\", 6) == False\n",
    "\n",
    "# hidden tests are here\n",
    "### BEGIN HIDDEN TESTS\n",
    "ticket2 = Ticket(movie_title=\"Titanic 2\", seat=\"B8\", screen_number=4, price=7.20, time=\"18:00\") \n",
    "\n",
    "assert ticket2.is_it_for_this_seat_and_screen(\"B8\", 4) == True\n",
    "assert ticket2.is_it_for_this_seat_and_screen(\"B8\", 3) == False\n",
    "assert ticket2.is_it_for_this_seat_and_screen(\"B7\", 4) == False\n",
    "assert ticket2.is_it_for_this_seat_and_screen(\"G2\", 6) == False\n",
    "### END HIDDEN TESTS\n"
   ]
  },
  {
   "cell_type": "code",
   "execution_count": null,
   "metadata": {
    "nbgrader": {
     "grade": true,
     "grade_id": "cell-cd419b93a62aed7c",
     "locked": true,
     "points": 1,
     "schema_version": 1,
     "solution": false
    }
   },
   "outputs": [],
   "source": [
    "ticket1 = Ticket(movie_title=\"Titanic\", seat=\"B7\", screen_number=3, price=6.20, time=\"17:00\")\n",
    "assert ticket1.can_i_afford_it_for(5.10) == False\n",
    "assert ticket1.can_i_afford_it_for(6.20) == True\n",
    "assert ticket1.can_i_afford_it_for(10.00) == True\n",
    "\n",
    "# hidden tests are here\n",
    "### BEGIN HIDDEN TESTS\n",
    "ticket2 = Ticket(movie_title=\"Titanic 2\", seat=\"B8\", screen_number=4, price=7.20, time=\"18:00\") \n",
    "\n",
    "assert ticket2.can_i_afford_it_for(5.10) == False\n",
    "assert ticket2.can_i_afford_it_for(7.20) == True\n",
    "assert ticket2.can_i_afford_it_for(10.00) == True\n",
    "### END HIDDEN TESTS\n"
   ]
  },
  {
   "cell_type": "code",
   "execution_count": null,
   "metadata": {
    "nbgrader": {
     "grade": true,
     "grade_id": "cell-364545f1b241f1c3",
     "locked": true,
     "points": 1,
     "schema_version": 1,
     "solution": false
    }
   },
   "outputs": [],
   "source": [
    "ticket1 = Ticket(movie_title=\"Titanic\", seat=\"B7\", screen_number=3, price=6.20, time=\"17:00\")\n",
    "assert ticket1.as_string_simple() == \"Screen 3 Seat B7\"\n",
    "\n",
    "# hidden tests are here\n",
    "### BEGIN HIDDEN TESTS\n",
    "ticket2 = Ticket(movie_title=\"Titanic\", seat=\"B8\", screen_number=4, price=6.20, time=\"17:00\")\n",
    "assert ticket2.as_string_simple() == \"Screen 4 Seat B8\"\n",
    "### END HIDDEN TESTS\n",
    "\n",
    "\n",
    "assert ticket1.as_string_all_info() == \"Titanic - 17:00 - Screen 3 Seat B7 - £6.20\""
   ]
  },
  {
   "cell_type": "code",
   "execution_count": null,
   "metadata": {
    "nbgrader": {
     "grade": true,
     "grade_id": "cell-e043127dae2389a7",
     "locked": true,
     "points": 1,
     "schema_version": 1,
     "solution": false
    }
   },
   "outputs": [],
   "source": [
    "ticket1 = Ticket(movie_title=\"Titanic\", seat=\"B7\", screen_number=3, price=6.20, time=\"17:00\")\n",
    "assert ticket1.as_string_all_info() == \"Titanic - 17:00 - Screen 3 Seat B7 - £6.20\"\n",
    "\n",
    "# hidden tests are here\n",
    "### BEGIN HIDDEN TESTS\n",
    "ticket2 = Ticket(movie_title=\"Titanic 2\", seat=\"C9\", screen_number=4, price=6.20, time=\"19:00\")\n",
    "assert ticket2.as_string_all_info() == \"Titanic 2 - 19:00 - Screen 4 Seat C9 - £6.20\"\n",
    "### END HIDDEN TESTS"
   ]
  },
  {
   "cell_type": "markdown",
   "metadata": {},
   "source": [
    "### TASK 3"
   ]
  },
  {
   "cell_type": "markdown",
   "metadata": {},
   "source": [
    "Here's a Class Diagram simmilar to the one you've seen during the lab, write a class based on it. You will be given some tests\n",
    "\n",
    "| **Product** |\n",
    "|:---|\n",
    "|name: String |\n",
    "|production_cost: Float |\n",
    "|markup_percent: Float | # with value 0.15 for 15% markup\n",
    "|bulk_size: Integer # when we buy this many OR MORE then bulk_percent_discount will be applied  # | \n",
    "|bulk_percent_discount: Float # price discounted by that much if we buy more items than bulk size # |\n",
    "|-------------------------------------------|\n",
    "|init( String, Float, Float, Integer, Float)  # name, cost, markup_percent, bulk_size, bulk_percent_discount # |\n",
    "|profit_per_item( ) ---> Float  # production_cost * markup_percent # |\n",
    "|shop_cost_of_item( ) ---> Float  # production_cost * (1.0 + markup_percent) # |\n",
    "|how_many_can_client_buy_at_normal_price( Float ) ---> Int  # how many can we buy for this much # *** |\n",
    "|does_buying_this_many_give_me_discount( Int ) ---> Boolean |\n",
    "|how_many_can_client_buy_at_if_discount_applies( Float ) ---> Int  # only apply dicount if enough items are sold # *** \n",
    "|profit_to_be_made_if_client_buys_for( Float ) ---> Float  # what will be the profit if I buy and sell this many # *** \n",
    "\n",
    "Note: parts marked with *** are harder \n",
    "\n",
    "hint: add `__repr__` function to make debugging easier "
   ]
  },
  {
   "cell_type": "code",
   "execution_count": null,
   "metadata": {
    "nbgrader": {
     "grade": false,
     "grade_id": "cell-c89a06f8ec1bb5c1",
     "locked": false,
     "schema_version": 1,
     "solution": true
    }
   },
   "outputs": [],
   "source": [
    "# here wrote your Product class\n",
    "\n",
    "    \n",
    "class Product:\n",
    "    # your code here"
   ]
  },
  {
   "cell_type": "code",
   "execution_count": null,
   "metadata": {},
   "outputs": [],
   "source": [
    "# add more cells and create some tests of your own\n",
    "\n",
    "beans = Product(name=\"Beans\", production_cost=1.00, markup_percent=0.20, bulk_size=8, bulk_percent_discount=0.10) \n",
    "\n",
    "# here's some prints to get you started\n",
    "print(beans.shop_cost_of_item())\n",
    "print(beans.profit_per_item())\n",
    "print(beans.how_many_can_i_buy_for(5.0))\n",
    "print(beans.profit_to_be_made_if_i_buy_for(5.0))\n",
    "print(beans.how_many_can_i_buy_for(20.0))\n",
    "print(beans.profit_to_be_made_if_i_buy_for(20.0))"
   ]
  },
  {
   "cell_type": "code",
   "execution_count": null,
   "metadata": {
    "nbgrader": {
     "grade": true,
     "grade_id": "cell-ab98f2fd69dfd7a1",
     "locked": true,
     "points": 1,
     "schema_version": 1,
     "solution": false
    }
   },
   "outputs": [],
   "source": [
    "beans = Product(name=\"Beans\", production_cost=1.00, markup_percent=0.20, bulk_size=8, bulk_percent_discount=0.10) \n",
    "assert beans.name == \"Beans\"\n",
    "assert beans.production_cost == 1.00\n",
    "assert beans.markup_percent == 0.20\n",
    "assert beans.bulk_size == 8\n",
    "assert beans.bulk_percent_discount == 0.10\n",
    "        \n",
    "# hidden tests are here\n",
    "### BEGIN HIDDEN TESTS\n",
    "product = Product(name=\"Bananas\", production_cost=2.00, markup_percent=0.30, bulk_size=12, bulk_percent_discount=0.30) \n",
    "assert product.name == \"Bananas\"\n",
    "assert product.production_cost == 2.00\n",
    "assert product.markup_percent == 0.30\n",
    "assert product.bulk_size == 12\n",
    "assert product.bulk_percent_discount == 0.30\n",
    "### END HIDDEN TESTS"
   ]
  },
  {
   "cell_type": "code",
   "execution_count": null,
   "metadata": {
    "nbgrader": {
     "grade": true,
     "grade_id": "cell-e752112b115d6ce4",
     "locked": true,
     "points": 1,
     "schema_version": 1,
     "solution": false
    }
   },
   "outputs": [],
   "source": [
    "beans = Product(name=\"Beans\", production_cost=1.00, markup_percent=0.20, bulk_size=8, bulk_percent_discount=0.10) \n",
    "assert beans.shop_cost_of_item() == 1.20\n",
    "\n",
    "# hidden tests are here\n",
    "### BEGIN HIDDEN TESTS\n",
    "product = Product(name=\"Bananas\", production_cost=2.00, markup_percent=0.30, bulk_size=12, bulk_percent_discount=0.30) \n",
    "assert product.shop_cost_of_item() == 2.6\n",
    "### END HIDDEN TESTS"
   ]
  },
  {
   "cell_type": "code",
   "execution_count": null,
   "metadata": {
    "nbgrader": {
     "grade": true,
     "grade_id": "cell-d6e79a354bc3c544",
     "locked": true,
     "points": 1,
     "schema_version": 1,
     "solution": false
    }
   },
   "outputs": [],
   "source": [
    "beans = Product(name=\"Beans\", production_cost=1.00, markup_percent=0.20, bulk_size=8, bulk_percent_discount=0.10) \n",
    "assert beans.profit_per_item() == 0.20\n",
    "\n",
    "# hidden tests are here\n",
    "### BEGIN HIDDEN TESTS\n",
    "product = Product(name=\"Bananas\", production_cost=2.00, markup_percent=0.30, bulk_size=12, bulk_percent_discount=0.30) \n",
    "assert product.profit_per_item() == 0.6\n",
    "### END HIDDEN TESTS"
   ]
  },
  {
   "cell_type": "code",
   "execution_count": null,
   "metadata": {
    "nbgrader": {
     "grade": true,
     "grade_id": "cell-192833752cfb958f",
     "locked": true,
     "points": 1,
     "schema_version": 1,
     "solution": false
    }
   },
   "outputs": [],
   "source": [
    "beans = Product(name=\"Beans\", production_cost=1.00, markup_percent=0.20, bulk_size=8, bulk_percent_discount=0.10) \n",
    "assert beans.how_many_can_i_buy_for(5.0) == 5 # notice this is a whole number\n",
    "# hidden tests are here\n",
    "### BEGIN HIDDEN TESTS\n",
    "product = Product(name=\"Bananas\", production_cost=2.00, markup_percent=0.30, bulk_size=12, bulk_percent_discount=0.30) \n",
    "assert product.how_many_can_i_buy_for(5.0) == 2 # notice this is a whole number\n",
    "### END HIDDEN TESTS"
   ]
  },
  {
   "cell_type": "code",
   "execution_count": null,
   "metadata": {
    "nbgrader": {
     "grade": true,
     "grade_id": "cell-28f341792d83852c",
     "locked": true,
     "points": 1,
     "schema_version": 1,
     "solution": false
    }
   },
   "outputs": [],
   "source": [
    "beans = Product(name=\"Beans\", production_cost=1.00, markup_percent=0.20, bulk_size=8, bulk_percent_discount=0.10) \n",
    "assert beans.how_many_can_i_buy_for(20.0) == 22 # notice this is a whole number\n",
    "# hidden tests are here\n",
    "### BEGIN HIDDEN TESTS\n",
    "product = Product(name=\"Bananas\", production_cost=2.00, markup_percent=0.30, bulk_size=12, bulk_percent_discount=0.30) \n",
    "assert product.how_many_can_i_buy_for(20.0) == 14 # notice this is a whole number\n",
    "### END HIDDEN TESTS"
   ]
  },
  {
   "cell_type": "code",
   "execution_count": null,
   "metadata": {
    "nbgrader": {
     "grade": true,
     "grade_id": "cell-e752115bb62d6ce4",
     "locked": true,
     "points": 1,
     "schema_version": 1,
     "solution": false
    }
   },
   "outputs": [],
   "source": [
    "beans = Product(name=\"Beans\", production_cost=1.00, markup_percent=0.20, bulk_size=8, bulk_percent_discount=0.10) \n",
    "assert beans.profit_to_be_made_if_i_buy_for(5.0) == 1.0\n",
    "# hidden tests are here\n",
    "### BEGIN HIDDEN TESTS\n",
    "product = Product(name=\"Bananas\", production_cost=2.00, markup_percent=0.30, bulk_size=12, bulk_percent_discount=0.30) \n",
    "assert product.profit_to_be_made_if_i_buy_for(5.0) == 1.2\n",
    "### END HIDDEN TESTS"
   ]
  },
  {
   "cell_type": "code",
   "execution_count": null,
   "metadata": {
    "nbgrader": {
     "grade": true,
     "grade_id": "cell-e752112b112d6ce4",
     "locked": true,
     "points": 1,
     "schema_version": 1,
     "solution": false
    }
   },
   "outputs": [],
   "source": [
    "beans = Product(name=\"Beans\", production_cost=1.00, markup_percent=0.20, bulk_size=8, bulk_percent_discount=0.10) \n",
    "assert beans.profit_to_be_made_if_i_buy_for(10.0) == 2.2\n",
    "# hidden tests are here\n",
    "### BEGIN HIDDEN TESTS\n",
    "product = Product(name=\"Bananas\", production_cost=2.00, markup_percent=0.30, bulk_size=12, bulk_percent_discount=0.30) \n",
    "assert product.profit_to_be_made_if_i_buy_for(20.0) == 8.4\n",
    "### END HIDDEN TESTS"
   ]
  },
  {
   "cell_type": "markdown",
   "metadata": {},
   "source": [
    "# If you made it this far: here's a treat!"
   ]
  },
  {
   "cell_type": "markdown",
   "metadata": {},
   "source": [
    "Pick a scenario from your drawing task on the beginning and write code for classes for that scenario. "
   ]
  },
  {
   "cell_type": "code",
   "execution_count": null,
   "metadata": {},
   "outputs": [],
   "source": []
  }
 ],
 "metadata": {
  "kernelspec": {
   "display_name": "Python 3",
   "language": "python",
   "name": "python3"
  },
  "language_info": {
   "codemirror_mode": {
    "name": "ipython",
    "version": 3
   },
   "file_extension": ".py",
   "mimetype": "text/x-python",
   "name": "python",
   "nbconvert_exporter": "python",
   "pygments_lexer": "ipython3",
   "version": "3.7.6"
  }
 },
 "nbformat": 4,
 "nbformat_minor": 2
}
