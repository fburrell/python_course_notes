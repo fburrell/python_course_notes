{
 "cells": [
  {
   "cell_type": "markdown",
   "metadata": {},
   "source": [
    "# Badge 06 - Test Driven Development\n",
    "\n",
    "## See tests Fail, then fix the code, then see tests Pass"
   ]
  },
  {
   "cell_type": "markdown",
   "metadata": {},
   "source": [
    "This badge prepares you for pair programming labs. They will contain sets of tasks and you will work in pairs on solving these programming challanges.\n",
    "\n",
    "Each challange will include \n",
    "\n",
    "- a description (what are you ment to do). Usually with a documentation in \"\"\" brackets\n",
    "- incomplete solution (some code to get you started)\n",
    "- tests (snippets of code that will tell you how correct your code is).\n",
    "\n",
    "TOP TIPS:\n",
    "- Shift+Enter will RUN the current code cell (the one that's highlighted).\n",
    "- if you need to add another cell (eg to write your own tests),  in top menu go Insert > Insert Cell "
   ]
  },
  {
   "cell_type": "markdown",
   "metadata": {},
   "source": [
    "## Test Driven Development (TDD) - Know expected result before you start building\n",
    "We will see more of this on the Tutorial, but here is some example tests for you."
   ]
  },
  {
   "cell_type": "markdown",
   "metadata": {},
   "source": [
    "### TASK 1 - Understanding TDD Workflow"
   ]
  },
  {
   "cell_type": "markdown",
   "metadata": {},
   "source": [
    "**🍌🍌🍌IMPORTANT: PLEASE DO NOT CHANGE ANY CODE UNTIL YOU ARE TOLD TO DO SO. FOR THE FIRST 15 MINS OF THE LAB YOU WILL ONLY READ AND RUN CODE. You will know it's time to start coding when you see banana emoji: 🍌🍌🍌**"
   ]
  },
  {
   "cell_type": "markdown",
   "metadata": {},
   "source": [
    "### GOAL: Write a function that decides if a number is positive"
   ]
  },
  {
   "cell_type": "code",
   "execution_count": null,
   "metadata": {
    "nbgrader": {
     "grade": false,
     "grade_id": "cell-9a31d60b12dae17c",
     "locked": false,
     "schema_version": 3,
     "solution": true
    }
   },
   "outputs": [],
   "source": [
    "# You have a function to begin with, but it does not work fully.\n",
    "def is_number_positive(a_number):\n",
    "    \"\"\"\n",
    "    Check if a number is positive, \n",
    "    Return True if it is positive\n",
    "    Return False if it is negative or zero\n",
    "    Note: this type of special comment is called Documentation (explanation) \n",
    "    and it specifies in English what your code does\n",
    "    \"\"\"\n",
    "    \n",
    "    return \"Banana\" # DO NOT CHANGE THIS CODE YET, UNTIL YOU ARE TOLD TO DO SO!\n",
    "\n",
    "# note this function is not returning anything useful yet \n",
    "# (I mean, \"Banana\" is never a good answer to is_number_positive?).\n",
    "# It will be your job to fix it, but later\n",
    "\n"
   ]
  },
  {
   "cell_type": "markdown",
   "metadata": {},
   "source": [
    "## *TEST DRIVED DEVELOPMENT: WRITE TESTS FIRST, SEE THEM FAIL, THEN WRITE THE CODE*\n",
    "\n",
    "1. Run the cell with your function (above) to \"put its definition in the memory\"\n",
    "2. Run tests below to see if your function worked (they should fail)\n",
    "3. DO NOT YET Fix the above function yet\n",
    "\n",
    "Note for later: if there are many tests in one cell, you will see the details of the FIRST FAILING TEST (but not all of the failing tests). That's why we are putting one test per cell."
   ]
  },
  {
   "cell_type": "code",
   "execution_count": null,
   "metadata": {},
   "outputs": [],
   "source": [
    "# Here's a playground for you: you can run your function and see what it returns\n",
    "# if you need to print something to help you with your work, you'll see it here\n",
    "\n",
    "\n",
    "is_number_positive(1)\n",
    "\n",
    "# note, if you are getting NameError: name 'is_number_positive' is not defined\n",
    "# you probably forgot to run the cell with function definition, \n",
    "# so python does not know where to look for the definition of is_number_positive\n",
    "# - go back and run the cell with definition, that will load it into the memory"
   ]
  },
  {
   "cell_type": "code",
   "execution_count": null,
   "metadata": {},
   "outputs": [],
   "source": [
    "assert is_number_positive(1) == True, \"1 should be positive\"\n",
    "print(\"Tests Passed\")"
   ]
  },
  {
   "cell_type": "code",
   "execution_count": null,
   "metadata": {},
   "outputs": [],
   "source": [
    "assert is_number_positive(10) == True, \"10 should be positive\"\n",
    "print(\"Tests Passed\")"
   ]
  },
  {
   "cell_type": "code",
   "execution_count": null,
   "metadata": {},
   "outputs": [],
   "source": [
    "assert is_number_positive(-1) == False, \"-1 should not be positive\"\n",
    "print(\"Tests Passed\")"
   ]
  },
  {
   "cell_type": "code",
   "execution_count": null,
   "metadata": {},
   "outputs": [],
   "source": [
    "assert is_number_positive(-123) == False, \"-123 should not be positive\"\n",
    "print(\"Tests Passed\")"
   ]
  },
  {
   "cell_type": "code",
   "execution_count": null,
   "metadata": {},
   "outputs": [],
   "source": [
    "assert is_number_positive(0) == False, \"0 should not be positive\"\n",
    "print(\"Tests Passed\")"
   ]
  },
  {
   "cell_type": "code",
   "execution_count": null,
   "metadata": {},
   "outputs": [],
   "source": [
    "# END OF TESTS"
   ]
  },
  {
   "cell_type": "markdown",
   "metadata": {},
   "source": [
    "**Your TDD Workflow (Test Driven Development)**:\n",
    "\n",
    "- run the cell with your function definition (so it is loaded into the memory)\n",
    "- run the tests, and see if all are passing (succeeding, correct). \n",
    "    - if this is the first time you're here read all the tests before running them\n",
    "    - if you have no tests, write them!\n",
    "    - tests should always fail first (because you are writing them before you wrote your test)\n",
    "- if any tests are failing:\n",
    "    - identify which tests are failing and try to understand why.\n",
    "    - fix your function definition so it is closer to the solution.\n",
    "    - try to do it in the smallest possible increments. (if possible don't address the whole job in one go)\n",
    "    - go back to the first step\n",
    "\n",
    "Important notes:\n",
    "\n",
    "**RUN YOUR TESTS FIRST, AND SEE THEM FAIL, AND ONLY THEN WRITE THE SOLUTION** \n",
    "\n",
    "- Otherwise you might have tests that always succeed (that's pointless) or you could end up doing too much work (eg. keep working on your solution when it is already good enough). \n",
    "\n",
    "**ALL TESTS SHOULD BE FAILABLE**: \n",
    "\n",
    "- at the beginning all of your tests should be failing. Otherwise there is no point having them in the name of the rule **IF IT AIN'T BROKEN, DON'T FIX IT**. For example a test ```assert 2 == 2``` does not make much sense, because it will ALWAYS succeed.\n",
    "\n",
    "**WHEN TEST PASSES, IT PASSES SILENTLY, WHEN IT FAILS IT PRINTS THE ERROR**\n",
    "\n",
    "- this is one of the reasons why you should see your tests fail first! otherwise you don't know if you;re actually testing anything"
   ]
  },
  {
   "cell_type": "code",
   "execution_count": null,
   "metadata": {},
   "outputs": [],
   "source": [
    "#example, failing test throws an AssertionError\n",
    "number = 7\n",
    "assert number == 12"
   ]
  },
  {
   "cell_type": "code",
   "execution_count": null,
   "metadata": {},
   "outputs": [],
   "source": [
    "#example: passing test will not return or throw anything\n",
    "number = 7\n",
    "assert number == 7"
   ]
  },
  {
   "cell_type": "code",
   "execution_count": null,
   "metadata": {},
   "outputs": [],
   "source": [
    "#example: that's why sometimes it's a good idea to put a print(\"tests passed\") at the end,\n",
    "# just so you know you've actually run a cell with tests. (if one of the tests failed, you'd see it)\n",
    "\n",
    "number = 7\n",
    "assert number == 7\n",
    "print(\"tests passed\")"
   ]
  },
  {
   "cell_type": "markdown",
   "metadata": {},
   "source": [
    "**🍌🍌🍌DO THIS LITTLE EXERCISE BEFORE YOU ACTUALLY WRITE THE SOLUTION TO is_number_positive( )**\n",
    "\n",
    "Here's a a quick hack (temporary solution), which I really encourage you to try every time. Try to find an easy win:\n",
    "\n",
    "What if we assumed that EVERY NUMBER IS POSITIVE? Try it. Go all the way to the top to the definition of is_number_positive() and change the code **so that the function always returns True**. \n",
    "\n",
    "replace ``` return \"Banana\" ``` witn ```return True```\n",
    "\n",
    "Then re-run the tests. Are some of them passing?\n",
    "\n",
    "*Note: When a test fails, it throws an Error, but when a test passes it returns nothing. So if you see no Error the test have passed*\n",
    "\n",
    "When you think about it, it is not a completely wrong solution - it will return a correct answer to half of the possible inputs (half of the numbers in the world are positivem so should return True!)\n",
    "\n",
    "Feeding the function only the positive numbers will fool half of the tests into thinking it works, and that is good enough.\n",
    "\n",
    "Go and do it now. You should see about half of your tests succeeding!"
   ]
  },
  {
   "cell_type": "markdown",
   "metadata": {},
   "source": [
    "**FOR REAL, GO AND CHANGE YOUR CODE WITH 'return True' AND RUN THE TESTS AGAIN, AND ONLY THEN CONTINUE READING. THANKS!**"
   ]
  },
  {
   "cell_type": "markdown",
   "metadata": {},
   "source": [
    "Do you have an idea of how to fix the ```is_number_positive()``` function above so that it actually returns True for positive numbers and False for negative numbers and zero?\n",
    "\n",
    "When you are unsure of some specific of what you're asked to do (eg. whether 0 should be considered positive or not), have a look at the tests. Basically alsways there will be a test that answers your question of \"but what if the input is ...\" variety\n",
    "\n",
    "**Tests are your Single Point Of Truth (they are always right). Tests are like your client. Your job is to make them happy, to make all tests pass.**\n",
    "\n",
    "At some point soon, you will be expected to write your own tests and your own \"\"\" documentation, but not yet.\n",
    "\n",
    "**🍌🍌🍌 OK, NOW YOU ARE ALLOWED TO GO AND TRY TO COMPLETE THE FIRST CHALLANGE ABOVE. If after a few minutes it is still hard, see hints below.**"
   ]
  },
  {
   "cell_type": "markdown",
   "metadata": {},
   "source": [
    "Have you managed to solve the above puzzle and make all the tests pass?\n",
    "\n",
    "If you're really struggling here's a hint.\n",
    "\n",
    "**ONLY USE HINTS IF YOU ARE STRUGGLING FOR MORE THAN 5 MINUTES**\n",
    "\n",
    "<details><summary style='color:blue'>CLICK HERE TO SEE THE HINT 1</summary>\n",
    "    \n",
    "    HINT:\n",
    "    \n",
    "    Split the challange into smaller tasks:\n",
    "    \n",
    "    1. What makes some number a positive number?\n",
    "    \n",
    "    - It is larger than Zero\n",
    "    \n",
    "    2. How do you evaluate in code that one number is smaller or larger than another number?\n",
    "    \n",
    "    - code ```x < 5``` will return True if x is smaller than 5, and False otherwise.\n",
    "    - code ```y >= 10 ``` will return True if y is larger or equal to 10, and False otherwise.\n",
    "    \n",
    "</details>\n",
    "\n",
    "<details><summary style='color:blue'>CLICK HERE TO SEE THE HINT 2</summary>\n",
    "    \n",
    "    3. So how would you write a comparison if a variable 'number' is smaller than zero?\n",
    "    \n",
    "    4. How would you write an if statement that uses above comparison to return True if it is True, and False if it is False?\n",
    "    \n",
    "    \n",
    "</details>\n",
    "\n",
    "Note that there are a few correct ways to solve this challange, varying by length and compaxity. When you find a correct way. Try just for another minute to optimise it (make it cleaner and more DRY, but without breaking it).  "
   ]
  },
  {
   "cell_type": "markdown",
   "metadata": {},
   "source": [
    "Once you succeeded with the above exercise, here are some exercises for you to attempt with your partner:"
   ]
  },
  {
   "cell_type": "markdown",
   "metadata": {},
   "source": [
    "### TASK 2 - Doing it by yourself: REMEMBER to the run the tests (and see them fail) before you start fixing the function"
   ]
  },
  {
   "cell_type": "code",
   "execution_count": null,
   "metadata": {
    "nbgrader": {
     "grade": false,
     "grade_id": "cell-5205a6b420e3f0b2",
     "locked": false,
     "schema_version": 3,
     "solution": true
    }
   },
   "outputs": [],
   "source": [
    "def which_number_is_larger(number_1, number_2):\n",
    "    \"\"\"Rerurn the larger number.\n",
    "    If they are the same, return any of them.\"\"\"\n",
    "    return 0\n",
    "\n",
    "# notice that starting with a nonsense hardcoded answer such as 0 is often a good idea. \n",
    "# Maybe even a bit better than returning string \"Banana\"\n",
    "# (it will make most of your tests fail, which is good)\n",
    "\n",
    "# A TRICKY BIT: Unfortunately, that sometimes leads to some unexpected consequences, \n",
    "# because for historic reasons, in Python, False == 0\n",
    "# It is up to you what you write in your first, wrong definition of the test. but beware of False being basically 0"
   ]
  },
  {
   "cell_type": "code",
   "execution_count": null,
   "metadata": {},
   "outputs": [],
   "source": [
    "assert which_number_is_larger(1,3) == 3"
   ]
  },
  {
   "cell_type": "code",
   "execution_count": null,
   "metadata": {},
   "outputs": [],
   "source": [
    "assert which_number_is_larger(5,3) == 5"
   ]
  },
  {
   "cell_type": "code",
   "execution_count": null,
   "metadata": {},
   "outputs": [],
   "source": [
    "assert which_number_is_larger(29999,30000) == 30000"
   ]
  },
  {
   "cell_type": "code",
   "execution_count": null,
   "metadata": {},
   "outputs": [],
   "source": [
    "assert which_number_is_larger(-1,1) == 1"
   ]
  },
  {
   "cell_type": "code",
   "execution_count": null,
   "metadata": {},
   "outputs": [],
   "source": [
    "assert which_number_is_larger(0,10) == 10"
   ]
  },
  {
   "cell_type": "code",
   "execution_count": null,
   "metadata": {},
   "outputs": [],
   "source": [
    "assert which_number_is_larger(-10,0) == 0"
   ]
  },
  {
   "cell_type": "code",
   "execution_count": null,
   "metadata": {},
   "outputs": [],
   "source": [
    "assert which_number_is_larger(10,10) == 10"
   ]
  },
  {
   "cell_type": "code",
   "execution_count": null,
   "metadata": {},
   "outputs": [],
   "source": [
    "assert which_number_is_larger(-10,-10) == -10"
   ]
  },
  {
   "cell_type": "code",
   "execution_count": null,
   "metadata": {},
   "outputs": [],
   "source": [
    "assert which_number_is_larger(-10,-3) == -3"
   ]
  },
  {
   "cell_type": "code",
   "execution_count": null,
   "metadata": {},
   "outputs": [],
   "source": [
    "assert which_number_is_larger(0,0) == 0"
   ]
  },
  {
   "cell_type": "code",
   "execution_count": null,
   "metadata": {},
   "outputs": [],
   "source": [
    "# END OF TESTS\n",
    "\n",
    "# Did any of them Pass?"
   ]
  },
  {
   "cell_type": "markdown",
   "metadata": {},
   "source": [
    "### TASK 3 - Writing your own test (remember to see them fail, before you write the solution)"
   ]
  },
  {
   "cell_type": "markdown",
   "metadata": {},
   "source": [
    "Are both numbers of the same sign (both positive or both negative)"
   ]
  },
  {
   "cell_type": "code",
   "execution_count": null,
   "metadata": {},
   "outputs": [],
   "source": [
    "def are_both_of_the_same_sign(number_1, number_2):\n",
    "    \"\"\"Return True if both numbers are positive, or if both numbers are negative.\n",
    "    Return False if one number is positive and another negative\n",
    "    Return False if one or both of the numbers is zero\"\"\"\n",
    "    return \"Banana\""
   ]
  },
  {
   "cell_type": "markdown",
   "metadata": {},
   "source": [
    "In this task you need to write your own tests. When you write your own tests, you need to act like a devil's advocate, and find all the possible scenarios that could make your function NOT WORK.\n",
    "\n",
    "Write 6 or more tests. Remember that during the writing of the tests you will most likely get a good understanding of what the function should do.\n",
    "\n",
    "- start with one or two tests that should be obvious and test on a basic level that something works (e.g. something obviously True and obviously False)\n",
    "- make sure that the order does not impact the solution (write at least one test with rotated arguments) like my_function(1,2) and my_function(2,1)\n",
    "- identify edge cases: what if one or both numbers are zero, or negative\n",
    "- write any tesks that could make your function fail.\n",
    "\n",
    "Your job when you are writing tests is to **CATCH YOUR CODE DOING SOMETHING WRONG**"
   ]
  },
  {
   "cell_type": "code",
   "execution_count": null,
   "metadata": {},
   "outputs": [],
   "source": [
    "# here's one to get you started:\n",
    "assert are_both_of_the_same_sign(3,-4) == False"
   ]
  },
  {
   "cell_type": "code",
   "execution_count": null,
   "metadata": {},
   "outputs": [],
   "source": [
    "# your tests here:"
   ]
  },
  {
   "cell_type": "code",
   "execution_count": null,
   "metadata": {},
   "outputs": [],
   "source": [
    "# your tests here:"
   ]
  },
  {
   "cell_type": "code",
   "execution_count": null,
   "metadata": {},
   "outputs": [],
   "source": [
    "# your tests here:"
   ]
  },
  {
   "cell_type": "code",
   "execution_count": null,
   "metadata": {},
   "outputs": [],
   "source": [
    "# your tests here:"
   ]
  },
  {
   "cell_type": "code",
   "execution_count": null,
   "metadata": {},
   "outputs": [],
   "source": [
    "# your tests here:"
   ]
  },
  {
   "cell_type": "code",
   "execution_count": null,
   "metadata": {},
   "outputs": [],
   "source": [
    "# your tests here:"
   ]
  },
  {
   "cell_type": "code",
   "execution_count": null,
   "metadata": {},
   "outputs": [],
   "source": [
    "# your tests here:"
   ]
  },
  {
   "cell_type": "code",
   "execution_count": null,
   "metadata": {},
   "outputs": [],
   "source": [
    "# your tests here:"
   ]
  },
  {
   "cell_type": "code",
   "execution_count": null,
   "metadata": {},
   "outputs": [],
   "source": [
    "# your tests here:"
   ]
  },
  {
   "cell_type": "code",
   "execution_count": null,
   "metadata": {},
   "outputs": [],
   "source": [
    "# END OF TESTS"
   ]
  },
  {
   "cell_type": "code",
   "execution_count": null,
   "metadata": {},
   "outputs": [],
   "source": []
  },
  {
   "cell_type": "markdown",
   "metadata": {},
   "source": [
    "### TASK 4 - Googling when you don't know something (and again, remember to see the tests fail before solving the task)"
   ]
  },
  {
   "cell_type": "markdown",
   "metadata": {},
   "source": [
    "Write a function which checks if the number even (can be divided by 2, and returns a whole number, not a fraction). Examples would be:  2, 4, 6, 100, -8, 0"
   ]
  },
  {
   "cell_type": "markdown",
   "metadata": {},
   "source": [
    "Once you write and run your tests below, try solving that problem.\n",
    "\n",
    "As you know, you have not yet learned how to check if something can be wholly divided by a number in Python. You will need to google for this solution. It is an important task to be able to know what to ask.\n",
    "\n",
    "try searching in google (or another search engine) for \"python is number even\" or \"python division remainder\".\n",
    "\n",
    "<details><summary style='color:blue'>CLICK HERE ONLY IF YOU HAVE NOT FOUND AN ANSWER WITHIN 5 MINUTES</summary>\n",
    "    \n",
    "    HINT:\n",
    "    \n",
    "    x % y will return the remainer of dividing x over y. for example\n",
    "    12 % 10 will return 2 (because 12 == 10 * 1 + 2)\n",
    "    32 % 10 will return 2 (because 32 == 10 * 3 + 2)\n",
    "    15 % 6 will return 3 (because 15 == 6 * 2 + 3)\n",
    "    18 % 6 will return 0 (because 18 == 6 * 2 + 0) - notice that this means that 18 is dividable by 6\n",
    "    \n",
    "    In other words - if the remainder of dividing a number_1 by number_2 is 0, it means that number_1 is dividable by number_2\n",
    "    eg. in code:  number % 5 == 0 that would mean that number is a multiple of 5 (like 5,10,15,100, etc)\n",
    "    \n",
    "    how would you then asses if a  number is dividable by 2? In other words if a number is even?\n",
    "    \n",
    "</details>"
   ]
  },
  {
   "cell_type": "code",
   "execution_count": null,
   "metadata": {},
   "outputs": [],
   "source": [
    "def is_this_number_even(number):\n",
    "    \"\"\"Return True if number is even (a multiple of 2) like 2,4,8,0,100,-2,-10\n",
    "    Return false if number is odd (cannot be represented as a multiple of 2), like 3,7,-9\"\"\"\n",
    "    return \"Banana\""
   ]
  },
  {
   "cell_type": "code",
   "execution_count": null,
   "metadata": {},
   "outputs": [],
   "source": [
    "# here's one to get you started:\n",
    "assert is_this_number_even(4) == True"
   ]
  },
  {
   "cell_type": "code",
   "execution_count": null,
   "metadata": {},
   "outputs": [],
   "source": [
    "# your tests here:\n",
    "assert is_this_number_even(-3) == False"
   ]
  },
  {
   "cell_type": "code",
   "execution_count": null,
   "metadata": {},
   "outputs": [],
   "source": [
    "# your tests here:"
   ]
  },
  {
   "cell_type": "code",
   "execution_count": null,
   "metadata": {},
   "outputs": [],
   "source": [
    "# your tests here:"
   ]
  },
  {
   "cell_type": "code",
   "execution_count": null,
   "metadata": {},
   "outputs": [],
   "source": [
    "# your tests here:"
   ]
  },
  {
   "cell_type": "code",
   "execution_count": null,
   "metadata": {},
   "outputs": [],
   "source": [
    "# your tests here:"
   ]
  },
  {
   "cell_type": "code",
   "execution_count": null,
   "metadata": {},
   "outputs": [],
   "source": [
    "# your tests here:"
   ]
  },
  {
   "cell_type": "code",
   "execution_count": null,
   "metadata": {},
   "outputs": [],
   "source": [
    "# your tests here:"
   ]
  },
  {
   "cell_type": "code",
   "execution_count": null,
   "metadata": {},
   "outputs": [],
   "source": [
    "# your tests here:"
   ]
  },
  {
   "cell_type": "code",
   "execution_count": null,
   "metadata": {},
   "outputs": [],
   "source": [
    "# your tests here:"
   ]
  },
  {
   "cell_type": "code",
   "execution_count": null,
   "metadata": {},
   "outputs": [],
   "source": [
    "# END OF TESTS"
   ]
  },
  {
   "cell_type": "markdown",
   "metadata": {},
   "source": [
    "### This concludes this badge. Your labs will be basically a notebook with a lot of tasks like the ones above."
   ]
  },
  {
   "cell_type": "markdown",
   "metadata": {},
   "source": [
    "## ⭐️⭐️⭐️💥 What you learned in this session: Three stars and a wish "
   ]
  },
  {
   "cell_type": "markdown",
   "metadata": {},
   "source": [
    "**In yoru own words** write in your Learn diary:\n",
    "\n",
    "- 3 things you yould like to remember from this badge\n",
    "- 1 thing you wish to understand better in the future or a question you'd like to ask"
   ]
  },
  {
   "cell_type": "markdown",
   "metadata": {},
   "source": [
    "# ⛏ Bonus Minitask: Write challanges and solve them using Test Driven Development\n",
    "\n",
    "- Come up with some function ideas. describe in a sentence what they will do\n",
    "- write tests that will test if they do what you expected (minimum 4 tests each)\n",
    "- write an empty function (returning something silly, like False)\n",
    "- **see your tests fail**\n",
    "- fix the function so that it passes the tests\n",
    "\n",
    "Here are some ideas, but it's up to you what you want to experiment with:\n",
    "\n",
    "- function that takes 2 numbers and returns result of multiplying them\n",
    "- function that takes a number and returns the absolute value of it (ignoring the sign, eg. -3 becomes 3, but 3 stays 3)\n",
    "- function that takes 3 numbers and returns middle larget one\n",
    "\n",
    "Come up with your own few challenges. Good luck."
   ]
  }
 ],
 "metadata": {
  "celltoolbar": "Create Assignment",
  "kernelspec": {
   "display_name": "Python 3",
   "language": "python",
   "name": "python3"
  },
  "language_info": {
   "codemirror_mode": {
    "name": "ipython",
    "version": 3
   },
   "file_extension": ".py",
   "mimetype": "text/x-python",
   "name": "python",
   "nbconvert_exporter": "python",
   "pygments_lexer": "ipython3",
   "version": "3.7.6"
  }
 },
 "nbformat": 4,
 "nbformat_minor": 2
}
