{
 "cells": [
  {
   "cell_type": "markdown",
   "metadata": {},
   "source": [
    "# Combining it all together:"
   ]
  },
  {
   "cell_type": "markdown",
   "metadata": {},
   "source": [
    "**In this notebook:**\n",
    "\n",
    "Operations on strings and lists: Split, Join, Replace, Zip, Counter\n",
    "\n",
    "Error types and reading errors\n",
    "\n",
    "Error handling\n",
    "\n",
    "Reading files\n",
    "\n",
    "Creating objects from a line of text file\n",
    "\n",
    "Producing reports\n"
   ]
  },
  {
   "cell_type": "markdown",
   "metadata": {},
   "source": [
    "# Before we get onto the main topic, some bits and pieces:\n",
    "\n",
    "# Operations on Lists and Strings "
   ]
  },
  {
   "cell_type": "markdown",
   "metadata": {},
   "source": [
    "### Split, Join, Replace: String operations"
   ]
  },
  {
   "cell_type": "code",
   "execution_count": 35,
   "metadata": {},
   "outputs": [
    {
     "name": "stdout",
     "output_type": "stream",
     "text": [
      "['ba', 'a', 'a', 'a']\n",
      "['banana', 'pinapple', 'apple']\n"
     ]
    }
   ],
   "source": [
    "### useful bits and pieces:\n",
    "\n",
    "# split - split a string into a listy, using given arguments as a delimiter (place to split parts)\n",
    "print( \"bananana\".split(\"n\") )\n",
    "print( \"banana,pinapple,apple\".split(\",\") ) # this will come handy in CSV files"
   ]
  },
  {
   "cell_type": "code",
   "execution_count": 36,
   "metadata": {},
   "outputs": [
    {
     "name": "stdout",
     "output_type": "stream",
     "text": [
      "1*2*3*4\n",
      "q--w--e--r--t--y\n",
      "a\n",
      "b\n",
      "c\n",
      "d\n",
      "e\n",
      "f\n"
     ]
    }
   ],
   "source": [
    "# join - take a string or a list of strings and put something between all items\n",
    "# remember: Strings are essentially Lists of chracters, so you can often treat them like lists, and vice versa\n",
    "seperator = \"*\"\n",
    "print(seperator.join(['1', '2', '3', '4']))\n",
    "\n",
    "print( \"--\".join(\"qwerty\") )\n",
    "print( \"\\n\".join(\"abcdef\") )"
   ]
  },
  {
   "cell_type": "code",
   "execution_count": 37,
   "metadata": {},
   "outputs": [
    {
     "name": "stdout",
     "output_type": "stream",
     "text": [
      "Prof. Banana\n",
      "banana ---> pinapple ---> apple\n"
     ]
    }
   ],
   "source": [
    "# replace - \n",
    "print( \"Dr. Banana\".replace(\"Dr. \" , \"Prof. \") )\n",
    "print( \"banana,pinapple,apple\".replace(\",\" , \" ---> \") )"
   ]
  },
  {
   "cell_type": "code",
   "execution_count": 38,
   "metadata": {},
   "outputs": [
    {
     "name": "stdout",
     "output_type": "stream",
     "text": [
      "['a', '', '', 'b', 'c', '', 'd', 'e', 's', '', '', 'f']\n"
     ]
    }
   ],
   "source": [
    "# you can chain these into some very useful features (but this example is a bit silly)\n",
    "\n",
    "# eg. to turn \"a  bc des f\" into ['a', '', '', 'b', 'c', '', 'd', 'e', 's', '', 'f']\n",
    "# notice empty strings, in places where space ' ' was.\n",
    "# one (hacky) way to do this put * between string items with join, then split it into a list where * are\n",
    "\n",
    "print( \"*\".join(\"a  bc des  f\").replace(\" \" , \"\").split(\"*\") )\n",
    "\n",
    "# I know, it's a made up example, but it illustrates a principle"
   ]
  },
  {
   "cell_type": "code",
   "execution_count": 39,
   "metadata": {},
   "outputs": [
    {
     "name": "stdout",
     "output_type": "stream",
     "text": [
      "*\n",
      "a* * *b*c* *d*e*s* * *f\n",
      "a***b*c**d*e*s***f\n",
      "['a', '', '', 'b', 'c', '', 'd', 'e', 's', '', '', 'f']\n"
     ]
    }
   ],
   "source": [
    "print( \"*\")\n",
    "print( \"*\".join(\"a  bc des  f\" ))\n",
    "print( \"*\".join(\"a  bc des  f\").replace(\" \" , \"\") )\n",
    "print( \"*\".join(\"a  bc des  f\").replace(\" \" , \"\").split(\"*\") )"
   ]
  },
  {
   "cell_type": "markdown",
   "metadata": {},
   "source": [
    "### Zip: Combine two lists (one with keys, one with values) into a dictionary\n",
    "\n",
    "This is super useful when loading CSV files where the header is given only ones  "
   ]
  },
  {
   "cell_type": "code",
   "execution_count": 40,
   "metadata": {},
   "outputs": [
    {
     "name": "stdout",
     "output_type": "stream",
     "text": [
      "<zip object at 0x7f4bb77db6e0>\n",
      "{'name': 'Jill', 'student_number': 123456, 'course': 'Business'}\n"
     ]
    }
   ],
   "source": [
    "# We'll need this later\n",
    "\n",
    "keys = ['name', 'student_number', 'course']\n",
    "values = [\"Jill\", 123456, \"Business\"]\n",
    "\n",
    "zipped_key_values = zip(keys, values) # note: zipped values are not yet a dictionary, we need to  cast it to dict\n",
    "print(zipped_key_values)\n",
    "\n",
    "dictionary = dict(zipped_key_values)\n",
    "print(dictionary)"
   ]
  },
  {
   "cell_type": "code",
   "execution_count": 41,
   "metadata": {},
   "outputs": [
    {
     "name": "stdout",
     "output_type": "stream",
     "text": [
      "{'name': 'Jill', 'student_number': 123456, 'course': 'Business'}\n"
     ]
    }
   ],
   "source": [
    "# above steps can be combined into one line:\n",
    "dictionary = dict( zip(keys, values) )\n",
    "print(dictionary)"
   ]
  },
  {
   "cell_type": "markdown",
   "metadata": {},
   "source": [
    "### Ternary - short, one-line version of if-else statement\n",
    "\n",
    "Ternary means \"composed of three items\" and is an alternative syntax for if-else statement. It looks like this:\n",
    "\n",
    "`value_if_true  if  condition_to_check  else  value_if_false`\n",
    "\n",
    "Ternary comes handy in places where for style or syntax reasons we cannot just use an if-else statement."
   ]
  },
  {
   "cell_type": "code",
   "execution_count": 42,
   "metadata": {},
   "outputs": [
    {
     "name": "stdout",
     "output_type": "stream",
     "text": [
      "pm\n"
     ]
    }
   ],
   "source": [
    "# this is the usual if else statement\n",
    "hour = 15\n",
    "if hour < 12:\n",
    "    time_of_day = \"am\"\n",
    "else:\n",
    "    time_of_day = \"pm\"\n",
    "print(time_of_day)"
   ]
  },
  {
   "cell_type": "code",
   "execution_count": 43,
   "metadata": {},
   "outputs": [
    {
     "name": "stdout",
     "output_type": "stream",
     "text": [
      "pm\n"
     ]
    }
   ],
   "source": [
    "# and this would be the same code with a ternary operator\n",
    "hour = 15\n",
    "time_of_day = \"am\" if hour < 12 else \"pm\"\n",
    "print(time_of_day)"
   ]
  },
  {
   "cell_type": "code",
   "execution_count": 44,
   "metadata": {},
   "outputs": [
    {
     "name": "stdout",
     "output_type": "stream",
     "text": [
      "['am', 'am', 'pm', 'pm', 'pm']\n"
     ]
    }
   ],
   "source": [
    "#  when would this be useful? Very often inside of list comprehensions\n",
    "\n",
    "hours = [3,6,13,17,21]\n",
    "times_of_day = [ \"am\" if hour < 12 else \"pm\"\n",
    "                for hour in hours]\n",
    "print(times_of_day)"
   ]
  },
  {
   "cell_type": "markdown",
   "metadata": {},
   "source": [
    "You can use Ternary whenever you feel like it, just watchout for to not make your code a spagtetti code (hard to read)."
   ]
  },
  {
   "cell_type": "markdown",
   "metadata": {},
   "source": [
    "### Collections: tools library with useful counting tools (like Counter)"
   ]
  },
  {
   "cell_type": "markdown",
   "metadata": {},
   "source": [
    "As we go deeper into Python we will discover that there are libraries that perform common tasks it's valuable that you learned how to do it all by yourself, but also that you can use specialised libraries more and more collections.Counter will create a frequencies dictionary from a list\n",
    "\n",
    "Let's imagine that we have a list of words like \n",
    "\n",
    "`['plum', 'banana', \"pear\", \"pear\", \"pear\", 'banana', \"pear\"]`\n",
    "\n",
    "and want to count frequencies at which each word appears. Into something like \n",
    "\n",
    "`{'plum': 1, 'banana': 2, 'pear': 4}`"
   ]
  },
  {
   "cell_type": "code",
   "execution_count": 45,
   "metadata": {},
   "outputs": [
    {
     "name": "stdout",
     "output_type": "stream",
     "text": [
      "{'plum': 1, 'banana': 2, 'pear': 4}\n"
     ]
    }
   ],
   "source": [
    "# the onld way: you already attempted this task before with a dictionary and a \n",
    "fruits = ['plum', 'banana', \"pear\", \"pear\", \"pear\", 'banana', \"pear\"]\n",
    "\n",
    "frequencies = {}\n",
    "for fruit in fruits:\n",
    "    previous_count = frequencies.get(fruit, 0) # get previous count of this fruit, or 0 if there were none before\n",
    "    frequencies[fruit] = previous_count + 1 \n",
    "print(frequencies)"
   ]
  },
  {
   "cell_type": "code",
   "execution_count": 46,
   "metadata": {},
   "outputs": [
    {
     "name": "stdout",
     "output_type": "stream",
     "text": [
      "{'plum': 1, 'banana': 2, 'pear': 4}\n"
     ]
    }
   ],
   "source": [
    "# the new shorter ( one line! ) way with a library. i.e. Someone already solved this puzzle for you:\n",
    "from collections import Counter\n",
    "fruits = ['plum', 'banana', \"pear\", \"pear\", \"pear\", 'banana', \"pear\"]\n",
    "\n",
    "frequencies = dict( Counter(fruits) )\n",
    "\n",
    "print(frequencies)"
   ]
  },
  {
   "cell_type": "markdown",
   "metadata": {},
   "source": [
    "# Subsets and Objects"
   ]
  },
  {
   "cell_type": "markdown",
   "metadata": {},
   "source": [
    "### Subsets of a List by index range"
   ]
  },
  {
   "cell_type": "code",
   "execution_count": 47,
   "metadata": {},
   "outputs": [
    {
     "name": "stdout",
     "output_type": "stream",
     "text": [
      "['a', 'b', 'c', 'd', 'e', 'f', 'g']\n",
      "['a', 'b', 'c']\n",
      "['d', 'e', 'f', 'g']\n",
      "['c', 'd']\n"
     ]
    }
   ],
   "source": [
    "letters = [\"a\",\"b\",\"c\",\"d\",\"e\",\"f\",\"g\"]\n",
    "\n",
    "print(letters[:]) #all\n",
    "\n",
    "print(letters[:3]) #from beginning until index 3 (not including)\n",
    "print(letters[3:]) #from index 3 till the end\n",
    "print(letters[2:4]) #from index 2 until index 4 (not including)"
   ]
  },
  {
   "cell_type": "code",
   "execution_count": 48,
   "metadata": {},
   "outputs": [
    {
     "name": "stdout",
     "output_type": "stream",
     "text": [
      "['a', 'b', 'c', 'd', 'e']\n",
      "['f', 'g']\n",
      "['d', 'e']\n"
     ]
    }
   ],
   "source": [
    "letters = [\"a\",\"b\",\"c\",\"d\",\"e\",\"f\",\"g\"]\n",
    "\n",
    "print(letters[:-2]) #from beginning until 2nd from the end (not including)\n",
    "print(letters[-2:]) #from 2nd from the end till the end\n",
    "print(letters[-4:-2]) #from 4th form the end until 2nd from the end (not including)"
   ]
  },
  {
   "cell_type": "code",
   "execution_count": 49,
   "metadata": {},
   "outputs": [
    {
     "name": "stdout",
     "output_type": "stream",
     "text": [
      "['d', 'e']\n",
      "['d', 'e', 'f']\n"
     ]
    }
   ],
   "source": [
    "letters = [\"a\",\"b\",\"c\",\"d\",\"e\",\"f\",\"g\"]\n",
    "print(letters[3:-2]) #from index 3 until 2nd from the end (not including)\n",
    "print(letters[-4:6]) #from 4th from the end until index 6 (not including)"
   ]
  },
  {
   "cell_type": "markdown",
   "metadata": {},
   "source": [
    "### For loop WITH THE INDEX? If you ever need indexes in your for loop use: enumerate( list )\n",
    "\n",
    "You can use `enumerate(some_list)` to turn the list into a list of tupples: [(0, \"a\"), (1, \"b\"), (2, \"c\"), (3, \"d\")] ... so when you use for-loop you can expect a tupple, instead of saying \n",
    "\n",
    "`for letter in [\"a\",\"b\",\"c\"]:`\n",
    "\n",
    "you sort of say\n",
    "\n",
    "`for (index, letter) in [(0, \"a\"), (1, \"b\"), (2, \"c\")]:`\n",
    "\n",
    "\n",
    "it's a simplification, it will actually turn it into a <enumerate object at 0x7f8da66a8480>  but that's a longer story  "
   ]
  },
  {
   "cell_type": "code",
   "execution_count": 50,
   "metadata": {},
   "outputs": [
    {
     "name": "stdout",
     "output_type": "stream",
     "text": [
      "a is at index 0\n",
      "b is at index 1\n",
      "c is at index 2\n",
      "d is at index 3\n",
      "e is at index 4\n",
      "f is at index 5\n",
      "g is at index 6\n"
     ]
    }
   ],
   "source": [
    "letters = [\"a\",\"b\",\"c\",\"d\",\"e\",\"f\",\"g\"]\n",
    "\n",
    "for index, letter in enumerate(letters):\n",
    "    print(f\"{letter} is at index {index}\")\n",
    "    "
   ]
  },
  {
   "cell_type": "code",
   "execution_count": 51,
   "metadata": {},
   "outputs": [
    {
     "name": "stdout",
     "output_type": "stream",
     "text": [
      "<enumerate object at 0x7f4bb5802870>\n"
     ]
    }
   ],
   "source": [
    "# fyi: enumerate doesn't actually create a list of tupples. Just an object that behaves like one.\n",
    "print( enumerate(letters))"
   ]
  },
  {
   "cell_type": "markdown",
   "metadata": {},
   "source": [
    "# Error Handling"
   ]
  },
  {
   "cell_type": "markdown",
   "metadata": {},
   "source": [
    "Errors and exceptions are your friends. They tell you what is wrong with your code ansd often what to do to fix it. You can see them all here https://docs.python.org/3/library/exceptions.html.\n",
    "\n",
    "Usually erros tell you:\n",
    "\n",
    "- where something went wrong,\n",
    "- what was wrong\n",
    "- sometimes: how to fix it"
   ]
  },
  {
   "cell_type": "markdown",
   "metadata": {},
   "source": [
    "There are a few possible causes of errors. Read below descriptions and then run below examples one at a time:\n",
    "\n",
    "**SYNTAX or PARSE-TIME ERROR - WHEN PYTHON CANNOT UNDERSTAND YOUR CODE**\n",
    "\n",
    "There is something wrong with the structure of your code. Often a missing bracket, quote, coma. Python will point (with an arrow in the error display) exactly to the place where something went wrong (sometimes it will point to the place just AFTER something went wrong, so look at the line befofre the arrow too. These errors are the easiest to fix as they always happen in the same place (if you run the same code again, they will happen again in the same place).\n",
    "\n",
    "note: **PARSING** is the process in which Python will read your code and try to understand what you are asking it to do. That's when it will **INTERPRET** your brackets, comas and quotes \n",
    "\n",
    "```\n",
    "SyntaxError: 'return' outside function\n",
    "SyntaxError: unexpected EOF while parsing\n",
    "SyntaxError: EOL while scanning string literal\n",
    "IndentationError: expected an indented block\n",
    "IndentationError: unexpected indent\n",
    "\n",
    "...AND MANY MORE\n",
    "\n",
    "```\n",
    "\n",
    "**EXCEPTIONS or RUNTIME-TIME ERROR - WHEN PYTHON RUNS YOUR CODE AND SOMETHING BAD HAPPENS**\n",
    "\n",
    "Your code is correctly following the rules of python (syntax) but when you try to run it, something enecpected happens. You call a  function that does not exist, use a non-existent variable for something, or fun a method on an object that was not innitisalised. In simple terms there is no way for python to know if something will go wrong ahead of time, until it will try to run your code - so the errors/exeptions will emerge only at the **RUN TIME** (in the moment the code is run). These are often hard to find and solve if you are using real-life data (eg. live speed or temperature information or a live stock prices or twitter feed). That's because if might have been a particular combination of input data that caused your code to misbehave. But Most of the time, it will be a typo in a variable name, or calling a method with a wrong number of arguments. \n",
    "\n",
    "```\n",
    "NameError: name 'fruuuuit' is not defined\n",
    "AttributeError: 'list' object has no attribute 'add'\n",
    "TypeError: __init__() takes 2 positional arguments but 3 were given\n",
    "TypeError: unsupported operand type(s) for +: 'int' and 'str'\n",
    "TypeError: can only concatenate str (not \"int\") to str\n",
    "TypeError: '>' not supported between instances of 'str' and 'int'\n",
    "```\n",
    "\n",
    "When you are reading data from a file, online source or user input, you are likely to experience dirty data - numbers where there should be strings, or data missing altogether. That's why after you go through all the examples, you'll learn how to predict and respond to exceptions."
   ]
  },
  {
   "cell_type": "markdown",
   "metadata": {},
   "source": [
    "Here are some examples, run the below code and read the errors carefully. You most likely encountered at least 10 of these.\n",
    "\n",
    "Run each example in turn **AFTER FIRST TRYING TO GUESS YOURSELF WHAT IS WRONG WITH THE CODE**."
   ]
  },
  {
   "cell_type": "code",
   "execution_count": 52,
   "metadata": {},
   "outputs": [
    {
     "ename": "NameError",
     "evalue": "name 'printt' is not defined",
     "output_type": "error",
     "traceback": [
      "\u001b[0;31m---------------------------------------------------------------------------\u001b[0m",
      "\u001b[0;31mNameError\u001b[0m                                 Traceback (most recent call last)",
      "\u001b[0;32m<ipython-input-52-80670fdae59e>\u001b[0m in \u001b[0;36m<module>\u001b[0;34m\u001b[0m\n\u001b[0;32m----> 1\u001b[0;31m \u001b[0mprintt\u001b[0m\u001b[0;34m(\u001b[0m\u001b[0;34m\"Banana\"\u001b[0m\u001b[0;34m)\u001b[0m\u001b[0;34m\u001b[0m\u001b[0;34m\u001b[0m\u001b[0m\n\u001b[0m",
      "\u001b[0;31mNameError\u001b[0m: name 'printt' is not defined"
     ]
    }
   ],
   "source": [
    "printt(\"Banana\")"
   ]
  },
  {
   "cell_type": "code",
   "execution_count": 53,
   "metadata": {},
   "outputs": [
    {
     "ename": "SyntaxError",
     "evalue": "unexpected EOF while parsing (<ipython-input-53-e2274edb11af>, line 1)",
     "output_type": "error",
     "traceback": [
      "\u001b[0;36m  File \u001b[0;32m\"<ipython-input-53-e2274edb11af>\"\u001b[0;36m, line \u001b[0;32m1\u001b[0m\n\u001b[0;31m    print(\"Banana\"\u001b[0m\n\u001b[0m                  ^\u001b[0m\n\u001b[0;31mSyntaxError\u001b[0m\u001b[0;31m:\u001b[0m unexpected EOF while parsing\n"
     ]
    }
   ],
   "source": [
    "print(\"Banana\""
   ]
  },
  {
   "cell_type": "code",
   "execution_count": 54,
   "metadata": {},
   "outputs": [
    {
     "ename": "SyntaxError",
     "evalue": "EOL while scanning string literal (<ipython-input-54-5552af7fc866>, line 1)",
     "output_type": "error",
     "traceback": [
      "\u001b[0;36m  File \u001b[0;32m\"<ipython-input-54-5552af7fc866>\"\u001b[0;36m, line \u001b[0;32m1\u001b[0m\n\u001b[0;31m    print(\"Banana)\u001b[0m\n\u001b[0m                  ^\u001b[0m\n\u001b[0;31mSyntaxError\u001b[0m\u001b[0;31m:\u001b[0m EOL while scanning string literal\n"
     ]
    }
   ],
   "source": [
    "print(\"Banana)"
   ]
  },
  {
   "cell_type": "code",
   "execution_count": 55,
   "metadata": {},
   "outputs": [
    {
     "ename": "SyntaxError",
     "evalue": "invalid syntax (<ipython-input-55-55dce46d1fc8>, line 1)",
     "output_type": "error",
     "traceback": [
      "\u001b[0;36m  File \u001b[0;32m\"<ipython-input-55-55dce46d1fc8>\"\u001b[0;36m, line \u001b[0;32m1\u001b[0m\n\u001b[0;31m    list = [1,2 2]\u001b[0m\n\u001b[0m                ^\u001b[0m\n\u001b[0;31mSyntaxError\u001b[0m\u001b[0;31m:\u001b[0m invalid syntax\n"
     ]
    }
   ],
   "source": [
    "list = [1,2 2]"
   ]
  },
  {
   "cell_type": "code",
   "execution_count": null,
   "metadata": {},
   "outputs": [],
   "source": [
    "list = [\"a\", \"b\". \"c\"]"
   ]
  },
  {
   "cell_type": "code",
   "execution_count": 56,
   "metadata": {},
   "outputs": [
    {
     "ename": "TypeError",
     "evalue": "list indices must be integers or slices, not str",
     "output_type": "error",
     "traceback": [
      "\u001b[0;31m---------------------------------------------------------------------------\u001b[0m",
      "\u001b[0;31mTypeError\u001b[0m                                 Traceback (most recent call last)",
      "\u001b[0;32m<ipython-input-56-62dfa3a00c5c>\u001b[0m in \u001b[0;36m<module>\u001b[0;34m\u001b[0m\n\u001b[1;32m      1\u001b[0m \u001b[0mlist\u001b[0m \u001b[0;34m=\u001b[0m \u001b[0;34m[\u001b[0m\u001b[0;36m1\u001b[0m\u001b[0;34m,\u001b[0m\u001b[0;36m2\u001b[0m\u001b[0;34m,\u001b[0m\u001b[0;36m3\u001b[0m\u001b[0;34m]\u001b[0m\u001b[0;34m\u001b[0m\u001b[0;34m\u001b[0m\u001b[0m\n\u001b[0;32m----> 2\u001b[0;31m \u001b[0mlist\u001b[0m\u001b[0;34m[\u001b[0m\u001b[0;34m\"b\"\u001b[0m\u001b[0;34m]\u001b[0m\u001b[0;34m\u001b[0m\u001b[0;34m\u001b[0m\u001b[0m\n\u001b[0m",
      "\u001b[0;31mTypeError\u001b[0m: list indices must be integers or slices, not str"
     ]
    }
   ],
   "source": [
    "list = [1,2,3]\n",
    "list[\"b\"]"
   ]
  },
  {
   "cell_type": "code",
   "execution_count": 57,
   "metadata": {},
   "outputs": [
    {
     "ename": "SyntaxError",
     "evalue": "invalid syntax (<ipython-input-57-a3e7d3e52e1b>, line 1)",
     "output_type": "error",
     "traceback": [
      "\u001b[0;36m  File \u001b[0;32m\"<ipython-input-57-a3e7d3e52e1b>\"\u001b[0;36m, line \u001b[0;32m1\u001b[0m\n\u001b[0;31m    def :\u001b[0m\n\u001b[0m        ^\u001b[0m\n\u001b[0;31mSyntaxError\u001b[0m\u001b[0;31m:\u001b[0m invalid syntax\n"
     ]
    }
   ],
   "source": [
    "def :\n",
    "    print(\"banana\")"
   ]
  },
  {
   "cell_type": "code",
   "execution_count": 58,
   "metadata": {},
   "outputs": [
    {
     "ename": "SyntaxError",
     "evalue": "invalid syntax (<ipython-input-58-dca9e12ee074>, line 1)",
     "output_type": "error",
     "traceback": [
      "\u001b[0;36m  File \u001b[0;32m\"<ipython-input-58-dca9e12ee074>\"\u001b[0;36m, line \u001b[0;32m1\u001b[0m\n\u001b[0;31m    def function_name\u001b[0m\n\u001b[0m                     ^\u001b[0m\n\u001b[0;31mSyntaxError\u001b[0m\u001b[0;31m:\u001b[0m invalid syntax\n"
     ]
    }
   ],
   "source": [
    "def function_name\n",
    "    print(\"banana\")"
   ]
  },
  {
   "cell_type": "code",
   "execution_count": 59,
   "metadata": {},
   "outputs": [
    {
     "ename": "SyntaxError",
     "evalue": "invalid syntax (<ipython-input-59-867366c130fd>, line 1)",
     "output_type": "error",
     "traceback": [
      "\u001b[0;36m  File \u001b[0;32m\"<ipython-input-59-867366c130fd>\"\u001b[0;36m, line \u001b[0;32m1\u001b[0m\n\u001b[0;31m    deff function_name():\u001b[0m\n\u001b[0m                     ^\u001b[0m\n\u001b[0;31mSyntaxError\u001b[0m\u001b[0;31m:\u001b[0m invalid syntax\n"
     ]
    }
   ],
   "source": [
    "deff function_name():\n",
    "    print(\"banana\")"
   ]
  },
  {
   "cell_type": "code",
   "execution_count": null,
   "metadata": {},
   "outputs": [],
   "source": [
    "def function_name_with_no_brackets:\n",
    "    print(\"banana\")"
   ]
  },
  {
   "cell_type": "code",
   "execution_count": 60,
   "metadata": {},
   "outputs": [
    {
     "ename": "SyntaxError",
     "evalue": "'return' outside function (<ipython-input-60-74e6d1aaefa4>, line 1)",
     "output_type": "error",
     "traceback": [
      "\u001b[0;36m  File \u001b[0;32m\"<ipython-input-60-74e6d1aaefa4>\"\u001b[0;36m, line \u001b[0;32m1\u001b[0m\n\u001b[0;31m    return \"Banana\"\u001b[0m\n\u001b[0m                   ^\u001b[0m\n\u001b[0;31mSyntaxError\u001b[0m\u001b[0;31m:\u001b[0m 'return' outside function\n"
     ]
    }
   ],
   "source": [
    "return \"Banana\""
   ]
  },
  {
   "cell_type": "code",
   "execution_count": 61,
   "metadata": {},
   "outputs": [
    {
     "ename": "SyntaxError",
     "evalue": "invalid syntax (<ipython-input-61-1609dcf5b41b>, line 1)",
     "output_type": "error",
     "traceback": [
      "\u001b[0;36m  File \u001b[0;32m\"<ipython-input-61-1609dcf5b41b>\"\u001b[0;36m, line \u001b[0;32m1\u001b[0m\n\u001b[0;31m    if 2==2\u001b[0m\n\u001b[0m           ^\u001b[0m\n\u001b[0;31mSyntaxError\u001b[0m\u001b[0;31m:\u001b[0m invalid syntax\n"
     ]
    }
   ],
   "source": [
    "if 2==2\n",
    "    print(\"yay\")"
   ]
  },
  {
   "cell_type": "code",
   "execution_count": 62,
   "metadata": {},
   "outputs": [
    {
     "ename": "IndentationError",
     "evalue": "expected an indented block (<ipython-input-62-87b66e37489a>, line 2)",
     "output_type": "error",
     "traceback": [
      "\u001b[0;36m  File \u001b[0;32m\"<ipython-input-62-87b66e37489a>\"\u001b[0;36m, line \u001b[0;32m2\u001b[0m\n\u001b[0;31m    print(\"yay\")\u001b[0m\n\u001b[0m        ^\u001b[0m\n\u001b[0;31mIndentationError\u001b[0m\u001b[0;31m:\u001b[0m expected an indented block\n"
     ]
    }
   ],
   "source": [
    "if 2==2:\n",
    "print(\"yay\")"
   ]
  },
  {
   "cell_type": "code",
   "execution_count": null,
   "metadata": {},
   "outputs": [],
   "source": [
    "print(\"yay\")\n",
    "    print(\"yay\")"
   ]
  },
  {
   "cell_type": "code",
   "execution_count": 63,
   "metadata": {},
   "outputs": [
    {
     "ename": "ZeroDivisionError",
     "evalue": "division by zero",
     "output_type": "error",
     "traceback": [
      "\u001b[0;31m---------------------------------------------------------------------------\u001b[0m",
      "\u001b[0;31mZeroDivisionError\u001b[0m                         Traceback (most recent call last)",
      "\u001b[0;32m<ipython-input-63-2fc232d1511a>\u001b[0m in \u001b[0;36m<module>\u001b[0;34m\u001b[0m\n\u001b[0;32m----> 1\u001b[0;31m \u001b[0mprint\u001b[0m\u001b[0;34m(\u001b[0m\u001b[0;36m1\u001b[0m\u001b[0;34m/\u001b[0m\u001b[0;36m0\u001b[0m\u001b[0;34m)\u001b[0m\u001b[0;34m\u001b[0m\u001b[0;34m\u001b[0m\u001b[0m\n\u001b[0m",
      "\u001b[0;31mZeroDivisionError\u001b[0m: division by zero"
     ]
    }
   ],
   "source": [
    "print(1/0)"
   ]
  },
  {
   "cell_type": "code",
   "execution_count": 64,
   "metadata": {},
   "outputs": [
    {
     "ename": "NameError",
     "evalue": "name 'fruuuuit' is not defined",
     "output_type": "error",
     "traceback": [
      "\u001b[0;31m---------------------------------------------------------------------------\u001b[0m",
      "\u001b[0;31mNameError\u001b[0m                                 Traceback (most recent call last)",
      "\u001b[0;32m<ipython-input-64-79dc26eea4e5>\u001b[0m in \u001b[0;36m<module>\u001b[0;34m\u001b[0m\n\u001b[1;32m      1\u001b[0m \u001b[0mfruit\u001b[0m \u001b[0;34m=\u001b[0m \u001b[0;34m\"Banana\"\u001b[0m\u001b[0;34m\u001b[0m\u001b[0;34m\u001b[0m\u001b[0m\n\u001b[0;32m----> 2\u001b[0;31m \u001b[0mprint\u001b[0m\u001b[0;34m(\u001b[0m\u001b[0mfruuuuit\u001b[0m\u001b[0;34m)\u001b[0m\u001b[0;34m\u001b[0m\u001b[0;34m\u001b[0m\u001b[0m\n\u001b[0m",
      "\u001b[0;31mNameError\u001b[0m: name 'fruuuuit' is not defined"
     ]
    }
   ],
   "source": [
    "fruit = \"Banana\"\n",
    "print(fruuuuit)"
   ]
  },
  {
   "cell_type": "code",
   "execution_count": 65,
   "metadata": {},
   "outputs": [
    {
     "ename": "AttributeError",
     "evalue": "'list' object has no attribute 'add'",
     "output_type": "error",
     "traceback": [
      "\u001b[0;31m---------------------------------------------------------------------------\u001b[0m",
      "\u001b[0;31mAttributeError\u001b[0m                            Traceback (most recent call last)",
      "\u001b[0;32m<ipython-input-65-d1f3be4a4431>\u001b[0m in \u001b[0;36m<module>\u001b[0;34m\u001b[0m\n\u001b[1;32m      1\u001b[0m \u001b[0mlist\u001b[0m \u001b[0;34m=\u001b[0m \u001b[0;34m[\u001b[0m\u001b[0;34m\"a\"\u001b[0m\u001b[0;34m,\u001b[0m\u001b[0;34m\"b\"\u001b[0m\u001b[0;34m,\u001b[0m\u001b[0;34m\"c\"\u001b[0m\u001b[0;34m]\u001b[0m\u001b[0;34m\u001b[0m\u001b[0;34m\u001b[0m\u001b[0m\n\u001b[0;32m----> 2\u001b[0;31m \u001b[0mlist\u001b[0m\u001b[0;34m.\u001b[0m\u001b[0madd\u001b[0m\u001b[0;34m(\u001b[0m\u001b[0;34m\"d\"\u001b[0m\u001b[0;34m)\u001b[0m \u001b[0;31m# you probably meant to use append()\u001b[0m\u001b[0;34m\u001b[0m\u001b[0;34m\u001b[0m\u001b[0m\n\u001b[0m",
      "\u001b[0;31mAttributeError\u001b[0m: 'list' object has no attribute 'add'"
     ]
    }
   ],
   "source": [
    "list = [\"a\",\"b\",\"c\"]\n",
    "list.add(\"d\") # you probably meant to use append()"
   ]
  },
  {
   "cell_type": "code",
   "execution_count": null,
   "metadata": {},
   "outputs": [],
   "source": [
    "list = [\"a\",\"b\",\"c\"]\n",
    "list.replace(\"a\",\"u\") # this is a method on string objects, not lists. like \"Banana\".replace(\"B\", \"b\")"
   ]
  },
  {
   "cell_type": "code",
   "execution_count": 66,
   "metadata": {},
   "outputs": [
    {
     "name": "stdout",
     "output_type": "stream",
     "text": [
      "4\n",
      "22\n"
     ]
    }
   ],
   "source": [
    "print(2+2) # this will work\n",
    "print(\"2\"+\"2\") # this will work"
   ]
  },
  {
   "cell_type": "code",
   "execution_count": 67,
   "metadata": {},
   "outputs": [
    {
     "ename": "TypeError",
     "evalue": "unsupported operand type(s) for +: 'int' and 'str'",
     "output_type": "error",
     "traceback": [
      "\u001b[0;31m---------------------------------------------------------------------------\u001b[0m",
      "\u001b[0;31mTypeError\u001b[0m                                 Traceback (most recent call last)",
      "\u001b[0;32m<ipython-input-67-db53bd892eed>\u001b[0m in \u001b[0;36m<module>\u001b[0;34m\u001b[0m\n\u001b[0;32m----> 1\u001b[0;31m \u001b[0mprint\u001b[0m\u001b[0;34m(\u001b[0m\u001b[0;36m2\u001b[0m\u001b[0;34m+\u001b[0m\u001b[0;34m\"2\"\u001b[0m\u001b[0;34m)\u001b[0m\u001b[0;34m\u001b[0m\u001b[0;34m\u001b[0m\u001b[0m\n\u001b[0m",
      "\u001b[0;31mTypeError\u001b[0m: unsupported operand type(s) for +: 'int' and 'str'"
     ]
    }
   ],
   "source": [
    "print(2+\"2\")"
   ]
  },
  {
   "cell_type": "code",
   "execution_count": null,
   "metadata": {},
   "outputs": [],
   "source": [
    "print(\"2\"+2)"
   ]
  },
  {
   "cell_type": "code",
   "execution_count": 68,
   "metadata": {},
   "outputs": [
    {
     "name": "stdout",
     "output_type": "stream",
     "text": [
      "False\n"
     ]
    }
   ],
   "source": [
    "print(\"2\" == 2) # this will work"
   ]
  },
  {
   "cell_type": "code",
   "execution_count": 69,
   "metadata": {},
   "outputs": [
    {
     "ename": "TypeError",
     "evalue": "'>' not supported between instances of 'str' and 'int'",
     "output_type": "error",
     "traceback": [
      "\u001b[0;31m---------------------------------------------------------------------------\u001b[0m",
      "\u001b[0;31mTypeError\u001b[0m                                 Traceback (most recent call last)",
      "\u001b[0;32m<ipython-input-69-c0247cb72122>\u001b[0m in \u001b[0;36m<module>\u001b[0;34m\u001b[0m\n\u001b[0;32m----> 1\u001b[0;31m \u001b[0mprint\u001b[0m\u001b[0;34m(\u001b[0m\u001b[0;34m\"2\"\u001b[0m\u001b[0;34m>\u001b[0m\u001b[0;36m2\u001b[0m\u001b[0;34m)\u001b[0m\u001b[0;34m\u001b[0m\u001b[0;34m\u001b[0m\u001b[0m\n\u001b[0m",
      "\u001b[0;31mTypeError\u001b[0m: '>' not supported between instances of 'str' and 'int'"
     ]
    }
   ],
   "source": [
    "print(\"2\">2)"
   ]
  },
  {
   "cell_type": "code",
   "execution_count": 70,
   "metadata": {},
   "outputs": [
    {
     "name": "stdout",
     "output_type": "stream",
     "text": [
      "c\n"
     ]
    }
   ],
   "source": [
    "list = [\"a\",\"b\",\"c\"]\n",
    "print(max(list)) # this will work"
   ]
  },
  {
   "cell_type": "code",
   "execution_count": 71,
   "metadata": {},
   "outputs": [
    {
     "name": "stdout",
     "output_type": "stream",
     "text": [
      "3\n"
     ]
    }
   ],
   "source": [
    "list = [1,2,3]\n",
    "print(max(list)) # this will work"
   ]
  },
  {
   "cell_type": "code",
   "execution_count": 72,
   "metadata": {},
   "outputs": [
    {
     "ename": "TypeError",
     "evalue": "'>' not supported between instances of 'int' and 'str'",
     "output_type": "error",
     "traceback": [
      "\u001b[0;31m---------------------------------------------------------------------------\u001b[0m",
      "\u001b[0;31mTypeError\u001b[0m                                 Traceback (most recent call last)",
      "\u001b[0;32m<ipython-input-72-599beed9aa69>\u001b[0m in \u001b[0;36m<module>\u001b[0;34m\u001b[0m\n\u001b[1;32m      1\u001b[0m \u001b[0mlist\u001b[0m \u001b[0;34m=\u001b[0m \u001b[0;34m[\u001b[0m\u001b[0;34m\"a\"\u001b[0m\u001b[0;34m,\u001b[0m\u001b[0;34m\"b\"\u001b[0m\u001b[0;34m,\u001b[0m\u001b[0;34m\"c\"\u001b[0m\u001b[0;34m,\u001b[0m \u001b[0;36m5\u001b[0m\u001b[0;34m,\u001b[0m \u001b[0;36m6\u001b[0m\u001b[0;34m]\u001b[0m\u001b[0;34m\u001b[0m\u001b[0;34m\u001b[0m\u001b[0m\n\u001b[0;32m----> 2\u001b[0;31m \u001b[0mprint\u001b[0m\u001b[0;34m(\u001b[0m\u001b[0mmax\u001b[0m\u001b[0;34m(\u001b[0m\u001b[0mlist\u001b[0m\u001b[0;34m)\u001b[0m\u001b[0;34m)\u001b[0m \u001b[0;31m# this will work\u001b[0m\u001b[0;34m\u001b[0m\u001b[0;34m\u001b[0m\u001b[0m\n\u001b[0m",
      "\u001b[0;31mTypeError\u001b[0m: '>' not supported between instances of 'int' and 'str'"
     ]
    }
   ],
   "source": [
    "list = [\"a\",\"b\",\"c\", 5, 6]\n",
    "print(max(list)) # this will work"
   ]
  },
  {
   "cell_type": "code",
   "execution_count": 73,
   "metadata": {},
   "outputs": [
    {
     "name": "stdout",
     "output_type": "stream",
     "text": [
      "46\n"
     ]
    }
   ],
   "source": [
    "def add_two_numbers(num1, num2):\n",
    "    return num1+num2\n",
    "\n",
    "print(add_two_numbers(12,34)) # this one will work!"
   ]
  },
  {
   "cell_type": "code",
   "execution_count": 74,
   "metadata": {},
   "outputs": [
    {
     "ename": "TypeError",
     "evalue": "add_two_numbers() missing 2 required positional arguments: 'num1' and 'num2'",
     "output_type": "error",
     "traceback": [
      "\u001b[0;31m---------------------------------------------------------------------------\u001b[0m",
      "\u001b[0;31mTypeError\u001b[0m                                 Traceback (most recent call last)",
      "\u001b[0;32m<ipython-input-74-bfc01fe238ee>\u001b[0m in \u001b[0;36m<module>\u001b[0;34m\u001b[0m\n\u001b[1;32m      2\u001b[0m     \u001b[0;32mreturn\u001b[0m \u001b[0mnum1\u001b[0m\u001b[0;34m+\u001b[0m\u001b[0mnum2\u001b[0m\u001b[0;34m\u001b[0m\u001b[0;34m\u001b[0m\u001b[0m\n\u001b[1;32m      3\u001b[0m \u001b[0;34m\u001b[0m\u001b[0m\n\u001b[0;32m----> 4\u001b[0;31m \u001b[0mprint\u001b[0m\u001b[0;34m(\u001b[0m\u001b[0madd_two_numbers\u001b[0m\u001b[0;34m(\u001b[0m\u001b[0;34m)\u001b[0m\u001b[0;34m)\u001b[0m\u001b[0;34m\u001b[0m\u001b[0;34m\u001b[0m\u001b[0m\n\u001b[0m",
      "\u001b[0;31mTypeError\u001b[0m: add_two_numbers() missing 2 required positional arguments: 'num1' and 'num2'"
     ]
    }
   ],
   "source": [
    "def add_two_numbers(num1, num2):\n",
    "    return num1+num2\n",
    "\n",
    "print(add_two_numbers())"
   ]
  },
  {
   "cell_type": "code",
   "execution_count": 75,
   "metadata": {},
   "outputs": [
    {
     "ename": "TypeError",
     "evalue": "add_two_numbers() missing 1 required positional argument: 'num2'",
     "output_type": "error",
     "traceback": [
      "\u001b[0;31m---------------------------------------------------------------------------\u001b[0m",
      "\u001b[0;31mTypeError\u001b[0m                                 Traceback (most recent call last)",
      "\u001b[0;32m<ipython-input-75-d4f9500ab816>\u001b[0m in \u001b[0;36m<module>\u001b[0;34m\u001b[0m\n\u001b[1;32m      2\u001b[0m     \u001b[0;32mreturn\u001b[0m \u001b[0mnum1\u001b[0m\u001b[0;34m+\u001b[0m\u001b[0mnum2\u001b[0m\u001b[0;34m\u001b[0m\u001b[0;34m\u001b[0m\u001b[0m\n\u001b[1;32m      3\u001b[0m \u001b[0;34m\u001b[0m\u001b[0m\n\u001b[0;32m----> 4\u001b[0;31m \u001b[0mprint\u001b[0m\u001b[0;34m(\u001b[0m\u001b[0madd_two_numbers\u001b[0m\u001b[0;34m(\u001b[0m\u001b[0;36m12\u001b[0m\u001b[0;34m)\u001b[0m\u001b[0;34m)\u001b[0m\u001b[0;34m\u001b[0m\u001b[0;34m\u001b[0m\u001b[0m\n\u001b[0m",
      "\u001b[0;31mTypeError\u001b[0m: add_two_numbers() missing 1 required positional argument: 'num2'"
     ]
    }
   ],
   "source": [
    "def add_two_numbers(num1, num2):\n",
    "    return num1+num2\n",
    "\n",
    "print(add_two_numbers(12))"
   ]
  },
  {
   "cell_type": "code",
   "execution_count": 76,
   "metadata": {},
   "outputs": [
    {
     "ename": "TypeError",
     "evalue": "add_two_numbers() takes 2 positional arguments but 3 were given",
     "output_type": "error",
     "traceback": [
      "\u001b[0;31m---------------------------------------------------------------------------\u001b[0m",
      "\u001b[0;31mTypeError\u001b[0m                                 Traceback (most recent call last)",
      "\u001b[0;32m<ipython-input-76-4437ccc9a63f>\u001b[0m in \u001b[0;36m<module>\u001b[0;34m\u001b[0m\n\u001b[1;32m      2\u001b[0m     \u001b[0;32mreturn\u001b[0m \u001b[0mnum1\u001b[0m\u001b[0;34m+\u001b[0m\u001b[0mnum2\u001b[0m\u001b[0;34m\u001b[0m\u001b[0;34m\u001b[0m\u001b[0m\n\u001b[1;32m      3\u001b[0m \u001b[0;34m\u001b[0m\u001b[0m\n\u001b[0;32m----> 4\u001b[0;31m \u001b[0mprint\u001b[0m\u001b[0;34m(\u001b[0m\u001b[0madd_two_numbers\u001b[0m\u001b[0;34m(\u001b[0m\u001b[0;36m12\u001b[0m\u001b[0;34m,\u001b[0m\u001b[0;36m23\u001b[0m\u001b[0;34m,\u001b[0m\u001b[0;36m45\u001b[0m\u001b[0;34m)\u001b[0m\u001b[0;34m)\u001b[0m\u001b[0;34m\u001b[0m\u001b[0;34m\u001b[0m\u001b[0m\n\u001b[0m",
      "\u001b[0;31mTypeError\u001b[0m: add_two_numbers() takes 2 positional arguments but 3 were given"
     ]
    }
   ],
   "source": [
    "def add_two_numbers(num1, num2):\n",
    "    return num1+num2\n",
    "\n",
    "print(add_two_numbers(12,23,45))"
   ]
  },
  {
   "cell_type": "code",
   "execution_count": 77,
   "metadata": {},
   "outputs": [
    {
     "name": "stdout",
     "output_type": "stream",
     "text": [
      "-29873\n",
      "29873\n"
     ]
    }
   ],
   "source": [
    "print( int(\"-29873\") ) # this will work\n",
    "print( int(\"29873\") ) # this will work"
   ]
  },
  {
   "cell_type": "code",
   "execution_count": 78,
   "metadata": {},
   "outputs": [
    {
     "name": "stdout",
     "output_type": "stream",
     "text": [
      "29873\n",
      "29873.986\n"
     ]
    }
   ],
   "source": [
    "print( int(29873.986) )# this will work\n",
    "print( float(\"29873.986\") )# this will work"
   ]
  },
  {
   "cell_type": "code",
   "execution_count": 79,
   "metadata": {},
   "outputs": [
    {
     "ename": "ValueError",
     "evalue": "invalid literal for int() with base 10: '29873.986'",
     "output_type": "error",
     "traceback": [
      "\u001b[0;31m---------------------------------------------------------------------------\u001b[0m",
      "\u001b[0;31mValueError\u001b[0m                                Traceback (most recent call last)",
      "\u001b[0;32m<ipython-input-79-8a4624669507>\u001b[0m in \u001b[0;36m<module>\u001b[0;34m\u001b[0m\n\u001b[1;32m      1\u001b[0m \u001b[0mnumber_str\u001b[0m \u001b[0;34m=\u001b[0m \u001b[0;34m\"29873.986\"\u001b[0m\u001b[0;34m\u001b[0m\u001b[0;34m\u001b[0m\u001b[0m\n\u001b[0;32m----> 2\u001b[0;31m \u001b[0mprint\u001b[0m\u001b[0;34m(\u001b[0m \u001b[0mint\u001b[0m\u001b[0;34m(\u001b[0m\u001b[0mnumber_str\u001b[0m\u001b[0;34m)\u001b[0m \u001b[0;34m)\u001b[0m \u001b[0;31m# this will throw ValueError\u001b[0m\u001b[0;34m\u001b[0m\u001b[0;34m\u001b[0m\u001b[0m\n\u001b[0m",
      "\u001b[0;31mValueError\u001b[0m: invalid literal for int() with base 10: '29873.986'"
     ]
    }
   ],
   "source": [
    "number_str = \"29873.986\"\n",
    "print( int(number_str) ) # this will throw ValueError"
   ]
  },
  {
   "cell_type": "markdown",
   "metadata": {},
   "source": [
    "### Errors around objects:"
   ]
  },
  {
   "cell_type": "code",
   "execution_count": 80,
   "metadata": {},
   "outputs": [],
   "source": [
    "# let's create a simple class\n",
    "class Person:\n",
    "    def __init__(self, name):\n",
    "        self.name=name\n",
    "        \n",
    "    def name_in_small_letters(self):\n",
    "        return self.name.lower()\n",
    "    \n",
    "    def name_in_capitals():  # this will throw when called (we forgot to add self)\n",
    "        return self.name.upper()\n",
    "    \n",
    "    def print_name_return_nothing(self):\n",
    "        print(self.name)"
   ]
  },
  {
   "cell_type": "code",
   "execution_count": 81,
   "metadata": {},
   "outputs": [
    {
     "ename": "NameError",
     "evalue": "name 'new_person' is not defined",
     "output_type": "error",
     "traceback": [
      "\u001b[0;31m---------------------------------------------------------------------------\u001b[0m",
      "\u001b[0;31mNameError\u001b[0m                                 Traceback (most recent call last)",
      "\u001b[0;32m<ipython-input-81-2607e41f45ad>\u001b[0m in \u001b[0;36m<module>\u001b[0;34m\u001b[0m\n\u001b[0;32m----> 1\u001b[0;31m \u001b[0mprint\u001b[0m\u001b[0;34m(\u001b[0m\u001b[0mnew_person\u001b[0m\u001b[0;34m)\u001b[0m \u001b[0;31m# before I created an object, throws NameError,\u001b[0m\u001b[0;34m\u001b[0m\u001b[0;34m\u001b[0m\u001b[0m\n\u001b[0m\u001b[1;32m      2\u001b[0m \u001b[0;31m# you can clear all your Notebook's variables byt restaring the Kernel in the menu on top\u001b[0m\u001b[0;34m\u001b[0m\u001b[0;34m\u001b[0m\u001b[0;34m\u001b[0m\u001b[0m\n",
      "\u001b[0;31mNameError\u001b[0m: name 'new_person' is not defined"
     ]
    }
   ],
   "source": [
    "print(new_person) # before I created an object, throws NameError, \n",
    "# you can clear all your Notebook's variables byt restaring the Kernel in the menu on top"
   ]
  },
  {
   "cell_type": "code",
   "execution_count": 82,
   "metadata": {},
   "outputs": [
    {
     "ename": "TypeError",
     "evalue": "__init__() missing 1 required positional argument: 'name'",
     "output_type": "error",
     "traceback": [
      "\u001b[0;31m---------------------------------------------------------------------------\u001b[0m",
      "\u001b[0;31mTypeError\u001b[0m                                 Traceback (most recent call last)",
      "\u001b[0;32m<ipython-input-82-4f95b529eaad>\u001b[0m in \u001b[0;36m<module>\u001b[0;34m\u001b[0m\n\u001b[0;32m----> 1\u001b[0;31m \u001b[0mnew_person\u001b[0m \u001b[0;34m=\u001b[0m \u001b[0mPerson\u001b[0m\u001b[0;34m(\u001b[0m\u001b[0;34m)\u001b[0m\u001b[0;34m\u001b[0m\u001b[0;34m\u001b[0m\u001b[0m\n\u001b[0m",
      "\u001b[0;31mTypeError\u001b[0m: __init__() missing 1 required positional argument: 'name'"
     ]
    }
   ],
   "source": [
    "new_person = Person()"
   ]
  },
  {
   "cell_type": "code",
   "execution_count": 83,
   "metadata": {},
   "outputs": [
    {
     "ename": "TypeError",
     "evalue": "__init__() takes 2 positional arguments but 3 were given",
     "output_type": "error",
     "traceback": [
      "\u001b[0;31m---------------------------------------------------------------------------\u001b[0m",
      "\u001b[0;31mTypeError\u001b[0m                                 Traceback (most recent call last)",
      "\u001b[0;32m<ipython-input-83-595d092809ac>\u001b[0m in \u001b[0;36m<module>\u001b[0;34m\u001b[0m\n\u001b[0;32m----> 1\u001b[0;31m \u001b[0mnew_person\u001b[0m \u001b[0;34m=\u001b[0m \u001b[0mPerson\u001b[0m\u001b[0;34m(\u001b[0m\u001b[0;34m\"Jannine\"\u001b[0m\u001b[0;34m,\u001b[0m \u001b[0;36m31\u001b[0m\u001b[0;34m)\u001b[0m\u001b[0;34m\u001b[0m\u001b[0;34m\u001b[0m\u001b[0m\n\u001b[0m",
      "\u001b[0;31mTypeError\u001b[0m: __init__() takes 2 positional arguments but 3 were given"
     ]
    }
   ],
   "source": [
    "new_person = Person(\"Jannine\", 31)"
   ]
  },
  {
   "cell_type": "code",
   "execution_count": 84,
   "metadata": {},
   "outputs": [],
   "source": [
    "new_person = Person(\"Jannine\") # this will work"
   ]
  },
  {
   "cell_type": "code",
   "execution_count": 85,
   "metadata": {},
   "outputs": [
    {
     "data": {
      "text/plain": [
       "'Jannine'"
      ]
     },
     "execution_count": 85,
     "metadata": {},
     "output_type": "execute_result"
    }
   ],
   "source": [
    "new_person.name  # this will work"
   ]
  },
  {
   "cell_type": "code",
   "execution_count": 86,
   "metadata": {},
   "outputs": [
    {
     "ename": "AttributeError",
     "evalue": "'Person' object has no attribute 'age'",
     "output_type": "error",
     "traceback": [
      "\u001b[0;31m---------------------------------------------------------------------------\u001b[0m",
      "\u001b[0;31mAttributeError\u001b[0m                            Traceback (most recent call last)",
      "\u001b[0;32m<ipython-input-86-80b4dd8e2dd7>\u001b[0m in \u001b[0;36m<module>\u001b[0;34m\u001b[0m\n\u001b[0;32m----> 1\u001b[0;31m \u001b[0mnew_person\u001b[0m\u001b[0;34m.\u001b[0m\u001b[0mage\u001b[0m\u001b[0;34m\u001b[0m\u001b[0;34m\u001b[0m\u001b[0m\n\u001b[0m",
      "\u001b[0;31mAttributeError\u001b[0m: 'Person' object has no attribute 'age'"
     ]
    }
   ],
   "source": [
    "new_person.age"
   ]
  },
  {
   "cell_type": "code",
   "execution_count": 87,
   "metadata": {},
   "outputs": [
    {
     "data": {
      "text/plain": [
       "<bound method Person.name_in_small_letters of <__main__.Person object at 0x7f4bb5150ed0>>"
      ]
     },
     "execution_count": 87,
     "metadata": {},
     "output_type": "execute_result"
    }
   ],
   "source": [
    "new_person.name_in_small_letters\n",
    "# this is a function but is called like a variable, without the ()\n",
    "# notice it does not stricly speaking return an Error....\n",
    "# it returns THE ABILITY to do something, rather than doing it.\n",
    "# it's a very advanced technique, we might use it later in the course.\n",
    "\n",
    "# basically it means you forgot to add the () at the end of new_person.name_in_small_letters()"
   ]
  },
  {
   "cell_type": "code",
   "execution_count": 88,
   "metadata": {},
   "outputs": [
    {
     "ename": "TypeError",
     "evalue": "name_in_capitals() takes 0 positional arguments but 1 was given",
     "output_type": "error",
     "traceback": [
      "\u001b[0;31m---------------------------------------------------------------------------\u001b[0m",
      "\u001b[0;31mTypeError\u001b[0m                                 Traceback (most recent call last)",
      "\u001b[0;32m<ipython-input-88-079f0f0076b3>\u001b[0m in \u001b[0;36m<module>\u001b[0;34m\u001b[0m\n\u001b[0;32m----> 1\u001b[0;31m \u001b[0mnew_person\u001b[0m\u001b[0;34m.\u001b[0m\u001b[0mname_in_capitals\u001b[0m\u001b[0;34m(\u001b[0m\u001b[0;34m)\u001b[0m\u001b[0;34m\u001b[0m\u001b[0;34m\u001b[0m\u001b[0m\n\u001b[0m\u001b[1;32m      2\u001b[0m \u001b[0;31m# when you call a method on an object, the 'self' is added as first argument\u001b[0m\u001b[0;34m\u001b[0m\u001b[0;34m\u001b[0m\u001b[0;34m\u001b[0m\u001b[0m\n\u001b[1;32m      3\u001b[0m \u001b[0;31m# notice self is missing from function definition   def name_in_capitals():\u001b[0m\u001b[0;34m\u001b[0m\u001b[0;34m\u001b[0m\u001b[0;34m\u001b[0m\u001b[0m\n",
      "\u001b[0;31mTypeError\u001b[0m: name_in_capitals() takes 0 positional arguments but 1 was given"
     ]
    }
   ],
   "source": [
    "new_person.name_in_capitals()\n",
    "# when you call a method on an object, the 'self' is added as first argument\n",
    "# notice self is missing from function definition   def name_in_capitals(): "
   ]
  },
  {
   "cell_type": "code",
   "execution_count": 89,
   "metadata": {},
   "outputs": [
    {
     "ename": "AttributeError",
     "evalue": "'Person' object has no attribute 'get_name_backwards'",
     "output_type": "error",
     "traceback": [
      "\u001b[0;31m---------------------------------------------------------------------------\u001b[0m",
      "\u001b[0;31mAttributeError\u001b[0m                            Traceback (most recent call last)",
      "\u001b[0;32m<ipython-input-89-9e2039c08b51>\u001b[0m in \u001b[0;36m<module>\u001b[0;34m\u001b[0m\n\u001b[0;32m----> 1\u001b[0;31m \u001b[0mnew_person\u001b[0m\u001b[0;34m.\u001b[0m\u001b[0mget_name_backwards\u001b[0m\u001b[0;34m(\u001b[0m\u001b[0;34m)\u001b[0m \u001b[0;31m# we never defined this method\u001b[0m\u001b[0;34m\u001b[0m\u001b[0;34m\u001b[0m\u001b[0m\n\u001b[0m",
      "\u001b[0;31mAttributeError\u001b[0m: 'Person' object has no attribute 'get_name_backwards'"
     ]
    }
   ],
   "source": [
    "new_person.get_name_backwards() # we never defined this method"
   ]
  },
  {
   "cell_type": "code",
   "execution_count": null,
   "metadata": {},
   "outputs": [],
   "source": [
    "new_person.pop() # we never defined this method"
   ]
  },
  {
   "cell_type": "code",
   "execution_count": 90,
   "metadata": {},
   "outputs": [
    {
     "ename": "AttributeError",
     "evalue": "'Person' object has no attribute 'append'",
     "output_type": "error",
     "traceback": [
      "\u001b[0;31m---------------------------------------------------------------------------\u001b[0m",
      "\u001b[0;31mAttributeError\u001b[0m                            Traceback (most recent call last)",
      "\u001b[0;32m<ipython-input-90-f39cc3898a8d>\u001b[0m in \u001b[0;36m<module>\u001b[0;34m\u001b[0m\n\u001b[0;32m----> 1\u001b[0;31m \u001b[0mnew_person\u001b[0m\u001b[0;34m.\u001b[0m\u001b[0mappend\u001b[0m\u001b[0;34m(\u001b[0m\u001b[0;34m)\u001b[0m \u001b[0;31m# we never defined this method\u001b[0m\u001b[0;34m\u001b[0m\u001b[0;34m\u001b[0m\u001b[0m\n\u001b[0m",
      "\u001b[0;31mAttributeError\u001b[0m: 'Person' object has no attribute 'append'"
     ]
    }
   ],
   "source": [
    "new_person.append() # we never defined this method"
   ]
  },
  {
   "cell_type": "code",
   "execution_count": 91,
   "metadata": {},
   "outputs": [
    {
     "name": "stdout",
     "output_type": "stream",
     "text": [
      "Jannine\n",
      "None\n"
     ]
    }
   ],
   "source": [
    "maybe_name = new_person.print_name_return_nothing() #this will work, but what is in variable??\n",
    "print(maybe_name)"
   ]
  },
  {
   "cell_type": "code",
   "execution_count": 92,
   "metadata": {},
   "outputs": [
    {
     "name": "stdout",
     "output_type": "stream",
     "text": [
      "Jannine\n",
      "None\n"
     ]
    },
    {
     "ename": "AttributeError",
     "evalue": "'NoneType' object has no attribute 'upper'",
     "output_type": "error",
     "traceback": [
      "\u001b[0;31m---------------------------------------------------------------------------\u001b[0m",
      "\u001b[0;31mAttributeError\u001b[0m                            Traceback (most recent call last)",
      "\u001b[0;32m<ipython-input-92-e246f25a7216>\u001b[0m in \u001b[0;36m<module>\u001b[0;34m\u001b[0m\n\u001b[1;32m      1\u001b[0m \u001b[0mmaybe_name\u001b[0m \u001b[0;34m=\u001b[0m \u001b[0mnew_person\u001b[0m\u001b[0;34m.\u001b[0m\u001b[0mprint_name_return_nothing\u001b[0m\u001b[0;34m(\u001b[0m\u001b[0;34m)\u001b[0m \u001b[0;31m#this will work, but what is in variable??\u001b[0m\u001b[0;34m\u001b[0m\u001b[0;34m\u001b[0m\u001b[0m\n\u001b[1;32m      2\u001b[0m \u001b[0mprint\u001b[0m\u001b[0;34m(\u001b[0m\u001b[0mmaybe_name\u001b[0m\u001b[0;34m)\u001b[0m\u001b[0;34m\u001b[0m\u001b[0;34m\u001b[0m\u001b[0m\n\u001b[0;32m----> 3\u001b[0;31m \u001b[0mprint\u001b[0m\u001b[0;34m(\u001b[0m\u001b[0mmaybe_name\u001b[0m\u001b[0;34m.\u001b[0m\u001b[0mupper\u001b[0m\u001b[0;34m(\u001b[0m\u001b[0;34m)\u001b[0m\u001b[0;34m)\u001b[0m\u001b[0;34m\u001b[0m\u001b[0;34m\u001b[0m\u001b[0m\n\u001b[0m\u001b[1;32m      4\u001b[0m \u001b[0;31m# this error is very common, think why it happens 'NoneType' object has no attribute 'upper'\u001b[0m\u001b[0;34m\u001b[0m\u001b[0;34m\u001b[0m\u001b[0;34m\u001b[0m\u001b[0m\n",
      "\u001b[0;31mAttributeError\u001b[0m: 'NoneType' object has no attribute 'upper'"
     ]
    }
   ],
   "source": [
    "maybe_name = new_person.print_name_return_nothing() #this will work, but what is in variable??\n",
    "print(maybe_name)\n",
    "print(maybe_name.upper()) \n",
    "# this error is very common, think why it happens 'NoneType' object has no attribute 'upper'"
   ]
  },
  {
   "cell_type": "code",
   "execution_count": 93,
   "metadata": {},
   "outputs": [],
   "source": [
    "class Group_of_people:\n",
    "    def __init__(self, persons):\n",
    "        self.persons = persons\n",
    "        \n",
    "    def number_of_persons(self):\n",
    "        return len(self.persons)\n",
    "    \n",
    "    def add_person(self, new_person):\n",
    "        self.persons.append(new_person)\n",
    "        \n",
    "    def first_person(self):\n",
    "        return self.persons[0]"
   ]
  },
  {
   "cell_type": "code",
   "execution_count": 94,
   "metadata": {},
   "outputs": [
    {
     "ename": "TypeError",
     "evalue": "__init__() missing 1 required positional argument: 'persons'",
     "output_type": "error",
     "traceback": [
      "\u001b[0;31m---------------------------------------------------------------------------\u001b[0m",
      "\u001b[0;31mTypeError\u001b[0m                                 Traceback (most recent call last)",
      "\u001b[0;32m<ipython-input-94-7652142169fc>\u001b[0m in \u001b[0;36m<module>\u001b[0;34m\u001b[0m\n\u001b[0;32m----> 1\u001b[0;31m \u001b[0mgroup1\u001b[0m \u001b[0;34m=\u001b[0m \u001b[0mGroup_of_people\u001b[0m\u001b[0;34m(\u001b[0m\u001b[0;34m)\u001b[0m\u001b[0;34m\u001b[0m\u001b[0;34m\u001b[0m\u001b[0m\n\u001b[0m",
      "\u001b[0;31mTypeError\u001b[0m: __init__() missing 1 required positional argument: 'persons'"
     ]
    }
   ],
   "source": [
    "group1 = Group_of_people()"
   ]
  },
  {
   "cell_type": "code",
   "execution_count": 95,
   "metadata": {},
   "outputs": [],
   "source": [
    "group1 = Group_of_people([]) #  this will work"
   ]
  },
  {
   "cell_type": "code",
   "execution_count": 96,
   "metadata": {},
   "outputs": [],
   "source": [
    "group1 = Group_of_people( 23456 ) #  this won't crash but is nonsense"
   ]
  },
  {
   "cell_type": "code",
   "execution_count": 97,
   "metadata": {},
   "outputs": [
    {
     "ename": "AttributeError",
     "evalue": "'int' object has no attribute 'append'",
     "output_type": "error",
     "traceback": [
      "\u001b[0;31m---------------------------------------------------------------------------\u001b[0m",
      "\u001b[0;31mAttributeError\u001b[0m                            Traceback (most recent call last)",
      "\u001b[0;32m<ipython-input-97-444f38b7217e>\u001b[0m in \u001b[0;36m<module>\u001b[0;34m\u001b[0m\n\u001b[1;32m      1\u001b[0m \u001b[0mgroup1\u001b[0m \u001b[0;34m=\u001b[0m \u001b[0mGroup_of_people\u001b[0m\u001b[0;34m(\u001b[0m \u001b[0;36m23456\u001b[0m \u001b[0;34m)\u001b[0m\u001b[0;34m\u001b[0m\u001b[0;34m\u001b[0m\u001b[0m\n\u001b[0;32m----> 2\u001b[0;31m \u001b[0mgroup1\u001b[0m\u001b[0;34m.\u001b[0m\u001b[0madd_person\u001b[0m\u001b[0;34m(\u001b[0m  \u001b[0mPerson\u001b[0m\u001b[0;34m(\u001b[0m\u001b[0;34m\"Jannine\"\u001b[0m\u001b[0;34m)\u001b[0m \u001b[0;34m)\u001b[0m \u001b[0;31m#  now, this will crash\u001b[0m\u001b[0;34m\u001b[0m\u001b[0;34m\u001b[0m\u001b[0m\n\u001b[0m",
      "\u001b[0;32m<ipython-input-93-5a0e2daea2cf>\u001b[0m in \u001b[0;36madd_person\u001b[0;34m(self, new_person)\u001b[0m\n\u001b[1;32m      7\u001b[0m \u001b[0;34m\u001b[0m\u001b[0m\n\u001b[1;32m      8\u001b[0m     \u001b[0;32mdef\u001b[0m \u001b[0madd_person\u001b[0m\u001b[0;34m(\u001b[0m\u001b[0mself\u001b[0m\u001b[0;34m,\u001b[0m \u001b[0mnew_person\u001b[0m\u001b[0;34m)\u001b[0m\u001b[0;34m:\u001b[0m\u001b[0;34m\u001b[0m\u001b[0;34m\u001b[0m\u001b[0m\n\u001b[0;32m----> 9\u001b[0;31m         \u001b[0mself\u001b[0m\u001b[0;34m.\u001b[0m\u001b[0mpersons\u001b[0m\u001b[0;34m.\u001b[0m\u001b[0mappend\u001b[0m\u001b[0;34m(\u001b[0m\u001b[0mnew_person\u001b[0m\u001b[0;34m)\u001b[0m\u001b[0;34m\u001b[0m\u001b[0;34m\u001b[0m\u001b[0m\n\u001b[0m\u001b[1;32m     10\u001b[0m \u001b[0;34m\u001b[0m\u001b[0m\n\u001b[1;32m     11\u001b[0m     \u001b[0;32mdef\u001b[0m \u001b[0mfirst_person\u001b[0m\u001b[0;34m(\u001b[0m\u001b[0mself\u001b[0m\u001b[0;34m)\u001b[0m\u001b[0;34m:\u001b[0m\u001b[0;34m\u001b[0m\u001b[0;34m\u001b[0m\u001b[0m\n",
      "\u001b[0;31mAttributeError\u001b[0m: 'int' object has no attribute 'append'"
     ]
    }
   ],
   "source": [
    "group1 = Group_of_people( 23456 ) \n",
    "group1.add_person(  Person(\"Jannine\") ) #  now, this will crash"
   ]
  },
  {
   "cell_type": "code",
   "execution_count": 98,
   "metadata": {},
   "outputs": [
    {
     "data": {
      "text/plain": [
       "<__main__.Person at 0x7f4bb4e1bad0>"
      ]
     },
     "execution_count": 98,
     "metadata": {},
     "output_type": "execute_result"
    }
   ],
   "source": [
    "group1 = Group_of_people([Person(\"Jannine\"), Person(\"Pim\")])  \n",
    "group1.first_person() #  this will work, but is funny. why?"
   ]
  },
  {
   "cell_type": "code",
   "execution_count": 99,
   "metadata": {},
   "outputs": [
    {
     "data": {
      "text/plain": [
       "11111"
      ]
     },
     "execution_count": 99,
     "metadata": {},
     "output_type": "execute_result"
    }
   ],
   "source": [
    "group1 = Group_of_people([11111, 22222, 333333 ])\n",
    "group1.first_person()  #  this will work, but is funny. why?"
   ]
  },
  {
   "cell_type": "code",
   "execution_count": 100,
   "metadata": {},
   "outputs": [
    {
     "data": {
      "text/plain": [
       "'Jannine'"
      ]
     },
     "execution_count": 100,
     "metadata": {},
     "output_type": "execute_result"
    }
   ],
   "source": [
    "group1 = Group_of_people([Person(\"Jannine\"), Person(\"Pim\")])  \n",
    "group1.first_person().name  #  this will work"
   ]
  },
  {
   "cell_type": "code",
   "execution_count": 101,
   "metadata": {},
   "outputs": [
    {
     "ename": "AttributeError",
     "evalue": "'int' object has no attribute 'name'",
     "output_type": "error",
     "traceback": [
      "\u001b[0;31m---------------------------------------------------------------------------\u001b[0m",
      "\u001b[0;31mAttributeError\u001b[0m                            Traceback (most recent call last)",
      "\u001b[0;32m<ipython-input-101-811449084391>\u001b[0m in \u001b[0;36m<module>\u001b[0;34m\u001b[0m\n\u001b[1;32m      1\u001b[0m \u001b[0mgroup1\u001b[0m \u001b[0;34m=\u001b[0m \u001b[0mGroup_of_people\u001b[0m\u001b[0;34m(\u001b[0m\u001b[0;34m[\u001b[0m\u001b[0;36m11111\u001b[0m\u001b[0;34m,\u001b[0m \u001b[0;36m22222\u001b[0m\u001b[0;34m,\u001b[0m \u001b[0;36m333333\u001b[0m \u001b[0;34m]\u001b[0m\u001b[0;34m)\u001b[0m\u001b[0;34m\u001b[0m\u001b[0;34m\u001b[0m\u001b[0m\n\u001b[0;32m----> 2\u001b[0;31m \u001b[0mgroup1\u001b[0m\u001b[0;34m.\u001b[0m\u001b[0mfirst_person\u001b[0m\u001b[0;34m(\u001b[0m\u001b[0;34m)\u001b[0m\u001b[0;34m.\u001b[0m\u001b[0mname\u001b[0m\u001b[0;34m\u001b[0m\u001b[0;34m\u001b[0m\u001b[0m\n\u001b[0m",
      "\u001b[0;31mAttributeError\u001b[0m: 'int' object has no attribute 'name'"
     ]
    }
   ],
   "source": [
    "group1 = Group_of_people([11111, 22222, 333333 ])\n",
    "group1.first_person().name "
   ]
  },
  {
   "cell_type": "code",
   "execution_count": 102,
   "metadata": {},
   "outputs": [
    {
     "ename": "AttributeError",
     "evalue": "'NoneType' object has no attribute 'pop'",
     "output_type": "error",
     "traceback": [
      "\u001b[0;31m---------------------------------------------------------------------------\u001b[0m",
      "\u001b[0;31mAttributeError\u001b[0m                            Traceback (most recent call last)",
      "\u001b[0;32m<ipython-input-102-500d7670f014>\u001b[0m in \u001b[0;36m<module>\u001b[0;34m\u001b[0m\n\u001b[1;32m      2\u001b[0m \u001b[0mlist\u001b[0m \u001b[0;34m=\u001b[0m \u001b[0;34m[\u001b[0m\u001b[0;34m\"a\"\u001b[0m\u001b[0;34m,\u001b[0m\u001b[0;34m\"b\"\u001b[0m\u001b[0;34m,\u001b[0m\u001b[0;34m\"c\"\u001b[0m\u001b[0;34m]\u001b[0m\u001b[0;34m\u001b[0m\u001b[0;34m\u001b[0m\u001b[0m\n\u001b[1;32m      3\u001b[0m \u001b[0mmaybe_sorted_list\u001b[0m \u001b[0;34m=\u001b[0m \u001b[0mlist\u001b[0m\u001b[0;34m.\u001b[0m\u001b[0msort\u001b[0m\u001b[0;34m(\u001b[0m\u001b[0;34m)\u001b[0m \u001b[0;31m# what does sort return?\u001b[0m\u001b[0;34m\u001b[0m\u001b[0;34m\u001b[0m\u001b[0m\n\u001b[0;32m----> 4\u001b[0;31m \u001b[0mmaybe_sorted_list\u001b[0m\u001b[0;34m.\u001b[0m\u001b[0mpop\u001b[0m\u001b[0;34m(\u001b[0m\u001b[0;34m)\u001b[0m\u001b[0;34m\u001b[0m\u001b[0;34m\u001b[0m\u001b[0m\n\u001b[0m",
      "\u001b[0;31mAttributeError\u001b[0m: 'NoneType' object has no attribute 'pop'"
     ]
    }
   ],
   "source": [
    "# you've see it in this context a lot\n",
    "list = [\"a\",\"b\",\"c\"]\n",
    "maybe_sorted_list = list.sort() # what does sort return?\n",
    "maybe_sorted_list.pop()"
   ]
  },
  {
   "cell_type": "markdown",
   "metadata": {},
   "source": [
    "# Catching Exceptions/Errors before they happen \n",
    "\n",
    "## (This is quite advanced and new, but very useful)"
   ]
  },
  {
   "cell_type": "markdown",
   "metadata": {},
   "source": [
    "Sometimes you are writing a piece of code that you know that can possibly cause an Error or an exception. It could be user input, or data loaded from a file.\n",
    "\n",
    "Up until now, when there was an error in our code, it crashed our program and nothing worked. But now we can start building more robust, sturdy coe. It's called **Defensive Programming**\n",
    "\n",
    "**CATCHING ERRORS** - responding to an error, but without crashing your whole program. You have a chance to fix a mistake or wrong data, without your program completely breaking."
   ]
  },
  {
   "cell_type": "markdown",
   "metadata": {},
   "source": [
    "Imagine you ask your user to type their age as a number, but by accident they type it as a word.\n",
    "\n",
    "Run below code twice, once enter the correct input, like 25, and then something that cannot be turned easilly into a number, like \"twenty five\" or \"banana\""
   ]
  },
  {
   "cell_type": "code",
   "execution_count": null,
   "metadata": {},
   "outputs": [],
   "source": [
    "# this will error for entries like \"five\" but work for \"5\"\n",
    "# run this cell a few times and try typing different things. What different errors can you produce?\n",
    "# try words, numbers, decimal values\n",
    "\n",
    "age = int( input(\"What's your age?\"))\n",
    "print(f\"If you are {age}, in 10 years time you will be {age + 10}\")"
   ]
  },
  {
   "cell_type": "markdown",
   "metadata": {},
   "source": [
    "In this type of scenario you might want to recover from a wrong input, and tell user how they can correct their mistake:"
   ]
  },
  {
   "cell_type": "code",
   "execution_count": null,
   "metadata": {},
   "outputs": [],
   "source": [
    "# this code will keep asking the user for their age, until user enters a number\n",
    "# int(age) has capacity for causeing an error, that's why we'll wrap it in a 'trial' block\n",
    "# the benefit of 'try:' is that if anything wrong happens, it will not crash, but pass the error to 'except:'\n",
    "\n",
    "while True: \n",
    "    age = input(\"What's your age?\")\n",
    "    try:\n",
    "        as_a_number = int(age)\n",
    "        # this might error for entries like \"five\" but work for \"5\"\n",
    "        # if there was no error, code jups to the 'except:' below\n",
    "        \n",
    "        print(f\"If you are {age}, in 10 years time you will be {as_a_number + 10}\")\n",
    "        break \n",
    "        # stop this while loop\n",
    "    except Exception as ex:\n",
    "        # you will end up here if int(age) produced an error, becauee age coudn't be turned into a number\n",
    "        print(f\"This went wrong: {ex}\")\n",
    "        print(f\"You entered '{age}'. Please enter yoru age as a number, eg. 7 or 89\")\n",
    "        \n",
    "# run this code a number of times. How many different errora can you cause?\n",
    "# hint: if you're notebook gets stuck, use Kerner > Resytart from the top menu"
   ]
  },
  {
   "cell_type": "markdown",
   "metadata": {},
   "source": [
    "The syntax of **SIMPLE TRY BLOCK** is as follows\n",
    "\n",
    "```\n",
    "try:\n",
    "    some code that can cause an error\n",
    "except:\n",
    "    what should happen if there was an error (if you do not want details of an error)\n",
    "```\n",
    "\n",
    "The full version of **TRY BLOCK** has two extra elements:\n",
    "\n",
    "```\n",
    "try:\n",
    "    some code that can cause an error\n",
    "except error_type as error_variable:\n",
    "    what should happen if there was an error, and you DO want details of an error (good practice)\n",
    "except:\n",
    "    a simplified version of above if you do not care about error type or variable\n",
    "else:\n",
    "    what happens after the try block if there was NO ERROR\n",
    "finally:\n",
    "    what happens at the very end whether error happened or not\n",
    "```"
   ]
  },
  {
   "cell_type": "markdown",
   "metadata": {},
   "source": [
    "### Try-Except Blocks:  Try --> Except --> Else --> Finally"
   ]
  },
  {
   "cell_type": "code",
   "execution_count": null,
   "metadata": {},
   "outputs": [],
   "source": [
    "# let's re-build the above code (for simplicity without the while loop)\n",
    "\n",
    "age = input(\"What's your age?\")\n",
    "try:\n",
    "    as_a_number = int(age) # this might error for entries like \"five\" but work for \"5\"\n",
    "    # if there was no error, code proceeds to a print and break the while loop\n",
    "except Exception as ex:\n",
    "    # you will end up here if int(age) produced an error, becauee age coudn't be turned into a number \n",
    "    print(f\"This went wrong: {ex}\")\n",
    "    print(f\"You entered '{age}'. Please enter yoru age as a number, eg. 7 or 89\")\n",
    "else:\n",
    "    print(f\"If you are {age}, in 10 years time you will be {as_a_number + 10}\")\n",
    "finally:\n",
    "    print(\"See you next time!\")\n",
    "    \n",
    "    \n"
   ]
  },
  {
   "cell_type": "markdown",
   "metadata": {},
   "source": [
    "You might think: **THIS IS AMAZING! I WILL JUST WRAP EVERYTHING IN TRY-EXCEPT BLOCKS AND NEVER HAVE ERRORS AGAIN!**\n",
    "\n",
    "That's not a great idea, for a number of reasons: \n",
    "\n",
    "- **as soon as there is an error, the Try blocks stops running and moves to the Except block**. A bit like if you reached a Return or a Break. This means that if your try block is large, you might end up not running some important code. So as a rule of thumb, only keep code that is \"unsafe\" and can cause errors in the Try-Except block, and everything else outside (like in the above example - the ```input(\"What's your age?\")``` will not cause an error, so it is outside)\n",
    "- **Try block will tell you that something is wrong, but you need to ask specifically about the details**. For example if you are reading numbers from a file, you might want to know if there was an error because: the file is not there, or you have no privillages to open the file, or the file is empty, or the numbers are in incorrect format. for that reason you can use a more specific syntax of an except, below:"
   ]
  },
  {
   "cell_type": "markdown",
   "metadata": {},
   "source": [
    "### Technical details\n",
    "\n",
    "Simple and full ```except``` syntaxt:\n",
    "\n",
    "- ```except:``` # will catch every error\n",
    "\n",
    "- ```except error_type:``` # will catch only errors of some_error_type type, these could be for example\n",
    "\n",
    "```\n",
    "except ValueError:\n",
    "except ZeroDivisionError:\n",
    "except FileNotFoundError:\n",
    "```\n",
    "\n",
    "- ```except error_type as my_error:``` # will catch only ValueError and put it in the my_error variable (so that you eg. can print it)\n",
    "\n",
    "```\n",
    "except error_type as my_error:\n",
    "    print(my_error)\n",
    "```\n",
    "\n",
    "\n",
    "Additionally, you can also catch many errors at the same Except, which will start this Except block for any of these two types of errors:\n",
    "\n",
    "```except (FileNotFoundError, IOError) as my_error:```  "
   ]
  },
  {
   "cell_type": "markdown",
   "metadata": {},
   "source": [
    "You can try to catch a number of different errors to better recover from incorrect data. But you need to use Excepts wisely and in a good order. \n",
    "\n",
    "**ONCE ONE EXCEPTION IS CAUGHT, OTHERS WILL NOT BE CAUGHT** just like with **if-elif-else** statements where once one condition is true, others are never looked at.\n",
    "\n",
    "That's why when you catch many different errors, catch the most detailed/specific ones first. And only once you cannot exlude specific exact causes, catch the generic ```Exception``` error. See below"
   ]
  },
  {
   "cell_type": "code",
   "execution_count": null,
   "metadata": {},
   "outputs": [],
   "source": [
    "# try to make this work, and then try to break it.\n",
    "\n",
    "print(\"Welcome to the divider calculator. Give me two numbers and I will divide them for you:\")\n",
    "typed_number_1 = input(\"First number: \")\n",
    "typed_number_2 = input(\"Second number: \")\n",
    "try:\n",
    "    number_1 = int(typed_number_1)\n",
    "    number_2 = int(typed_number_2)\n",
    "    result = number_1 / number_2\n",
    "except ValueError as e:\n",
    "    print(f\"Did you type numbers? Something went wrong with these values:{typed_number_1} {typed_number_2}\")\n",
    "    print(f\"More details: {e}\")\n",
    "except ZeroDivisionError as e:\n",
    "    print(f\"You cannot divide by zero, more details:{e}\")\n",
    "    print(f\"You tried to divide {typed_number_1} by {typed_number_2}\")\n",
    "except Exception as e: # generic Exception. like 'something went wrong, not sure what'\n",
    "    print(\"Something else went wrong, more details:\", e)\n",
    "    print(f\"You tried to divide {typed_number_1} by {typed_number_2}\")\n",
    "else:\n",
    "    print(f\"Result of {number_1}/{number_2} is {result}\")\n",
    "finally:\n",
    "    print(\"See you next time!\")"
   ]
  },
  {
   "cell_type": "markdown",
   "metadata": {},
   "source": [
    "### Catching Exceptions with Try-Except while reading data from a file"
   ]
  },
  {
   "cell_type": "markdown",
   "metadata": {},
   "source": [
    "Here's another very common use for Try-Except blocks: reading data from a file.\n",
    "\n",
    "All sorts of things can go wrong when we read from a file: file might not exist, might have no data, or data might be wrong. Wise choice of Errors to Exept and their order will allow you to gracefully recover from bad data.\n",
    "\n",
    "Below we open a file, load a line from it and turn it into a number. A number of things can go wrong: "
   ]
  },
  {
   "cell_type": "code",
   "execution_count": null,
   "metadata": {},
   "outputs": [],
   "source": [
    "import sys\n",
    "\n",
    "try:\n",
    "    file = open('file.csv', 'r') # this could throw FileNotFoundError\n",
    "    line = file.readline() # this could throw OSError\n",
    "    integer = int(line.strip()) # this could throw ValueError\n",
    "    print(\"the number in your file:\", integer)\n",
    "except FileNotFoundError as err:\n",
    "    print(err)\n",
    "    print(\"FileNotFoundError error: {0}\".format(err)) # error is an object, and can be printed as a string\n",
    "except OSError as err:\n",
    "    print(err)\n",
    "    print(\"OS error: {0}\".format(err))\n",
    "    file.close()\n",
    "except ValueError: # you do not need to get hold of the errors\n",
    "    print(\"Could not convert data to an integer.\")\n",
    "    file.close()\n",
    "except Exception as err: # if no error is specified, it catches all errors\n",
    "    print(f\"Unexpected error:{err}\")\n",
    "    file.close()\n",
    "    raise\n",
    "else: # optional\n",
    "    print(\"Yay! No Exceptions!\")\n",
    "    file.close()\n",
    "finally: # optional\n",
    "    print(\"This happens whether it worked or not\")\n",
    "     # clean up after yourself, close the files that you opened\n",
    "\n",
    "# this code is not super dry (because of all the file.close() but it's just here as an example."
   ]
  },
  {
   "cell_type": "markdown",
   "metadata": {},
   "source": [
    "### Follow these steps to cause all of the above errors:\n",
    "\n",
    "When you run the file the first time\n",
    "\n",
    "You'll get  ```open('file.csv', 'r')``` throwing ```#FileNotFoundError error: [Errno 2] No such file or directory: 'file.csv'``` because the file did not exist.\n",
    "\n",
    "-\n",
    "\n",
    "If you open your Notable list of files and create such file (for not leave it empty)...\n",
    "\n",
    "You'll get ```f.readline()``` throwing ```OS error: not readable``` because the file is there, but it has no lines of code to read.\n",
    "\n",
    "-\n",
    "\n",
    "If you open the file in your Notable list of files and put a word \"Banana\" in it, \n",
    "\n",
    "you will get ```int(s.strip())``` throwing ```Could not convert data to an integer.``` because \"Banana\" cannot be turned into an integet. \n",
    "\n",
    "-\n",
    "\n",
    "Finally when you replace the word Banana in the file with a number, like 1234, there will be no error"
   ]
  },
  {
   "cell_type": "markdown",
   "metadata": {},
   "source": [
    "### Try-Except blocks in functions"
   ]
  },
  {
   "cell_type": "markdown",
   "metadata": {},
   "source": [
    "You can use Try-Except blocks in functions eg. to provide default values. Notice that you have to be very specific about what you are doing when you 'hide' incorrect data by recovering from errors - you need to be aware of business logic."
   ]
  },
  {
   "cell_type": "code",
   "execution_count": null,
   "metadata": {},
   "outputs": [],
   "source": [
    "def string_as_number_or_zero(string_to_parse):\n",
    "    try:\n",
    "        result = int(string_to_parse)\n",
    "        return result\n",
    "    except:\n",
    "        return 0\n",
    "\n",
    "print(string_as_number_or_zero(\"123456\"))\n",
    "print(string_as_number_or_zero(\"Banana\"))"
   ]
  },
  {
   "cell_type": "code",
   "execution_count": null,
   "metadata": {},
   "outputs": [],
   "source": [
    "# what should function return when failing? 0? None? \n",
    "def divide_two_numbers(number1, number2):\n",
    "    try:\n",
    "        result = number1 / number2\n",
    "        return result\n",
    "    except ZeroDivisionError as ex:\n",
    "        print(f\"You can't divide bu zero: {ex}\")\n",
    "        return None\n",
    "\n",
    "print(divide_two_numbers(23,3))\n",
    "print(divide_two_numbers(23,0))"
   ]
  },
  {
   "cell_type": "markdown",
   "metadata": {},
   "source": [
    "### In short: When to use Try-Except blocks?"
   ]
  },
  {
   "cell_type": "markdown",
   "metadata": {},
   "source": [
    "Use Try-Except blocks when you are dealing with unknown data and try to be specific about what can go wrong."
   ]
  },
  {
   "cell_type": "markdown",
   "metadata": {},
   "source": [
    "### Advanced and optional: You can raise your own errors, if you'd like:"
   ]
  },
  {
   "cell_type": "code",
   "execution_count": null,
   "metadata": {},
   "outputs": [],
   "source": [
    "# one way to do it is to translate the countless Python errors into one common message that you like:\n",
    "import math\n",
    "\n",
    "def divide_two_numbers(number1, number2):\n",
    "    try:\n",
    "        return int(number1) / int(number2)\n",
    "    except ValueError as e:\n",
    "        raise Exception(\"These are not numbers\")\n",
    "    except ZeroDivisionError as ex:\n",
    "        raise Exception(\"In this calculator you cannot divide by zero\")\n",
    "\n",
    "def square_root(number_string):\n",
    "    try:\n",
    "        number = int(number_string)\n",
    "        if number < 0: \n",
    "            # you can also check for a dangerour condition by hand, and raise an error yourself:\n",
    "            raise Exception(\"You cannot create square roots of negative numbers\")\n",
    "        return math.sqrt(number)\n",
    "    except ValueError as e:\n",
    "        raise Exception(\"This is not a number\")\n",
    "                        \n",
    "# this is sometimes called a handler function, or controller: \n",
    "# a function that decides what other functions to call and what do do with their results\n",
    "                        \n",
    "def perform_operation(number1, number2, operation):\n",
    "    if operation == \"/\":\n",
    "        try:\n",
    "            print(divide_two_numbers(number1, number2))  \n",
    "        except Exception as ex:\n",
    "            print(f\"Dividing failed. {ex}\")                       \n",
    "    elif operation == \"sq\":\n",
    "        try:\n",
    "            print(square_root(number1))  \n",
    "        except Exception as ex:\n",
    "            print(f\"Square Root failed. {ex}\")\n",
    "    else:\n",
    "        print(\"Unknown operation\")\n",
    "            \n",
    "num1 = input(\"first number: \")\n",
    "num2 = input(\"second number: \")\n",
    "operation = input(\"operation: \")\n",
    "\n",
    "perform_operation(num1, num2, operation)"
   ]
  },
  {
   "cell_type": "markdown",
   "metadata": {},
   "source": [
    "## ⭐️⭐️⭐️💥 What you learned in this session: Three stars and a wish \n",
    "**In yoru own words** write in your Learn diary:\n",
    "\n",
    "- 3 things you yould like to remember from this badge\n",
    "- 1 thing you wish to understand better in the future or a question you'd like to ask\n"
   ]
  },
  {
   "cell_type": "markdown",
   "metadata": {},
   "source": [
    "# ⛏ Advanced Minitask 1: Write a simple Calculator 🧮 app, which will be able to perform some operations. How robust can you make it?\n",
    "\n",
    "Feel free to write it as one big function, or a s aseries of functions, or even as an object. Use the above example with `perform_operation` to get you started.\n",
    "\n",
    "Your calculator should ask user for 3 things: number1, number2 and operation. Operation could be + - * / and any other ones you'd like to implement.\n",
    "\n",
    "Start with the simplest functions, then move to the more advanced ones. Feel free to add more, like square root, or whole division. What errors are you expecting? At what point can they happen?\n",
    "\n"
   ]
  },
  {
   "cell_type": "code",
   "execution_count": null,
   "metadata": {},
   "outputs": [],
   "source": []
  },
  {
   "cell_type": "code",
   "execution_count": null,
   "metadata": {},
   "outputs": [],
   "source": []
  },
  {
   "cell_type": "code",
   "execution_count": null,
   "metadata": {},
   "outputs": [],
   "source": []
  },
  {
   "cell_type": "code",
   "execution_count": null,
   "metadata": {},
   "outputs": [],
   "source": []
  },
  {
   "cell_type": "code",
   "execution_count": null,
   "metadata": {},
   "outputs": [],
   "source": []
  },
  {
   "cell_type": "code",
   "execution_count": null,
   "metadata": {},
   "outputs": [],
   "source": []
  },
  {
   "cell_type": "code",
   "execution_count": null,
   "metadata": {},
   "outputs": [],
   "source": []
  },
  {
   "cell_type": "code",
   "execution_count": null,
   "metadata": {},
   "outputs": [],
   "source": []
  },
  {
   "cell_type": "code",
   "execution_count": null,
   "metadata": {},
   "outputs": [],
   "source": []
  },
  {
   "cell_type": "code",
   "execution_count": null,
   "metadata": {},
   "outputs": [],
   "source": []
  }
 ],
 "metadata": {
  "kernelspec": {
   "display_name": "Python 3",
   "language": "python",
   "name": "python3"
  },
  "language_info": {
   "codemirror_mode": {
    "name": "ipython",
    "version": 3
   },
   "file_extension": ".py",
   "mimetype": "text/x-python",
   "name": "python",
   "nbconvert_exporter": "python",
   "pygments_lexer": "ipython3",
   "version": "3.7.6"
  }
 },
 "nbformat": 4,
 "nbformat_minor": 2
}
