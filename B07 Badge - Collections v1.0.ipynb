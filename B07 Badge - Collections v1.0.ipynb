{
 "cells": [
  {
   "cell_type": "markdown",
   "metadata": {},
   "source": [
    "# B07 Badge - Collections, and Collections of Collections"
   ]
  },
  {
   "cell_type": "markdown",
   "metadata": {},
   "source": [
    "note: This is a **JUPYTER NOTEBOOK**. It's a type of website where you can edit and run computer programms (code). You interact with it in your web browser and you can find it via your Learn.\n",
    "\n",
    "1. These blocks here are cells\n",
    "2. There are **TEXT CELLS** like this one with explanations of concepts\n",
    "3. and **CODE CELLS** with Python code (see below). Code cells have a ```In []``` written to the left\n",
    "4. You can **RUN CODE CELLS** by clicking on them and pressing **Shirt + Enter**. When you run a cell code in it is run (it \"happens\", computer will do what you asked for it to do). Results of what your code does will appear underneath the cell.\n",
    "5. As we go through these lessons, please READ text cells, and RUN code cells\n",
    "6. Good luck!"
   ]
  },
  {
   "cell_type": "markdown",
   "metadata": {},
   "source": [
    "## Learning objectives: By the end of this lesson you will understand what every piece of the below code does:"
   ]
  },
  {
   "cell_type": "code",
   "execution_count": 1,
   "metadata": {},
   "outputs": [
    {
     "name": "stdout",
     "output_type": "stream",
     "text": [
      "Mercury\n",
      "Saturn\n",
      "['Earth', 'Jupyter', 'Mars', 'Mercury', 'Saturn', 'Uranus', 'Venus']\n",
      "['Earth', 'Jupyter', 'Mars', 'Saturn', 'Uranus', 'Venus']\n"
     ]
    }
   ],
   "source": [
    "# LIST\n",
    "planets = [\"Mercury\", \"Venus\", \"Earth\", \"Mars\", \"Jupyter\", \"Saturn\", \"Uranus\"]\n",
    "print( planets[0])\n",
    "print( planets[-2])\n",
    "planets.sort()\n",
    "print( planets)\n",
    "planets.pop(3)\n",
    "print( planets)"
   ]
  },
  {
   "cell_type": "code",
   "execution_count": 1,
   "metadata": {},
   "outputs": [
    {
     "name": "stdout",
     "output_type": "stream",
     "text": [
      "Latte\n",
      "takeaway cup\n",
      "dict_keys(['type', 'size', 'sugars', 'milk', 'table_number'])\n"
     ]
    }
   ],
   "source": [
    "# DICTIONARY\n",
    "coffee_order = {\"type\":\"Latte\", \"size\":\"Large\",\"sugars\": 2,\"milk\": \"Oat\", \"table_number\": 8}\n",
    "print(coffee_order[\"type\"])\n",
    "print(coffee_order.get(\"cup\", \"takeaway cup\"))\n",
    "print(coffee_order.keys())"
   ]
  },
  {
   "cell_type": "code",
   "execution_count": 45,
   "metadata": {},
   "outputs": [
    {
     "name": "stdout",
     "output_type": "stream",
     "text": [
      "[{'milk': 'Cow', 'type': 'Latte'},\n",
      " {'milk': 'None', 'type': 'Lungo'},\n",
      " {'milk': 'Oat', 'sugar': 2, 'type': 'Latte'}]\n",
      "Oat\n"
     ]
    }
   ],
   "source": [
    "# COLLECTIONS OF COLLECTIONS\n",
    "import pprint as pp\n",
    "\n",
    "coffee_orders = [{'type': 'Latte', 'milk': 'Cow'}, \n",
    "                 {'type': 'Lungo', 'milk': 'None'}, \n",
    "                 {'type': 'Latte', 'milk': 'Oat', 'sugar': 2}]\n",
    "\n",
    "pp.pprint(coffee_orders)\n",
    "\n",
    "print(coffee_orders[-1]['milk'])"
   ]
  },
  {
   "cell_type": "markdown",
   "metadata": {},
   "source": [
    "## > End of learning objectives"
   ]
  },
  {
   "cell_type": "markdown",
   "metadata": {},
   "source": [
    "## Documentation - how Jupyter notebook can help you to write code"
   ]
  },
  {
   "cell_type": "markdown",
   "metadata": {},
   "source": [
    "There are some useful features and shortcuts in jupyter notebooks. All of them will make your coding faster and help you to make less typos.\n",
    "\n",
    "- **CODE AUTO-COMPLETION [TAB]** white writing a name of a variable or function, press Tab. The variable will finish typing itself."
   ]
  },
  {
   "cell_type": "code",
   "execution_count": null,
   "metadata": {},
   "outputs": [],
   "source": [
    "very_long_name_of_a_variable = \"Banana\"\n",
    "ver # step to the right of the work \"ver\" as if you were about to type the rest of the variable name and press Tab. \n",
    "# Jupyter should auto-complete the long name (type it for you)"
   ]
  },
  {
   "cell_type": "markdown",
   "metadata": {},
   "source": [
    "- **LIST AVAILABLE METHODS/FUNCTIONS [TAB]** - when you want to see all the potential options / things you could write"
   ]
  },
  {
   "cell_type": "code",
   "execution_count": null,
   "metadata": {},
   "outputs": [],
   "source": [
    "\"Ms. Marissa\". #place your coursor to the right of the . and press Tab - it should show you all the available options"
   ]
  },
  {
   "cell_type": "markdown",
   "metadata": {},
   "source": [
    "## Storing many related items"
   ]
  },
  {
   "cell_type": "markdown",
   "metadata": {},
   "source": [
    "## LIST - Collection of simmilar, ordered values, refered to by their index: 0,1,2,3,..."
   ]
  },
  {
   "cell_type": "code",
   "execution_count": null,
   "metadata": {},
   "outputs": [],
   "source": [
    "# there are many ways to store a number of connected variables\n",
    "\n",
    "planet0 = \"Mercury\"\n",
    "planet1 = \"Venus\"\n",
    "planet2 = \"Earth\"\n",
    "planet3 = \"Mars\"\n",
    "planet4 = \"Jupyter\"\n",
    "planet5 = \"Saturn\"\n",
    "planet6 = \"Uranus\"\n",
    "\n",
    "# but just using a lot of simmilarly named variables stops making sense very quickly\n",
    "# imagine there were 300 planets to remember. \n",
    "# ...Or that you had to quickly say how many planets you have\n",
    "# ...Or that you want to remove first planet, but keep the others! You'd have to rename all variables!"
   ]
  },
  {
   "cell_type": "markdown",
   "metadata": {},
   "source": [
    "**LIST (aka Array) - Can change, keys are numbers from 0, Most popular, Comes with lots of functions/methods**\n",
    "\n",
    "You can store all of the variables from above example in one 'Collection' of variables.\n",
    "\n",
    "- use list to keep a list of items that are simmilar\n",
    "- you will be able to access them (e.g. to find or change them) with their 'index' - which in the row they are\n",
    "- often used when order is meaningful\n",
    "\n",
    "You can think of a python List as a: shelf with books; a queue of people waiting for a bus; list of student names."
   ]
  },
  {
   "cell_type": "code",
   "execution_count": 18,
   "metadata": {},
   "outputs": [
    {
     "name": "stdout",
     "output_type": "stream",
     "text": [
      "Mercury\n"
     ]
    }
   ],
   "source": [
    "# to create a list variable, just surround your values is square brackets, and assign it to a variable\n",
    "\n",
    "planets = [\"Mercury\", \"Venus\", \"Earth\", \"Mars\", \"Jupyter\", \"Saturn\", \"Uranus\"]\n",
    "\n",
    "print(planets[0])"
   ]
  },
  {
   "cell_type": "markdown",
   "metadata": {},
   "source": [
    "Below you will learn how to put things into a List, take things out of a list, change it, etc.\n",
    "\n",
    "**IMPORTANT: We count starting from 0**: in Python (and most other programming languages) we do not count like humans, starting from 1, like 1,2,3,... but rather we count starting from 0. So 0,1,2,3,... . This means that the first item in a list is accessed by ```list_name[0]```"
   ]
  },
  {
   "cell_type": "code",
   "execution_count": 61,
   "metadata": {},
   "outputs": [
    {
     "name": "stdout",
     "output_type": "stream",
     "text": [
      "Mercury\n",
      "Earth\n",
      "Saturn\n"
     ]
    }
   ],
   "source": [
    "# access items in a list:\n",
    "print(planets[0]) # The first planet is...\n",
    "print(planets[2]) # the third item\n",
    "print(planets[-2]) # Second planet from the end is..."
   ]
  },
  {
   "cell_type": "code",
   "execution_count": 20,
   "metadata": {},
   "outputs": [
    {
     "ename": "IndexError",
     "evalue": "list index out of range",
     "output_type": "error",
     "traceback": [
      "\u001b[0;31m---------------------------------------------------------------------------\u001b[0m",
      "\u001b[0;31mIndexError\u001b[0m                                Traceback (most recent call last)",
      "\u001b[0;32m<ipython-input-20-4b0a2394c2e3>\u001b[0m in \u001b[0;36m<module>\u001b[0;34m\u001b[0m\n\u001b[0;32m----> 1\u001b[0;31m \u001b[0mprint\u001b[0m\u001b[0;34m(\u001b[0m\u001b[0mplanets\u001b[0m\u001b[0;34m[\u001b[0m\u001b[0;36m20\u001b[0m\u001b[0;34m]\u001b[0m\u001b[0;34m)\u001b[0m \u001b[0;31m# watch out: you cannot request an index that does not exist\u001b[0m\u001b[0;34m\u001b[0m\u001b[0;34m\u001b[0m\u001b[0m\n\u001b[0m",
      "\u001b[0;31mIndexError\u001b[0m: list index out of range"
     ]
    }
   ],
   "source": [
    "print(planets[20]) # watch out: you cannot request an index that does not exist"
   ]
  },
  {
   "cell_type": "markdown",
   "metadata": {},
   "source": [
    "#### get number of all items in a list (it's length)"
   ]
  },
  {
   "cell_type": "code",
   "execution_count": null,
   "metadata": {},
   "outputs": [],
   "source": [
    "print(len(planets)) # len() is a build-in python function, like print()"
   ]
  },
  {
   "cell_type": "markdown",
   "metadata": {},
   "source": [
    "#### get number of times one item appears in the list:"
   ]
  },
  {
   "cell_type": "code",
   "execution_count": null,
   "metadata": {},
   "outputs": [],
   "source": [
    "print(planets.count(\"Earth\")) # How many Earths are there?"
   ]
  },
  {
   "cell_type": "code",
   "execution_count": 6,
   "metadata": {},
   "outputs": [
    {
     "data": {
      "text/plain": [
       "0"
      ]
     },
     "execution_count": 6,
     "metadata": {},
     "output_type": "execute_result"
    }
   ],
   "source": [
    "# this will not error when there are no such items. it will just say there are no Kryptons in solar system\n",
    "planets.count(\"Krypton\") "
   ]
  },
  {
   "cell_type": "markdown",
   "metadata": {},
   "source": [
    "#### find an index of a particular item already in the list\n",
    "\n",
    "- If there are many identical items, it will return the first index of where it's found\n",
    "- but if such item does not exist, it will throw and Error"
   ]
  },
  {
   "cell_type": "code",
   "execution_count": 64,
   "metadata": {},
   "outputs": [
    {
     "name": "stdout",
     "output_type": "stream",
     "text": [
      "3\n"
     ]
    }
   ],
   "source": [
    "print(planets.index(\"Mars\")) "
   ]
  },
  {
   "cell_type": "code",
   "execution_count": 65,
   "metadata": {},
   "outputs": [
    {
     "ename": "ValueError",
     "evalue": "'Krypton' is not in list",
     "output_type": "error",
     "traceback": [
      "\u001b[0;31m---------------------------------------------------------------------------\u001b[0m",
      "\u001b[0;31mValueError\u001b[0m                                Traceback (most recent call last)",
      "\u001b[0;32m<ipython-input-65-0a5003884f68>\u001b[0m in \u001b[0;36m<module>\u001b[0;34m\u001b[0m\n\u001b[0;32m----> 1\u001b[0;31m \u001b[0mplanets\u001b[0m\u001b[0;34m.\u001b[0m\u001b[0mindex\u001b[0m\u001b[0;34m(\u001b[0m\u001b[0;34m\"Krypton\"\u001b[0m\u001b[0;34m)\u001b[0m\u001b[0;34m\u001b[0m\u001b[0;34m\u001b[0m\u001b[0m\n\u001b[0m",
      "\u001b[0;31mValueError\u001b[0m: 'Krypton' is not in list"
     ]
    }
   ],
   "source": [
    "\n",
    "planets.index(\"Krypton\") "
   ]
  },
  {
   "cell_type": "markdown",
   "metadata": {},
   "source": [
    "### Remove items"
   ]
  },
  {
   "cell_type": "markdown",
   "metadata": {},
   "source": [
    "#### Remove last item, or item at index:"
   ]
  },
  {
   "cell_type": "code",
   "execution_count": 11,
   "metadata": {},
   "outputs": [
    {
     "name": "stdout",
     "output_type": "stream",
     "text": [
      "['Mercury', 'Venus', 'Earth', 'Mars', 'Jupyter', 'Saturn', 'Uranus']\n",
      "Earth\n",
      "['Mercury', 'Venus', 'Mars', 'Jupyter', 'Saturn', 'Uranus']\n"
     ]
    }
   ],
   "source": [
    "planets = [\"Mercury\", \"Venus\", \"Earth\", \"Mars\", \"Jupyter\", \"Saturn\", \"Uranus\"]\n",
    "print(planets)\n",
    "\n",
    "removed_third_planet = planets.pop(2) # remove item at this index AND RETURN IT\n",
    "print(removed_third_planet)\n",
    "print(planets)"
   ]
  },
  {
   "cell_type": "code",
   "execution_count": 9,
   "metadata": {},
   "outputs": [
    {
     "name": "stdout",
     "output_type": "stream",
     "text": [
      "['Mercury', 'Venus', 'Earth', 'Mars', 'Jupyter', 'Saturn', 'Uranus']\n",
      "Uranus\n",
      "['Mercury', 'Venus', 'Earth', 'Mars', 'Jupyter', 'Saturn']\n"
     ]
    }
   ],
   "source": [
    "planets = [\"Mercury\", \"Venus\", \"Earth\", \"Mars\", \"Jupyter\", \"Saturn\", \"Uranus\"]\n",
    "print(planets)\n",
    "\n",
    "last_planet = planets.pop() # if no index is specified in pop(), the LAST element is removed AND RETURNED\n",
    "print(last_planet)\n",
    "print(planets)"
   ]
  },
  {
   "cell_type": "code",
   "execution_count": 10,
   "metadata": {},
   "outputs": [
    {
     "name": "stdout",
     "output_type": "stream",
     "text": [
      "['Mercury', 'Venus', 'Earth', 'Mars', 'Jupyter', 'Saturn', 'Uranus']\n",
      "['Mercury', 'Venus', 'Mars', 'Jupyter', 'Saturn', 'Uranus']\n"
     ]
    }
   ],
   "source": [
    "# another way to delete an item at index\n",
    "planets = [\"Mercury\", \"Venus\", \"Earth\", \"Mars\", \"Jupyter\", \"Saturn\", \"Uranus\"]\n",
    "print(planets)\n",
    "\n",
    "del planets[2]\n",
    "print(planets)"
   ]
  },
  {
   "cell_type": "markdown",
   "metadata": {},
   "source": [
    "#### Remove litem by its value:"
   ]
  },
  {
   "cell_type": "code",
   "execution_count": null,
   "metadata": {},
   "outputs": [],
   "source": [
    "planets = [\"Mercury\", \"Venus\", \"Earth\", \"Mars\", \"Jupyter\", \"Saturn\",\"Uranus\"]\n",
    "print(planets)\n",
    "\n",
    "planets.remove(\"Venus\") # remove one by value (if many of the same value are present, remove the first instance)\n",
    "# planets.remove(\"Krypton\") # this will error\n",
    "print(planets)"
   ]
  },
  {
   "cell_type": "markdown",
   "metadata": {},
   "source": [
    "#### Remove all:"
   ]
  },
  {
   "cell_type": "code",
   "execution_count": 13,
   "metadata": {},
   "outputs": [
    {
     "name": "stdout",
     "output_type": "stream",
     "text": [
      "['Mercury', 'Venus', 'Earth', 'Mars', 'Jupyter', 'Saturn', 'Uranus']\n",
      "['Mercury', 'Earth', 'Mars', 'Jupyter', 'Saturn', 'Uranus']\n",
      "[]\n"
     ]
    }
   ],
   "source": [
    "planets.clear() # delete all\n",
    "print(planets)"
   ]
  },
  {
   "cell_type": "markdown",
   "metadata": {},
   "source": [
    "### Add items"
   ]
  },
  {
   "cell_type": "markdown",
   "metadata": {},
   "source": [
    "#### Add one item at the end, or at index:"
   ]
  },
  {
   "cell_type": "code",
   "execution_count": 13,
   "metadata": {},
   "outputs": [
    {
     "name": "stdout",
     "output_type": "stream",
     "text": [
      "['Mercury', 'Venus', 'Earth', 'Mars', 'Jupyter']\n",
      "['Mercury', 'Venus', 'Earth', 'Mars', 'Jupyter', 'Pluto']\n"
     ]
    }
   ],
   "source": [
    "# add one at the end\n",
    "planets = [\"Mercury\", \"Venus\", \"Earth\", \"Mars\", \"Jupyter\"]\n",
    "print(planets)\n",
    "\n",
    "planets.append(\"Pluto\") \n",
    "print(planets)"
   ]
  },
  {
   "cell_type": "code",
   "execution_count": 12,
   "metadata": {},
   "outputs": [
    {
     "name": "stdout",
     "output_type": "stream",
     "text": [
      "['Mercury', 'Venus', 'Earth', 'Mars', 'Jupyter']\n",
      "['Mercury', 'Venus', 'Krypton', 'Earth', 'Mars', 'Jupyter']\n"
     ]
    }
   ],
   "source": [
    "# add one at a specific place and push everything else up\n",
    "planets = [\"Mercury\", \"Venus\", \"Earth\", \"Mars\", \"Jupyter\"]\n",
    "print(planets)\n",
    "planets.insert(2, \"Krypton\") \n",
    "print(planets)"
   ]
  },
  {
   "cell_type": "markdown",
   "metadata": {},
   "source": [
    "#### Add many items"
   ]
  },
  {
   "cell_type": "code",
   "execution_count": 14,
   "metadata": {},
   "outputs": [
    {
     "name": "stdout",
     "output_type": "stream",
     "text": [
      "['Mercury', 'Venus', 'Earth']\n",
      "['Mercury', 'Venus', 'Earth', 'Jupyter', 'Saturn']\n"
     ]
    }
   ],
   "source": [
    "# add another list of items\n",
    "planets = [\"Mercury\", \"Venus\",\"Earth\"]\n",
    "print(planets)\n",
    "planets.extend([\"Jupyter\", \"Saturn\"]) \n",
    "print(planets)"
   ]
  },
  {
   "cell_type": "code",
   "execution_count": 15,
   "metadata": {},
   "outputs": [
    {
     "name": "stdout",
     "output_type": "stream",
     "text": [
      "['Mercury', 'Venus', 'Earth', 'Mars', 'Jupyter']\n",
      "['Mercury', 'Venus', 'Earth', 'Mars', 'Jupyter', 'Uranus', 'Neptune']\n"
     ]
    }
   ],
   "source": [
    "# combine two lists (as if you were combining two numbers 2+2 )\n",
    "# add all of right list items at the end of left list, we're adding List + List\n",
    "planets = [\"Mercury\", \"Venus\", \"Earth\", \"Mars\", \"Jupyter\"]\n",
    "print(planets)\n",
    "planets = planets + [\"Uranus\", \"Neptune\"] \n",
    "print(planets)\n",
    "\n",
    "# planets = planets + \"Pluto\" # this would error. Can't add List + String"
   ]
  },
  {
   "cell_type": "code",
   "execution_count": 16,
   "metadata": {},
   "outputs": [
    {
     "name": "stdout",
     "output_type": "stream",
     "text": [
      "['Mercury', 'Venus', 'Earth', 'Mars', 'Jupyter', ['Saturn', 'Uranus']]\n"
     ]
    }
   ],
   "source": [
    "# note: appending a List to a List will do something weird:\n",
    "planets = [\"Mercury\", \"Venus\", \"Earth\", \"Mars\", \"Jupyter\"]\n",
    "print(planets)\n",
    "planets = [\"Mercury\", \"Venus\", \"Earth\", \"Mars\", \"Jupyter\"]\n",
    "planets.append([\"Saturn\",\"Uranus\"]) # add collection AS AN ITEM\n",
    "print(planets)"
   ]
  },
  {
   "cell_type": "markdown",
   "metadata": {},
   "source": [
    "So remember:\n",
    "\n",
    "- **append( )** - add anything to a list, it will become the last item\n",
    "- **extend( )** - add another list to a list. They will merge into one."
   ]
  },
  {
   "cell_type": "markdown",
   "metadata": {},
   "source": [
    "#### Check if item is in a list"
   ]
  },
  {
   "cell_type": "code",
   "execution_count": 16,
   "metadata": {},
   "outputs": [
    {
     "name": "stdout",
     "output_type": "stream",
     "text": [
      "True\n",
      "It's here!\n"
     ]
    }
   ],
   "source": [
    "planets = [\"Mercury\", \"Venus\", \"Earth\", \"Mars\", \"Jupyter\"]\n",
    "\n",
    "is_earth_in_planets = \"Earth\" in planets\n",
    "print(is_earth_in_planets)\n",
    "\n",
    "if \"Earth\" in planets:\n",
    "    print(\"It's here!\")\n",
    "else:\n",
    "    print(\"Nope\")"
   ]
  },
  {
   "cell_type": "markdown",
   "metadata": {},
   "source": [
    "### Changing a whole List"
   ]
  },
  {
   "cell_type": "markdown",
   "metadata": {},
   "source": [
    "#### Reverse order"
   ]
  },
  {
   "cell_type": "code",
   "execution_count": 18,
   "metadata": {},
   "outputs": [
    {
     "name": "stdout",
     "output_type": "stream",
     "text": [
      "['Mercury', 'Venus', 'Earth', 'Mars', 'Jupyter']\n",
      "['Jupyter', 'Mars', 'Earth', 'Venus', 'Mercury']\n"
     ]
    }
   ],
   "source": [
    "planets = [\"Mercury\", \"Venus\", \"Earth\", \"Mars\", \"Jupyter\"]\n",
    "print(planets)\n",
    "planets.reverse()\n",
    "print(planets)"
   ]
  },
  {
   "cell_type": "markdown",
   "metadata": {},
   "source": [
    "#### Sort"
   ]
  },
  {
   "cell_type": "code",
   "execution_count": 19,
   "metadata": {},
   "outputs": [
    {
     "name": "stdout",
     "output_type": "stream",
     "text": [
      "['Mercury', 'Venus', 'Earth', 'Mars', 'Jupyter']\n",
      "['Earth', 'Jupyter', 'Mars', 'Mercury', 'Venus']\n"
     ]
    }
   ],
   "source": [
    "planets = [\"Mercury\", \"Venus\", \"Earth\", \"Mars\", \"Jupyter\"]\n",
    "print(planets)\n",
    "\n",
    "planets.sort() # sort alphabetically\n",
    "print(planets)"
   ]
  },
  {
   "cell_type": "markdown",
   "metadata": {},
   "source": [
    "## TUPPLE - simpler, less powerful lists (once created, they can't be changed)\n",
    "\n",
    "We will not really talk about tuples, but you might see them at some point. \n",
    "\n",
    "- exactly like a list, but once created, cannot be changed\n",
    "- take less memory and a a bit faster, but this does not matter until you have gigabytes of data"
   ]
  },
  {
   "cell_type": "code",
   "execution_count": 48,
   "metadata": {},
   "outputs": [
    {
     "name": "stdout",
     "output_type": "stream",
     "text": [
      "('Monday', 'Tuesday', 'Wednesday', 'Thursday', 'Friday', 'Saturday', 'Sunday')\n",
      "Monday\n",
      "Thursday\n"
     ]
    }
   ],
   "source": [
    "# TUPLE - Like list, but Never changes, keys are numbers from 0\n",
    "\n",
    "weekdays = (\"Monday\", \"Tuesday\", \"Wednesday\", \"Thursday\", \"Friday\", \"Saturday\", \"Sunday\")\n",
    "print(weekdays)\n",
    "\n",
    "# can do all the same things as a List, apart of anything that would change its contents\n",
    "# we won't use them much\n",
    "\n",
    "print(weekdays[0])\n",
    "print(weekdays[3])"
   ]
  },
  {
   "cell_type": "markdown",
   "metadata": {},
   "source": [
    "## SET - like a list, but can only hold unique values, and order not signifficant"
   ]
  },
  {
   "cell_type": "code",
   "execution_count": 54,
   "metadata": {},
   "outputs": [
    {
     "name": "stdout",
     "output_type": "stream",
     "text": [
      "{'apple', 'cherry', 'banana'}\n",
      "{'kiwi', 'apple', 'plum', 'cherry', 'banana'}\n"
     ]
    }
   ],
   "source": [
    "# we won't use them much\n",
    "\n",
    "scattered_fruits = {\"apple\", \"banana\", \"cherry\"}\n",
    "print(scattered_fruits)\n",
    "\n",
    "scattered_fruits.add(\"kiwi\")\n",
    "scattered_fruits.add(\"plum\")\n",
    "scattered_fruits.add(\"apple\") # apple is discarded, because all values in a set need to be unique\n",
    "print(scattered_fruits)\n",
    "\n",
    "#notice that orded is weird"
   ]
  },
  {
   "cell_type": "markdown",
   "metadata": {},
   "source": [
    "You might find yourself using a set to remove duplicates from a list. It's a bit of a hack, but you can \n",
    "\n",
    "- have a list with some duplicates\n",
    "- turn that list into a set, which will remove duplicates\n",
    "- turn the set back into a list\n",
    "\n",
    "note that your orded can go funny in the process..."
   ]
  },
  {
   "cell_type": "code",
   "execution_count": null,
   "metadata": {},
   "outputs": [],
   "source": [
    "fruit_list = [\"apple\", \"banana\", \"banana\", \"cherry\", \"kiwi\", \"plum\",\"apple\", \"kiwi\"]\n",
    "print(fruit_list)\n",
    "\n",
    "fruit_set = set( fruit_list )\n",
    "print(fruit_set)\n",
    "\n",
    "fruit_list = list( fruit_set )\n",
    "print(fruit_list)\n",
    "\n",
    "#notice the order got all jumpbed"
   ]
  },
  {
   "cell_type": "markdown",
   "metadata": {},
   "source": [
    "**TOP TIP**: how would you find out how many unique values are in a list?\n",
    "\n",
    "- turn the list into a set (it will only keep unique values)\n",
    "- check the length of that set"
   ]
  },
  {
   "cell_type": "code",
   "execution_count": 60,
   "metadata": {},
   "outputs": [
    {
     "name": "stdout",
     "output_type": "stream",
     "text": [
      "unique values: 5\n"
     ]
    }
   ],
   "source": [
    "fruit_list = [\"apple\", \"banana\", \"banana\", \"cherry\", \"kiwi\", \"plum\",\"apple\", \"kiwi\"]\n",
    "print( \"unique values:\", len(set(fruit_list)) )"
   ]
  },
  {
   "cell_type": "markdown",
   "metadata": {},
   "source": [
    "## DICTIONARY - a collection of different values, each referenced by its name, called 'a key' "
   ]
  },
  {
   "cell_type": "markdown",
   "metadata": {},
   "source": [
    "or in more human terms:\n",
    "    \n",
    "## DICTIONARY - storying different information describing one thing"
   ]
  },
  {
   "cell_type": "markdown",
   "metadata": {},
   "source": [
    "### Storing information that describes one object"
   ]
  },
  {
   "cell_type": "code",
   "execution_count": null,
   "metadata": {},
   "outputs": [],
   "source": [
    "# Let's imagine that we want to store a group of data about one object.\n",
    "# They are all related, but do not describe an ordered list of exually important values (like List items did). \n",
    "coffee_type = \"Latte\"\n",
    "coffee_size = \"Large\"\n",
    "coffee_sugars = 2\n",
    "coffee_milk = \"Oat\"\n",
    "coffee_table_number = 8"
   ]
  },
  {
   "cell_type": "code",
   "execution_count": null,
   "metadata": {},
   "outputs": [],
   "source": [
    "# Theoretically we could store above information in a List, where we remember which index describes what...\n",
    "coffee = [\"Latte\", \"Large\", 2, \"Oat\",  8]"
   ]
  },
  {
   "cell_type": "markdown",
   "metadata": {},
   "source": [
    "Problem with the above list is that the index is the only way for us to know what piece of information means what.\n",
    "\n",
    "- We need to remember that index 0 means Type, index 1 means Size, index 2 means Sugars, etc\n",
    "- If we remove first piece of data, all other ones will become out of place\n",
    "- If we describe a few simmilar objects (eg. many coffees) their descriptions should all follow the same order\n",
    "\n",
    "A data structure described above would be very inflexible, error-prone and force us to decide everything about our data at the very beginning. That would be disastrous in a real-life scenario. \n",
    "\n",
    "What would really help is if we could somehow:\n",
    "\n",
    "- Label each piece of information with a name that describes hat it is (like \"type\" is \"Latte\", \"Size\" is \"Large\")\n",
    "- Have flexibility to add or remove some information without loosing  "
   ]
  },
  {
   "cell_type": "markdown",
   "metadata": {},
   "source": [
    "### Dictionary - key-value pairs: each piece of data (value) has a label (key) describing what it is"
   ]
  },
  {
   "cell_type": "code",
   "execution_count": 24,
   "metadata": {},
   "outputs": [
    {
     "name": "stdout",
     "output_type": "stream",
     "text": [
      "Oat\n"
     ]
    }
   ],
   "source": [
    "# DICTIONARY - Keys can be anything (order does not matter), but need to be unique.\n",
    "coffee_order = {\"type\":\"Latte\", \"size\":\"Large\", \"sugars\": 2, \"milk\": \"Oat\", \"table_number\": 8}\n",
    "\n",
    "print( coffee_order[\"milk\"] )"
   ]
  },
  {
   "cell_type": "markdown",
   "metadata": {},
   "source": [
    "#### Get values using the key"
   ]
  },
  {
   "cell_type": "code",
   "execution_count": null,
   "metadata": {},
   "outputs": [],
   "source": [
    "print( coffee_order[\"milk\"] )"
   ]
  },
  {
   "cell_type": "code",
   "execution_count": null,
   "metadata": {},
   "outputs": [],
   "source": [
    "# but this will Error, because there is no key \"with_caffeine\"\n",
    "print( coffee_order[\"with_caffeine\"] ) "
   ]
  },
  {
   "cell_type": "markdown",
   "metadata": {},
   "source": [
    "And that's why it is safer to use build in dictionary methods (we'll talk about them later)"
   ]
  },
  {
   "cell_type": "code",
   "execution_count": 27,
   "metadata": {},
   "outputs": [
    {
     "name": "stdout",
     "output_type": "stream",
     "text": [
      "Oat\n"
     ]
    }
   ],
   "source": [
    "print( coffee_order.get(\"milk\") ) # get value by key"
   ]
  },
  {
   "cell_type": "markdown",
   "metadata": {},
   "source": [
    "It is much safer than getting value by index, because if key is not there it will return None (instead of a scarry Error)\n",
    "\n",
    "**None** is another python data type, like string or bool, and has just one value... None :)"
   ]
  },
  {
   "cell_type": "code",
   "execution_count": 28,
   "metadata": {},
   "outputs": [
    {
     "name": "stdout",
     "output_type": "stream",
     "text": [
      "None\n"
     ]
    }
   ],
   "source": [
    "print( coffee_order.get(\"with_caffeine\") ) "
   ]
  },
  {
   "cell_type": "markdown",
   "metadata": {},
   "source": [
    "And you can even request what value should be returned if the key is missing (if None is not very meaningful).\n",
    "\n",
    "the format is ```some_list.get(some_key, value_if_missing)```"
   ]
  },
  {
   "cell_type": "code",
   "execution_count": 30,
   "metadata": {},
   "outputs": [
    {
     "name": "stdout",
     "output_type": "stream",
     "text": [
      "Default value when Key missing\n",
      "unknown\n"
     ]
    }
   ],
   "source": [
    "print( coffee_order.get(\"some key\", \"Default value when Key missing\") ) # you can put anything there\n",
    "\n",
    "print( coffee_order.get(\"with_caffeine\", \"unknown\") ) # you can put anything there"
   ]
  },
  {
   "cell_type": "markdown",
   "metadata": {},
   "source": [
    "This is often useful for implementing business logic. e.g. if your client says: if the caffeine level is unknown, assume it is with caffeine. Most coffee drinkers would just assume that unless they specifically said they want a decaf, their coffee will have cafeine. "
   ]
  },
  {
   "cell_type": "code",
   "execution_count": 31,
   "metadata": {},
   "outputs": [
    {
     "name": "stdout",
     "output_type": "stream",
     "text": [
      "no caffeine\n"
     ]
    }
   ],
   "source": [
    "print( coffee_order.get(\"with_caffeine\", \"no caffeine\") ) # you can put anything there"
   ]
  },
  {
   "cell_type": "markdown",
   "metadata": {},
   "source": [
    "### Change or add values\n",
    "\n",
    "In dictionaries there is not much difference between adding a value or changing a value.\n",
    "\n",
    "Basically, to change a value you add it again and it overwrites / replaces the previous value. "
   ]
  },
  {
   "cell_type": "code",
   "execution_count": 34,
   "metadata": {},
   "outputs": [
    {
     "name": "stdout",
     "output_type": "stream",
     "text": [
      "{'type': 'Latte', 'milk': 'Oat'}\n",
      "{'type': 'Lungo', 'milk': 'Oat'}\n",
      "{'type': 'Lungo', 'milk': 'Oat', 'own_cup': True}\n"
     ]
    }
   ],
   "source": [
    "coffee_order = {\"type\":\"Latte\", \"milk\": \"Oat\"}\n",
    "print(coffee_order)\n",
    "\n",
    "coffee_order[\"type\"] = \"Lungo\" # change value, if key already exists\n",
    "print(coffee_order)\n",
    "\n",
    "coffee_order[\"own_cup\"] = True # add key-value pair, if key doesn't exist yet\n",
    "print(coffee_order)"
   ]
  },
  {
   "cell_type": "markdown",
   "metadata": {},
   "source": [
    "#### You can use functions for a more safe and predictable results\n",
    "\n",
    "e.g. ```setdefault(some_key, some_value)``` will only only change the value if this key does not exist yet. So it should really be called \"set_if_empty()\" or something like that. Oh well. "
   ]
  },
  {
   "cell_type": "code",
   "execution_count": 39,
   "metadata": {},
   "outputs": [
    {
     "name": "stdout",
     "output_type": "stream",
     "text": [
      "{'type': 'Latte', 'milk': 'Oat'}\n",
      "{'type': 'Latte', 'milk': 'Oat', 'temperature': 'hot'}\n"
     ]
    }
   ],
   "source": [
    "coffee_order = {\"type\":\"Latte\", \"milk\": \"Oat\"}\n",
    "print(coffee_order)\n",
    "\n",
    "coffee_order.setdefault(\"temperature\",\"hot\") # this adds key-value pair\n",
    "coffee_order.setdefault(\"type\",\"Cappuchino\") # this does nothing, because this Dict already has a key 'type'\n",
    "print(coffee_order)"
   ]
  },
  {
   "cell_type": "markdown",
   "metadata": {},
   "source": [
    "💥**JARGON: SYNTAX**: grammar and vocabulary of a programming language e.g. what words, brackets or dots to use.\n",
    "\n",
    "💥**JARGON: SYNTACTIC SUGAR**: When a python syntax makes your life easier and sweeter, like ```+=``` or the ```some_list.get(some_key, value_if_missing)```\n",
    "\n",
    "💥**JARGON: SYNTACTIC VINEGAR**: When a python syntax makes your life harder, confusing and miserable, like ```setdefault``` having a confusing name. This works much less in Scotland, because here we put vinegar on chips and that's tasty :)"
   ]
  },
  {
   "cell_type": "markdown",
   "metadata": {},
   "source": [
    "#### Remove items:"
   ]
  },
  {
   "cell_type": "code",
   "execution_count": 46,
   "metadata": {},
   "outputs": [
    {
     "name": "stdout",
     "output_type": "stream",
     "text": [
      "{'type': 'Latte', 'milk': 'Oat'}\n",
      "Milk is Oat\n",
      "{'type': 'Latte'}\n"
     ]
    }
   ],
   "source": [
    "coffee_order = {\"type\":\"Latte\", \"milk\": \"Oat\"}\n",
    "print(coffee_order)\n",
    "\n",
    "milk_value = coffee_order.pop(\"milk\") # remove value AND RETURN IT (like pop() in List)\n",
    "print(\"Milk is\", milk_value) # this is what pop returned\n",
    "\n",
    "print(coffee_order) # this is the Dictionary after pop'ing. Notice that \"milk\": \"Oat\" is gone"
   ]
  },
  {
   "cell_type": "markdown",
   "metadata": {},
   "source": [
    "#### Combine dictionary with another dictionary. Note: any overlapping values will be overwritten!"
   ]
  },
  {
   "cell_type": "code",
   "execution_count": 42,
   "metadata": {},
   "outputs": [
    {
     "name": "stdout",
     "output_type": "stream",
     "text": [
      "{'type': 'Latte', 'milk': 'Oat'}\n",
      "{'type': 'Latte', 'milk': 'Cow', 'size': 'Large', 'sugars': 6, 'cup': 'takeaway'}\n"
     ]
    }
   ],
   "source": [
    "coffee_order = {\"type\":\"Latte\", \"milk\": \"Oat\"}\n",
    "print(coffee_order) \n",
    "\n",
    "coffee_order.update( {\"size\":\"Large\",\"sugars\": 6, \"cup\": \"takeaway\", \"milk\" : \"Cow\"})\n",
    "print(coffee_order) \n",
    "# values are added for keys: size, sugars, cup. And the value for \"milk\" is overwritten (it already existed.)"
   ]
  },
  {
   "cell_type": "markdown",
   "metadata": {},
   "source": [
    "#### Simplifying the Dictionary to just its keys, or just its values:"
   ]
  },
  {
   "cell_type": "code",
   "execution_count": 46,
   "metadata": {},
   "outputs": [
    {
     "name": "stdout",
     "output_type": "stream",
     "text": [
      "dict_keys(['type', 'size', 'sugars', 'milk', 'table_number'])\n",
      "dict_values(['Latte', 'Large', 2, 'Oat', 8])\n"
     ]
    },
    {
     "data": {
      "text/plain": [
       "True"
      ]
     },
     "execution_count": 46,
     "metadata": {},
     "output_type": "execute_result"
    }
   ],
   "source": [
    "coffee_order = {\"type\":\"Latte\", \"size\":\"Large\", \"sugars\": 2,\"milk\": \"Oat\", \"table_number\": 8}\n",
    "print( coffee_order.keys() ) # returns all keys as a List\n",
    "print( coffee_order.values() ) # returns all values as a List\n"
   ]
  },
  {
   "cell_type": "markdown",
   "metadata": {},
   "source": [
    "There is no guarantee they results of  ```keys()``` and ```values()``` will be ordered in any particular way.\n",
    "\n",
    "Also, while they are sort of like a list and basically behave like lists. You can force them to be a list by CASTING them, like you would cast another type in python (remember int(\"22\") or string(123))"
   ]
  },
  {
   "cell_type": "code",
   "execution_count": 47,
   "metadata": {},
   "outputs": [
    {
     "name": "stdout",
     "output_type": "stream",
     "text": [
      "['type', 'size', 'sugars', 'milk', 'table_number']\n",
      "['Latte', 'Large', 2, 'Oat', 8]\n"
     ]
    }
   ],
   "source": [
    "coffee_order = {\"type\":\"Latte\", \"size\":\"Large\", \"sugars\": 2,\"milk\": \"Oat\", \"table_number\": 8}\n",
    "print( list(coffee_order.keys()) ) # returns all keys as a List\n",
    "print( list(coffee_order.values()) ) # returns all values as a List"
   ]
  },
  {
   "cell_type": "markdown",
   "metadata": {},
   "source": [
    "# Real world: Lists of Dictionaries, and Dictionaries of Lists\n",
    "\n",
    "We already know that lists describe collections of simmilar objects. And Dictionaries describe details/attributes of one complicated object. But what if you want to have a list of complicated objects?\n",
    "\n",
    "eg. if one coffee order looks like this: ```coffee_order = {\"type\":\"Latte\", \"milk\": \"Oat\"}```\n",
    "what if you wanted to store many coffee orders? That is a very likely scenario\n",
    "\n",
    "This is where you would follow the principles you learned and try them in a new context"
   ]
  },
  {
   "cell_type": "markdown",
   "metadata": {},
   "source": [
    "instead of having a number of vartiables"
   ]
  },
  {
   "cell_type": "code",
   "execution_count": 3,
   "metadata": {},
   "outputs": [
    {
     "name": "stdout",
     "output_type": "stream",
     "text": [
      "{'type': 'Latte', 'milk': 'Cow'} {'type': 'Lungo', 'milk': 'None'} {'type': 'Latte', 'milk': 'Oat', 'sugar': 2}\n"
     ]
    }
   ],
   "source": [
    "coffee_order0 = {\"type\":\"Latte\", \"milk\": \"Cow\"}\n",
    "coffee_order1 = {\"type\":\"Lungo\", \"milk\": \"None\"}\n",
    "coffee_order2 = {\"type\":\"Latte\", \"milk\": \"Oat\", \"sugar\" : 2}\n",
    "\n",
    "print(coffee_order0, coffee_order1, coffee_order2)"
   ]
  },
  {
   "cell_type": "markdown",
   "metadata": {},
   "source": [
    "you would create a List with these variables in it"
   ]
  },
  {
   "cell_type": "code",
   "execution_count": 4,
   "metadata": {},
   "outputs": [
    {
     "name": "stdout",
     "output_type": "stream",
     "text": [
      "[{'type': 'Latte', 'milk': 'Cow'}, {'type': 'Lungo', 'milk': 'None'}, {'type': 'Latte', 'milk': 'Oat', 'sugar': 2}]\n"
     ]
    }
   ],
   "source": [
    "coffee_order0 = {\"type\":\"Latte\", \"milk\": \"Cow\"}\n",
    "coffee_order1 = {\"type\":\"Lungo\", \"milk\": \"None\"}\n",
    "coffee_order2 = {\"type\":\"Latte\", \"milk\": \"Oat\", \"sugar\" : 2}\n",
    "\n",
    "coffee_orders = [coffee_order0, coffee_order1, coffee_order2]\n",
    "print(coffee_orders)"
   ]
  },
  {
   "cell_type": "markdown",
   "metadata": {},
   "source": [
    "You could even skip having those temporary variables coffee_order0, etc and define dictionaries as you create the list"
   ]
  },
  {
   "cell_type": "code",
   "execution_count": 5,
   "metadata": {},
   "outputs": [
    {
     "name": "stdout",
     "output_type": "stream",
     "text": [
      "[{'type': 'Latte', 'milk': 'Cow'}, {'type': 'Lungo', 'milk': 'None'}, {'type': 'Latte', 'milk': 'Oat', 'sugar': 2}]\n"
     ]
    }
   ],
   "source": [
    "coffee_orders = [{'type': 'Latte', 'milk': 'Cow'}, \n",
    "                 {'type': 'Lungo', 'milk': 'None'}, \n",
    "                 {'type': 'Latte', 'milk': 'Oat', 'sugar': 2}]\n",
    "print(coffee_orders)"
   ]
  },
  {
   "cell_type": "markdown",
   "metadata": {},
   "source": [
    "### How to read such complex data structures? It looks like a mess of brackets! "
   ]
  },
  {
   "cell_type": "markdown",
   "metadata": {},
   "source": [
    "### A new package, Pretty print, will help -  pprint( )  is basically a more powerful print( )"
   ]
  },
  {
   "cell_type": "markdown",
   "metadata": {},
   "source": [
    "you will need to train yoursels if identifying brackets and try to decipher what belongs where, but also, python has a special 'package' to helps you to \"preaty print\" things.\n",
    "\n",
    "💥**JARGON: PACKAGE**: package is a plugin/upgrade for python which will give you ability to do some new things. They exist, so that python in itself can be very simple and quick, but you will need to install a special package if you want to work with eg. dates, graphs, statistics etc.\n",
    "\n",
    "You can think of packages as 'apps' for python, that you install/import from a python 'app store'. Just like apps on your phone give you ability to do something better: better photos, better calendar or a more fun game... packages give your python new abilities to be more helpful.\n",
    "\n",
    "You import/install packages with a piece of python code, but you have to re-run that import every time you start running a notebook. In other words: packages are enabled just temporarilly, but don;t worry, you can just enable them again."
   ]
  },
  {
   "cell_type": "code",
   "execution_count": 4,
   "metadata": {},
   "outputs": [],
   "source": [
    "# you need to run this, but just once per notebook\n",
    "import pprint as pp\n",
    "# here we import a package pprint and we give it short nickname pp"
   ]
  },
  {
   "cell_type": "code",
   "execution_count": null,
   "metadata": {},
   "outputs": [],
   "source": [
    "coffee_orders = [{'type': 'Latte', 'milk': 'Cow'}, \n",
    "                 {'type': 'Lungo', 'milk': 'None'}, \n",
    "                 {'type': 'Latte', 'milk': 'Oat', 'sugar': 2}]\n",
    "\n",
    "# here from the package pp, we use the method/function called pprint, which is like print... but pretty\n",
    "pp.pprint(coffee_orders)"
   ]
  },
  {
   "cell_type": "code",
   "execution_count": 10,
   "metadata": {},
   "outputs": [
    {
     "name": "stdout",
     "output_type": "stream",
     "text": [
      "[{'milk': 'Cow', 'type': 'Latte'},\n",
      " {'milk': 'None', 'type': 'Lungo'},\n",
      " {'milk': 'Oat', 'sugar': 2, 'type': 'Latte'}]\n",
      "'hello'\n"
     ]
    }
   ],
   "source": [
    "# but if you by accident use pprint to print something simple, it will also be fine\n",
    "pp.pprint(\"hello\")"
   ]
  },
  {
   "cell_type": "markdown",
   "metadata": {},
   "source": [
    "## How to navigate lists of dictionaries? Like accessing normal list, drilling from left-hand-side\n",
    "\n",
    "you already know that if you have a list, you can access and change elements of it using the index, like this:"
   ]
  },
  {
   "cell_type": "code",
   "execution_count": 14,
   "metadata": {},
   "outputs": [
    {
     "name": "stdout",
     "output_type": "stream",
     "text": [
      "Venus\n",
      "['Mercury', 'Venus', 'Earth', 'Mars', 'Jupyter', 'Saturn', 'Uranus']\n",
      "['Mercury', 'Venus', 'Terra', 'Mars', 'Jupyter', 'Saturn', 'Uranus']\n"
     ]
    }
   ],
   "source": [
    "planets = [\"Mercury\", \"Venus\", \"Earth\", \"Mars\", \"Jupyter\", \"Saturn\", \"Uranus\"]\n",
    "print(planets[0])\n",
    "\n",
    "print(planets)\n",
    "planets[2] = \"Terra\" \n",
    "print(planets)"
   ]
  },
  {
   "cell_type": "markdown",
   "metadata": {},
   "source": [
    "because coffee_orders is just a normal list (but instead of simple strings it holds whole dictionaries), you can do what you did above, with a very simmilar effect. \n",
    "\n",
    "Compare the above code (list of strings) witg the below code list of dictionaries "
   ]
  },
  {
   "cell_type": "code",
   "execution_count": 15,
   "metadata": {},
   "outputs": [
    {
     "name": "stdout",
     "output_type": "stream",
     "text": [
      "{'milk': 'Cow', 'type': 'Latte'}\n",
      "[{'milk': 'Cow', 'type': 'Latte'},\n",
      " {'milk': 'None', 'type': 'Lungo'},\n",
      " {'milk': 'Oat', 'sugar': 2, 'type': 'Latte'}]\n",
      "[{'milk': 'Cow', 'type': 'Latte'},\n",
      " {'milk': 'None', 'sugar': 4, 'type': 'Espresso'},\n",
      " {'milk': 'Oat', 'sugar': 2, 'type': 'Latte'}]\n"
     ]
    }
   ],
   "source": [
    "coffee_orders = [{'type': 'Latte', 'milk': 'Cow'}, \n",
    "                 {'type': 'Lungo', 'milk': 'None'}, \n",
    "                 {'type': 'Latte', 'milk': 'Oat', 'sugar': 2}]\n",
    "pp.pprint(coffee_orders[0])\n",
    "\n",
    "pp.pprint(coffee_orders)\n",
    "coffee_orders[1] = {'type': 'Espresso', 'milk': 'None', 'sugar': 4}\n",
    "pp.pprint(coffee_orders)"
   ]
  },
  {
   "cell_type": "markdown",
   "metadata": {},
   "source": [
    "The only way to learn this, is to experiment and practice: You will slowly learn."
   ]
  },
  {
   "cell_type": "code",
   "execution_count": 6,
   "metadata": {},
   "outputs": [
    {
     "name": "stdout",
     "output_type": "stream",
     "text": [
      "{'type': 'Latte', 'milk': 'Cow'}\n",
      "{'type': 'Latte', 'milk': 'Oat', 'sugar': 2}\n"
     ]
    }
   ],
   "source": [
    "print(coffee_orders[0])\n",
    "print(coffee_orders[2])"
   ]
  },
  {
   "cell_type": "markdown",
   "metadata": {},
   "source": [
    "### How to think about elements of a List? think of them as variables! \n",
    "\n",
    "You can treat a part of a list like that, as you would treat any variable. You can print it, or you can store it in another variable, or you can even change it.\n",
    "\n",
    "For example, let's extract the first item in this list and save it in a new variable.\n",
    "We can extract some information from that variable (bacause it's a dictionary with keys type, milk and sugar)."
   ]
  },
  {
   "cell_type": "code",
   "execution_count": 20,
   "metadata": {},
   "outputs": [
    {
     "name": "stdout",
     "output_type": "stream",
     "text": [
      "{'type': 'Latte', 'milk': 'Cow'}\n",
      "{'type': 'Latte', 'milk': 'Cow'}\n",
      "Cow\n"
     ]
    }
   ],
   "source": [
    "coffee_orders = [{'type': 'Latte', 'milk': 'Cow'}, \n",
    "                 {'type': 'Lungo', 'milk': 'None'}, \n",
    "                 {'type': 'Latte', 'milk': 'Oat', 'sugar': 2}]\n",
    "\n",
    "print(coffee_orders[0])\n",
    "\n",
    "first_coffee = coffee_orders[0]\n",
    "print(first_coffee)\n",
    "\n",
    "print(first_coffee['milk'])"
   ]
  },
  {
   "cell_type": "markdown",
   "metadata": {},
   "source": [
    "You could also do it directly, without a temporary variable:"
   ]
  },
  {
   "cell_type": "code",
   "execution_count": 9,
   "metadata": {},
   "outputs": [
    {
     "name": "stdout",
     "output_type": "stream",
     "text": [
      "[{'milk': 'None', 'sugar': 4, 'type': 'Espresso'},\n",
      " {'milk': 'None', 'type': 'Lungo'},\n",
      " {'milk': 'Oat', 'sugar': 2, 'type': 'Latte'}]\n"
     ]
    }
   ],
   "source": [
    "coffee_orders = [{'type': 'Latte', 'milk': 'Cow'}, \n",
    "                 {'type': 'Lungo', 'milk': 'None'}, \n",
    "                 {'type': 'Latte', 'milk': 'Oat', 'sugar': 2}]\n",
    "\n",
    "print(coffee_orders[0])\n",
    "\n",
    "print(coffee_orders[0]['milk'])"
   ]
  },
  {
   "cell_type": "markdown",
   "metadata": {},
   "source": [
    "That's because when you reach into a variable, you can read it from the left:\n",
    "\n",
    "```coffee_orders[0]['milk']``` means:\n",
    "\n",
    "- get variable coffee_orders ```coffee_orders```\n",
    "- then from that result get element at index 0 from it ```[0]```\n",
    "- then from that result get a value of a key milk ```['milk']```\n",
    "\n",
    "here's a step by step breakdown:"
   ]
  },
  {
   "cell_type": "code",
   "execution_count": 22,
   "metadata": {},
   "outputs": [
    {
     "name": "stdout",
     "output_type": "stream",
     "text": [
      "[{'type': 'Latte', 'milk': 'Cow'}, {'type': 'Lungo', 'milk': 'None'}, {'type': 'Latte', 'milk': 'Oat', 'sugar': 2}]\n",
      "{'type': 'Latte', 'milk': 'Cow'}\n",
      "Cow\n"
     ]
    }
   ],
   "source": [
    "# here are above steps broken down so you can see it better: \n",
    "\n",
    "print(coffee_orders)\n",
    "print(coffee_orders[0])\n",
    "print(coffee_orders[0]['milk'])"
   ]
  },
  {
   "cell_type": "markdown",
   "metadata": {},
   "source": [
    "So for example to print the sugar value of the third item you would need to:\n",
    "\n",
    "- get the third item\n",
    "- then ask for a value under a key 'sugar'"
   ]
  },
  {
   "cell_type": "code",
   "execution_count": 25,
   "metadata": {},
   "outputs": [
    {
     "name": "stdout",
     "output_type": "stream",
     "text": [
      "2\n"
     ]
    }
   ],
   "source": [
    "coffee_orders = [{'type': 'Latte', 'milk': 'Cow'}, \n",
    "                 {'type': 'Lungo', 'milk': 'None'}, \n",
    "                 {'type': 'Latte', 'milk': 'Oat', 'sugar': 2}]\n",
    "\n",
    "print(coffee_orders[2]['sugar'])"
   ]
  },
  {
   "cell_type": "markdown",
   "metadata": {},
   "source": [
    "The same way as you can extract a value, you could change it:"
   ]
  },
  {
   "cell_type": "code",
   "execution_count": 27,
   "metadata": {},
   "outputs": [
    {
     "name": "stdout",
     "output_type": "stream",
     "text": [
      "[{'milk': 'Cow', 'type': 'Latte'},\n",
      " {'milk': 'None', 'type': 'Lungo'},\n",
      " {'milk': 'Oat', 'sugar': 1, 'type': 'Latte'}]\n"
     ]
    }
   ],
   "source": [
    "coffee_orders = [{'type': 'Latte', 'milk': 'Cow'}, \n",
    "                 {'type': 'Lungo', 'milk': 'None'}, \n",
    "                 {'type': 'Latte', 'milk': 'Oat', 'sugar': 2}]\n",
    "\n",
    "coffee_orders[2]['sugar'] = 1\n",
    "pp.pprint( coffee_orders )"
   ]
  },
  {
   "cell_type": "markdown",
   "metadata": {},
   "source": [
    "What is more you can use a varible to indicate the index or key that you want to acess:"
   ]
  },
  {
   "cell_type": "code",
   "execution_count": 31,
   "metadata": {},
   "outputs": [
    {
     "name": "stdout",
     "output_type": "stream",
     "text": [
      "Lungo\n"
     ]
    }
   ],
   "source": [
    "coffee_orders = [{'type': 'Latte', 'milk': 'Cow'}, \n",
    "                 {'type': 'Lungo', 'milk': 'None'}, \n",
    "                 {'type': 'Latte', 'milk': 'Oat', 'sugar': 2}]\n",
    "\n",
    "which_order = 1\n",
    "which_attribute = 'type'\n",
    "\n",
    "print(coffee_orders[ which_order ][ which_attribute ])"
   ]
  },
  {
   "cell_type": "markdown",
   "metadata": {},
   "source": [
    "## How about dictionaries with lists? It's just the same: Read from left-hand-side\n",
    "\n",
    "Read from the left hand side and imagine drilling into boxes of boxes..."
   ]
  },
  {
   "cell_type": "code",
   "execution_count": 35,
   "metadata": {},
   "outputs": [
    {
     "name": "stdout",
     "output_type": "stream",
     "text": [
      "{'functions': ['+', '-', '*', '/', '='],\n",
      " 'numbers': [1, 2, 3, 4, 5, 6, 7, 8, 9, 0]}\n"
     ]
    }
   ],
   "source": [
    "calculator = {\n",
    "    'numbers': [1,2,3,4,5,6,7,8,9,0],\n",
    "    'functions': [\"+\",\"-\",\"*\",\"/\",\"=\"]\n",
    "}\n",
    "\n",
    "pp.pprint( calculator )"
   ]
  },
  {
   "cell_type": "markdown",
   "metadata": {},
   "source": [
    "To get the value of key 'functions' and then get the fourth item in it:"
   ]
  },
  {
   "cell_type": "code",
   "execution_count": 37,
   "metadata": {},
   "outputs": [
    {
     "name": "stdout",
     "output_type": "stream",
     "text": [
      "{'numbers': [1, 2, 3, 4, 5, 6, 7, 8, 9, 0], 'functions': ['+', '-', '*', '/', '=']}\n",
      "['+', '-', '*', '/', '=']\n",
      "/\n"
     ]
    }
   ],
   "source": [
    "print( calculator )\n",
    "print( calculator['functions'] )\n",
    "print( calculator['functions'][3] )"
   ]
  },
  {
   "cell_type": "markdown",
   "metadata": {},
   "source": [
    "# Spoiler Alert: Object Oriented Design\n",
    "\n",
    "In a few badges you will learn about one of the greatest breakthroughs in modern programming: Object oriented design. But for now you probably already see the shadown of it:\n",
    "\n",
    "**When you have many dictionaries describing simmilar things, it would be nice if they all used the same keys for ther same type of data**.\n",
    "\n",
    "so that you do not have a list looking like this:\n",
    "\n",
    "\n",
    "```\n",
    "coffee_orders = [{'type': 'Latte', 'milk': 'Oat', 'sugar': 2},\n",
    "                 {'what': 'Latte', 'Milk': 'Oat', 'sweetness': 2},\n",
    "                 {'which': 'Latte', 'mikl': 'Oat', 'sugariness': 2}]\n",
    "```\n",
    "\n",
    "Objects will make this dramatically easier, but for now, you'll just need to be careful with your spelling and use 'Tab' key for predictive typing if it works in your browser.\n",
    "\n",
    "### If you can stick to one naming convention, and whenever you are unlear of how to read big block of data, read it from the outside to the inside.\n",
    "\n",
    "### 'Chisel' at it - one step at a time, get closer to the inside."
   ]
  },
  {
   "cell_type": "markdown",
   "metadata": {},
   "source": [
    "## ⭐️⭐️⭐️💥 What you learned in this session: Three stars and a wish \n",
    "**In yoru own words** write in your Learn diary:\n",
    "\n",
    "- 3 things you yould like to remember from this badge\n",
    "- 1 thing you wish to understand better in the future or a question you'd like to ask"
   ]
  },
  {
   "cell_type": "markdown",
   "metadata": {},
   "source": [
    "# ⛏ Bonus Minitask: Create some data, and then read some data\n",
    "\n",
    "\n",
    "Remember to every now and then save your progress (File > Save, or a keyboard shortcut) \n",
    "\n",
    "# ⛏ 1: Create data for a number of sandwiches / bagels\n",
    "\n",
    "Create a list with a number of dictionaries in it. Each dictionary should describe a sandwich: eg. bread type, price, name. Some attributes will be strings, other numbers or even boolean values. Make sure you have some of each.\n",
    "\n",
    "It is up to you what information you store about a sandwich. Make your list have at least 4 items, and make sure each item has at least 3 attributes. If you do not know where to start, use above examples with coffee orders. \n",
    "\n",
    "# ⛏ 1 EXTRA: Can you add a List of toppings to Each sandwich?\n",
    "\n",
    "Make it just be a list of strings like ```[\"bacon\", \"lettuce\", \"tomato\"]``` so that someone could ask \"what is the second topping on the first sandwich\" by writing ```sandwiches[0]['toppings'][1]```. Always remember to read from the left hand side.\n"
   ]
  },
  {
   "cell_type": "code",
   "execution_count": 44,
   "metadata": {},
   "outputs": [],
   "source": [
    "sandwiches = [ \n",
    "        # here add some sandwich info, like we did for coffee orders\n",
    "    ]"
   ]
  },
  {
   "cell_type": "markdown",
   "metadata": {},
   "source": [
    "# ⛏ 2: Extract information from below data:\n",
    "\n",
    "Below is an excerpt form the API (publically available data) of Bank of Scotland. It describes 3 cash machines with all of their attributes: languages they support, accessibility issues, etc.\n",
    "\n",
    "Use what you learned in this badge to understand what you are looking at. Then come up yourself with 5 different questions and write code that will find it out for you:\n",
    "\n",
    "eg: Easy: what is the MinimumPossibleAmount I can recieve from the first cash machine\n",
    "\n",
    "```print( bank_of_scotland_atms[0]['MinimumPossibleAmount'] ) ```\n",
    "\n",
    "eg. Harder: how many languages does the last cash machine support?\n",
    "\n",
    "```print( len( bank_of_scotland_atms[-1]['SupportedLanguages'] ) )```"
   ]
  },
  {
   "cell_type": "code",
   "execution_count": 40,
   "metadata": {},
   "outputs": [
    {
     "name": "stdout",
     "output_type": "stream",
     "text": [
      "[{'ATMServices': ['PINUnblock',\n",
      "                  'Balance',\n",
      "                  'BillPayments',\n",
      "                  'CashWithdrawal',\n",
      "                  'FastCash',\n",
      "                  'MobilePhoneTopUp',\n",
      "                  'PINChange',\n",
      "                  'MiniStatement'],\n",
      "  'Accessibility': ['WheelchairAccess'],\n",
      "  'Branch': {'Identification': '80453100'},\n",
      "  'Identification': 'BFF7BC11',\n",
      "  'Location': {'LocationCategory': ['BranchExternal'],\n",
      "               'PostalAddress': {'AddressLine': ['136 BUCHANAN STREET; '\n",
      "                                                 'BALFRON'],\n",
      "                                 'BuildingNumber': 'BOS BRANCH',\n",
      "                                 'Country': 'GB',\n",
      "                                 'CountrySubDivision': ['GLASGOW'],\n",
      "                                 'GeoLocation': {'GeographicCoordinates': {'Latitude': '56.071629',\n",
      "                                                                           'Longitude': '-4.336911'}},\n",
      "                                 'PostCode': 'G63 0TG',\n",
      "                                 'StreetName': '136 BUCHANAN STREET',\n",
      "                                 'TownName': 'GLASGOW'},\n",
      "               'Site': {'Identification': '80453100'}},\n",
      "  'MinimumPossibleAmount': '10',\n",
      "  'SupportedCurrencies': ['GBP'],\n",
      "  'SupportedLanguages': ['eng', 'spa', 'ger', 'fre']},\n",
      " {'ATMServices': ['PINUnblock',\n",
      "                  'Balance',\n",
      "                  'BillPayments',\n",
      "                  'CashWithdrawal',\n",
      "                  'FastCash',\n",
      "                  'MobilePhoneTopUp',\n",
      "                  'PINChange',\n",
      "                  'MiniStatement'],\n",
      "  'Accessibility': ['AudioCashMachine', 'WheelchairAccess'],\n",
      "  'Branch': {'Identification': '80496000'},\n",
      "  'Identification': 'BFA6HC11',\n",
      "  'Location': {'LocationCategory': ['BranchInternal'],\n",
      "               'PostalAddress': {'AddressLine': ['BRISTOL ROOM COPLEY DATA '\n",
      "                                                 'CENTRE; WAKEFIELD ROAD'],\n",
      "                                 'BuildingNumber': 'BOS BRANCH',\n",
      "                                 'Country': 'GB',\n",
      "                                 'CountrySubDivision': ['WEST YORKSHIRE'],\n",
      "                                 'GeoLocation': {'GeographicCoordinates': {'Latitude': '51.454900',\n",
      "                                                                           'Longitude': '2.592000'}},\n",
      "                                 'PostCode': 'HX3 0TD',\n",
      "                                 'StreetName': 'BRISTOL ROOM COPLEY DATA '\n",
      "                                               'CENTRE',\n",
      "                                 'TownName': 'HALIFAX'},\n",
      "               'Site': {'Identification': '80496000'}},\n",
      "  'MinimumPossibleAmount': '10',\n",
      "  'SupportedCurrencies': ['GBP'],\n",
      "  'SupportedLanguages': ['eng', 'spa', 'ger', 'fre']},\n",
      " {'ATMServices': ['PINUnblock',\n",
      "                  'Balance',\n",
      "                  'BillPayments',\n",
      "                  'CashWithdrawal',\n",
      "                  'FastCash',\n",
      "                  'MobilePhoneTopUp',\n",
      "                  'PINChange',\n",
      "                  'MiniStatement'],\n",
      "  'Accessibility': ['AudioCashMachine', 'WheelchairAccess'],\n",
      "  'Branch': {'Identification': '80452300'},\n",
      "  'Identification': 'BF88GC11',\n",
      "  'Location': {'LocationCategory': ['BranchInternal'],\n",
      "               'PostalAddress': {'AddressLine': ['111 HIGH STREET;'],\n",
      "                                 'BuildingNumber': 'BOS BRANCH',\n",
      "                                 'Country': 'GB',\n",
      "                                 'CountrySubDivision': ['DUMFRIES AND '\n",
      "                                                        'GALLOWAY'],\n",
      "                                 'GeoLocation': {'GeographicCoordinates': {'Latitude': '54.987176',\n",
      "                                                                           'Longitude': '-3.260075'}},\n",
      "                                 'PostCode': 'DG12 6AB',\n",
      "                                 'StreetName': '111 HIGH STREET',\n",
      "                                 'TownName': 'ANNAN'},\n",
      "               'Site': {'Identification': '80452300'}},\n",
      "  'MinimumPossibleAmount': '10',\n",
      "  'SupportedCurrencies': ['GBP'],\n",
      "  'SupportedLanguages': ['eng', 'spa', 'ger', 'fre']}]\n"
     ]
    }
   ],
   "source": [
    "bank_of_scotland_atms = [{'Identification': 'BFF7BC11',\n",
    "  'SupportedLanguages': ['eng', 'spa', 'ger', 'fre'],\n",
    "  'ATMServices': ['PINUnblock',\n",
    "   'Balance',\n",
    "   'BillPayments',\n",
    "   'CashWithdrawal',\n",
    "   'FastCash',\n",
    "   'MobilePhoneTopUp',\n",
    "   'PINChange',\n",
    "   'MiniStatement'],\n",
    "  'Accessibility': ['WheelchairAccess'],\n",
    "  'SupportedCurrencies': ['GBP'],\n",
    "  'MinimumPossibleAmount': '10',\n",
    "  'Branch': {'Identification': '80453100'},\n",
    "  'Location': {'LocationCategory': ['BranchExternal'],\n",
    "   'Site': {'Identification': '80453100'},\n",
    "   'PostalAddress': {'AddressLine': ['136 BUCHANAN STREET; BALFRON'],\n",
    "    'BuildingNumber': 'BOS BRANCH',\n",
    "    'StreetName': '136 BUCHANAN STREET',\n",
    "    'TownName': 'GLASGOW',\n",
    "    'CountrySubDivision': ['GLASGOW'],\n",
    "    'Country': 'GB',\n",
    "    'PostCode': 'G63 0TG',\n",
    "    'GeoLocation': {'GeographicCoordinates': {'Latitude': '56.071629',\n",
    "      'Longitude': '-4.336911'}}}}},\n",
    " {'Identification': 'BFA6HC11',\n",
    "  'SupportedLanguages': ['eng', 'spa', 'ger', 'fre'],\n",
    "  'ATMServices': ['PINUnblock',\n",
    "   'Balance',\n",
    "   'BillPayments',\n",
    "   'CashWithdrawal',\n",
    "   'FastCash',\n",
    "   'MobilePhoneTopUp',\n",
    "   'PINChange',\n",
    "   'MiniStatement'],\n",
    "  'Accessibility': ['AudioCashMachine', 'WheelchairAccess'],\n",
    "  'SupportedCurrencies': ['GBP'],\n",
    "  'MinimumPossibleAmount': '10',\n",
    "  'Branch': {'Identification': '80496000'},\n",
    "  'Location': {'LocationCategory': ['BranchInternal'],\n",
    "   'Site': {'Identification': '80496000'},\n",
    "   'PostalAddress': {'AddressLine': ['BRISTOL ROOM COPLEY DATA CENTRE; WAKEFIELD ROAD'],\n",
    "    'BuildingNumber': 'BOS BRANCH',\n",
    "    'StreetName': 'BRISTOL ROOM COPLEY DATA CENTRE',\n",
    "    'TownName': 'HALIFAX',\n",
    "    'CountrySubDivision': ['WEST YORKSHIRE'],\n",
    "    'Country': 'GB',\n",
    "    'PostCode': 'HX3 0TD',\n",
    "    'GeoLocation': {'GeographicCoordinates': {'Latitude': '51.454900',\n",
    "      'Longitude': '2.592000'}}}}},\n",
    " {'Identification': 'BF88GC11',\n",
    "  'SupportedLanguages': ['eng', 'spa', 'ger', 'fre'],\n",
    "  'ATMServices': ['PINUnblock',\n",
    "   'Balance',\n",
    "   'BillPayments',\n",
    "   'CashWithdrawal',\n",
    "   'FastCash',\n",
    "   'MobilePhoneTopUp',\n",
    "   'PINChange',\n",
    "   'MiniStatement'],\n",
    "  'Accessibility': ['AudioCashMachine', 'WheelchairAccess'],\n",
    "  'SupportedCurrencies': ['GBP'],\n",
    "  'MinimumPossibleAmount': '10',\n",
    "  'Branch': {'Identification': '80452300'},\n",
    "  'Location': {'LocationCategory': ['BranchInternal'],\n",
    "   'Site': {'Identification': '80452300'},\n",
    "   'PostalAddress': {'AddressLine': ['111 HIGH STREET;'],\n",
    "    'BuildingNumber': 'BOS BRANCH',\n",
    "    'StreetName': '111 HIGH STREET',\n",
    "    'TownName': 'ANNAN',\n",
    "    'CountrySubDivision': ['DUMFRIES AND GALLOWAY'],\n",
    "    'Country': 'GB',\n",
    "    'PostCode': 'DG12 6AB',\n",
    "    'GeoLocation': {'GeographicCoordinates': {'Latitude': '54.987176',\n",
    "      'Longitude': '-3.260075'}}}}}]\n",
    "\n",
    "pp.pprint(bank_of_scotland_atms)"
   ]
  },
  {
   "cell_type": "code",
   "execution_count": 42,
   "metadata": {},
   "outputs": [
    {
     "name": "stdout",
     "output_type": "stream",
     "text": [
      "10\n"
     ]
    }
   ],
   "source": [
    "# eg: what is the MinimumPossibleAmount I can recieve from the first cash machine\n",
    "\n",
    "print( bank_of_scotland_atms[0]['MinimumPossibleAmount'] )"
   ]
  },
  {
   "cell_type": "code",
   "execution_count": 43,
   "metadata": {},
   "outputs": [
    {
     "name": "stdout",
     "output_type": "stream",
     "text": [
      "4\n"
     ]
    }
   ],
   "source": [
    "# how many languages does the last cash machine support?\n",
    "\n",
    "print( len( bank_of_scotland_atms[-1]['SupportedLanguages'] ) )"
   ]
  },
  {
   "cell_type": "code",
   "execution_count": null,
   "metadata": {},
   "outputs": [],
   "source": []
  }
 ],
 "metadata": {
  "kernelspec": {
   "display_name": "Python 3",
   "language": "python",
   "name": "python3"
  },
  "language_info": {
   "codemirror_mode": {
    "name": "ipython",
    "version": 3
   },
   "file_extension": ".py",
   "mimetype": "text/x-python",
   "name": "python",
   "nbconvert_exporter": "python",
   "pygments_lexer": "ipython3",
   "version": "3.7.6"
  }
 },
 "nbformat": 4,
 "nbformat_minor": 2
}
